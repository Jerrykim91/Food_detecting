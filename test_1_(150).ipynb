{
 "cells": [
  {
   "cell_type": "code",
   "execution_count": 1,
   "metadata": {},
   "outputs": [],
   "source": [
    "import os,glob\n",
    "import numpy as np\n",
    "import matplotlib.pyplot as plt\n",
    "import "
   ]
  },
  {
   "cell_type": "code",
   "execution_count": 2,
   "metadata": {},
   "outputs": [
    {
     "name": "stderr",
     "output_type": "stream",
     "text": [
      "Using TensorFlow backend.\n"
     ]
    }
   ],
   "source": [
    "from keras.preprocessing.image import ImageDataGenerator, array_to_img, img_to_array, load_img"
   ]
  },
  {
   "cell_type": "code",
   "execution_count": 3,
   "metadata": {},
   "outputs": [],
   "source": [
    "import tensorflow as tf \n",
    "from keras.models import Sequential\n",
    "from keras.layers import Conv2D, Activation, MaxPooling2D"
   ]
  },
  {
   "cell_type": "code",
   "execution_count": 4,
   "metadata": {},
   "outputs": [],
   "source": [
    "# model = Sequential()\n",
    "\n",
    "# model.add(Conv2D(32, (3, 3), input_shape=(150, 150 , 3)))\n",
    "# model.add(Activation('relu'))\n",
    "# model.add(MaxPooling2D(pool_size=(2, 2)))\n",
    "\n",
    "# model.add(Conv2D(32, (3, 3))) # 32\n",
    "# model.add(Activation('relu'))\n",
    "# model.add(MaxPooling2D(pool_size=(2, 2)))\n",
    "\n",
    "# model.add(Conv2D(64, (3, 3))) # 64\n",
    "# model.add(Activation('relu'))\n",
    "# model.add(MaxPooling2D(pool_size=(2, 2)))\n"
   ]
  },
  {
   "cell_type": "code",
   "execution_count": 5,
   "metadata": {},
   "outputs": [],
   "source": [
    "from keras.layers import Flatten, Activation, Dense, Dropout"
   ]
  },
  {
   "cell_type": "code",
   "execution_count": 6,
   "metadata": {},
   "outputs": [],
   "source": [
    "# model.add(Flatten())  # 이전 CNN 레이어에서 나온 3차원 배열은 1차원으로 뽑아줍니다\n",
    "# model.add(Dense(64))\n",
    "# model.add(Activation('relu'))\n",
    "# model.add(Dropout(0.5))\n",
    "# model.add(Dense(2))\n",
    "# model.add(Activation('sigmoid'))\n",
    "\n",
    "# model.compile(loss='binary_crossentropy',\n",
    "#               optimizer='rmsprop',\n",
    "#               metrics=['accuracy'])"
   ]
  },
  {
   "cell_type": "code",
   "execution_count": 7,
   "metadata": {},
   "outputs": [
    {
     "name": "stdout",
     "output_type": "stream",
     "text": [
      "WARNING:tensorflow:From C:\\Users\\admin\\Anaconda3\\lib\\site-packages\\tensorflow_core\\python\\ops\\resource_variable_ops.py:1630: calling BaseResourceVariable.__init__ (from tensorflow.python.ops.resource_variable_ops) with constraint is deprecated and will be removed in a future version.\n",
      "Instructions for updating:\n",
      "If using Keras pass *_constraint arguments to layers.\n",
      "WARNING:tensorflow:From C:\\Users\\admin\\Anaconda3\\lib\\site-packages\\keras\\backend\\tensorflow_backend.py:4070: The name tf.nn.max_pool is deprecated. Please use tf.nn.max_pool2d instead.\n",
      "\n"
     ]
    }
   ],
   "source": [
    "model = Sequential([\n",
    "    Conv2D(16, 3, padding='same', activation='relu', input_shape=(150, 150 ,3)),\n",
    "    MaxPooling2D(),\n",
    "    Conv2D(32, 3, padding='same', activation='relu'),\n",
    "    MaxPooling2D(),\n",
    "    Conv2D(64, 3, padding='same', activation='relu'),\n",
    "    MaxPooling2D(),\n",
    "    Flatten(),\n",
    "    Dense(512, activation='relu'),\n",
    "    Dense(1)\n",
    "])"
   ]
  },
  {
   "cell_type": "code",
   "execution_count": 8,
   "metadata": {},
   "outputs": [
    {
     "name": "stdout",
     "output_type": "stream",
     "text": [
      "WARNING:tensorflow:From C:\\Users\\admin\\Anaconda3\\lib\\site-packages\\tensorflow_core\\python\\ops\\nn_impl.py:183: where (from tensorflow.python.ops.array_ops) is deprecated and will be removed in a future version.\n",
      "Instructions for updating:\n",
      "Use tf.where in 2.0, which has the same broadcast rule as np.where\n"
     ]
    }
   ],
   "source": [
    "model.compile(optimizer='adam',\n",
    "              loss=tf.keras.losses.BinaryCrossentropy(from_logits=True),\n",
    "              metrics=['accuracy'])"
   ]
  },
  {
   "cell_type": "code",
   "execution_count": 9,
   "metadata": {},
   "outputs": [],
   "source": [
    "batch_size = 10"
   ]
  },
  {
   "cell_type": "code",
   "execution_count": 10,
   "metadata": {},
   "outputs": [],
   "source": [
    "train_datagen = ImageDataGenerator(\n",
    "        rescale=1./255,\n",
    "        shear_range=0.2,\n",
    "        zoom_range=0.2,\n",
    "        horizontal_flip=True)"
   ]
  },
  {
   "cell_type": "code",
   "execution_count": null,
   "metadata": {},
   "outputs": [],
   "source": []
  },
  {
   "cell_type": "code",
   "execution_count": 11,
   "metadata": {},
   "outputs": [],
   "source": [
    "validation_datagen = ImageDataGenerator(rescale=1./255)"
   ]
  },
  {
   "cell_type": "code",
   "execution_count": 12,
   "metadata": {},
   "outputs": [
    {
     "data": {
      "text/plain": [
       "'C:\\\\Users\\\\admin\\\\Desktop\\\\check\\\\train'"
      ]
     },
     "execution_count": 12,
     "metadata": {},
     "output_type": "execute_result"
    }
   ],
   "source": [
    "path ='C:\\\\Users\\\\admin\\\\Desktop\\\\check\\\\'\n",
    "path+'train'"
   ]
  },
  {
   "cell_type": "code",
   "execution_count": 13,
   "metadata": {},
   "outputs": [
    {
     "name": "stdout",
     "output_type": "stream",
     "text": [
      "Found 600 images belonging to 2 classes.\n",
      "Found 60 images belonging to 2 classes.\n"
     ]
    }
   ],
   "source": [
    "# 학습\n",
    "train_generator = train_datagen.flow_from_directory(\n",
    "        'data/train',  # 타겟 디렉토리\n",
    "        target_size=(150, 150),  # 모든 이미지의 크기가 150x150로 조정\n",
    "        batch_size=batch_size,\n",
    "        class_mode='binary')  # binary_crossentropy 손실 함수를 사용하므로 binary 형태로 라벨을 불러와야 합니다.\n",
    "\n",
    "# 검증\n",
    "validation_generator = validation_datagen.flow_from_directory(\n",
    "        'data/test',\n",
    "        target_size=(150, 150),\n",
    "        batch_size=batch_size,\n",
    "        class_mode='binary')"
   ]
  },
  {
   "cell_type": "code",
   "execution_count": 16,
   "metadata": {},
   "outputs": [
    {
     "name": "stdout",
     "output_type": "stream",
     "text": [
      "Epoch 1/50\n",
      "100/100 [==============================] - 23s 227ms/step - loss: 8.8131e-05 - accuracy: 0.0000e+00 - val_loss: 4.8464e-04 - val_accuracy: 0.0000e+00\n",
      "Epoch 2/50\n",
      "100/100 [==============================] - 23s 232ms/step - loss: 0.0190 - accuracy: 0.0030 - val_loss: 0.2062 - val_accuracy: 0.0000e+00\n",
      "Epoch 3/50\n",
      "100/100 [==============================] - 21s 214ms/step - loss: 0.0031 - accuracy: 0.0010 - val_loss: 8.0828e-05 - val_accuracy: 0.0000e+00\n",
      "Epoch 4/50\n",
      "100/100 [==============================] - 23s 229ms/step - loss: 0.0010 - accuracy: 0.0000e+00 - val_loss: 0.0044 - val_accuracy: 0.0000e+00\n",
      "Epoch 5/50\n",
      "100/100 [==============================] - 22s 219ms/step - loss: 0.0067 - accuracy: 0.0030 - val_loss: 2.0774e-06 - val_accuracy: 0.0167\n",
      "Epoch 6/50\n",
      "100/100 [==============================] - 23s 228ms/step - loss: 1.5547e-04 - accuracy: 0.0000e+00 - val_loss: 2.6907e-05 - val_accuracy: 0.0000e+00\n",
      "Epoch 7/50\n",
      "100/100 [==============================] - 23s 227ms/step - loss: 1.1526e-04 - accuracy: 0.0000e+00 - val_loss: 1.2073e-04 - val_accuracy: 0.0000e+00\n",
      "Epoch 8/50\n",
      "100/100 [==============================] - 23s 229ms/step - loss: 1.9094e-04 - accuracy: 0.0000e+00 - val_loss: 0.0134 - val_accuracy: 0.0000e+00\n",
      "Epoch 9/50\n",
      "100/100 [==============================] - 23s 227ms/step - loss: 1.7870e-04 - accuracy: 0.0000e+00 - val_loss: 0.0028 - val_accuracy: 0.0000e+00\n",
      "Epoch 10/50\n",
      "100/100 [==============================] - 21s 211ms/step - loss: 1.7222e-04 - accuracy: 0.0000e+00 - val_loss: 0.0048 - val_accuracy: 0.0000e+00\n",
      "Epoch 11/50\n",
      "100/100 [==============================] - 22s 217ms/step - loss: 2.1572e-04 - accuracy: 0.0000e+00 - val_loss: 0.0053 - val_accuracy: 0.0000e+00\n",
      "Epoch 12/50\n",
      "100/100 [==============================] - 22s 220ms/step - loss: 9.8891e-05 - accuracy: 0.0000e+00 - val_loss: 1.3633e-05 - val_accuracy: 0.0000e+00\n",
      "Epoch 13/50\n",
      "100/100 [==============================] - 23s 234ms/step - loss: 4.7245e-05 - accuracy: 0.0000e+00 - val_loss: 1.4117e-05 - val_accuracy: 0.0000e+00\n",
      "Epoch 14/50\n",
      "100/100 [==============================] - 21s 212ms/step - loss: 1.4570e-04 - accuracy: 0.0000e+00 - val_loss: 3.6901e-07 - val_accuracy: 0.0000e+00\n",
      "Epoch 15/50\n",
      "100/100 [==============================] - 23s 228ms/step - loss: 5.1339e-05 - accuracy: 0.0000e+00 - val_loss: 2.1684e-07 - val_accuracy: 0.0000e+00\n",
      "Epoch 16/50\n",
      "100/100 [==============================] - 22s 224ms/step - loss: 2.2277e-05 - accuracy: 0.0000e+00 - val_loss: 0.0060 - val_accuracy: 0.0000e+00\n",
      "Epoch 17/50\n",
      "100/100 [==============================] - 22s 223ms/step - loss: 1.5117e-05 - accuracy: 0.0000e+00 - val_loss: 0.0074 - val_accuracy: 0.0000e+00\n",
      "Epoch 18/50\n",
      "100/100 [==============================] - 23s 226ms/step - loss: 1.1889e-04 - accuracy: 0.0000e+00 - val_loss: 0.0390 - val_accuracy: 0.0167\n",
      "Epoch 19/50\n",
      "100/100 [==============================] - 22s 221ms/step - loss: 4.5173e-05 - accuracy: 0.0000e+00 - val_loss: 6.8369e-09 - val_accuracy: 0.0000e+00\n",
      "Epoch 20/50\n",
      "100/100 [==============================] - 22s 217ms/step - loss: 5.5924e-05 - accuracy: 0.0000e+00 - val_loss: 2.1585e-07 - val_accuracy: 0.0000e+00\n",
      "Epoch 21/50\n",
      "100/100 [==============================] - 23s 230ms/step - loss: 4.1927e-05 - accuracy: 0.0000e+00 - val_loss: 5.4083e-04 - val_accuracy: 0.0000e+00\n",
      "Epoch 22/50\n",
      "100/100 [==============================] - 22s 222ms/step - loss: 6.4045e-05 - accuracy: 0.0000e+00 - val_loss: 3.1586e-07 - val_accuracy: 0.0000e+00\n",
      "Epoch 23/50\n",
      "100/100 [==============================] - 22s 217ms/step - loss: 1.5107e-05 - accuracy: 0.0000e+00 - val_loss: 7.7756e-04 - val_accuracy: 0.0000e+00\n",
      "Epoch 24/50\n",
      "100/100 [==============================] - 22s 215ms/step - loss: 9.7114e-06 - accuracy: 0.0000e+00 - val_loss: 2.2340e-09 - val_accuracy: 0.0000e+00\n",
      "Epoch 25/50\n",
      "100/100 [==============================] - 22s 222ms/step - loss: 1.9312e-05 - accuracy: 0.0000e+00 - val_loss: 2.0671e-08 - val_accuracy: 0.0000e+00\n",
      "Epoch 26/50\n",
      "100/100 [==============================] - 24s 237ms/step - loss: 8.0981e-06 - accuracy: 0.0000e+00 - val_loss: 2.2952e-06 - val_accuracy: 0.0000e+00\n",
      "Epoch 27/50\n",
      "100/100 [==============================] - 23s 233ms/step - loss: 2.7278e-05 - accuracy: 0.0000e+00 - val_loss: 8.5981e-08 - val_accuracy: 0.0000e+00\n",
      "Epoch 28/50\n",
      "100/100 [==============================] - 23s 228ms/step - loss: 0.0362 - accuracy: 0.0040 - val_loss: 0.0032 - val_accuracy: 0.0333\n",
      "Epoch 29/50\n",
      "100/100 [==============================] - 23s 233ms/step - loss: 0.2446 - accuracy: 0.0550 - val_loss: 0.0123 - val_accuracy: 0.0167\n",
      "Epoch 30/50\n",
      "100/100 [==============================] - 22s 220ms/step - loss: 0.0247 - accuracy: 0.0100 - val_loss: 3.0041e-06 - val_accuracy: 0.0000e+00\n",
      "Epoch 31/50\n",
      "100/100 [==============================] - 21s 214ms/step - loss: 0.0200 - accuracy: 0.0060 - val_loss: 6.3721e-04 - val_accuracy: 0.0000e+00\n",
      "Epoch 32/50\n",
      "100/100 [==============================] - 21s 206ms/step - loss: 0.0090 - accuracy: 0.0070 - val_loss: 0.0014 - val_accuracy: 0.0000e+00\n",
      "Epoch 33/50\n",
      "100/100 [==============================] - 21s 214ms/step - loss: 0.0025 - accuracy: 0.0010 - val_loss: 0.0050 - val_accuracy: 0.0000e+00\n",
      "Epoch 34/50\n",
      "100/100 [==============================] - 21s 213ms/step - loss: 7.6618e-04 - accuracy: 0.0000e+00 - val_loss: 3.1954e-06 - val_accuracy: 0.0000e+00\n",
      "Epoch 35/50\n",
      "100/100 [==============================] - 22s 216ms/step - loss: 5.1231e-04 - accuracy: 0.0000e+00 - val_loss: 0.0032 - val_accuracy: 0.0000e+00\n",
      "Epoch 36/50\n",
      "100/100 [==============================] - 22s 217ms/step - loss: 2.7621e-04 - accuracy: 0.0000e+00 - val_loss: 0.0226 - val_accuracy: 0.0000e+00\n",
      "Epoch 37/50\n",
      "100/100 [==============================] - 21s 213ms/step - loss: 2.1784e-04 - accuracy: 0.0000e+00 - val_loss: 0.4156 - val_accuracy: 0.0000e+00\n",
      "Epoch 38/50\n",
      "100/100 [==============================] - 21s 210ms/step - loss: 0.0066 - accuracy: 0.0000e+00 - val_loss: 0.0062 - val_accuracy: 0.0167\n",
      "Epoch 39/50\n",
      "100/100 [==============================] - 22s 215ms/step - loss: 0.0332 - accuracy: 0.0060 - val_loss: 1.7709e-05 - val_accuracy: 0.0000e+00\n",
      "Epoch 40/50\n",
      "100/100 [==============================] - 21s 211ms/step - loss: 0.0195 - accuracy: 0.0020 - val_loss: 0.0014 - val_accuracy: 0.0000e+00\n",
      "Epoch 41/50\n",
      "100/100 [==============================] - 23s 231ms/step - loss: 0.0084 - accuracy: 0.0030 - val_loss: 0.0012 - val_accuracy: 0.0000e+00\n",
      "Epoch 42/50\n",
      "100/100 [==============================] - 21s 213ms/step - loss: 0.0113 - accuracy: 0.0060 - val_loss: 4.6476e-04 - val_accuracy: 0.0000e+00\n",
      "Epoch 43/50\n",
      "100/100 [==============================] - 21s 212ms/step - loss: 0.0013 - accuracy: 0.0010 - val_loss: 0.0176 - val_accuracy: 0.0167\n",
      "Epoch 44/50\n",
      "100/100 [==============================] - 21s 212ms/step - loss: 0.0012 - accuracy: 0.0000e+00 - val_loss: 0.0044 - val_accuracy: 0.0000e+00\n",
      "Epoch 45/50\n",
      "100/100 [==============================] - 21s 210ms/step - loss: 0.0745 - accuracy: 0.0090 - val_loss: 1.8157 - val_accuracy: 0.0167\n",
      "Epoch 46/50\n",
      "100/100 [==============================] - 21s 208ms/step - loss: 0.0340 - accuracy: 0.0070 - val_loss: 0.0635 - val_accuracy: 0.0167\n",
      "Epoch 47/50\n",
      "100/100 [==============================] - 22s 217ms/step - loss: 0.0047 - accuracy: 0.0030 - val_loss: 0.0417 - val_accuracy: 0.0167\n",
      "Epoch 48/50\n",
      "100/100 [==============================] - 21s 207ms/step - loss: 6.9684e-04 - accuracy: 0.0000e+00 - val_loss: 2.8505e-07 - val_accuracy: 0.0000e+00\n",
      "Epoch 49/50\n",
      "100/100 [==============================] - 22s 216ms/step - loss: 0.0026 - accuracy: 0.0030 - val_loss: 0.0016 - val_accuracy: 0.0167\n",
      "Epoch 50/50\n",
      "100/100 [==============================] - 21s 207ms/step - loss: 2.0063e-04 - accuracy: 0.0000e+00 - val_loss: 2.7749e-08 - val_accuracy: 0.0167\n"
     ]
    }
   ],
   "source": [
    "hist = model.fit_generator(\n",
    "        train_generator,\n",
    "        steps_per_epoch=1000 // batch_size,\n",
    "        validation_data=validation_generator,\n",
    "        epochs=50)\n",
    "# model.save_weights('first_try.h5')  # 많은 시간을 들여 학습한 모델인 만큼, 학습 후에는 꼭 모델을 저장해줍시다."
   ]
  },
  {
   "cell_type": "code",
   "execution_count": 17,
   "metadata": {},
   "outputs": [
    {
     "ename": "KeyError",
     "evalue": "'acc'",
     "output_type": "error",
     "traceback": [
      "\u001b[1;31m---------------------------------------------------------------------------\u001b[0m",
      "\u001b[1;31mKeyError\u001b[0m                                  Traceback (most recent call last)",
      "\u001b[1;32m<ipython-input-17-cb9025f7b23b>\u001b[0m in \u001b[0;36m<module>\u001b[1;34m\u001b[0m\n\u001b[0;32m      1\u001b[0m \u001b[1;31m# 정확도\u001b[0m\u001b[1;33m\u001b[0m\u001b[1;33m\u001b[0m\u001b[0m\n\u001b[1;32m----> 2\u001b[1;33m \u001b[0macc\u001b[0m \u001b[1;33m=\u001b[0m \u001b[0mhist\u001b[0m\u001b[1;33m.\u001b[0m\u001b[0mhistory\u001b[0m\u001b[1;33m[\u001b[0m\u001b[1;34m'acc'\u001b[0m\u001b[1;33m]\u001b[0m  \u001b[1;31m# 학습 정확도\u001b[0m\u001b[1;33m\u001b[0m\u001b[0m\n\u001b[0m\u001b[0;32m      3\u001b[0m \u001b[0mval_acc\u001b[0m \u001b[1;33m=\u001b[0m \u001b[0mhist\u001b[0m\u001b[1;33m.\u001b[0m\u001b[0mhistory\u001b[0m\u001b[1;33m[\u001b[0m\u001b[1;34m'val_acc'\u001b[0m\u001b[1;33m]\u001b[0m \u001b[1;31m# 검증 정확도\u001b[0m\u001b[1;33m\u001b[0m\u001b[0m\n\u001b[0;32m      4\u001b[0m \u001b[1;33m\u001b[0m\u001b[0m\n\u001b[0;32m      5\u001b[0m \u001b[1;31m# 손실 값\u001b[0m\u001b[1;33m\u001b[0m\u001b[1;33m\u001b[0m\u001b[0m\n",
      "\u001b[1;31mKeyError\u001b[0m: 'acc'"
     ]
    }
   ],
   "source": [
    "# 정확도 \n",
    "acc = hist.history['acc']  # 학습 정확도\n",
    "val_acc = hist.history['val_acc'] # 검증 정확도 \n",
    "\n",
    "# 손실 값\n",
    "loss=hist.history['loss']\n",
    "val_loss=hist.history['val_loss']\n",
    "\n",
    "# 에포크 길이 \n",
    "epochs_range = range(epochs)"
   ]
  },
  {
   "cell_type": "code",
   "execution_count": null,
   "metadata": {},
   "outputs": [],
   "source": [
    "# 그래프 그리기 \n",
    "plt.figure(figsize=(8, 8))\n",
    "plt.subplot(1, 2, 1)\n",
    "plt.plot(epochs_range, acc, label='Training Accuracy')\n",
    "plt.plot(epochs_range, val_acc, label='Validation Accuracy')\n",
    "plt.legend(loc='lower right')\n",
    "plt.title('Training and Validation Accuracy')\n",
    "\n",
    "plt.subplot(1, 2, 2)\n",
    "plt.plot(epochs_range, loss, label='Training Loss')\n",
    "plt.plot(epochs_range, val_loss, label='Validation Loss')\n",
    "plt.legend(loc='upper right')\n",
    "plt.title('Training and Validation Loss')\n",
    "plt.show()\n"
   ]
  },
  {
   "cell_type": "code",
   "execution_count": null,
   "metadata": {},
   "outputs": [],
   "source": []
  }
 ],
 "metadata": {
  "kernelspec": {
   "display_name": "Python 3",
   "language": "python",
   "name": "python3"
  },
  "language_info": {
   "codemirror_mode": {
    "name": "ipython",
    "version": 3
   },
   "file_extension": ".py",
   "mimetype": "text/x-python",
   "name": "python",
   "nbconvert_exporter": "python",
   "pygments_lexer": "ipython3",
   "version": "3.6.5"
  }
 },
 "nbformat": 4,
 "nbformat_minor": 4
}
