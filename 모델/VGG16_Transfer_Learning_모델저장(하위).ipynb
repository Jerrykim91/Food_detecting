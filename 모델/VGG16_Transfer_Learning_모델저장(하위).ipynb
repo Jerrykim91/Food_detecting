{
 "cells": [
  {
   "cell_type": "markdown",
   "metadata": {},
   "source": [
    "#  전이학습 기반 분류기"
   ]
  },
  {
   "cell_type": "code",
   "execution_count": 1,
   "metadata": {},
   "outputs": [],
   "source": [
    "# from PIL import Image\n",
    "# a = np.array([[1,2,3],[1,2,3],[1,2,3]])\n",
    "# img = Image.fromarray(a)\n",
    "# b = np.array(img)"
   ]
  },
  {
   "cell_type": "code",
   "execution_count": 1,
   "metadata": {
    "colab": {
     "autoexec": {
      "startup": false,
      "wait_interval": 0
     }
    },
    "colab_type": "code",
    "id": "qpwpUhVod2ob"
   },
   "outputs": [],
   "source": [
    "import scipy as sp\n",
    "import numpy as np\n",
    "import pandas as pd\n",
    "from numpy.random import rand\n",
    "pd.options.display.max_colwidth = 600\n",
    "\n",
    "\n",
    "from sklearn import preprocessing\n",
    "from sklearn.metrics import roc_curve, auc, precision_recall_curve\n",
    "from sklearn.model_selection import train_test_split\n",
    "\n",
    "import cnn_utils as utils\n",
    "\n",
    "\n",
    "import matplotlib.pyplot as plt\n",
    "%matplotlib inline\n",
    "params = {'legend.fontsize': 'x-large',\n",
    "          'figure.figsize': (15, 5),\n",
    "          'axes.labelsize': 'x-large',\n",
    "          'axes.titlesize':'x-large',\n",
    "          'xtick.labelsize':'x-large',\n",
    "          'ytick.labelsize':'x-large'}\n",
    "\n",
    "plt.rcParams.update(params)\n",
    "\n",
    "\n",
    "from IPython.display import display, HTML\n",
    "import warnings\n",
    "warnings.filterwarnings('ignore')"
   ]
  },
  {
   "cell_type": "code",
   "execution_count": 2,
   "metadata": {
    "colab": {
     "autoexec": {
      "startup": false,
      "wait_interval": 0
     },
     "base_uri": "https://localhost:8080/",
     "height": 34
    },
    "colab_type": "code",
    "executionInfo": {
     "elapsed": 1669,
     "status": "ok",
     "timestamp": 1531341784750,
     "user": {
      "displayName": "Raghav Bali",
      "photoUrl": "//lh4.googleusercontent.com/-HPass-4Bl9U/AAAAAAAAAAI/AAAAAAAAKiI/A0BQ8MHwVME/s50-c-k-no/photo.jpg",
      "userId": "117317575176939780509"
     },
     "user_tz": -330
    },
    "id": "VB1artr2KuLD",
    "outputId": "295301d0-a703-4793-fbc9-74c200f15189"
   },
   "outputs": [
    {
     "name": "stderr",
     "output_type": "stream",
     "text": [
      "Using TensorFlow backend.\n"
     ]
    }
   ],
   "source": [
    "import tensorflow as tf\n",
    "import keras\n",
    "from tensorflow.keras import callbacks, optimizers,Model\n",
    "from tensorflow.keras.applications import vgg16 as vgg\n",
    "from tensorflow.keras.layers import Dropout, Flatten, Dense, GlobalAveragePooling2D,BatchNormalization\n",
    "from tensorflow.keras.preprocessing.image import ImageDataGenerator\n",
    "from tensorflow.python.keras.utils import np_utils\n",
    "from keras.callbacks import ReduceLROnPlateau, ModelCheckpoint, EarlyStopping"
   ]
  },
  {
   "cell_type": "markdown",
   "metadata": {},
   "source": [
    "## 데이터 세트 로딩과 준비"
   ]
  },
  {
   "cell_type": "code",
   "execution_count": 17,
   "metadata": {
    "colab": {
     "autoexec": {
      "startup": false,
      "wait_interval": 0
     }
    },
    "colab_type": "code",
    "id": "fS8uGXn5dgRU"
   },
   "outputs": [],
   "source": [
    "# BATCH_SIZE = 64\n",
    "# EPOCHS = 50    # 기본: 100\n",
    "# NUM_CLASSES = 10 # 카테고리수 \n",
    "# LEARNING_RATE = 1e-4\n",
    "# MOMENTUM = 0.9\n",
    "# PATH=r\"C:\\Users\\admin\\Desktop\\image\\#5\""
   ]
  },
  {
   "cell_type": "code",
   "execution_count": 28,
   "metadata": {},
   "outputs": [],
   "source": [
    "BATCH_SIZE = 64\n",
    "EPOCHS = 50    # 기본: 100\n",
    "NUM_CLASSES = 8 # 카테고리수 \n",
    "LEARNING_RATE = 1e-4\n",
    "MOMENTUM = 0.9\n",
    "PATH=r\"C:\\Users\\admin\\Desktop\\image\\#3\""
   ]
  },
  {
   "cell_type": "code",
   "execution_count": 29,
   "metadata": {
    "colab": {
     "autoexec": {
      "startup": false,
      "wait_interval": 0
     }
    },
    "colab_type": "code",
    "id": "PoT9P1phLuyT"
   },
   "outputs": [],
   "source": [
    "base_model = vgg.VGG16(weights='imagenet', \n",
    "                       include_top=False, \n",
    "                       input_shape=(128, 128, 3))"
   ]
  },
  {
   "cell_type": "code",
   "execution_count": 30,
   "metadata": {
    "colab": {
     "autoexec": {
      "startup": false,
      "wait_interval": 0
     }
    },
    "colab_type": "code",
    "id": "khNrl8nHqesu"
   },
   "outputs": [],
   "source": [
    "# VGG16 모델의 세 번째 블록에서 마지막 층 추출\n",
    "# VGG16 모델의 네 번째 블록에서 마지막 층 추출\n",
    "last = base_model.get_layer('block4_pool').output\n",
    "# last = base_model.get_layer('block3_pool').output"
   ]
  },
  {
   "cell_type": "markdown",
   "metadata": {},
   "source": [
    "## 모델 준비\n",
    "\n",
    "* 최상위층 없이 VGG16 로딩\n",
    "* 커스텀 분류기 준비\n",
    "* 모델의 맨 위에 새로운 층 쌓기"
   ]
  },
  {
   "cell_type": "code",
   "execution_count": 31,
   "metadata": {
    "colab": {
     "autoexec": {
      "startup": false,
      "wait_interval": 0
     }
    },
    "colab_type": "code",
    "id": "MI90lh6hL9ua"
   },
   "outputs": [
    {
     "name": "stdout",
     "output_type": "stream",
     "text": [
      "WARNING:tensorflow:Large dropout rate: 0.6 (>0.5). In TensorFlow 2.x, dropout() uses dropout rate instead of keep_prob. Please ensure that this is intended.\n",
      "Model: \"model_2\"\n",
      "_________________________________________________________________\n",
      "Layer (type)                 Output Shape              Param #   \n",
      "=================================================================\n",
      "input_4 (InputLayer)         [(None, 128, 128, 3)]     0         \n",
      "_________________________________________________________________\n",
      "block1_conv1 (Conv2D)        (None, 128, 128, 64)      1792      \n",
      "_________________________________________________________________\n",
      "block1_conv2 (Conv2D)        (None, 128, 128, 64)      36928     \n",
      "_________________________________________________________________\n",
      "block1_pool (MaxPooling2D)   (None, 64, 64, 64)        0         \n",
      "_________________________________________________________________\n",
      "block2_conv1 (Conv2D)        (None, 64, 64, 128)       73856     \n",
      "_________________________________________________________________\n",
      "block2_conv2 (Conv2D)        (None, 64, 64, 128)       147584    \n",
      "_________________________________________________________________\n",
      "block2_pool (MaxPooling2D)   (None, 32, 32, 128)       0         \n",
      "_________________________________________________________________\n",
      "block3_conv1 (Conv2D)        (None, 32, 32, 256)       295168    \n",
      "_________________________________________________________________\n",
      "block3_conv2 (Conv2D)        (None, 32, 32, 256)       590080    \n",
      "_________________________________________________________________\n",
      "block3_conv3 (Conv2D)        (None, 32, 32, 256)       590080    \n",
      "_________________________________________________________________\n",
      "block3_pool (MaxPooling2D)   (None, 16, 16, 256)       0         \n",
      "_________________________________________________________________\n",
      "block4_conv1 (Conv2D)        (None, 16, 16, 512)       1180160   \n",
      "_________________________________________________________________\n",
      "block4_conv2 (Conv2D)        (None, 16, 16, 512)       2359808   \n",
      "_________________________________________________________________\n",
      "block4_conv3 (Conv2D)        (None, 16, 16, 512)       2359808   \n",
      "_________________________________________________________________\n",
      "block4_pool (MaxPooling2D)   (None, 8, 8, 512)         0         \n",
      "_________________________________________________________________\n",
      "global_average_pooling2d_2 ( (None, 512)               0         \n",
      "_________________________________________________________________\n",
      "batch_normalization_2 (Batch (None, 512)               2048      \n",
      "_________________________________________________________________\n",
      "dense_6 (Dense)              (None, 256)               131328    \n",
      "_________________________________________________________________\n",
      "dense_7 (Dense)              (None, 256)               65792     \n",
      "_________________________________________________________________\n",
      "dropout_2 (Dropout)          (None, 256)               0         \n",
      "_________________________________________________________________\n",
      "dense_8 (Dense)              (None, 8)                 2056      \n",
      "=================================================================\n",
      "Total params: 7,836,488\n",
      "Trainable params: 7,835,464\n",
      "Non-trainable params: 1,024\n",
      "_________________________________________________________________\n"
     ]
    }
   ],
   "source": [
    "# 상위 층에 분류층 추가\n",
    "x = GlobalAveragePooling2D()(last)\n",
    "x= BatchNormalization()(x)\n",
    "x = Dense(256, activation='relu')(x)\n",
    "x = Dense(256, activation='relu')(x)\n",
    "x = Dropout(0.6)(x)\n",
    "pred = Dense(NUM_CLASSES, activation='softmax')(x)\n",
    "model = Model(base_model.input, pred)\n",
    "\n",
    "\n",
    "model.summary()"
   ]
  },
  {
   "cell_type": "code",
   "execution_count": null,
   "metadata": {},
   "outputs": [],
   "source": []
  },
  {
   "cell_type": "code",
   "execution_count": 39,
   "metadata": {},
   "outputs": [],
   "source": [
    "checkpoint = keras.callbacks.ModelCheckpoint('model_cnn_#3-{epoch:03d}-{acc:03f}-{val_acc:03f}.h5', verbose=1,\n",
    "                                             monitor='val_loss',\n",
    "                                             save_best_only=True, mode='auto')"
   ]
  },
  {
   "cell_type": "code",
   "execution_count": 40,
   "metadata": {
    "colab": {
     "autoexec": {
      "startup": false,
      "wait_interval": 0
     }
    },
    "colab_type": "code",
    "id": "fc3EhfLTMD4I"
   },
   "outputs": [],
   "source": [
    "for layer in base_model.layers:\n",
    "     layer.trainable = False"
   ]
  },
  {
   "cell_type": "code",
   "execution_count": 41,
   "metadata": {
    "colab": {
     "autoexec": {
      "startup": false,
      "wait_interval": 0
     }
    },
    "colab_type": "code",
    "id": "PRXPI3DCMIIK"
   },
   "outputs": [],
   "source": [
    "model.compile(loss='binary_crossentropy',\n",
    "              optimizer=optimizers.Adam(lr=LEARNING_RATE),\n",
    "              metrics=['accuracy'])"
   ]
  },
  {
   "cell_type": "code",
   "execution_count": 42,
   "metadata": {
    "colab": {
     "autoexec": {
      "startup": false,
      "wait_interval": 0
     },
     "base_uri": "https://localhost:8080/",
     "height": 714
    },
    "colab_type": "code",
    "executionInfo": {
     "elapsed": 814,
     "status": "ok",
     "timestamp": 1531341814064,
     "user": {
      "displayName": "Raghav Bali",
      "photoUrl": "//lh4.googleusercontent.com/-HPass-4Bl9U/AAAAAAAAAAI/AAAAAAAAKiI/A0BQ8MHwVME/s50-c-k-no/photo.jpg",
      "userId": "117317575176939780509"
     },
     "user_tz": -330
    },
    "id": "PATZIBLlMLrf",
    "outputId": "f9a4ac68-9261-46d8-a7c9-9e15cfcf5631"
   },
   "outputs": [],
   "source": [
    "train_datagen = ImageDataGenerator(\n",
    "                 rescale=1/255,\n",
    "                validation_split=0.33\n",
    "                                  )"
   ]
  },
  {
   "cell_type": "code",
   "execution_count": 43,
   "metadata": {
    "colab": {
     "autoexec": {
      "startup": false,
      "wait_interval": 0
     }
    },
    "colab_type": "code",
    "id": "_Y-jNseQMNcf"
   },
   "outputs": [
    {
     "name": "stdout",
     "output_type": "stream",
     "text": [
      "Found 3905 images belonging to 8 classes.\n"
     ]
    }
   ],
   "source": [
    "train_generator = train_datagen.flow_from_directory(\n",
    "        PATH,\n",
    "        shuffle=True,\n",
    "        seed=13,\n",
    "        target_size=(128,128),\n",
    "        batch_size=BATCH_SIZE,\n",
    "        class_mode = 'categorical',\n",
    "        subset=\"training\")"
   ]
  },
  {
   "cell_type": "code",
   "execution_count": 44,
   "metadata": {
    "colab": {
     "autoexec": {
      "startup": false,
      "wait_interval": 0
     }
    },
    "colab_type": "code",
    "id": "mHPmLOf-N3SQ"
   },
   "outputs": [
    {
     "name": "stdout",
     "output_type": "stream",
     "text": [
      "Found 1918 images belonging to 8 classes.\n"
     ]
    }
   ],
   "source": [
    "val_generator = train_datagen.flow_from_directory(\n",
    "        PATH,\n",
    "        shuffle=True,\n",
    "        seed=13,\n",
    "        target_size=(128,128),\n",
    "        batch_size=BATCH_SIZE,\n",
    "        class_mode = 'categorical',\n",
    "        subset=\"validation\")\n"
   ]
  },
  {
   "cell_type": "code",
   "execution_count": 45,
   "metadata": {
    "colab": {
     "autoexec": {
      "startup": false,
      "wait_interval": 0
     }
    },
    "colab_type": "code",
    "id": "JSIJycdbrBWK",
    "scrolled": false
   },
   "outputs": [
    {
     "name": "stdout",
     "output_type": "stream",
     "text": [
      "Epoch 1/50\n",
      " 99/100 [============================>.] - ETA: 2s - loss: 0.3916 - acc: 0.8665Epoch 1/50\n",
      "100/100 [==============================] - 228s 2s/step - loss: 0.3331 - acc: 0.8756\n",
      "\n",
      "Epoch 00001: val_loss improved from inf to 0.33313, saving model to model_cnn_#3-001-0.866672-0.875645.h5\n",
      "100/100 [==============================] - 450s 5s/step - loss: 0.3913 - acc: 0.8667 - val_loss: 0.3331 - val_acc: 0.8756\n",
      "Epoch 2/50\n",
      " 99/100 [============================>.] - ETA: 2s - loss: 0.3234 - acc: 0.8777Epoch 1/50\n",
      "100/100 [==============================] - 226s 2s/step - loss: 0.2886 - acc: 0.8851\n",
      "\n",
      "Epoch 00002: val_loss improved from 0.33313 to 0.28861, saving model to model_cnn_#3-002-0.877742-0.885146.h5\n",
      "100/100 [==============================] - 448s 4s/step - loss: 0.3233 - acc: 0.8777 - val_loss: 0.2886 - val_acc: 0.8851\n",
      "Epoch 3/50\n",
      " 99/100 [============================>.] - ETA: 2s - loss: 0.2870 - acc: 0.8876Epoch 1/50\n",
      "100/100 [==============================] - 233s 2s/step - loss: 0.2574 - acc: 0.8968\n",
      "\n",
      "Epoch 00003: val_loss improved from 0.28861 to 0.25740, saving model to model_cnn_#3-003-0.887691-0.896798.h5\n",
      "100/100 [==============================] - 457s 5s/step - loss: 0.2868 - acc: 0.8877 - val_loss: 0.2574 - val_acc: 0.8968\n",
      "Epoch 4/50\n",
      " 99/100 [============================>.] - ETA: 2s - loss: 0.2577 - acc: 0.8979Epoch 1/50\n",
      "100/100 [==============================] - 227s 2s/step - loss: 0.2348 - acc: 0.9064\n",
      "\n",
      "Epoch 00004: val_loss improved from 0.25740 to 0.23478, saving model to model_cnn_#3-004-0.897960-0.906436.h5\n",
      "100/100 [==============================] - 450s 4s/step - loss: 0.2577 - acc: 0.8980 - val_loss: 0.2348 - val_acc: 0.9064\n",
      "Epoch 5/50\n",
      " 99/100 [============================>.] - ETA: 2s - loss: 0.2344 - acc: 0.9066Epoch 1/50\n",
      "100/100 [==============================] - 227s 2s/step - loss: 0.2186 - acc: 0.9126\n",
      "\n",
      "Epoch 00005: val_loss improved from 0.23478 to 0.21863, saving model to model_cnn_#3-005-0.906798-0.912594.h5\n",
      "100/100 [==============================] - 447s 4s/step - loss: 0.2341 - acc: 0.9068 - val_loss: 0.2186 - val_acc: 0.9126\n",
      "Epoch 6/50\n",
      " 99/100 [============================>.] - ETA: 2s - loss: 0.2126 - acc: 0.9168Epoch 1/50\n",
      "100/100 [==============================] - 227s 2s/step - loss: 0.2069 - acc: 0.9164\n",
      "\n",
      "Epoch 00006: val_loss improved from 0.21863 to 0.20691, saving model to model_cnn_#3-006-0.916798-0.916367.h5\n",
      "100/100 [==============================] - 449s 4s/step - loss: 0.2126 - acc: 0.9168 - val_loss: 0.2069 - val_acc: 0.9164\n",
      "Epoch 7/50\n",
      " 99/100 [============================>.] - ETA: 2s - loss: 0.1997 - acc: 0.9228Epoch 1/50\n",
      "100/100 [==============================] - 227s 2s/step - loss: 0.1986 - acc: 0.9213\n",
      "\n",
      "Epoch 00007: val_loss improved from 0.20691 to 0.19860, saving model to model_cnn_#3-007-0.922777-0.921313.h5\n",
      "100/100 [==============================] - 446s 4s/step - loss: 0.1995 - acc: 0.9228 - val_loss: 0.1986 - val_acc: 0.9213\n",
      "Epoch 8/50\n",
      " 99/100 [============================>.] - ETA: 2s - loss: 0.1860 - acc: 0.9287Epoch 1/50\n",
      "100/100 [==============================] - 228s 2s/step - loss: 0.1904 - acc: 0.9249\n",
      "\n",
      "Epoch 00008: val_loss improved from 0.19860 to 0.19043, saving model to model_cnn_#3-008-0.928674-0.924851.h5\n",
      "100/100 [==============================] - 447s 4s/step - loss: 0.1860 - acc: 0.9287 - val_loss: 0.1904 - val_acc: 0.9249\n",
      "Epoch 9/50\n",
      " 99/100 [============================>.] - ETA: 2s - loss: 0.1718 - acc: 0.9336Epoch 1/50\n",
      "100/100 [==============================] - 227s 2s/step - loss: 0.1857 - acc: 0.9272\n",
      "\n",
      "Epoch 00009: val_loss improved from 0.19043 to 0.18575, saving model to model_cnn_#3-009-0.933624-0.927197.h5\n",
      "100/100 [==============================] - 448s 4s/step - loss: 0.1718 - acc: 0.9336 - val_loss: 0.1857 - val_acc: 0.9272\n",
      "Epoch 10/50\n",
      " 99/100 [============================>.] - ETA: 2s - loss: 0.1661 - acc: 0.9372Epoch 1/50\n",
      "100/100 [==============================] - 227s 2s/step - loss: 0.1802 - acc: 0.9296\n",
      "\n",
      "Epoch 00010: val_loss improved from 0.18575 to 0.18016, saving model to model_cnn_#3-010-0.937480-0.929563.h5\n",
      "100/100 [==============================] - 447s 4s/step - loss: 0.1655 - acc: 0.9375 - val_loss: 0.1802 - val_acc: 0.9296\n",
      "Epoch 11/50\n",
      " 99/100 [============================>.] - ETA: 2s - loss: 0.1543 - acc: 0.9420Epoch 1/50\n",
      "100/100 [==============================] - 227s 2s/step - loss: 0.1757 - acc: 0.9293\n",
      "\n",
      "Epoch 00011: val_loss improved from 0.18016 to 0.17575, saving model to model_cnn_#3-011-0.941823-0.929289.h5\n",
      "100/100 [==============================] - 446s 4s/step - loss: 0.1545 - acc: 0.9418 - val_loss: 0.1757 - val_acc: 0.9293\n",
      "Epoch 12/50\n",
      " 99/100 [============================>.] - ETA: 2s - loss: 0.1464 - acc: 0.9458Epoch 1/50\n",
      "100/100 [==============================] - 227s 2s/step - loss: 0.1746 - acc: 0.9308\n",
      "\n",
      "Epoch 00012: val_loss improved from 0.17575 to 0.17462, saving model to model_cnn_#3-012-0.945928-0.930814.h5\n",
      "100/100 [==============================] - 447s 4s/step - loss: 0.1458 - acc: 0.9459 - val_loss: 0.1746 - val_acc: 0.9308\n",
      "Epoch 13/50\n",
      " 99/100 [============================>.] - ETA: 2s - loss: 0.1379 - acc: 0.9477Epoch 1/50\n",
      "100/100 [==============================] - 227s 2s/step - loss: 0.1708 - acc: 0.9329\n",
      "\n",
      "Epoch 00013: val_loss improved from 0.17462 to 0.17077, saving model to model_cnn_#3-013-0.947688-0.932906.h5\n",
      "100/100 [==============================] - 448s 4s/step - loss: 0.1377 - acc: 0.9477 - val_loss: 0.1708 - val_acc: 0.9329\n",
      "Epoch 14/50\n",
      " 99/100 [============================>.] - ETA: 2s - loss: 0.1309 - acc: 0.9524Epoch 1/50\n",
      "100/100 [==============================] - 227s 2s/step - loss: 0.1675 - acc: 0.9336\n",
      "\n",
      "Epoch 00014: val_loss improved from 0.17077 to 0.16752, saving model to model_cnn_#3-014-0.952204-0.933649.h5\n",
      "100/100 [==============================] - 447s 4s/step - loss: 0.1312 - acc: 0.9522 - val_loss: 0.1675 - val_acc: 0.9336\n",
      "Epoch 15/50\n",
      " 99/100 [============================>.] - ETA: 2s - loss: 0.1225 - acc: 0.9545Epoch 1/50\n",
      "100/100 [==============================] - 227s 2s/step - loss: 0.1673 - acc: 0.9343\n",
      "\n",
      "Epoch 00015: val_loss improved from 0.16752 to 0.16735, saving model to model_cnn_#3-015-0.954434-0.934255.h5\n",
      "100/100 [==============================] - 449s 4s/step - loss: 0.1226 - acc: 0.9544 - val_loss: 0.1673 - val_acc: 0.9343\n",
      "Epoch 16/50\n",
      " 99/100 [============================>.] - ETA: 2s - loss: 0.1176 - acc: 0.9575Epoch 1/50\n",
      "100/100 [==============================] - 227s 2s/step - loss: 0.1659 - acc: 0.9336\n",
      "\n",
      "Epoch 00016: val_loss improved from 0.16735 to 0.16590, saving model to model_cnn_#3-016-0.957682-0.933629.h5\n",
      "100/100 [==============================] - 447s 4s/step - loss: 0.1172 - acc: 0.9577 - val_loss: 0.1659 - val_acc: 0.9336\n",
      "Epoch 17/50\n",
      " 99/100 [============================>.] - ETA: 2s - loss: 0.1081 - acc: 0.9613Epoch 1/50\n",
      "100/100 [==============================] - 227s 2s/step - loss: 0.1635 - acc: 0.9351\n",
      "\n",
      "Epoch 00017: val_loss improved from 0.16590 to 0.16349, saving model to model_cnn_#3-017-0.961249-0.935076.h5\n",
      "100/100 [==============================] - 450s 4s/step - loss: 0.1108 - acc: 0.9612 - val_loss: 0.1635 - val_acc: 0.9351\n",
      "Epoch 18/50\n",
      " 99/100 [============================>.] - ETA: 2s - loss: 0.1046 - acc: 0.9616Epoch 1/50\n",
      "100/100 [==============================] - 226s 2s/step - loss: 0.1636 - acc: 0.9359\n",
      "\n",
      "Epoch 00018: val_loss did not improve from 0.16349\n",
      "100/100 [==============================] - 448s 4s/step - loss: 0.1048 - acc: 0.9616 - val_loss: 0.1636 - val_acc: 0.9359\n",
      "Epoch 19/50\n",
      " 99/100 [============================>.] - ETA: 2s - loss: 0.1011 - acc: 0.9641Epoch 1/50\n",
      "100/100 [==============================] - 226s 2s/step - loss: 0.1623 - acc: 0.9359\n",
      "\n",
      "Epoch 00019: val_loss improved from 0.16349 to 0.16231, saving model to model_cnn_#3-019-0.964078-0.935877.h5\n",
      "100/100 [==============================] - 446s 4s/step - loss: 0.1012 - acc: 0.9641 - val_loss: 0.1623 - val_acc: 0.9359\n",
      "Epoch 20/50\n",
      " 99/100 [============================>.] - ETA: 2s - loss: 0.0938 - acc: 0.9675Epoch 1/50\n",
      "100/100 [==============================] - 226s 2s/step - loss: 0.1600 - acc: 0.9371\n",
      "\n",
      "Epoch 00020: val_loss improved from 0.16231 to 0.15997, saving model to model_cnn_#3-020-0.967493-0.937148.h5\n",
      "100/100 [==============================] - 448s 4s/step - loss: 0.0937 - acc: 0.9675 - val_loss: 0.1600 - val_acc: 0.9371\n"
     ]
    },
    {
     "name": "stdout",
     "output_type": "stream",
     "text": [
      "Epoch 21/50\n",
      " 99/100 [============================>.] - ETA: 2s - loss: 0.0917 - acc: 0.9699Epoch 1/50\n",
      "100/100 [==============================] - 226s 2s/step - loss: 0.1610 - acc: 0.9376\n",
      "\n",
      "Epoch 00021: val_loss did not improve from 0.15997\n",
      "100/100 [==============================] - 446s 4s/step - loss: 0.0916 - acc: 0.9699 - val_loss: 0.1610 - val_acc: 0.9376\n",
      "Epoch 22/50\n",
      " 99/100 [============================>.] - ETA: 2s - loss: 0.0837 - acc: 0.9710Epoch 1/50\n",
      "100/100 [==============================] - 234s 2s/step - loss: 0.1608 - acc: 0.9373\n",
      "\n",
      "Epoch 00022: val_loss did not improve from 0.15997\n",
      "100/100 [==============================] - 456s 5s/step - loss: 0.0836 - acc: 0.9710 - val_loss: 0.1608 - val_acc: 0.9373\n",
      "Epoch 23/50\n",
      " 99/100 [============================>.] - ETA: 2s - loss: 0.0845 - acc: 0.9715Epoch 1/50\n",
      "100/100 [==============================] - 238s 2s/step - loss: 0.1615 - acc: 0.9379\n",
      "\n",
      "Epoch 00023: val_loss did not improve from 0.15997\n",
      "100/100 [==============================] - 462s 5s/step - loss: 0.0844 - acc: 0.9714 - val_loss: 0.1615 - val_acc: 0.9379\n",
      "Epoch 24/50\n",
      " 99/100 [============================>.] - ETA: 2s - loss: 0.0769 - acc: 0.9733Epoch 1/50\n",
      "100/100 [==============================] - 238s 2s/step - loss: 0.1607 - acc: 0.9393\n",
      "\n",
      "Epoch 00024: val_loss did not improve from 0.15997\n",
      "100/100 [==============================] - 475s 5s/step - loss: 0.0797 - acc: 0.9733 - val_loss: 0.1607 - val_acc: 0.9393\n",
      "Epoch 25/50\n",
      " 99/100 [============================>.] - ETA: 2s - loss: 0.0735 - acc: 0.9743Epoch 1/50\n",
      "100/100 [==============================] - 227s 2s/step - loss: 0.1610 - acc: 0.9398\n",
      "\n",
      "Epoch 00025: val_loss did not improve from 0.15997\n",
      "100/100 [==============================] - 449s 4s/step - loss: 0.0736 - acc: 0.9743 - val_loss: 0.1610 - val_acc: 0.9398\n",
      "Epoch 26/50\n",
      " 99/100 [============================>.] - ETA: 2s - loss: 0.0743 - acc: 0.9752Epoch 1/50\n",
      "100/100 [==============================] - 227s 2s/step - loss: 0.1622 - acc: 0.9394\n",
      "\n",
      "Epoch 00026: val_loss did not improve from 0.15997\n",
      "100/100 [==============================] - 446s 4s/step - loss: 0.0741 - acc: 0.9753 - val_loss: 0.1622 - val_acc: 0.9394\n",
      "Epoch 27/50\n",
      " 99/100 [============================>.] - ETA: 2s - loss: 0.0686 - acc: 0.9791Epoch 1/50\n",
      "100/100 [==============================] - 227s 2s/step - loss: 0.1639 - acc: 0.9389\n",
      "\n",
      "Epoch 00027: val_loss did not improve from 0.15997\n",
      "100/100 [==============================] - 447s 4s/step - loss: 0.0685 - acc: 0.9790 - val_loss: 0.1639 - val_acc: 0.9389\n",
      "Epoch 28/50\n",
      " 99/100 [============================>.] - ETA: 2s - loss: 0.0610 - acc: 0.9798Epoch 1/50\n",
      "100/100 [==============================] - 227s 2s/step - loss: 0.1622 - acc: 0.9398\n",
      "\n",
      "Epoch 00028: val_loss did not improve from 0.15997\n",
      "100/100 [==============================] - 449s 4s/step - loss: 0.0610 - acc: 0.9797 - val_loss: 0.1622 - val_acc: 0.9398\n",
      "Epoch 29/50\n",
      " 99/100 [============================>.] - ETA: 2s - loss: 0.0602 - acc: 0.9813Epoch 1/50\n",
      "100/100 [==============================] - 227s 2s/step - loss: 0.1617 - acc: 0.9417\n",
      "\n",
      "Epoch 00029: val_loss did not improve from 0.15997\n",
      "100/100 [==============================] - 445s 4s/step - loss: 0.0602 - acc: 0.9814 - val_loss: 0.1617 - val_acc: 0.9417\n",
      "Epoch 30/50\n",
      " 99/100 [============================>.] - ETA: 2s - loss: 0.0548 - acc: 0.9831Epoch 1/50\n",
      "100/100 [==============================] - 226s 2s/step - loss: 0.1656 - acc: 0.9405\n",
      "\n",
      "Epoch 00030: val_loss did not improve from 0.15997\n",
      "100/100 [==============================] - 448s 4s/step - loss: 0.0547 - acc: 0.9831 - val_loss: 0.1656 - val_acc: 0.9405\n",
      "Epoch 31/50\n",
      " 99/100 [============================>.] - ETA: 2s - loss: 0.0585 - acc: 0.9823Epoch 1/50\n",
      "100/100 [==============================] - 227s 2s/step - loss: 0.1645 - acc: 0.9398\n",
      "\n",
      "Epoch 00031: val_loss did not improve from 0.15997\n",
      "100/100 [==============================] - 446s 4s/step - loss: 0.0581 - acc: 0.9824 - val_loss: 0.1645 - val_acc: 0.9398\n",
      "Epoch 32/50\n",
      " 99/100 [============================>.] - ETA: 2s - loss: 0.0537 - acc: 0.9849Epoch 1/50\n",
      "100/100 [==============================] - 226s 2s/step - loss: 0.1653 - acc: 0.9400\n",
      "\n",
      "Epoch 00032: val_loss did not improve from 0.15997\n",
      "100/100 [==============================] - 446s 4s/step - loss: 0.0537 - acc: 0.9847 - val_loss: 0.1653 - val_acc: 0.9400\n",
      "Epoch 33/50\n",
      " 99/100 [============================>.] - ETA: 2s - loss: 0.0488 - acc: 0.9852Epoch 1/50\n",
      "100/100 [==============================] - 227s 2s/step - loss: 0.1649 - acc: 0.9415\n",
      "\n",
      "Epoch 00033: val_loss did not improve from 0.15997\n",
      "100/100 [==============================] - 449s 4s/step - loss: 0.0488 - acc: 0.9852 - val_loss: 0.1649 - val_acc: 0.9415\n",
      "Epoch 34/50\n",
      " 99/100 [============================>.] - ETA: 2s - loss: 0.0507 - acc: 0.9851Epoch 1/50\n",
      "100/100 [==============================] - 227s 2s/step - loss: 0.1661 - acc: 0.9404\n",
      "\n",
      "Epoch 00034: val_loss did not improve from 0.15997\n",
      "100/100 [==============================] - 446s 4s/step - loss: 0.0508 - acc: 0.9851 - val_loss: 0.1661 - val_acc: 0.9404\n",
      "Epoch 35/50\n",
      " 99/100 [============================>.] - ETA: 2s - loss: 0.0438 - acc: 0.9865Epoch 1/50\n",
      "100/100 [==============================] - 227s 2s/step - loss: 0.1694 - acc: 0.9413\n",
      "\n",
      "Epoch 00035: val_loss did not improve from 0.15997\n",
      "100/100 [==============================] - 450s 4s/step - loss: 0.0438 - acc: 0.9864 - val_loss: 0.1694 - val_acc: 0.9413\n",
      "Epoch 36/50\n",
      " 99/100 [============================>.] - ETA: 2s - loss: 0.0451 - acc: 0.9880Epoch 1/50\n",
      "100/100 [==============================] - 229s 2s/step - loss: 0.1676 - acc: 0.9424\n",
      "\n",
      "Epoch 00036: val_loss did not improve from 0.15997\n",
      "100/100 [==============================] - 449s 4s/step - loss: 0.0449 - acc: 0.9881 - val_loss: 0.1676 - val_acc: 0.9424\n",
      "Epoch 37/50\n",
      " 99/100 [============================>.] - ETA: 2s - loss: 0.0425 - acc: 0.9885Epoch 1/50\n",
      "100/100 [==============================] - 228s 2s/step - loss: 0.1705 - acc: 0.9401\n",
      "\n",
      "Epoch 00037: val_loss did not improve from 0.15997\n",
      "100/100 [==============================] - 448s 4s/step - loss: 0.0424 - acc: 0.9885 - val_loss: 0.1705 - val_acc: 0.9401\n",
      "Epoch 38/50\n",
      " 99/100 [============================>.] - ETA: 2s - loss: 0.0431 - acc: 0.9882Epoch 1/50\n",
      "100/100 [==============================] - 227s 2s/step - loss: 0.1737 - acc: 0.9395\n",
      "\n",
      "Epoch 00038: val_loss did not improve from 0.15997\n",
      "100/100 [==============================] - 448s 4s/step - loss: 0.0428 - acc: 0.9883 - val_loss: 0.1737 - val_acc: 0.9395\n",
      "Epoch 39/50\n",
      " 99/100 [============================>.] - ETA: 2s - loss: 0.0367 - acc: 0.9893Epoch 1/50\n",
      "100/100 [==============================] - 227s 2s/step - loss: 0.1721 - acc: 0.9407\n",
      "\n",
      "Epoch 00039: val_loss did not improve from 0.15997\n",
      "100/100 [==============================] - 450s 4s/step - loss: 0.0367 - acc: 0.9892 - val_loss: 0.1721 - val_acc: 0.9407\n",
      "Epoch 40/50\n",
      " 99/100 [============================>.] - ETA: 2s - loss: 0.0370 - acc: 0.9908Epoch 1/50\n",
      "100/100 [==============================] - 227s 2s/step - loss: 0.1728 - acc: 0.9400\n",
      "\n",
      "Epoch 00040: val_loss did not improve from 0.15997\n",
      "100/100 [==============================] - 448s 4s/step - loss: 0.0369 - acc: 0.9908 - val_loss: 0.1728 - val_acc: 0.9400\n",
      "Epoch 41/50\n",
      " 99/100 [============================>.] - ETA: 2s - loss: 0.0319 - acc: 0.9916Epoch 1/50\n",
      "100/100 [==============================] - 228s 2s/step - loss: 0.1774 - acc: 0.9397\n",
      "\n",
      "Epoch 00041: val_loss did not improve from 0.15997\n",
      "100/100 [==============================] - 450s 5s/step - loss: 0.0317 - acc: 0.9917 - val_loss: 0.1774 - val_acc: 0.9397\n",
      "Epoch 42/50\n",
      " 99/100 [============================>.] - ETA: 2s - loss: 0.0344 - acc: 0.9921Epoch 1/50\n",
      "100/100 [==============================] - 227s 2s/step - loss: 0.1736 - acc: 0.9410\n",
      "\n",
      "Epoch 00042: val_loss did not improve from 0.15997\n",
      "100/100 [==============================] - 448s 4s/step - loss: 0.0342 - acc: 0.9921 - val_loss: 0.1736 - val_acc: 0.9410\n",
      "Epoch 43/50\n",
      " 99/100 [============================>.] - ETA: 2s - loss: 0.0291 - acc: 0.9920Epoch 1/50\n",
      "100/100 [==============================] - 228s 2s/step - loss: 0.1773 - acc: 0.9409\n",
      "\n",
      "Epoch 00043: val_loss did not improve from 0.15997\n",
      "100/100 [==============================] - 450s 4s/step - loss: 0.0289 - acc: 0.9920 - val_loss: 0.1773 - val_acc: 0.9409\n"
     ]
    },
    {
     "name": "stdout",
     "output_type": "stream",
     "text": [
      "Epoch 44/50\n",
      " 99/100 [============================>.] - ETA: 2s - loss: 0.0331 - acc: 0.9918Epoch 1/50\n",
      "100/100 [==============================] - 227s 2s/step - loss: 0.1805 - acc: 0.9403\n",
      "\n",
      "Epoch 00044: val_loss did not improve from 0.15997\n",
      "100/100 [==============================] - 447s 4s/step - loss: 0.0329 - acc: 0.9919 - val_loss: 0.1805 - val_acc: 0.9403\n",
      "Epoch 45/50\n",
      " 99/100 [============================>.] - ETA: 2s - loss: 0.0280 - acc: 0.9923Epoch 1/50\n",
      "100/100 [==============================] - 227s 2s/step - loss: 0.1812 - acc: 0.9416\n",
      "\n",
      "Epoch 00045: val_loss did not improve from 0.15997\n",
      "100/100 [==============================] - 450s 4s/step - loss: 0.0279 - acc: 0.9923 - val_loss: 0.1812 - val_acc: 0.9416\n",
      "Epoch 46/50\n",
      " 99/100 [============================>.] - ETA: 2s - loss: 0.0277 - acc: 0.9945Epoch 1/50\n",
      "100/100 [==============================] - 228s 2s/step - loss: 0.1824 - acc: 0.9414\n",
      "\n",
      "Epoch 00046: val_loss did not improve from 0.15997\n",
      "100/100 [==============================] - 448s 4s/step - loss: 0.0275 - acc: 0.9946 - val_loss: 0.1824 - val_acc: 0.9414\n",
      "Epoch 47/50\n",
      " 99/100 [============================>.] - ETA: 2s - loss: 0.0267 - acc: 0.9947Epoch 1/50\n",
      "100/100 [==============================] - 227s 2s/step - loss: 0.1820 - acc: 0.9412\n",
      "\n",
      "Epoch 00047: val_loss did not improve from 0.15997\n",
      "100/100 [==============================] - 447s 4s/step - loss: 0.0266 - acc: 0.9947 - val_loss: 0.1820 - val_acc: 0.9412\n",
      "Epoch 48/50\n",
      " 99/100 [============================>.] - ETA: 2s - loss: 0.0231 - acc: 0.9950Epoch 1/50\n",
      "100/100 [==============================] - 227s 2s/step - loss: 0.1859 - acc: 0.9416\n",
      "\n",
      "Epoch 00048: val_loss did not improve from 0.15997\n",
      "100/100 [==============================] - 449s 4s/step - loss: 0.0230 - acc: 0.9950 - val_loss: 0.1859 - val_acc: 0.9416\n",
      "Epoch 49/50\n",
      " 99/100 [============================>.] - ETA: 2s - loss: 0.0272 - acc: 0.9945Epoch 1/50\n",
      "100/100 [==============================] - 227s 2s/step - loss: 0.1862 - acc: 0.9421\n",
      "\n",
      "Epoch 00049: val_loss did not improve from 0.15997\n",
      "100/100 [==============================] - 447s 4s/step - loss: 0.0270 - acc: 0.9945 - val_loss: 0.1862 - val_acc: 0.9421\n",
      "Epoch 50/50\n",
      " 99/100 [============================>.] - ETA: 2s - loss: 0.0262 - acc: 0.9944Epoch 1/50\n",
      "100/100 [==============================] - 227s 2s/step - loss: 0.1885 - acc: 0.9426\n",
      "\n",
      "Epoch 00050: val_loss did not improve from 0.15997\n",
      "100/100 [==============================] - 448s 4s/step - loss: 0.0260 - acc: 0.9944 - val_loss: 0.1885 - val_acc: 0.9426\n"
     ]
    }
   ],
   "source": [
    "train_steps_per_epoch =100\n",
    "val_steps_per_epoch = 100\n",
    "\n",
    "history = model.fit_generator(train_generator,\n",
    "                              steps_per_epoch=train_steps_per_epoch,\n",
    "                              validation_data=val_generator,\n",
    "                              validation_steps=val_steps_per_epoch,\n",
    "                              epochs=EPOCHS,\n",
    "                              verbose=1, callbacks=[checkpoint])"
   ]
  },
  {
   "cell_type": "code",
   "execution_count": null,
   "metadata": {},
   "outputs": [],
   "source": []
  },
  {
   "cell_type": "code",
   "execution_count": 46,
   "metadata": {},
   "outputs": [
    {
     "data": {
      "image/png": "[encoded data removed]",
      "text/plain": [
       "<Figure size 1080x360 with 1 Axes>"
      ]
     },
     "metadata": {
      "needs_background": "light"
     },
     "output_type": "display_data"
    }
   ],
   "source": [
    "plt.plot(history.history['loss'])\n",
    "plt.plot(history.history['val_loss'])\n",
    "plt.title('model loss')\n",
    "plt.ylabel('loss')\n",
    "plt.xlabel('epoch')\n",
    "plt.legend(['train', 'test'], loc='upper left')\n",
    "plt.savefig('VGG16_#3.png')\n",
    "plt.show()"
   ]
  },
  {
   "cell_type": "code",
   "execution_count": null,
   "metadata": {},
   "outputs": [],
   "source": []
  },
  {
   "cell_type": "code",
   "execution_count": null,
   "metadata": {},
   "outputs": [],
   "source": [
    "# BATCH_SIZE = 64\n",
    "# EPOCHS = 50    # 기본: 100\n",
    "# NUM_CLASSES = 8 # 카테고리수 \n",
    "# LEARNING_RATE = 1e-4\n",
    "# MOMENTUM = 0.9\n",
    "# PATH=r\"C:\\Users\\admin\\Desktop\\image\\#3\""
   ]
  },
  {
   "cell_type": "code",
   "execution_count": null,
   "metadata": {},
   "outputs": [],
   "source": [
    "pip install graphviz\n",
    "pip install pydot"
   ]
  },
  {
   "cell_type": "code",
   "execution_count": null,
   "metadata": {},
   "outputs": [],
   "source": []
  },
  {
   "cell_type": "code",
   "execution_count": null,
   "metadata": {},
   "outputs": [],
   "source": []
  },
  {
   "cell_type": "code",
   "execution_count": 16,
   "metadata": {},
   "outputs": [],
   "source": [
    "model.save('./vgg16_model.h5')"
   ]
  },
  {
   "cell_type": "code",
   "execution_count": 17,
   "metadata": {},
   "outputs": [
    {
     "data": {
      "text/plain": [
       "<Figure size 1080x360 with 0 Axes>"
      ]
     },
     "metadata": {},
     "output_type": "display_data"
    }
   ],
   "source": [
    "plt.savefig('vgg16.png')"
   ]
  },
  {
   "cell_type": "code",
   "execution_count": 20,
   "metadata": {},
   "outputs": [],
   "source": [
    "plt.show()"
   ]
  }
 ],
 "metadata": {
  "accelerator": "GPU",
  "colab": {
   "collapsed_sections": [],
   "default_view": {},
   "name": "Copy of cifar10_vgg16_july12.ipynb",
   "provenance": [
    {
     "file_id": "1tlQq2thZWPDNqaMbfBJ9_TOo0YTqv7IL",
     "timestamp": 1531320536438
    }
   ],
   "version": "0.3.2",
   "views": {}
  },
  "kernelspec": {
   "display_name": "Python 3",
   "language": "python",
   "name": "python3"
  },
  "language_info": {
   "codemirror_mode": {
    "name": "ipython",
    "version": 3
   },
   "file_extension": ".py",
   "mimetype": "text/x-python",
   "name": "python",
   "nbconvert_exporter": "python",
   "pygments_lexer": "ipython3",
   "version": "3.6.5"
  }
 },
 "nbformat": 4,
 "nbformat_minor": 1
}
