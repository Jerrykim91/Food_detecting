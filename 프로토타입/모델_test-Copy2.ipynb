{
 "cells": [
  {
   "cell_type": "code",
   "execution_count": 38,
   "metadata": {},
   "outputs": [],
   "source": [
    "def CreateFolder(directory):\n",
    "    try:\n",
    "        if not os.path.exists(directory):\n",
    "            os.makedirs(directory)\n",
    "            print(f'{directory}_loction:',glob.glob(os.getcwd()+f'\\\\{directory}'))\n",
    "        else:\n",
    "            print('already')\n",
    "    except OSError:\n",
    "        print('Error:Creating directory.'+directory)"
   ]
  },
  {
   "cell_type": "code",
   "execution_count": 8,
   "metadata": {},
   "outputs": [],
   "source": [
    "from PIL import Image, ImageOps\n",
    "import os,sys,glob,time"
   ]
  },
  {
   "cell_type": "code",
   "execution_count": 2,
   "metadata": {},
   "outputs": [
    {
     "data": {
      "text/plain": [
       "['C:\\\\Food_detecting\\\\PERPRO']"
      ]
     },
     "execution_count": 2,
     "metadata": {},
     "output_type": "execute_result"
    }
   ],
   "source": [
    "glob.glob(os.getcwd())"
   ]
  },
  {
   "cell_type": "code",
   "execution_count": 11,
   "metadata": {},
   "outputs": [],
   "source": [
    "raw_path =r'Z:\\testCut' \n",
    "class_path = os.getcwd()"
   ]
  },
  {
   "cell_type": "code",
   "execution_count": 10,
   "metadata": {},
   "outputs": [
    {
     "data": {
      "text/plain": [
       "['갈비구이',\n",
       " '계란찜',\n",
       " '김치찌개',\n",
       " '미역줄기볶음',\n",
       " '백김치',\n",
       " '불고기',\n",
       " '삼계탕',\n",
       " '순두부찌개',\n",
       " '애호박볶음',\n",
       " '후라이드치킨']"
      ]
     },
     "execution_count": 10,
     "metadata": {},
     "output_type": "execute_result"
    }
   ],
   "source": [
    "food_list = [i.split('\\\\')[-1] for i in glob.glob(raw_path+'/*')]\n",
    "dir_name = [eng for kor, eng in dir_food.items() if kor in food_list]"
   ]
  },
  {
   "cell_type": "code",
   "execution_count": 3,
   "metadata": {},
   "outputs": [],
   "source": [
    "# Importing the Keras libraries and packages\n",
    "from keras.models import Sequential\n",
    "from keras.layers import Conv2D\n",
    "from keras.layers import MaxPooling2D\n",
    "from keras.layers import Activation, Dropout, Flatten, Dense\n",
    "from keras.callbacks import ModelCheckpoint\n",
    "from keras.layers.normalization import BatchNormalization\n",
    "import numpy as np"
   ]
  },
  {
   "cell_type": "code",
   "execution_count": null,
   "metadata": {},
   "outputs": [],
   "source": [
    "# classifier = Sequential()\n",
    "\n",
    "# classifier.add(Conv2D(16, (3, 3), padding='same', activation='relu', input_shape=(224, 224, 3)))\n",
    "# classifier.add(Conv2D(16, (3, 3), activation='relu'))\n",
    "# classifier.add(MaxPooling2D(pool_size=(2, 2)))\n",
    "# classifier.add(Dropout(0.25))\n",
    "\n",
    "# classifier.add(Conv2D(64, (3, 3), padding='same', activation='relu'))\n",
    "# classifier.add(Conv2D(64, (3, 3), activation='relu'))\n",
    "# classifier.add(MaxPooling2D(pool_size=(2, 2)))\n",
    "# classifier.add(Dropout(0.25))\n",
    "\n",
    "# classifier.add(Conv2D(32, (3, 3), padding='same', activation='relu'))\n",
    "# classifier.add(Conv2D(32, (3, 3), activation='relu'))\n",
    "# classifier.add(MaxPooling2D(pool_size=(2, 2)))\n",
    "# classifier.add(Dropout(0.25))\n",
    "\n",
    "# classifier.add(Flatten())\n",
    "# classifier.add(Dense(512, activation='relu'))\n",
    "# classifier.add(Dropout(0.5))\n",
    "# classifier.add(Dense(10, activation='softmax'))"
   ]
  },
  {
   "cell_type": "markdown",
   "metadata": {},
   "source": [
    "# 모델 설계 방법 \n",
    "\n",
    "## 모델의 출력을 정의 \n",
    "## 오차함수를 정의 \n",
    "## 모델 학습 시키기"
   ]
  },
  {
   "cell_type": "code",
   "execution_count": 4,
   "metadata": {},
   "outputs": [
    {
     "name": "stdout",
     "output_type": "stream",
     "text": [
      "Model: \"sequential_2\"\n",
      "_________________________________________________________________\n",
      "Layer (type)                 Output Shape              Param #   \n",
      "=================================================================\n",
      "conv2d_5 (Conv2D)            (None, 500, 500, 16)      432       \n",
      "_________________________________________________________________\n",
      "batch_normalization_5 (Batch (None, 500, 500, 16)      48        \n",
      "_________________________________________________________________\n",
      "activation_5 (Activation)    (None, 500, 500, 16)      0         \n",
      "_________________________________________________________________\n",
      "max_pooling2d_4 (MaxPooling2 (None, 125, 125, 16)      0         \n",
      "_________________________________________________________________\n",
      "dropout_5 (Dropout)          (None, 125, 125, 16)      0         \n",
      "_________________________________________________________________\n",
      "conv2d_6 (Conv2D)            (None, 125, 125, 32)      4608      \n",
      "_________________________________________________________________\n",
      "batch_normalization_6 (Batch (None, 125, 125, 32)      96        \n",
      "_________________________________________________________________\n",
      "activation_6 (Activation)    (None, 125, 125, 32)      0         \n",
      "_________________________________________________________________\n",
      "max_pooling2d_5 (MaxPooling2 (None, 32, 32, 32)        0         \n",
      "_________________________________________________________________\n",
      "dropout_6 (Dropout)          (None, 32, 32, 32)        0         \n",
      "_________________________________________________________________\n",
      "conv2d_7 (Conv2D)            (None, 32, 32, 64)        18432     \n",
      "_________________________________________________________________\n",
      "batch_normalization_7 (Batch (None, 32, 32, 64)        192       \n",
      "_________________________________________________________________\n",
      "activation_7 (Activation)    (None, 32, 32, 64)        0         \n",
      "_________________________________________________________________\n",
      "max_pooling2d_6 (MaxPooling2 (None, 8, 8, 64)          0         \n",
      "_________________________________________________________________\n",
      "dropout_7 (Dropout)          (None, 8, 8, 64)          0         \n",
      "_________________________________________________________________\n",
      "conv2d_8 (Conv2D)            (None, 8, 8, 128)         73728     \n",
      "_________________________________________________________________\n",
      "batch_normalization_8 (Batch (None, 8, 8, 128)         384       \n",
      "_________________________________________________________________\n",
      "activation_8 (Activation)    (None, 8, 8, 128)         0         \n",
      "_________________________________________________________________\n",
      "flatten_2 (Flatten)          (None, 8192)              0         \n",
      "_________________________________________________________________\n",
      "dropout_8 (Dropout)          (None, 8192)              0         \n",
      "_________________________________________________________________\n",
      "dense_3 (Dense)              (None, 512)               4194816   \n",
      "_________________________________________________________________\n",
      "dense_4 (Dense)              (None, 10)                5130      \n",
      "=================================================================\n",
      "Total params: 4,297,866\n",
      "Trainable params: 4,297,386\n",
      "Non-trainable params: 480\n",
      "_________________________________________________________________\n"
     ]
    }
   ],
   "source": [
    "model = Sequential()\n",
    "\n",
    "model.add(Conv2D(16, (3, 3), padding='same', use_bias=False, input_shape=(500, 500, 3)))\n",
    "model.add(BatchNormalization(axis=3, scale=False))\n",
    "model.add(Activation(\"relu\"))\n",
    "model.add(MaxPooling2D(pool_size=(4, 4), strides=(4, 4), padding='same'))\n",
    "model.add(Dropout(0.2))\n",
    "\n",
    "model.add(Conv2D(32, (3, 3), padding='same', use_bias=False))\n",
    "model.add(BatchNormalization(axis=3, scale=False))\n",
    "model.add(Activation(\"relu\"))\n",
    "model.add(MaxPooling2D(pool_size=(4, 4), strides=(4, 4), padding='same'))\n",
    "model.add(Dropout(0.2))\n",
    "\n",
    "model.add(Conv2D(64, (3, 3), padding='same', use_bias=False))\n",
    "model.add(BatchNormalization(axis=3, scale=False))\n",
    "model.add(Activation(\"relu\"))\n",
    "model.add(MaxPooling2D(pool_size=(4, 4), strides=(4, 4), padding='same'))\n",
    "model.add(Dropout(0.2))\n",
    "\n",
    "model.add(Conv2D(128, (3, 3), padding='same', use_bias=False))\n",
    "model.add(BatchNormalization(axis=3, scale=False))\n",
    "model.add(Activation(\"relu\"))\n",
    "model.add(Flatten())\n",
    "model.add(Dropout(0.2))\n",
    "\n",
    "model.add(Dense(512, activation='relu'))\n",
    "model.add(Dense(10, activation='softmax'))\n",
    "model.summary()\n",
    "\n",
    "model.compile(optimizer = 'adam', loss = 'categorical_crossentropy', metrics = ['accuracy'])"
   ]
  },
  {
   "cell_type": "code",
   "execution_count": null,
   "metadata": {},
   "outputs": [],
   "source": []
  },
  {
   "cell_type": "code",
   "execution_count": 5,
   "metadata": {},
   "outputs": [],
   "source": [
    "from keras.preprocessing.image import ImageDataGenerator"
   ]
  },
  {
   "cell_type": "code",
   "execution_count": 10,
   "metadata": {},
   "outputs": [],
   "source": [
    "# train_datagen = ImageDataGenerator(rescale = 1./255)\n",
    "\n",
    "# 데이터셋 불러오기\n",
    "train_datagen = ImageDataGenerator(rescale=1./255,\n",
    "                                   rotation_range=10,\n",
    "                                   width_shift_range=0.2,\n",
    "                                   height_shift_range=0.2,\n",
    "                                   shear_range=0.7,\n",
    "                                   zoom_range=[0.9, 2.2],\n",
    "                                   horizontal_flip=True,\n",
    "                                   vertical_flip=True,\n",
    "                                   fill_mode='nearest',\n",
    "                                   validation_split=0.33)"
   ]
  },
  {
   "cell_type": "code",
   "execution_count": 9,
   "metadata": {},
   "outputs": [
    {
     "data": {
      "text/plain": [
       "'C:\\\\Food_detecting\\\\PERPRO'"
      ]
     },
     "execution_count": 9,
     "metadata": {},
     "output_type": "execute_result"
    }
   ],
   "source": [
    "os.getcwd()"
   ]
  },
  {
   "cell_type": "code",
   "execution_count": 11,
   "metadata": {},
   "outputs": [],
   "source": [
    "PATH='C:\\Food_detecting\\data'"
   ]
  },
  {
   "cell_type": "code",
   "execution_count": 12,
   "metadata": {},
   "outputs": [
    {
     "name": "stdout",
     "output_type": "stream",
     "text": [
      "Found 6462 images belonging to 10 classes.\n",
      "Found 3176 images belonging to 10 classes.\n"
     ]
    }
   ],
   "source": [
    "training_set = train_datagen.flow_from_directory(PATH,\n",
    "                                                 shuffle=True,\n",
    "                                                 seed=13,\n",
    "                                                 target_size = (500, 500),\n",
    "                                                 batch_size = 15,\n",
    "                                                 class_mode = 'categorical',\n",
    "                                                 subset=\"training\")\n",
    "validation_set = train_datagen.flow_from_directory(PATH,\n",
    "                                                 shuffle=True,\n",
    "                                                 seed=13,\n",
    "                                                 target_size = (500, 500),\n",
    "                                                 batch_size = 10,\n",
    "                                                 class_mode = 'categorical',\n",
    "                                                 subset=\"validation\")"
   ]
  },
  {
   "cell_type": "code",
   "execution_count": 13,
   "metadata": {
    "scrolled": false
   },
   "outputs": [
    {
     "name": "stdout",
     "output_type": "stream",
     "text": [
      "Epoch 1/1000\n",
      "20/20 [==============================] - 57s 3s/step - loss: 4.4063 - accuracy: 0.1818 - val_loss: 2.3062 - val_accuracy: 0.1200\n",
      "Epoch 2/1000\n",
      "20/20 [==============================] - 57s 3s/step - loss: 2.1923 - accuracy: 0.2300 - val_loss: 2.5217 - val_accuracy: 0.0400\n",
      "Epoch 3/1000\n",
      "20/20 [==============================] - 58s 3s/step - loss: 1.9429 - accuracy: 0.2800 - val_loss: 2.3009 - val_accuracy: 0.1100\n",
      "Epoch 4/1000\n",
      "20/20 [==============================] - 57s 3s/step - loss: 1.6324 - accuracy: 0.3500 - val_loss: 2.9718 - val_accuracy: 0.1000\n",
      "Epoch 5/1000\n",
      "20/20 [==============================] - 57s 3s/step - loss: 1.7787 - accuracy: 0.3433 - val_loss: 2.5347 - val_accuracy: 0.1600\n",
      "Epoch 6/1000\n",
      "20/20 [==============================] - 58s 3s/step - loss: 1.6328 - accuracy: 0.3833 - val_loss: 2.8955 - val_accuracy: 0.1100\n",
      "Epoch 7/1000\n",
      "20/20 [==============================] - 57s 3s/step - loss: 1.6230 - accuracy: 0.3700 - val_loss: 3.8524 - val_accuracy: 0.1100\n",
      "Epoch 8/1000\n",
      "20/20 [==============================] - 57s 3s/step - loss: 1.4851 - accuracy: 0.4367 - val_loss: 5.3060 - val_accuracy: 0.1400\n",
      "Epoch 9/1000\n",
      "20/20 [==============================] - 56s 3s/step - loss: 1.4951 - accuracy: 0.4067 - val_loss: 5.5940 - val_accuracy: 0.0600\n",
      "Epoch 10/1000\n",
      "20/20 [==============================] - 56s 3s/step - loss: 1.4288 - accuracy: 0.4667 - val_loss: 4.1233 - val_accuracy: 0.1100\n",
      "Epoch 11/1000\n",
      "20/20 [==============================] - 56s 3s/step - loss: 1.3572 - accuracy: 0.4667 - val_loss: 3.7148 - val_accuracy: 0.1100\n",
      "Epoch 12/1000\n",
      "20/20 [==============================] - 57s 3s/step - loss: 1.4498 - accuracy: 0.4700 - val_loss: 3.7782 - val_accuracy: 0.1200\n",
      "Epoch 13/1000\n",
      "20/20 [==============================] - 55s 3s/step - loss: 1.3819 - accuracy: 0.5067 - val_loss: 4.2095 - val_accuracy: 0.1600\n",
      "Epoch 14/1000\n",
      "20/20 [==============================] - 55s 3s/step - loss: 1.3751 - accuracy: 0.5000 - val_loss: 4.6822 - val_accuracy: 0.1100\n",
      "Epoch 15/1000\n",
      "20/20 [==============================] - 54s 3s/step - loss: 1.3912 - accuracy: 0.4633 - val_loss: 4.4090 - val_accuracy: 0.0600\n",
      "Epoch 16/1000\n",
      "20/20 [==============================] - 55s 3s/step - loss: 1.4067 - accuracy: 0.5267 - val_loss: 5.0848 - val_accuracy: 0.1600\n",
      "Epoch 17/1000\n",
      "20/20 [==============================] - 55s 3s/step - loss: 1.3530 - accuracy: 0.4967 - val_loss: 2.1531 - val_accuracy: 0.1900\n",
      "Epoch 18/1000\n",
      "20/20 [==============================] - 55s 3s/step - loss: 1.2917 - accuracy: 0.4967 - val_loss: 3.3706 - val_accuracy: 0.1500\n",
      "Epoch 19/1000\n",
      "20/20 [==============================] - 55s 3s/step - loss: 1.3015 - accuracy: 0.5100 - val_loss: 4.3872 - val_accuracy: 0.1200\n",
      "Epoch 20/1000\n",
      "20/20 [==============================] - 55s 3s/step - loss: 1.3315 - accuracy: 0.4833 - val_loss: 2.6838 - val_accuracy: 0.2400\n",
      "Epoch 21/1000\n",
      "20/20 [==============================] - 55s 3s/step - loss: 1.2152 - accuracy: 0.5400 - val_loss: 2.9359 - val_accuracy: 0.1600\n",
      "Epoch 22/1000\n",
      "20/20 [==============================] - 56s 3s/step - loss: 1.2983 - accuracy: 0.5367 - val_loss: 3.3272 - val_accuracy: 0.1900\n",
      "Epoch 23/1000\n",
      "20/20 [==============================] - 55s 3s/step - loss: 1.3050 - accuracy: 0.5267 - val_loss: 2.1235 - val_accuracy: 0.3100\n",
      "Epoch 24/1000\n",
      "20/20 [==============================] - 55s 3s/step - loss: 1.2255 - accuracy: 0.5467 - val_loss: 2.1478 - val_accuracy: 0.3400\n",
      "Epoch 25/1000\n",
      "20/20 [==============================] - 57s 3s/step - loss: 1.2423 - accuracy: 0.4933 - val_loss: 2.7972 - val_accuracy: 0.2100\n",
      "Epoch 26/1000\n",
      "20/20 [==============================] - 55s 3s/step - loss: 1.2857 - accuracy: 0.4800 - val_loss: 1.5681 - val_accuracy: 0.3400\n",
      "Epoch 27/1000\n",
      "20/20 [==============================] - 55s 3s/step - loss: 1.2895 - accuracy: 0.5267 - val_loss: 3.1144 - val_accuracy: 0.2700\n",
      "Epoch 28/1000\n",
      "20/20 [==============================] - 57s 3s/step - loss: 1.2501 - accuracy: 0.5200 - val_loss: 1.8361 - val_accuracy: 0.2200\n",
      "Epoch 29/1000\n",
      "20/20 [==============================] - 54s 3s/step - loss: 1.1652 - accuracy: 0.5200 - val_loss: 2.4637 - val_accuracy: 0.2400\n",
      "Epoch 30/1000\n",
      "20/20 [==============================] - 54s 3s/step - loss: 1.3756 - accuracy: 0.4933 - val_loss: 1.6988 - val_accuracy: 0.3500\n",
      "Epoch 31/1000\n",
      "20/20 [==============================] - 54s 3s/step - loss: 1.1042 - accuracy: 0.5900 - val_loss: 1.6714 - val_accuracy: 0.3300\n",
      "Epoch 32/1000\n",
      "20/20 [==============================] - 54s 3s/step - loss: 1.3047 - accuracy: 0.5167 - val_loss: 1.9883 - val_accuracy: 0.3542\n",
      "Epoch 33/1000\n",
      "20/20 [==============================] - 56s 3s/step - loss: 1.3712 - accuracy: 0.4733 - val_loss: 2.8523 - val_accuracy: 0.2900\n",
      "Epoch 34/1000\n",
      "20/20 [==============================] - 55s 3s/step - loss: 1.2865 - accuracy: 0.5200 - val_loss: 1.1220 - val_accuracy: 0.4600\n",
      "Epoch 35/1000\n",
      "20/20 [==============================] - 55s 3s/step - loss: 1.2175 - accuracy: 0.5500 - val_loss: 2.3019 - val_accuracy: 0.3800\n",
      "Epoch 36/1000\n",
      "20/20 [==============================] - 56s 3s/step - loss: 1.2397 - accuracy: 0.5233 - val_loss: 0.8125 - val_accuracy: 0.5600\n",
      "Epoch 37/1000\n",
      "20/20 [==============================] - 55s 3s/step - loss: 1.1481 - accuracy: 0.5633 - val_loss: 1.1928 - val_accuracy: 0.4400\n",
      "Epoch 38/1000\n",
      "20/20 [==============================] - 54s 3s/step - loss: 1.0744 - accuracy: 0.5690 - val_loss: 1.7989 - val_accuracy: 0.4800\n",
      "Epoch 39/1000\n",
      "20/20 [==============================] - 55s 3s/step - loss: 1.1390 - accuracy: 0.5500 - val_loss: 1.5265 - val_accuracy: 0.3900\n",
      "Epoch 40/1000\n",
      "20/20 [==============================] - 54s 3s/step - loss: 1.2286 - accuracy: 0.5367 - val_loss: 1.7964 - val_accuracy: 0.3900\n",
      "Epoch 41/1000\n",
      "20/20 [==============================] - 55s 3s/step - loss: 1.1423 - accuracy: 0.5467 - val_loss: 2.7472 - val_accuracy: 0.4600\n",
      "Epoch 42/1000\n",
      "20/20 [==============================] - 56s 3s/step - loss: 1.1950 - accuracy: 0.5400 - val_loss: 1.7840 - val_accuracy: 0.4400\n",
      "Epoch 43/1000\n",
      "20/20 [==============================] - 56s 3s/step - loss: 1.2107 - accuracy: 0.5333 - val_loss: 1.7816 - val_accuracy: 0.4200\n",
      "Epoch 44/1000\n",
      "20/20 [==============================] - 55s 3s/step - loss: 1.1821 - accuracy: 0.5667 - val_loss: 2.5340 - val_accuracy: 0.4400\n",
      "Epoch 45/1000\n",
      "20/20 [==============================] - 54s 3s/step - loss: 1.2419 - accuracy: 0.5667 - val_loss: 1.3528 - val_accuracy: 0.4100\n",
      "Epoch 46/1000\n",
      "20/20 [==============================] - 54s 3s/step - loss: 1.1303 - accuracy: 0.5533 - val_loss: 1.9743 - val_accuracy: 0.3200\n",
      "Epoch 47/1000\n",
      "20/20 [==============================] - 54s 3s/step - loss: 1.1008 - accuracy: 0.5767 - val_loss: 1.3441 - val_accuracy: 0.4600\n",
      "Epoch 48/1000\n",
      "20/20 [==============================] - 55s 3s/step - loss: 1.1714 - accuracy: 0.5333 - val_loss: 1.4073 - val_accuracy: 0.5200\n",
      "Epoch 49/1000\n",
      "20/20 [==============================] - 54s 3s/step - loss: 1.1181 - accuracy: 0.5533 - val_loss: 1.4160 - val_accuracy: 0.4400\n",
      "Epoch 50/1000\n",
      "20/20 [==============================] - 54s 3s/step - loss: 1.0538 - accuracy: 0.6267 - val_loss: 1.4016 - val_accuracy: 0.5800\n",
      "Epoch 51/1000\n",
      "20/20 [==============================] - 54s 3s/step - loss: 1.0495 - accuracy: 0.6027 - val_loss: 1.3940 - val_accuracy: 0.5000\n",
      "Epoch 52/1000\n",
      "20/20 [==============================] - 56s 3s/step - loss: 1.1077 - accuracy: 0.6000 - val_loss: 1.9726 - val_accuracy: 0.4100\n",
      "Epoch 53/1000\n",
      "20/20 [==============================] - 55s 3s/step - loss: 1.1210 - accuracy: 0.5867 - val_loss: 1.4728 - val_accuracy: 0.5300\n",
      "Epoch 54/1000\n",
      "20/20 [==============================] - 56s 3s/step - loss: 1.1334 - accuracy: 0.5733 - val_loss: 1.8363 - val_accuracy: 0.4100\n",
      "Epoch 55/1000\n",
      "20/20 [==============================] - 56s 3s/step - loss: 1.1544 - accuracy: 0.5433 - val_loss: 1.8123 - val_accuracy: 0.4700\n",
      "Epoch 56/1000\n",
      "20/20 [==============================] - 54s 3s/step - loss: 1.0457 - accuracy: 0.5833 - val_loss: 1.1939 - val_accuracy: 0.5600\n",
      "Epoch 57/1000\n",
      "20/20 [==============================] - 54s 3s/step - loss: 1.1979 - accuracy: 0.5700 - val_loss: 0.9320 - val_accuracy: 0.4400\n",
      "Epoch 58/1000\n"
     ]
    },
    {
     "name": "stdout",
     "output_type": "stream",
     "text": [
      "20/20 [==============================] - 54s 3s/step - loss: 1.1419 - accuracy: 0.5567 - val_loss: 1.2110 - val_accuracy: 0.5100\n",
      "Epoch 59/1000\n",
      "20/20 [==============================] - 55s 3s/step - loss: 1.1895 - accuracy: 0.5433 - val_loss: 2.0810 - val_accuracy: 0.4100\n",
      "Epoch 60/1000\n",
      "20/20 [==============================] - 54s 3s/step - loss: 1.1466 - accuracy: 0.5500 - val_loss: 2.1139 - val_accuracy: 0.4100\n",
      "Epoch 61/1000\n",
      "20/20 [==============================] - 54s 3s/step - loss: 1.0640 - accuracy: 0.5500 - val_loss: 1.5720 - val_accuracy: 0.5000\n",
      "Epoch 62/1000\n",
      "20/20 [==============================] - 54s 3s/step - loss: 1.1069 - accuracy: 0.5567 - val_loss: 1.5679 - val_accuracy: 0.4500\n",
      "Epoch 63/1000\n",
      "20/20 [==============================] - 54s 3s/step - loss: 1.2328 - accuracy: 0.5667 - val_loss: 1.8564 - val_accuracy: 0.3500\n",
      "Epoch 64/1000\n",
      "20/20 [==============================] - 54s 3s/step - loss: 1.1563 - accuracy: 0.5433 - val_loss: 0.8860 - val_accuracy: 0.5312\n",
      "Epoch 65/1000\n",
      "20/20 [==============================] - 55s 3s/step - loss: 1.1677 - accuracy: 0.5700 - val_loss: 0.9265 - val_accuracy: 0.5700\n",
      "Epoch 66/1000\n",
      "20/20 [==============================] - 54s 3s/step - loss: 1.1747 - accuracy: 0.5253 - val_loss: 2.2373 - val_accuracy: 0.4200\n",
      "Epoch 67/1000\n",
      "20/20 [==============================] - 55s 3s/step - loss: 1.1486 - accuracy: 0.5800 - val_loss: 0.8192 - val_accuracy: 0.5400\n",
      "Epoch 68/1000\n",
      "20/20 [==============================] - 55s 3s/step - loss: 0.8929 - accuracy: 0.6400 - val_loss: 2.2823 - val_accuracy: 0.4600\n",
      "Epoch 69/1000\n",
      "20/20 [==============================] - 54s 3s/step - loss: 1.0916 - accuracy: 0.6100 - val_loss: 1.7898 - val_accuracy: 0.4600\n",
      "Epoch 70/1000\n",
      "20/20 [==============================] - 56s 3s/step - loss: 0.9567 - accuracy: 0.6233 - val_loss: 3.3390 - val_accuracy: 0.3800\n",
      "Epoch 71/1000\n",
      "20/20 [==============================] - 55s 3s/step - loss: 1.0116 - accuracy: 0.6233 - val_loss: 1.1128 - val_accuracy: 0.3500\n",
      "Epoch 72/1000\n",
      "20/20 [==============================] - 57s 3s/step - loss: 1.0882 - accuracy: 0.5667 - val_loss: 2.5383 - val_accuracy: 0.4600\n",
      "Epoch 73/1000\n"
     ]
    },
    {
     "ename": "KeyboardInterrupt",
     "evalue": "",
     "output_type": "error",
     "traceback": [
      "\u001b[1;31m---------------------------------------------------------------------------\u001b[0m",
      "\u001b[1;31mKeyboardInterrupt\u001b[0m                         Traceback (most recent call last)",
      "\u001b[1;32m<ipython-input-13-fff44c329fb2>\u001b[0m in \u001b[0;36m<module>\u001b[1;34m\u001b[0m\n\u001b[0;32m      8\u001b[0m                          \u001b[0mvalidation_data\u001b[0m \u001b[1;33m=\u001b[0m \u001b[0mvalidation_set\u001b[0m\u001b[1;33m,\u001b[0m\u001b[1;33m\u001b[0m\u001b[0m\n\u001b[0;32m      9\u001b[0m                          \u001b[0mvalidation_steps\u001b[0m \u001b[1;33m=\u001b[0m \u001b[1;36m10\u001b[0m\u001b[1;33m,\u001b[0m\u001b[1;33m\u001b[0m\u001b[0m\n\u001b[1;32m---> 10\u001b[1;33m                          callbacks=[csv_logger])\n\u001b[0m",
      "\u001b[1;32m~\\Anaconda3\\lib\\site-packages\\keras\\legacy\\interfaces.py\u001b[0m in \u001b[0;36mwrapper\u001b[1;34m(*args, **kwargs)\u001b[0m\n\u001b[0;32m     89\u001b[0m                 warnings.warn('Update your `' + object_name + '` call to the ' +\n\u001b[0;32m     90\u001b[0m                               'Keras 2 API: ' + signature, stacklevel=2)\n\u001b[1;32m---> 91\u001b[1;33m             \u001b[1;32mreturn\u001b[0m \u001b[0mfunc\u001b[0m\u001b[1;33m(\u001b[0m\u001b[1;33m*\u001b[0m\u001b[0margs\u001b[0m\u001b[1;33m,\u001b[0m \u001b[1;33m**\u001b[0m\u001b[0mkwargs\u001b[0m\u001b[1;33m)\u001b[0m\u001b[1;33m\u001b[0m\u001b[0m\n\u001b[0m\u001b[0;32m     92\u001b[0m         \u001b[0mwrapper\u001b[0m\u001b[1;33m.\u001b[0m\u001b[0m_original_function\u001b[0m \u001b[1;33m=\u001b[0m \u001b[0mfunc\u001b[0m\u001b[1;33m\u001b[0m\u001b[0m\n\u001b[0;32m     93\u001b[0m         \u001b[1;32mreturn\u001b[0m \u001b[0mwrapper\u001b[0m\u001b[1;33m\u001b[0m\u001b[0m\n",
      "\u001b[1;32m~\\Anaconda3\\lib\\site-packages\\keras\\engine\\training.py\u001b[0m in \u001b[0;36mfit_generator\u001b[1;34m(self, generator, steps_per_epoch, epochs, verbose, callbacks, validation_data, validation_steps, validation_freq, class_weight, max_queue_size, workers, use_multiprocessing, shuffle, initial_epoch)\u001b[0m\n\u001b[0;32m   1730\u001b[0m             \u001b[0muse_multiprocessing\u001b[0m\u001b[1;33m=\u001b[0m\u001b[0muse_multiprocessing\u001b[0m\u001b[1;33m,\u001b[0m\u001b[1;33m\u001b[0m\u001b[0m\n\u001b[0;32m   1731\u001b[0m             \u001b[0mshuffle\u001b[0m\u001b[1;33m=\u001b[0m\u001b[0mshuffle\u001b[0m\u001b[1;33m,\u001b[0m\u001b[1;33m\u001b[0m\u001b[0m\n\u001b[1;32m-> 1732\u001b[1;33m             initial_epoch=initial_epoch)\n\u001b[0m\u001b[0;32m   1733\u001b[0m \u001b[1;33m\u001b[0m\u001b[0m\n\u001b[0;32m   1734\u001b[0m     \u001b[1;33m@\u001b[0m\u001b[0minterfaces\u001b[0m\u001b[1;33m.\u001b[0m\u001b[0mlegacy_generator_methods_support\u001b[0m\u001b[1;33m\u001b[0m\u001b[0m\n",
      "\u001b[1;32m~\\Anaconda3\\lib\\site-packages\\keras\\engine\\training_generator.py\u001b[0m in \u001b[0;36mfit_generator\u001b[1;34m(model, generator, steps_per_epoch, epochs, verbose, callbacks, validation_data, validation_steps, validation_freq, class_weight, max_queue_size, workers, use_multiprocessing, shuffle, initial_epoch)\u001b[0m\n\u001b[0;32m    218\u001b[0m                                             \u001b[0msample_weight\u001b[0m\u001b[1;33m=\u001b[0m\u001b[0msample_weight\u001b[0m\u001b[1;33m,\u001b[0m\u001b[1;33m\u001b[0m\u001b[0m\n\u001b[0;32m    219\u001b[0m                                             \u001b[0mclass_weight\u001b[0m\u001b[1;33m=\u001b[0m\u001b[0mclass_weight\u001b[0m\u001b[1;33m,\u001b[0m\u001b[1;33m\u001b[0m\u001b[0m\n\u001b[1;32m--> 220\u001b[1;33m                                             reset_metrics=False)\n\u001b[0m\u001b[0;32m    221\u001b[0m \u001b[1;33m\u001b[0m\u001b[0m\n\u001b[0;32m    222\u001b[0m                 \u001b[0mouts\u001b[0m \u001b[1;33m=\u001b[0m \u001b[0mto_list\u001b[0m\u001b[1;33m(\u001b[0m\u001b[0mouts\u001b[0m\u001b[1;33m)\u001b[0m\u001b[1;33m\u001b[0m\u001b[0m\n",
      "\u001b[1;32m~\\Anaconda3\\lib\\site-packages\\keras\\engine\\training.py\u001b[0m in \u001b[0;36mtrain_on_batch\u001b[1;34m(self, x, y, sample_weight, class_weight, reset_metrics)\u001b[0m\n\u001b[0;32m   1512\u001b[0m             \u001b[0mins\u001b[0m \u001b[1;33m=\u001b[0m \u001b[0mx\u001b[0m \u001b[1;33m+\u001b[0m \u001b[0my\u001b[0m \u001b[1;33m+\u001b[0m \u001b[0msample_weights\u001b[0m\u001b[1;33m\u001b[0m\u001b[0m\n\u001b[0;32m   1513\u001b[0m         \u001b[0mself\u001b[0m\u001b[1;33m.\u001b[0m\u001b[0m_make_train_function\u001b[0m\u001b[1;33m(\u001b[0m\u001b[1;33m)\u001b[0m\u001b[1;33m\u001b[0m\u001b[0m\n\u001b[1;32m-> 1514\u001b[1;33m         \u001b[0moutputs\u001b[0m \u001b[1;33m=\u001b[0m \u001b[0mself\u001b[0m\u001b[1;33m.\u001b[0m\u001b[0mtrain_function\u001b[0m\u001b[1;33m(\u001b[0m\u001b[0mins\u001b[0m\u001b[1;33m)\u001b[0m\u001b[1;33m\u001b[0m\u001b[0m\n\u001b[0m\u001b[0;32m   1515\u001b[0m \u001b[1;33m\u001b[0m\u001b[0m\n\u001b[0;32m   1516\u001b[0m         \u001b[1;32mif\u001b[0m \u001b[0mreset_metrics\u001b[0m\u001b[1;33m:\u001b[0m\u001b[1;33m\u001b[0m\u001b[0m\n",
      "\u001b[1;32m~\\Anaconda3\\lib\\site-packages\\tensorflow_core\\python\\keras\\backend.py\u001b[0m in \u001b[0;36m__call__\u001b[1;34m(self, inputs)\u001b[0m\n\u001b[0;32m   3474\u001b[0m \u001b[1;33m\u001b[0m\u001b[0m\n\u001b[0;32m   3475\u001b[0m     fetched = self._callable_fn(*array_vals,\n\u001b[1;32m-> 3476\u001b[1;33m                                 run_metadata=self.run_metadata)\n\u001b[0m\u001b[0;32m   3477\u001b[0m     \u001b[0mself\u001b[0m\u001b[1;33m.\u001b[0m\u001b[0m_call_fetch_callbacks\u001b[0m\u001b[1;33m(\u001b[0m\u001b[0mfetched\u001b[0m\u001b[1;33m[\u001b[0m\u001b[1;33m-\u001b[0m\u001b[0mlen\u001b[0m\u001b[1;33m(\u001b[0m\u001b[0mself\u001b[0m\u001b[1;33m.\u001b[0m\u001b[0m_fetches\u001b[0m\u001b[1;33m)\u001b[0m\u001b[1;33m:\u001b[0m\u001b[1;33m]\u001b[0m\u001b[1;33m)\u001b[0m\u001b[1;33m\u001b[0m\u001b[0m\n\u001b[0;32m   3478\u001b[0m     output_structure = nest.pack_sequence_as(\n",
      "\u001b[1;32m~\\Anaconda3\\lib\\site-packages\\tensorflow_core\\python\\client\\session.py\u001b[0m in \u001b[0;36m__call__\u001b[1;34m(self, *args, **kwargs)\u001b[0m\n\u001b[0;32m   1470\u001b[0m         ret = tf_session.TF_SessionRunCallable(self._session._session,\n\u001b[0;32m   1471\u001b[0m                                                \u001b[0mself\u001b[0m\u001b[1;33m.\u001b[0m\u001b[0m_handle\u001b[0m\u001b[1;33m,\u001b[0m \u001b[0margs\u001b[0m\u001b[1;33m,\u001b[0m\u001b[1;33m\u001b[0m\u001b[0m\n\u001b[1;32m-> 1472\u001b[1;33m                                                run_metadata_ptr)\n\u001b[0m\u001b[0;32m   1473\u001b[0m         \u001b[1;32mif\u001b[0m \u001b[0mrun_metadata\u001b[0m\u001b[1;33m:\u001b[0m\u001b[1;33m\u001b[0m\u001b[0m\n\u001b[0;32m   1474\u001b[0m           \u001b[0mproto_data\u001b[0m \u001b[1;33m=\u001b[0m \u001b[0mtf_session\u001b[0m\u001b[1;33m.\u001b[0m\u001b[0mTF_GetBuffer\u001b[0m\u001b[1;33m(\u001b[0m\u001b[0mrun_metadata_ptr\u001b[0m\u001b[1;33m)\u001b[0m\u001b[1;33m\u001b[0m\u001b[0m\n",
      "\u001b[1;31mKeyboardInterrupt\u001b[0m: "
     ]
    }
   ],
   "source": [
    "from keras.callbacks import CSVLogger\n",
    "\n",
    "csv_logger = CSVLogger('./log_2.csv', append=True, separator=';')\n",
    "\n",
    "hist = model.fit_generator(training_set,\n",
    "                         steps_per_epoch = 20,\n",
    "                         epochs = 1000,\n",
    "                         validation_data = validation_set,\n",
    "                         validation_steps = 10,\n",
    "                         callbacks=[csv_logger])"
   ]
  },
  {
   "cell_type": "code",
   "execution_count": null,
   "metadata": {},
   "outputs": [],
   "source": [
    "from keras.models import load_model\n",
    "\n",
    "model.save('food_keras_model_2.h5')"
   ]
  },
  {
   "cell_type": "code",
   "execution_count": null,
   "metadata": {},
   "outputs": [],
   "source": [
    "# 모델 평가하기\n",
    "print(\"-- 모델 평가하기 --\")\n",
    "\n",
    "scores = model.evaluate_generator(\n",
    "            validation_set,\n",
    "            steps = 10)\n",
    "\n",
    "print(\"%s: %.2f%%\" %(model.metrics_names[1], scores[1]*100))\n",
    "\n",
    "# 모델 예측하기\n",
    "print(\"-- 모델 예측하기 --\")\n",
    "\n",
    "output = model.predict_generator(\n",
    "            validation_set,\n",
    "            steps = 10)\n",
    "print(validation_set.class_indices)\n",
    "np.set_printoptions(formatter={'float': lambda x: \"{0:0.3f}\".format(x)})\n",
    "\n",
    "print(output)\n",
    "print(validation_set.filenames)"
   ]
  },
  {
   "cell_type": "code",
   "execution_count": null,
   "metadata": {},
   "outputs": [],
   "source": [
    "# output = classifier.predict_generator(test_set, steps=5)\n",
    "# print(output)"
   ]
  },
  {
   "cell_type": "code",
   "execution_count": null,
   "metadata": {},
   "outputs": [],
   "source": []
  }
 ],
 "metadata": {
  "kernelspec": {
   "display_name": "Python 3",
   "language": "python",
   "name": "python3"
  },
  "language_info": {
   "codemirror_mode": {
    "name": "ipython",
    "version": 3
   },
   "file_extension": ".py",
   "mimetype": "text/x-python",
   "name": "python",
   "nbconvert_exporter": "python",
   "pygments_lexer": "ipython3",
   "version": "3.6.5"
  }
 },
 "nbformat": 4,
 "nbformat_minor": 4
}
