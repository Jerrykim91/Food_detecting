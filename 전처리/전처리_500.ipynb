{
 "cells": [
  {
   "cell_type": "code",
   "execution_count": 1,
   "metadata": {},
   "outputs": [],
   "source": [
    "dir_food = \\\n",
    "{'갈비구이': 'galbigui',\n",
    " '갈치구이': 'galchigui',\n",
    " '고등어구이': 'godeungeogui',\n",
    " '곱창구이': 'gopchanggui',\n",
    " '닭갈비': 'dakgalbi',\n",
    " '더덕구이': 'deodeokgui',\n",
    " '떡갈비': 'tteokgalbi',\n",
    " '불고기': 'bulgogi',\n",
    " '삼겹살': 'samgyeopsal',\n",
    " '장어구이': 'jangeogui',\n",
    " '조개구이': 'jogaegui',\n",
    " '조기구이': 'jogigui',\n",
    " '황태구이': 'hwangtaegui',\n",
    " '훈제오리': 'hunjeori',\n",
    " '계란국': 'gyelangug',\n",
    " '떡국_만두국': 'tteokguk-mandutguk',\n",
    " '무국': 'muguk',\n",
    " '미역국': 'miyeokguk',\n",
    " '북엇국': 'bugeotguk',\n",
    " '시래기국': 'siraegiguk',\n",
    " '육개장': 'yukgaejang',\n",
    " '콩나물국': 'kongnamulguk',\n",
    " '과메기': 'gwamegi',\n",
    " '양념치킨': 'yangnyeomchicken',\n",
    " '젓갈': 'jeotgal',\n",
    " '콩자반': 'kongjaban',\n",
    " '편육': 'pyeonyuk',\n",
    " '피자': 'pizza',\n",
    " '후라이드치킨': 'friedchicken',\n",
    " '갓김치': 'gatkimchi',\n",
    " '깍두기': 'kkakdugi',\n",
    " '나박김치': 'nabakkimchi',\n",
    " '무생채': 'musaengchae',\n",
    " '배추김치': 'baechukimchi',\n",
    " '백김치': 'baekkimchi',\n",
    " '부추김치': 'buchukimchi',\n",
    " '열무김치': 'yeolmukimchi',\n",
    " '오이소박이': 'oisobagi',\n",
    " '총각김치': 'chonggakkimchi',\n",
    " '파김치': 'pakimchi',\n",
    " '가지볶음': 'gajibokkeum',\n",
    " '고사리나물': 'gosarinamul',\n",
    " '미역줄기볶음': 'miyeokjulgibokkeum',\n",
    " '숙주나물': 'sukjunamul',\n",
    " '시금치나물': 'sigeumchinamul',\n",
    " '애호박볶음': 'aehobakbokkeum',\n",
    " '경단': 'gyeongdan',\n",
    " '꿀떡': 'kkultteok',\n",
    " '송편': 'songpyeon',\n",
    " '만두': 'mandu',\n",
    " '라면': 'ramyeon',\n",
    " '막국수': 'makguksu',\n",
    " '물냉면': 'mulnaengmyeon',\n",
    " '비빔냉면': 'bibimnaengmyeon',\n",
    " '수제비': 'sujebi',\n",
    " '열무국수': 'yeolmuguksu',\n",
    " '잔치국수': 'janchiguksu',\n",
    " '짜장면': 'jajangmyeon',\n",
    " '짬뽕': 'jjamppong',\n",
    " '쫄면': 'jjolmyeon',\n",
    " '칼국수': 'kalguksu',\n",
    " '콩국수': 'kongguksu',\n",
    " '꽈리고추무침': 'kkwaligochumuchim',\n",
    " '도라지무침': 'dorajimuchim',\n",
    " '도토리묵': 'dotorimuk',\n",
    " '잡채': 'japchae',\n",
    " '콩나물무침': 'kongnamulmuchim',\n",
    " '홍어무침': 'hongeomuchim',\n",
    " '회무침': 'hoemuchim',\n",
    " '김밥': 'gimbap',\n",
    " '김치볶음밥': 'kimchibokkeumbap',\n",
    " '누룽지': 'nurungji',\n",
    " '비빔밥': 'bibimbap',\n",
    " '새우볶음밥': 'saeubokkeumbap',\n",
    " '알밥': 'albap',\n",
    " '유부초밥': 'yubuchobap',\n",
    " '잡곡밥': 'japgokbap',\n",
    " '주먹밥': 'jumeokbap',\n",
    " '감자채볶음': 'gamjachaebokkeum',\n",
    " '건새우볶음': 'geonsaeubokkeum',\n",
    " '고추장진미채볶음': 'gochujangjinmichaebokkeum',\n",
    " '두부김치': 'dubukimchi',\n",
    " '떡볶이': 'tteokbokki',\n",
    " '라볶이': 'rabokki',\n",
    " '멸치볶음': 'myeolchibokkeum',\n",
    " '소세지볶음': 'sausagebokkeum',\n",
    " '어묵볶음': 'eomukbokkeum',\n",
    " '오징어채볶음': 'ojingeochaebokkeum',\n",
    " '제육볶음': 'jeyukbokkeum',\n",
    " '주꾸미볶음': 'jukkumibokkeum',\n",
    " '보쌈': 'bossam',\n",
    " '수정과': 'sujeonggwa',\n",
    " '식혜': 'sikhye',\n",
    " '간장게장': 'ganjanggejang',\n",
    " '양념게장': 'yangnyeomgejang',\n",
    " '깻잎장아찌': 'kkaesipjangajji',\n",
    " '떡꼬치': 'tteokkkochi',\n",
    " '감자전': 'gamjajeon',\n",
    " '계란말이': 'gyeranmari',\n",
    " '계란후라이': 'gyeranfry',\n",
    " '김치전': 'kimchijeon',\n",
    " '동그랑땡': 'dongeurangttaeng',\n",
    " '생선전': 'saengseonjeon',\n",
    " '파전': 'pajeon',\n",
    " '호박전': 'hobakjeon',\n",
    " '곱창전골': 'gopchangjeongol',\n",
    " '갈치조림': 'galchijorim',\n",
    " '감자조림': 'gamjajorim',\n",
    " '고등어조림': 'godeungeojorim',\n",
    " '꽁치조림': 'kkongchijorim',\n",
    " '두부조림': 'dubujorim',\n",
    " '땅콩조림': 'ttangkongjorim',\n",
    " '메추리알장조림': 'mechurialjangjorim',\n",
    " '연근조림': 'yeongeunjorim',\n",
    " '우엉조림': 'ueongjorim',\n",
    " '장조림': 'jangjorim',\n",
    " '코다리조림': 'kodarijorim',\n",
    " '전복죽': 'jeonbokjuk',\n",
    " '호박죽': 'hobakjuk',\n",
    " '김치찌개': 'kimchijjigae',\n",
    " '닭계장': 'dakgyejang',\n",
    " '동태찌개': 'dongtaejjigae',\n",
    " '된장찌개': 'doenjangjjigae',\n",
    " '순두부찌개': 'sundubujjigae',\n",
    " '갈비찜': 'galbijjim',\n",
    " '계란찜': 'gyeranjjim',\n",
    " '김치찜': 'kimchijjim',\n",
    " '꼬막찜': 'kkomakjjim',\n",
    " '닭볶음탕': 'dakbokkeumtang',\n",
    " '수육': 'suyuk',\n",
    " '순대': 'sundae',\n",
    " '족발': 'jokbal',\n",
    " '찜닭': 'jjimdak',\n",
    " '해물찜': 'haemuljjim',\n",
    " '갈비탕': 'galbitang',\n",
    " '감자탕': 'gamjatang',\n",
    " '곰탕_설렁탕': 'gomguk-seolleongtang',\n",
    " '매운탕': 'maeuntang',\n",
    " '삼계탕': 'samgyetang',\n",
    " '추어탕': 'chueotang',\n",
    " '고추튀김': 'gochutwigim',\n",
    " '새우튀김': 'saeutwigim',\n",
    " '오징어튀김': 'ojingeotwigim',\n",
    " '약과': 'yakgwa',\n",
    " '약식': 'yaksik',\n",
    " '한과': 'hangwa',\n",
    " '멍게': 'meongge',\n",
    " '산낙지': 'sannakji',\n",
    " '물회': 'mulhoe',\n",
    " '육회': 'yukhoe'}"
   ]
  },
  {
   "cell_type": "code",
   "execution_count": 2,
   "metadata": {},
   "outputs": [],
   "source": [
    "def CreateFolder(directory):\n",
    "    try:\n",
    "        if not os.path.exists(directory):\n",
    "            os.makedirs(directory)\n",
    "            print(f'{directory}_loction:',glob.glob(os.getcwd()+f'\\\\{directory}'))\n",
    "        else:\n",
    "            print('already')\n",
    "    except OSError:\n",
    "        print('Error:Creating directory.'+directory)"
   ]
  },
  {
   "cell_type": "code",
   "execution_count": 40,
   "metadata": {},
   "outputs": [
    {
     "name": "stdout",
     "output_type": "stream",
     "text": [
      "e\\3_loction: ['C:\\\\Food_detecting\\\\PERPRO\\\\e\\\\3']\n"
     ]
    }
   ],
   "source": [
    "# test\n",
    "# CreateFolder('e\\\\3')"
   ]
  },
  {
   "cell_type": "code",
   "execution_count": 16,
   "metadata": {},
   "outputs": [],
   "source": [
    "from PIL import Image, ImageOps\n",
    "import os,sys,glob,time"
   ]
  },
  {
   "cell_type": "code",
   "execution_count": 2,
   "metadata": {},
   "outputs": [
    {
     "data": {
      "text/plain": [
       "['C:\\\\Food_detecting\\\\PERPRO']"
      ]
     },
     "execution_count": 2,
     "metadata": {},
     "output_type": "execute_result"
    }
   ],
   "source": [
    "glob.glob(os.getcwd())"
   ]
  },
  {
   "cell_type": "code",
   "execution_count": null,
   "metadata": {},
   "outputs": [],
   "source": []
  },
  {
   "cell_type": "code",
   "execution_count": 8,
   "metadata": {},
   "outputs": [],
   "source": [
    "raw_path =r'C:\\Users\\admin\\Desktop\\testCut' \n",
    "class_path = os.getcwd()"
   ]
  },
  {
   "cell_type": "code",
   "execution_count": 9,
   "metadata": {},
   "outputs": [
    {
     "data": {
      "text/plain": [
       "'C:\\\\Users\\\\admin\\\\Desktop\\\\testCut'"
      ]
     },
     "execution_count": 9,
     "metadata": {},
     "output_type": "execute_result"
    }
   ],
   "source": [
    "raw_path"
   ]
  },
  {
   "cell_type": "code",
   "execution_count": 10,
   "metadata": {},
   "outputs": [
    {
     "data": {
      "text/plain": [
       "['갈비구이',\n",
       " '계란찜',\n",
       " '김치찌개',\n",
       " '미역줄기볶음',\n",
       " '백김치',\n",
       " '불고기',\n",
       " '삼계탕',\n",
       " '순두부찌개',\n",
       " '애호박볶음',\n",
       " '후라이드치킨']"
      ]
     },
     "execution_count": 10,
     "metadata": {},
     "output_type": "execute_result"
    }
   ],
   "source": [
    "food_list = [i.split('\\\\')[-1] for i in glob.glob(raw_path+'/*')]\n",
    "food_list"
   ]
  },
  {
   "cell_type": "code",
   "execution_count": 11,
   "metadata": {},
   "outputs": [
    {
     "data": {
      "text/plain": [
       "['galbigui',\n",
       " 'bulgogi',\n",
       " 'friedchicken',\n",
       " 'baekkimchi',\n",
       " 'miyeokjulgibokkeum',\n",
       " 'aehobakbokkeum',\n",
       " 'kimchijjigae',\n",
       " 'sundubujjigae',\n",
       " 'gyeranjjim',\n",
       " 'samgyetang']"
      ]
     },
     "execution_count": 11,
     "metadata": {},
     "output_type": "execute_result"
    }
   ],
   "source": [
    "dir_name = [eng for kor, eng in dir_food.items() if kor in food_list]\n",
    "dir_name"
   ]
  },
  {
   "cell_type": "code",
   "execution_count": 12,
   "metadata": {},
   "outputs": [],
   "source": [
    "# dir_name = list()\n",
    "# for kor, eng in dir_food.items():\n",
    "# #     print(kor, eng)\n",
    "#     if kor in food_list:\n",
    "# #         CreateFolder('data\\\\'+eng)\n",
    "# #         print(kor, eng)\n",
    "#         dir_name.append(eng)"
   ]
  },
  {
   "cell_type": "code",
   "execution_count": 13,
   "metadata": {},
   "outputs": [
    {
     "data": {
      "text/plain": [
       "['galbigui',\n",
       " 'bulgogi',\n",
       " 'friedchicken',\n",
       " 'baekkimchi',\n",
       " 'miyeokjulgibokkeum',\n",
       " 'aehobakbokkeum',\n",
       " 'kimchijjigae',\n",
       " 'sundubujjigae',\n",
       " 'gyeranjjim',\n",
       " 'samgyetang']"
      ]
     },
     "execution_count": 13,
     "metadata": {},
     "output_type": "execute_result"
    }
   ],
   "source": [
    "dir_name"
   ]
  },
  {
   "cell_type": "code",
   "execution_count": 58,
   "metadata": {
    "scrolled": true
   },
   "outputs": [],
   "source": [
    "# glob.glob(raw_path+'/*/*')"
   ]
  },
  {
   "cell_type": "code",
   "execution_count": 14,
   "metadata": {},
   "outputs": [
    {
     "data": {
      "text/plain": [
       "10"
      ]
     },
     "execution_count": 14,
     "metadata": {},
     "output_type": "execute_result"
    }
   ],
   "source": [
    "len(food_list)"
   ]
  },
  {
   "cell_type": "code",
   "execution_count": 17,
   "metadata": {
    "scrolled": true
   },
   "outputs": [
    {
     "name": "stdout",
     "output_type": "stream",
     "text": [
      "['C:\\\\Users\\\\admin\\\\Desktop\\\\testCut/갈비구이\\\\Img_000_0001.jpg', 'C:\\\\Users\\\\admin\\\\Desktop\\\\testCut/갈비구이\\\\Img_000_0002.jpg', 'C:\\\\Users\\\\admin\\\\Desktop\\\\testCut/갈비구이\\\\Img_000_0003.jpg', 'C:\\\\Users\\\\admin\\\\Desktop\\\\testCut/갈비구이\\\\Img_000_0006.jpg', 'C:\\\\Users\\\\admin\\\\Desktop\\\\testCut/갈비구이\\\\Img_000_0007.jpg', 'C:\\\\Users\\\\admin\\\\Desktop\\\\testCut/갈비구이\\\\Img_000_0008.jpg', 'C:\\\\Users\\\\admin\\\\Desktop\\\\testCut/갈비구이\\\\Img_000_0009.jpg', 'C:\\\\Users\\\\admin\\\\Desktop\\\\testCut/갈비구이\\\\Img_000_0010.jpg', 'C:\\\\Users\\\\admin\\\\Desktop\\\\testCut/갈비구이\\\\Img_000_0011.jpg', 'C:\\\\Users\\\\admin\\\\Desktop\\\\testCut/갈비구이\\\\Img_000_0014.jpg', 'C:\\\\Users\\\\admin\\\\Desktop\\\\testCut/갈비구이\\\\Img_000_0015.jpg', 'C:\\\\Users\\\\admin\\\\Desktop\\\\testCut/갈비구이\\\\Img_000_0017.jpg', 'C:\\\\Users\\\\admin\\\\Desktop\\\\testCut/갈비구이\\\\Img_000_0018.jpg', 'C:\\\\Users\\\\admin\\\\Desktop\\\\testCut/갈비구이\\\\Img_000_0019.jpg', 'C:\\\\Users\\\\admin\\\\Desktop\\\\testCut/갈비구이\\\\Img_000_0020.jpg', 'C:\\\\Users\\\\admin\\\\Desktop\\\\testCut/갈비구이\\\\Img_000_0021.jpg', 'C:\\\\Users\\\\admin\\\\Desktop\\\\testCut/갈비구이\\\\Img_000_0022.jpg', 'C:\\\\Users\\\\admin\\\\Desktop\\\\testCut/갈비구이\\\\Img_000_0023.jpg', 'C:\\\\Users\\\\admin\\\\Desktop\\\\testCut/갈비구이\\\\Img_000_0024.jpg', 'C:\\\\Users\\\\admin\\\\Desktop\\\\testCut/갈비구이\\\\Img_000_0025.jpg', 'C:\\\\Users\\\\admin\\\\Desktop\\\\testCut/갈비구이\\\\Img_000_0026.jpg', 'C:\\\\Users\\\\admin\\\\Desktop\\\\testCut/갈비구이\\\\Img_000_0027.jpg', 'C:\\\\Users\\\\admin\\\\Desktop\\\\testCut/갈비구이\\\\Img_000_0028.jpg', 'C:\\\\Users\\\\admin\\\\Desktop\\\\testCut/갈비구이\\\\Img_000_0029.jpg', 'C:\\\\Users\\\\admin\\\\Desktop\\\\testCut/갈비구이\\\\Img_000_0032.JPG', 'C:\\\\Users\\\\admin\\\\Desktop\\\\testCut/갈비구이\\\\Img_000_0033.JPG', 'C:\\\\Users\\\\admin\\\\Desktop\\\\testCut/갈비구이\\\\Img_000_0034.jpg', 'C:\\\\Users\\\\admin\\\\Desktop\\\\testCut/갈비구이\\\\Img_000_0035.png', 'C:\\\\Users\\\\admin\\\\Desktop\\\\testCut/갈비구이\\\\Img_000_0036.JPG', 'C:\\\\Users\\\\admin\\\\Desktop\\\\testCut/갈비구이\\\\Img_000_0037.jpg', 'C:\\\\Users\\\\admin\\\\Desktop\\\\testCut/갈비구이\\\\Img_000_0038.jpg', 'C:\\\\Users\\\\admin\\\\Desktop\\\\testCut/갈비구이\\\\Img_000_0039.JPG', 'C:\\\\Users\\\\admin\\\\Desktop\\\\testCut/갈비구이\\\\Img_000_0040.JPG', 'C:\\\\Users\\\\admin\\\\Desktop\\\\testCut/갈비구이\\\\Img_000_0041.jpg', 'C:\\\\Users\\\\admin\\\\Desktop\\\\testCut/갈비구이\\\\Img_000_0042.jpg', 'C:\\\\Users\\\\admin\\\\Desktop\\\\testCut/갈비구이\\\\Img_000_0043.JPG', 'C:\\\\Users\\\\admin\\\\Desktop\\\\testCut/갈비구이\\\\Img_000_0044.JPG', 'C:\\\\Users\\\\admin\\\\Desktop\\\\testCut/갈비구이\\\\Img_000_0045.JPG', 'C:\\\\Users\\\\admin\\\\Desktop\\\\testCut/갈비구이\\\\Img_000_0046.jpg', 'C:\\\\Users\\\\admin\\\\Desktop\\\\testCut/갈비구이\\\\Img_000_0047.jpg', 'C:\\\\Users\\\\admin\\\\Desktop\\\\testCut/갈비구이\\\\Img_000_0048.jpg', 'C:\\\\Users\\\\admin\\\\Desktop\\\\testCut/갈비구이\\\\Img_000_0049.jpg', 'C:\\\\Users\\\\admin\\\\Desktop\\\\testCut/갈비구이\\\\Img_000_0050.jpg', 'C:\\\\Users\\\\admin\\\\Desktop\\\\testCut/갈비구이\\\\Img_000_0051.jpg', 'C:\\\\Users\\\\admin\\\\Desktop\\\\testCut/갈비구이\\\\Img_000_0052.JPG', 'C:\\\\Users\\\\admin\\\\Desktop\\\\testCut/갈비구이\\\\Img_000_0053.JPG', 'C:\\\\Users\\\\admin\\\\Desktop\\\\testCut/갈비구이\\\\Img_000_0054.jpg', 'C:\\\\Users\\\\admin\\\\Desktop\\\\testCut/갈비구이\\\\Img_000_0055.jpg', 'C:\\\\Users\\\\admin\\\\Desktop\\\\testCut/갈비구이\\\\Img_000_0056.JPG', 'C:\\\\Users\\\\admin\\\\Desktop\\\\testCut/갈비구이\\\\Img_000_0057.JPG', 'C:\\\\Users\\\\admin\\\\Desktop\\\\testCut/갈비구이\\\\Img_000_0058.JPG', 'C:\\\\Users\\\\admin\\\\Desktop\\\\testCut/갈비구이\\\\Img_000_0059.JPG', 'C:\\\\Users\\\\admin\\\\Desktop\\\\testCut/갈비구이\\\\Img_000_0060.JPG', 'C:\\\\Users\\\\admin\\\\Desktop\\\\testCut/갈비구이\\\\Img_000_0061.JPG', 'C:\\\\Users\\\\admin\\\\Desktop\\\\testCut/갈비구이\\\\Img_000_0062.jpg', 'C:\\\\Users\\\\admin\\\\Desktop\\\\testCut/갈비구이\\\\Img_000_0064.JPG', 'C:\\\\Users\\\\admin\\\\Desktop\\\\testCut/갈비구이\\\\Img_000_0065.JPG', 'C:\\\\Users\\\\admin\\\\Desktop\\\\testCut/갈비구이\\\\Img_000_0066.JPG', 'C:\\\\Users\\\\admin\\\\Desktop\\\\testCut/갈비구이\\\\Img_000_0067.JPG', 'C:\\\\Users\\\\admin\\\\Desktop\\\\testCut/갈비구이\\\\Img_000_0068.JPG', 'C:\\\\Users\\\\admin\\\\Desktop\\\\testCut/갈비구이\\\\Img_000_0069.JPG', 'C:\\\\Users\\\\admin\\\\Desktop\\\\testCut/갈비구이\\\\Img_000_0070.JPG', 'C:\\\\Users\\\\admin\\\\Desktop\\\\testCut/갈비구이\\\\Img_000_0071.JPG', 'C:\\\\Users\\\\admin\\\\Desktop\\\\testCut/갈비구이\\\\Img_000_0072.JPG', 'C:\\\\Users\\\\admin\\\\Desktop\\\\testCut/갈비구이\\\\Img_000_0073.jpg', 'C:\\\\Users\\\\admin\\\\Desktop\\\\testCut/갈비구이\\\\Img_000_0074.jpg', 'C:\\\\Users\\\\admin\\\\Desktop\\\\testCut/갈비구이\\\\Img_000_0075.jpg', 'C:\\\\Users\\\\admin\\\\Desktop\\\\testCut/갈비구이\\\\Img_000_0076.jpg', 'C:\\\\Users\\\\admin\\\\Desktop\\\\testCut/갈비구이\\\\Img_000_0077.jpg', 'C:\\\\Users\\\\admin\\\\Desktop\\\\testCut/갈비구이\\\\Img_000_0078.jpg', 'C:\\\\Users\\\\admin\\\\Desktop\\\\testCut/갈비구이\\\\Img_000_0079.jpg', 'C:\\\\Users\\\\admin\\\\Desktop\\\\testCut/갈비구이\\\\Img_000_0080.jpg', 'C:\\\\Users\\\\admin\\\\Desktop\\\\testCut/갈비구이\\\\Img_000_0081.jpg', 'C:\\\\Users\\\\admin\\\\Desktop\\\\testCut/갈비구이\\\\Img_000_0082.jpg', 'C:\\\\Users\\\\admin\\\\Desktop\\\\testCut/갈비구이\\\\Img_000_0083.jpg', 'C:\\\\Users\\\\admin\\\\Desktop\\\\testCut/갈비구이\\\\Img_000_0084.jpg', 'C:\\\\Users\\\\admin\\\\Desktop\\\\testCut/갈비구이\\\\Img_000_0085.jpg', 'C:\\\\Users\\\\admin\\\\Desktop\\\\testCut/갈비구이\\\\Img_000_0086.jpg', 'C:\\\\Users\\\\admin\\\\Desktop\\\\testCut/갈비구이\\\\Img_000_0087.jpg', 'C:\\\\Users\\\\admin\\\\Desktop\\\\testCut/갈비구이\\\\Img_000_0088.jpg', 'C:\\\\Users\\\\admin\\\\Desktop\\\\testCut/갈비구이\\\\Img_000_0089.jpg', 'C:\\\\Users\\\\admin\\\\Desktop\\\\testCut/갈비구이\\\\Img_000_0090.jpg', 'C:\\\\Users\\\\admin\\\\Desktop\\\\testCut/갈비구이\\\\Img_000_0091.jpg', 'C:\\\\Users\\\\admin\\\\Desktop\\\\testCut/갈비구이\\\\Img_000_0092.jpg', 'C:\\\\Users\\\\admin\\\\Desktop\\\\testCut/갈비구이\\\\Img_000_0093.jpg', 'C:\\\\Users\\\\admin\\\\Desktop\\\\testCut/갈비구이\\\\Img_000_0094.jpg', 'C:\\\\Users\\\\admin\\\\Desktop\\\\testCut/갈비구이\\\\Img_000_0095.jpg', 'C:\\\\Users\\\\admin\\\\Desktop\\\\testCut/갈비구이\\\\Img_000_0097.jpg', 'C:\\\\Users\\\\admin\\\\Desktop\\\\testCut/갈비구이\\\\Img_000_0099.jpg', 'C:\\\\Users\\\\admin\\\\Desktop\\\\testCut/갈비구이\\\\Img_000_0100.jpg', 'C:\\\\Users\\\\admin\\\\Desktop\\\\testCut/갈비구이\\\\Img_000_0101.jpg', 'C:\\\\Users\\\\admin\\\\Desktop\\\\testCut/갈비구이\\\\Img_000_0102.jpg', 'C:\\\\Users\\\\admin\\\\Desktop\\\\testCut/갈비구이\\\\Img_000_0103.jpg', 'C:\\\\Users\\\\admin\\\\Desktop\\\\testCut/갈비구이\\\\Img_000_0104.jpg', 'C:\\\\Users\\\\admin\\\\Desktop\\\\testCut/갈비구이\\\\Img_000_0105.jpg', 'C:\\\\Users\\\\admin\\\\Desktop\\\\testCut/갈비구이\\\\Img_000_0106.jpg', 'C:\\\\Users\\\\admin\\\\Desktop\\\\testCut/갈비구이\\\\Img_000_0107.jpg', 'C:\\\\Users\\\\admin\\\\Desktop\\\\testCut/갈비구이\\\\Img_000_0108.jpg', 'C:\\\\Users\\\\admin\\\\Desktop\\\\testCut/갈비구이\\\\Img_000_0109.jpg', 'C:\\\\Users\\\\admin\\\\Desktop\\\\testCut/갈비구이\\\\Img_000_0110.jpg', 'C:\\\\Users\\\\admin\\\\Desktop\\\\testCut/갈비구이\\\\Img_000_0111.jpg', 'C:\\\\Users\\\\admin\\\\Desktop\\\\testCut/갈비구이\\\\Img_000_0114.jpg', 'C:\\\\Users\\\\admin\\\\Desktop\\\\testCut/갈비구이\\\\Img_000_0115.jpg', 'C:\\\\Users\\\\admin\\\\Desktop\\\\testCut/갈비구이\\\\Img_000_0116.jpg', 'C:\\\\Users\\\\admin\\\\Desktop\\\\testCut/갈비구이\\\\Img_000_0117.jpg', 'C:\\\\Users\\\\admin\\\\Desktop\\\\testCut/갈비구이\\\\Img_000_0118.jpg', 'C:\\\\Users\\\\admin\\\\Desktop\\\\testCut/갈비구이\\\\Img_000_0119.jpg', 'C:\\\\Users\\\\admin\\\\Desktop\\\\testCut/갈비구이\\\\Img_000_0120.jpg', 'C:\\\\Users\\\\admin\\\\Desktop\\\\testCut/갈비구이\\\\Img_000_0121.jpg', 'C:\\\\Users\\\\admin\\\\Desktop\\\\testCut/갈비구이\\\\Img_000_0122.jpg', 'C:\\\\Users\\\\admin\\\\Desktop\\\\testCut/갈비구이\\\\Img_000_0123.jpg', 'C:\\\\Users\\\\admin\\\\Desktop\\\\testCut/갈비구이\\\\Img_000_0124.jpg', 'C:\\\\Users\\\\admin\\\\Desktop\\\\testCut/갈비구이\\\\Img_000_0125.jpg', 'C:\\\\Users\\\\admin\\\\Desktop\\\\testCut/갈비구이\\\\Img_000_0126.jpg', 'C:\\\\Users\\\\admin\\\\Desktop\\\\testCut/갈비구이\\\\Img_000_0127.jpg', 'C:\\\\Users\\\\admin\\\\Desktop\\\\testCut/갈비구이\\\\Img_000_0128.jpg', 'C:\\\\Users\\\\admin\\\\Desktop\\\\testCut/갈비구이\\\\Img_000_0129.jpg', 'C:\\\\Users\\\\admin\\\\Desktop\\\\testCut/갈비구이\\\\Img_000_0130.jpg', 'C:\\\\Users\\\\admin\\\\Desktop\\\\testCut/갈비구이\\\\Img_000_0132.jpg', 'C:\\\\Users\\\\admin\\\\Desktop\\\\testCut/갈비구이\\\\Img_000_0133.jpg', 'C:\\\\Users\\\\admin\\\\Desktop\\\\testCut/갈비구이\\\\Img_000_0134.jpg', 'C:\\\\Users\\\\admin\\\\Desktop\\\\testCut/갈비구이\\\\Img_000_0135.jpg', 'C:\\\\Users\\\\admin\\\\Desktop\\\\testCut/갈비구이\\\\Img_000_0136.jpg', 'C:\\\\Users\\\\admin\\\\Desktop\\\\testCut/갈비구이\\\\Img_000_0137.jpg', 'C:\\\\Users\\\\admin\\\\Desktop\\\\testCut/갈비구이\\\\Img_000_0138.jpg', 'C:\\\\Users\\\\admin\\\\Desktop\\\\testCut/갈비구이\\\\Img_000_0139.jpg', 'C:\\\\Users\\\\admin\\\\Desktop\\\\testCut/갈비구이\\\\Img_000_0140.jpg', 'C:\\\\Users\\\\admin\\\\Desktop\\\\testCut/갈비구이\\\\Img_000_0141.jpg', 'C:\\\\Users\\\\admin\\\\Desktop\\\\testCut/갈비구이\\\\Img_000_0142.jpg', 'C:\\\\Users\\\\admin\\\\Desktop\\\\testCut/갈비구이\\\\Img_000_0143.jpg', 'C:\\\\Users\\\\admin\\\\Desktop\\\\testCut/갈비구이\\\\Img_000_0144.jpg', 'C:\\\\Users\\\\admin\\\\Desktop\\\\testCut/갈비구이\\\\Img_000_0145.jpg', 'C:\\\\Users\\\\admin\\\\Desktop\\\\testCut/갈비구이\\\\Img_000_0146.jpg', 'C:\\\\Users\\\\admin\\\\Desktop\\\\testCut/갈비구이\\\\Img_000_0147.jpg', 'C:\\\\Users\\\\admin\\\\Desktop\\\\testCut/갈비구이\\\\Img_000_0148.jpg', 'C:\\\\Users\\\\admin\\\\Desktop\\\\testCut/갈비구이\\\\Img_000_0149.jpg', 'C:\\\\Users\\\\admin\\\\Desktop\\\\testCut/갈비구이\\\\Img_000_0150.jpg', 'C:\\\\Users\\\\admin\\\\Desktop\\\\testCut/갈비구이\\\\Img_000_0151.jpg', 'C:\\\\Users\\\\admin\\\\Desktop\\\\testCut/갈비구이\\\\Img_000_0152.jpg', 'C:\\\\Users\\\\admin\\\\Desktop\\\\testCut/갈비구이\\\\Img_000_0153.jpg', 'C:\\\\Users\\\\admin\\\\Desktop\\\\testCut/갈비구이\\\\Img_000_0154.jpg', 'C:\\\\Users\\\\admin\\\\Desktop\\\\testCut/갈비구이\\\\Img_000_0155.jpg', 'C:\\\\Users\\\\admin\\\\Desktop\\\\testCut/갈비구이\\\\Img_000_0156.jpg', 'C:\\\\Users\\\\admin\\\\Desktop\\\\testCut/갈비구이\\\\Img_000_0158.jpg', 'C:\\\\Users\\\\admin\\\\Desktop\\\\testCut/갈비구이\\\\Img_000_0159.jpg', 'C:\\\\Users\\\\admin\\\\Desktop\\\\testCut/갈비구이\\\\Img_000_0160.jpg', 'C:\\\\Users\\\\admin\\\\Desktop\\\\testCut/갈비구이\\\\Img_000_0161.jpg', 'C:\\\\Users\\\\admin\\\\Desktop\\\\testCut/갈비구이\\\\Img_000_0162.jpg', 'C:\\\\Users\\\\admin\\\\Desktop\\\\testCut/갈비구이\\\\Img_000_0163.jpg', 'C:\\\\Users\\\\admin\\\\Desktop\\\\testCut/갈비구이\\\\Img_000_0164.jpg', 'C:\\\\Users\\\\admin\\\\Desktop\\\\testCut/갈비구이\\\\Img_000_0165.jpg', 'C:\\\\Users\\\\admin\\\\Desktop\\\\testCut/갈비구이\\\\Img_000_0166.jpg', 'C:\\\\Users\\\\admin\\\\Desktop\\\\testCut/갈비구이\\\\Img_000_0167.jpg', 'C:\\\\Users\\\\admin\\\\Desktop\\\\testCut/갈비구이\\\\Img_000_0168.jpg', 'C:\\\\Users\\\\admin\\\\Desktop\\\\testCut/갈비구이\\\\Img_000_0169.jpg', 'C:\\\\Users\\\\admin\\\\Desktop\\\\testCut/갈비구이\\\\Img_000_0170.jpg', 'C:\\\\Users\\\\admin\\\\Desktop\\\\testCut/갈비구이\\\\Img_000_0171.jpg', 'C:\\\\Users\\\\admin\\\\Desktop\\\\testCut/갈비구이\\\\Img_000_0172.jpg', 'C:\\\\Users\\\\admin\\\\Desktop\\\\testCut/갈비구이\\\\Img_000_0173.jpg', 'C:\\\\Users\\\\admin\\\\Desktop\\\\testCut/갈비구이\\\\Img_000_0174.jpg', 'C:\\\\Users\\\\admin\\\\Desktop\\\\testCut/갈비구이\\\\Img_000_0175.jpg', 'C:\\\\Users\\\\admin\\\\Desktop\\\\testCut/갈비구이\\\\Img_000_0176.jpg', 'C:\\\\Users\\\\admin\\\\Desktop\\\\testCut/갈비구이\\\\Img_000_0177.jpg', 'C:\\\\Users\\\\admin\\\\Desktop\\\\testCut/갈비구이\\\\Img_000_0178.jpg', 'C:\\\\Users\\\\admin\\\\Desktop\\\\testCut/갈비구이\\\\Img_000_0179.jpg', 'C:\\\\Users\\\\admin\\\\Desktop\\\\testCut/갈비구이\\\\Img_000_0181.jpg', 'C:\\\\Users\\\\admin\\\\Desktop\\\\testCut/갈비구이\\\\Img_000_0182.jpg', 'C:\\\\Users\\\\admin\\\\Desktop\\\\testCut/갈비구이\\\\Img_000_0183.jpg', 'C:\\\\Users\\\\admin\\\\Desktop\\\\testCut/갈비구이\\\\Img_000_0185.jpg', 'C:\\\\Users\\\\admin\\\\Desktop\\\\testCut/갈비구이\\\\Img_000_0186.jpg', 'C:\\\\Users\\\\admin\\\\Desktop\\\\testCut/갈비구이\\\\Img_000_0187.jpg', 'C:\\\\Users\\\\admin\\\\Desktop\\\\testCut/갈비구이\\\\Img_000_0188.jpg', 'C:\\\\Users\\\\admin\\\\Desktop\\\\testCut/갈비구이\\\\Img_000_0190.jpg', 'C:\\\\Users\\\\admin\\\\Desktop\\\\testCut/갈비구이\\\\Img_000_0191.jpg', 'C:\\\\Users\\\\admin\\\\Desktop\\\\testCut/갈비구이\\\\Img_000_0192.jpg', 'C:\\\\Users\\\\admin\\\\Desktop\\\\testCut/갈비구이\\\\Img_000_0193.jpg', 'C:\\\\Users\\\\admin\\\\Desktop\\\\testCut/갈비구이\\\\Img_000_0194.jpg', 'C:\\\\Users\\\\admin\\\\Desktop\\\\testCut/갈비구이\\\\Img_000_0195.jpg', 'C:\\\\Users\\\\admin\\\\Desktop\\\\testCut/갈비구이\\\\Img_000_0196.jpg', 'C:\\\\Users\\\\admin\\\\Desktop\\\\testCut/갈비구이\\\\Img_000_0197.jpg', 'C:\\\\Users\\\\admin\\\\Desktop\\\\testCut/갈비구이\\\\Img_000_0198.jpg', 'C:\\\\Users\\\\admin\\\\Desktop\\\\testCut/갈비구이\\\\Img_000_0199.jpg', 'C:\\\\Users\\\\admin\\\\Desktop\\\\testCut/갈비구이\\\\Img_000_0200.jpg', 'C:\\\\Users\\\\admin\\\\Desktop\\\\testCut/갈비구이\\\\Img_000_0201.jpg', 'C:\\\\Users\\\\admin\\\\Desktop\\\\testCut/갈비구이\\\\Img_000_0202.jpg', 'C:\\\\Users\\\\admin\\\\Desktop\\\\testCut/갈비구이\\\\Img_000_0203.jpg', 'C:\\\\Users\\\\admin\\\\Desktop\\\\testCut/갈비구이\\\\Img_000_0204.jpg', 'C:\\\\Users\\\\admin\\\\Desktop\\\\testCut/갈비구이\\\\Img_000_0205.jpg', 'C:\\\\Users\\\\admin\\\\Desktop\\\\testCut/갈비구이\\\\Img_000_0206.jpg', 'C:\\\\Users\\\\admin\\\\Desktop\\\\testCut/갈비구이\\\\Img_000_0207.jpg', 'C:\\\\Users\\\\admin\\\\Desktop\\\\testCut/갈비구이\\\\Img_000_0208.jpg', 'C:\\\\Users\\\\admin\\\\Desktop\\\\testCut/갈비구이\\\\Img_000_0209.jpg', 'C:\\\\Users\\\\admin\\\\Desktop\\\\testCut/갈비구이\\\\Img_000_0210.jpg', 'C:\\\\Users\\\\admin\\\\Desktop\\\\testCut/갈비구이\\\\Img_000_0211.jpg', 'C:\\\\Users\\\\admin\\\\Desktop\\\\testCut/갈비구이\\\\Img_000_0212.jpg', 'C:\\\\Users\\\\admin\\\\Desktop\\\\testCut/갈비구이\\\\Img_000_0213.jpg', 'C:\\\\Users\\\\admin\\\\Desktop\\\\testCut/갈비구이\\\\Img_000_0214.jpg', 'C:\\\\Users\\\\admin\\\\Desktop\\\\testCut/갈비구이\\\\Img_000_0215.jpg', 'C:\\\\Users\\\\admin\\\\Desktop\\\\testCut/갈비구이\\\\Img_000_0216.jpg', 'C:\\\\Users\\\\admin\\\\Desktop\\\\testCut/갈비구이\\\\Img_000_0217.jpg', 'C:\\\\Users\\\\admin\\\\Desktop\\\\testCut/갈비구이\\\\Img_000_0218.jpg', 'C:\\\\Users\\\\admin\\\\Desktop\\\\testCut/갈비구이\\\\Img_000_0219.jpg', 'C:\\\\Users\\\\admin\\\\Desktop\\\\testCut/갈비구이\\\\Img_000_0220.jpg', 'C:\\\\Users\\\\admin\\\\Desktop\\\\testCut/갈비구이\\\\Img_000_0221.jpg', 'C:\\\\Users\\\\admin\\\\Desktop\\\\testCut/갈비구이\\\\Img_000_0222.jpg', 'C:\\\\Users\\\\admin\\\\Desktop\\\\testCut/갈비구이\\\\Img_000_0223.jpg', 'C:\\\\Users\\\\admin\\\\Desktop\\\\testCut/갈비구이\\\\Img_000_0224.jpg', 'C:\\\\Users\\\\admin\\\\Desktop\\\\testCut/갈비구이\\\\Img_000_0225.jpg', 'C:\\\\Users\\\\admin\\\\Desktop\\\\testCut/갈비구이\\\\Img_000_0226.jpg', 'C:\\\\Users\\\\admin\\\\Desktop\\\\testCut/갈비구이\\\\Img_000_0227.jpg', 'C:\\\\Users\\\\admin\\\\Desktop\\\\testCut/갈비구이\\\\Img_000_0228.jpg', 'C:\\\\Users\\\\admin\\\\Desktop\\\\testCut/갈비구이\\\\Img_000_0231.jpg', 'C:\\\\Users\\\\admin\\\\Desktop\\\\testCut/갈비구이\\\\Img_000_0232.jpg', 'C:\\\\Users\\\\admin\\\\Desktop\\\\testCut/갈비구이\\\\Img_000_0233.jpg', 'C:\\\\Users\\\\admin\\\\Desktop\\\\testCut/갈비구이\\\\Img_000_0234.jpg', 'C:\\\\Users\\\\admin\\\\Desktop\\\\testCut/갈비구이\\\\Img_000_0235.jpg', 'C:\\\\Users\\\\admin\\\\Desktop\\\\testCut/갈비구이\\\\Img_000_0236.jpg', 'C:\\\\Users\\\\admin\\\\Desktop\\\\testCut/갈비구이\\\\Img_000_0237.jpg', 'C:\\\\Users\\\\admin\\\\Desktop\\\\testCut/갈비구이\\\\Img_000_0238.jpg', 'C:\\\\Users\\\\admin\\\\Desktop\\\\testCut/갈비구이\\\\Img_000_0239.jpg', 'C:\\\\Users\\\\admin\\\\Desktop\\\\testCut/갈비구이\\\\Img_000_0240.jpg', 'C:\\\\Users\\\\admin\\\\Desktop\\\\testCut/갈비구이\\\\Img_000_0241.jpg', 'C:\\\\Users\\\\admin\\\\Desktop\\\\testCut/갈비구이\\\\Img_000_0242.jpg', 'C:\\\\Users\\\\admin\\\\Desktop\\\\testCut/갈비구이\\\\Img_000_0244.jpg', 'C:\\\\Users\\\\admin\\\\Desktop\\\\testCut/갈비구이\\\\Img_000_0245.jpg', 'C:\\\\Users\\\\admin\\\\Desktop\\\\testCut/갈비구이\\\\Img_000_0246.jpg', 'C:\\\\Users\\\\admin\\\\Desktop\\\\testCut/갈비구이\\\\Img_000_0247.jpg', 'C:\\\\Users\\\\admin\\\\Desktop\\\\testCut/갈비구이\\\\Img_000_0249.jpg', 'C:\\\\Users\\\\admin\\\\Desktop\\\\testCut/갈비구이\\\\Img_000_0250.jpg', 'C:\\\\Users\\\\admin\\\\Desktop\\\\testCut/갈비구이\\\\Img_000_0251.jpg', 'C:\\\\Users\\\\admin\\\\Desktop\\\\testCut/갈비구이\\\\Img_000_0252.jpg', 'C:\\\\Users\\\\admin\\\\Desktop\\\\testCut/갈비구이\\\\Img_000_0253.jpg', 'C:\\\\Users\\\\admin\\\\Desktop\\\\testCut/갈비구이\\\\Img_000_0254.jpg', 'C:\\\\Users\\\\admin\\\\Desktop\\\\testCut/갈비구이\\\\Img_000_0255.jpg', 'C:\\\\Users\\\\admin\\\\Desktop\\\\testCut/갈비구이\\\\Img_000_0256.jpg', 'C:\\\\Users\\\\admin\\\\Desktop\\\\testCut/갈비구이\\\\Img_000_0257.jpg', 'C:\\\\Users\\\\admin\\\\Desktop\\\\testCut/갈비구이\\\\Img_000_0258.jpg', 'C:\\\\Users\\\\admin\\\\Desktop\\\\testCut/갈비구이\\\\Img_000_0259.jpg', 'C:\\\\Users\\\\admin\\\\Desktop\\\\testCut/갈비구이\\\\Img_000_0260(1).jpg', 'C:\\\\Users\\\\admin\\\\Desktop\\\\testCut/갈비구이\\\\Img_000_0260.jpg', 'C:\\\\Users\\\\admin\\\\Desktop\\\\testCut/갈비구이\\\\Img_000_0261.jpg', 'C:\\\\Users\\\\admin\\\\Desktop\\\\testCut/갈비구이\\\\Img_000_0262.jpg', 'C:\\\\Users\\\\admin\\\\Desktop\\\\testCut/갈비구이\\\\Img_000_0263.jpg', 'C:\\\\Users\\\\admin\\\\Desktop\\\\testCut/갈비구이\\\\Img_000_0264.jpg', 'C:\\\\Users\\\\admin\\\\Desktop\\\\testCut/갈비구이\\\\Img_000_0265.jpg', 'C:\\\\Users\\\\admin\\\\Desktop\\\\testCut/갈비구이\\\\Img_000_0266.jpg', 'C:\\\\Users\\\\admin\\\\Desktop\\\\testCut/갈비구이\\\\Img_000_0267.jpg', 'C:\\\\Users\\\\admin\\\\Desktop\\\\testCut/갈비구이\\\\Img_000_0268.jpg', 'C:\\\\Users\\\\admin\\\\Desktop\\\\testCut/갈비구이\\\\Img_000_0269.jpg', 'C:\\\\Users\\\\admin\\\\Desktop\\\\testCut/갈비구이\\\\Img_000_0270.jpg', 'C:\\\\Users\\\\admin\\\\Desktop\\\\testCut/갈비구이\\\\Img_000_0271.jpg', 'C:\\\\Users\\\\admin\\\\Desktop\\\\testCut/갈비구이\\\\Img_000_0272.jpg', 'C:\\\\Users\\\\admin\\\\Desktop\\\\testCut/갈비구이\\\\Img_000_0273.jpg', 'C:\\\\Users\\\\admin\\\\Desktop\\\\testCut/갈비구이\\\\Img_000_0274.jpg', 'C:\\\\Users\\\\admin\\\\Desktop\\\\testCut/갈비구이\\\\Img_000_0275.jpg', 'C:\\\\Users\\\\admin\\\\Desktop\\\\testCut/갈비구이\\\\Img_000_0277.jpg', 'C:\\\\Users\\\\admin\\\\Desktop\\\\testCut/갈비구이\\\\Img_000_0278.jpg', 'C:\\\\Users\\\\admin\\\\Desktop\\\\testCut/갈비구이\\\\Img_000_0279.jpg', 'C:\\\\Users\\\\admin\\\\Desktop\\\\testCut/갈비구이\\\\Img_000_0280.jpg', 'C:\\\\Users\\\\admin\\\\Desktop\\\\testCut/갈비구이\\\\Img_000_0281.jpg', 'C:\\\\Users\\\\admin\\\\Desktop\\\\testCut/갈비구이\\\\Img_000_0282.jpg', 'C:\\\\Users\\\\admin\\\\Desktop\\\\testCut/갈비구이\\\\Img_000_0283.jpg', 'C:\\\\Users\\\\admin\\\\Desktop\\\\testCut/갈비구이\\\\Img_000_0284.jpg', 'C:\\\\Users\\\\admin\\\\Desktop\\\\testCut/갈비구이\\\\Img_000_0285.jpg', 'C:\\\\Users\\\\admin\\\\Desktop\\\\testCut/갈비구이\\\\Img_000_0286.jpg', 'C:\\\\Users\\\\admin\\\\Desktop\\\\testCut/갈비구이\\\\Img_000_0287.jpg', 'C:\\\\Users\\\\admin\\\\Desktop\\\\testCut/갈비구이\\\\Img_000_0288.jpg', 'C:\\\\Users\\\\admin\\\\Desktop\\\\testCut/갈비구이\\\\Img_000_0289.jpg', 'C:\\\\Users\\\\admin\\\\Desktop\\\\testCut/갈비구이\\\\Img_000_0290.jpg', 'C:\\\\Users\\\\admin\\\\Desktop\\\\testCut/갈비구이\\\\Img_000_0291.jpg', 'C:\\\\Users\\\\admin\\\\Desktop\\\\testCut/갈비구이\\\\Img_000_0292.jpg', 'C:\\\\Users\\\\admin\\\\Desktop\\\\testCut/갈비구이\\\\Img_000_0293.jpg', 'C:\\\\Users\\\\admin\\\\Desktop\\\\testCut/갈비구이\\\\Img_000_0294.jpg', 'C:\\\\Users\\\\admin\\\\Desktop\\\\testCut/갈비구이\\\\Img_000_0295.jpg', 'C:\\\\Users\\\\admin\\\\Desktop\\\\testCut/갈비구이\\\\Img_000_0297.jpg', 'C:\\\\Users\\\\admin\\\\Desktop\\\\testCut/갈비구이\\\\Img_000_0298.jpg', 'C:\\\\Users\\\\admin\\\\Desktop\\\\testCut/갈비구이\\\\Img_000_0299.jpg', 'C:\\\\Users\\\\admin\\\\Desktop\\\\testCut/갈비구이\\\\Img_000_0300.jpg', 'C:\\\\Users\\\\admin\\\\Desktop\\\\testCut/갈비구이\\\\Img_000_0301.jpg', 'C:\\\\Users\\\\admin\\\\Desktop\\\\testCut/갈비구이\\\\Img_000_0302.jpg', 'C:\\\\Users\\\\admin\\\\Desktop\\\\testCut/갈비구이\\\\Img_000_0303.jpg', 'C:\\\\Users\\\\admin\\\\Desktop\\\\testCut/갈비구이\\\\Img_000_0304.jpg', 'C:\\\\Users\\\\admin\\\\Desktop\\\\testCut/갈비구이\\\\Img_000_0305.jpg', 'C:\\\\Users\\\\admin\\\\Desktop\\\\testCut/갈비구이\\\\Img_000_0306.jpg', 'C:\\\\Users\\\\admin\\\\Desktop\\\\testCut/갈비구이\\\\Img_000_0307.jpg', 'C:\\\\Users\\\\admin\\\\Desktop\\\\testCut/갈비구이\\\\Img_000_0308.jpg', 'C:\\\\Users\\\\admin\\\\Desktop\\\\testCut/갈비구이\\\\Img_000_0309.jpg', 'C:\\\\Users\\\\admin\\\\Desktop\\\\testCut/갈비구이\\\\Img_000_0310.jpg', 'C:\\\\Users\\\\admin\\\\Desktop\\\\testCut/갈비구이\\\\Img_000_0311.jpg', 'C:\\\\Users\\\\admin\\\\Desktop\\\\testCut/갈비구이\\\\Img_000_0312.jpg', 'C:\\\\Users\\\\admin\\\\Desktop\\\\testCut/갈비구이\\\\Img_000_0313.jpg', 'C:\\\\Users\\\\admin\\\\Desktop\\\\testCut/갈비구이\\\\Img_000_0314.jpg', 'C:\\\\Users\\\\admin\\\\Desktop\\\\testCut/갈비구이\\\\Img_000_0315.jpg', 'C:\\\\Users\\\\admin\\\\Desktop\\\\testCut/갈비구이\\\\Img_000_0316.jpg', 'C:\\\\Users\\\\admin\\\\Desktop\\\\testCut/갈비구이\\\\Img_000_0317.jpg', 'C:\\\\Users\\\\admin\\\\Desktop\\\\testCut/갈비구이\\\\Img_000_0318.jpg', 'C:\\\\Users\\\\admin\\\\Desktop\\\\testCut/갈비구이\\\\Img_000_0319.jpg', 'C:\\\\Users\\\\admin\\\\Desktop\\\\testCut/갈비구이\\\\Img_000_0320.jpg', 'C:\\\\Users\\\\admin\\\\Desktop\\\\testCut/갈비구이\\\\Img_000_0321.jpg', 'C:\\\\Users\\\\admin\\\\Desktop\\\\testCut/갈비구이\\\\Img_000_0322.jpg', 'C:\\\\Users\\\\admin\\\\Desktop\\\\testCut/갈비구이\\\\Img_000_0323.jpg', 'C:\\\\Users\\\\admin\\\\Desktop\\\\testCut/갈비구이\\\\Img_000_0324.jpg', 'C:\\\\Users\\\\admin\\\\Desktop\\\\testCut/갈비구이\\\\Img_000_0325.jpg', 'C:\\\\Users\\\\admin\\\\Desktop\\\\testCut/갈비구이\\\\Img_000_0326.jpg', 'C:\\\\Users\\\\admin\\\\Desktop\\\\testCut/갈비구이\\\\Img_000_0327.jpg', 'C:\\\\Users\\\\admin\\\\Desktop\\\\testCut/갈비구이\\\\Img_000_0328.jpg', 'C:\\\\Users\\\\admin\\\\Desktop\\\\testCut/갈비구이\\\\Img_000_0329.jpg', 'C:\\\\Users\\\\admin\\\\Desktop\\\\testCut/갈비구이\\\\Img_000_0330.jpg', 'C:\\\\Users\\\\admin\\\\Desktop\\\\testCut/갈비구이\\\\Img_000_0331.jpg', 'C:\\\\Users\\\\admin\\\\Desktop\\\\testCut/갈비구이\\\\Img_000_0332.jpg', 'C:\\\\Users\\\\admin\\\\Desktop\\\\testCut/갈비구이\\\\Img_000_0333.jpg', 'C:\\\\Users\\\\admin\\\\Desktop\\\\testCut/갈비구이\\\\Img_000_0334.jpg', 'C:\\\\Users\\\\admin\\\\Desktop\\\\testCut/갈비구이\\\\Img_000_0335.jpg', 'C:\\\\Users\\\\admin\\\\Desktop\\\\testCut/갈비구이\\\\Img_000_0336.jpg', 'C:\\\\Users\\\\admin\\\\Desktop\\\\testCut/갈비구이\\\\Img_000_0337.jpg', 'C:\\\\Users\\\\admin\\\\Desktop\\\\testCut/갈비구이\\\\Img_000_0338.jpg', 'C:\\\\Users\\\\admin\\\\Desktop\\\\testCut/갈비구이\\\\Img_000_0339.jpg', 'C:\\\\Users\\\\admin\\\\Desktop\\\\testCut/갈비구이\\\\Img_000_0340.jpg', 'C:\\\\Users\\\\admin\\\\Desktop\\\\testCut/갈비구이\\\\Img_000_0341.jpg', 'C:\\\\Users\\\\admin\\\\Desktop\\\\testCut/갈비구이\\\\Img_000_0342.jpg', 'C:\\\\Users\\\\admin\\\\Desktop\\\\testCut/갈비구이\\\\Img_000_0343.jpg', 'C:\\\\Users\\\\admin\\\\Desktop\\\\testCut/갈비구이\\\\Img_000_0345.jpg', 'C:\\\\Users\\\\admin\\\\Desktop\\\\testCut/갈비구이\\\\Img_000_0346.jpg', 'C:\\\\Users\\\\admin\\\\Desktop\\\\testCut/갈비구이\\\\Img_000_0347.jpg', 'C:\\\\Users\\\\admin\\\\Desktop\\\\testCut/갈비구이\\\\Img_000_0348.jpg', 'C:\\\\Users\\\\admin\\\\Desktop\\\\testCut/갈비구이\\\\Img_000_0349.jpg', 'C:\\\\Users\\\\admin\\\\Desktop\\\\testCut/갈비구이\\\\Img_000_0350.jpg', 'C:\\\\Users\\\\admin\\\\Desktop\\\\testCut/갈비구이\\\\Img_000_0351.jpg', 'C:\\\\Users\\\\admin\\\\Desktop\\\\testCut/갈비구이\\\\Img_000_0352.jpg', 'C:\\\\Users\\\\admin\\\\Desktop\\\\testCut/갈비구이\\\\Img_000_0353.jpg', 'C:\\\\Users\\\\admin\\\\Desktop\\\\testCut/갈비구이\\\\Img_000_0354.jpg', 'C:\\\\Users\\\\admin\\\\Desktop\\\\testCut/갈비구이\\\\Img_000_0355.jpg', 'C:\\\\Users\\\\admin\\\\Desktop\\\\testCut/갈비구이\\\\Img_000_0356.jpg', 'C:\\\\Users\\\\admin\\\\Desktop\\\\testCut/갈비구이\\\\Img_000_0357.jpg', 'C:\\\\Users\\\\admin\\\\Desktop\\\\testCut/갈비구이\\\\Img_000_0358.jpg', 'C:\\\\Users\\\\admin\\\\Desktop\\\\testCut/갈비구이\\\\Img_000_0359.jpg', 'C:\\\\Users\\\\admin\\\\Desktop\\\\testCut/갈비구이\\\\Img_000_0360.jpg', 'C:\\\\Users\\\\admin\\\\Desktop\\\\testCut/갈비구이\\\\Img_000_0361.jpg', 'C:\\\\Users\\\\admin\\\\Desktop\\\\testCut/갈비구이\\\\Img_000_0362.jpg', 'C:\\\\Users\\\\admin\\\\Desktop\\\\testCut/갈비구이\\\\Img_000_0363.jpg', 'C:\\\\Users\\\\admin\\\\Desktop\\\\testCut/갈비구이\\\\Img_000_0364.jpg', 'C:\\\\Users\\\\admin\\\\Desktop\\\\testCut/갈비구이\\\\Img_000_0365.jpg', 'C:\\\\Users\\\\admin\\\\Desktop\\\\testCut/갈비구이\\\\Img_000_0366.jpg', 'C:\\\\Users\\\\admin\\\\Desktop\\\\testCut/갈비구이\\\\Img_000_0367.jpg', 'C:\\\\Users\\\\admin\\\\Desktop\\\\testCut/갈비구이\\\\Img_000_0368.jpg', 'C:\\\\Users\\\\admin\\\\Desktop\\\\testCut/갈비구이\\\\Img_000_0369.jpg', 'C:\\\\Users\\\\admin\\\\Desktop\\\\testCut/갈비구이\\\\Img_000_0370.jpg', 'C:\\\\Users\\\\admin\\\\Desktop\\\\testCut/갈비구이\\\\Img_000_0371.jpg', 'C:\\\\Users\\\\admin\\\\Desktop\\\\testCut/갈비구이\\\\Img_000_0372.jpg', 'C:\\\\Users\\\\admin\\\\Desktop\\\\testCut/갈비구이\\\\Img_000_0373.jpg', 'C:\\\\Users\\\\admin\\\\Desktop\\\\testCut/갈비구이\\\\Img_000_0374.jpg', 'C:\\\\Users\\\\admin\\\\Desktop\\\\testCut/갈비구이\\\\Img_000_0375.jpg', 'C:\\\\Users\\\\admin\\\\Desktop\\\\testCut/갈비구이\\\\Img_000_0376.jpg', 'C:\\\\Users\\\\admin\\\\Desktop\\\\testCut/갈비구이\\\\Img_000_0377.jpg', 'C:\\\\Users\\\\admin\\\\Desktop\\\\testCut/갈비구이\\\\Img_000_0378.jpg', 'C:\\\\Users\\\\admin\\\\Desktop\\\\testCut/갈비구이\\\\Img_000_0379.jpg', 'C:\\\\Users\\\\admin\\\\Desktop\\\\testCut/갈비구이\\\\Img_000_0380.jpg', 'C:\\\\Users\\\\admin\\\\Desktop\\\\testCut/갈비구이\\\\Img_000_0381.jpg', 'C:\\\\Users\\\\admin\\\\Desktop\\\\testCut/갈비구이\\\\Img_000_0382.jpg', 'C:\\\\Users\\\\admin\\\\Desktop\\\\testCut/갈비구이\\\\Img_000_0383.jpg', 'C:\\\\Users\\\\admin\\\\Desktop\\\\testCut/갈비구이\\\\Img_000_0384.jpg', 'C:\\\\Users\\\\admin\\\\Desktop\\\\testCut/갈비구이\\\\Img_000_0385.jpg', 'C:\\\\Users\\\\admin\\\\Desktop\\\\testCut/갈비구이\\\\Img_000_0386.jpg', 'C:\\\\Users\\\\admin\\\\Desktop\\\\testCut/갈비구이\\\\Img_000_0387.jpg', 'C:\\\\Users\\\\admin\\\\Desktop\\\\testCut/갈비구이\\\\Img_000_0388.jpg', 'C:\\\\Users\\\\admin\\\\Desktop\\\\testCut/갈비구이\\\\Img_000_0389.jpg', 'C:\\\\Users\\\\admin\\\\Desktop\\\\testCut/갈비구이\\\\Img_000_0390.jpg', 'C:\\\\Users\\\\admin\\\\Desktop\\\\testCut/갈비구이\\\\Img_000_0391.jpg', 'C:\\\\Users\\\\admin\\\\Desktop\\\\testCut/갈비구이\\\\Img_000_0392.jpg', 'C:\\\\Users\\\\admin\\\\Desktop\\\\testCut/갈비구이\\\\Img_000_0393.jpg', 'C:\\\\Users\\\\admin\\\\Desktop\\\\testCut/갈비구이\\\\Img_000_0394.jpg', 'C:\\\\Users\\\\admin\\\\Desktop\\\\testCut/갈비구이\\\\Img_000_0395.jpg', 'C:\\\\Users\\\\admin\\\\Desktop\\\\testCut/갈비구이\\\\Img_000_0396.jpg', 'C:\\\\Users\\\\admin\\\\Desktop\\\\testCut/갈비구이\\\\Img_000_0397.jpg', 'C:\\\\Users\\\\admin\\\\Desktop\\\\testCut/갈비구이\\\\Img_000_0398.jpg', 'C:\\\\Users\\\\admin\\\\Desktop\\\\testCut/갈비구이\\\\Img_000_0399.jpg', 'C:\\\\Users\\\\admin\\\\Desktop\\\\testCut/갈비구이\\\\Img_000_0400.jpg', 'C:\\\\Users\\\\admin\\\\Desktop\\\\testCut/갈비구이\\\\Img_000_0401.jpg', 'C:\\\\Users\\\\admin\\\\Desktop\\\\testCut/갈비구이\\\\Img_000_0402.jpg', 'C:\\\\Users\\\\admin\\\\Desktop\\\\testCut/갈비구이\\\\Img_000_0403.jpg', 'C:\\\\Users\\\\admin\\\\Desktop\\\\testCut/갈비구이\\\\Img_000_0404.jpg', 'C:\\\\Users\\\\admin\\\\Desktop\\\\testCut/갈비구이\\\\Img_000_0406.jpg', 'C:\\\\Users\\\\admin\\\\Desktop\\\\testCut/갈비구이\\\\Img_000_0408.jpg', 'C:\\\\Users\\\\admin\\\\Desktop\\\\testCut/갈비구이\\\\Img_000_0409.jpg', 'C:\\\\Users\\\\admin\\\\Desktop\\\\testCut/갈비구이\\\\Img_000_0410.jpg', 'C:\\\\Users\\\\admin\\\\Desktop\\\\testCut/갈비구이\\\\Img_000_0411.jpg', 'C:\\\\Users\\\\admin\\\\Desktop\\\\testCut/갈비구이\\\\Img_000_0412.jpg', 'C:\\\\Users\\\\admin\\\\Desktop\\\\testCut/갈비구이\\\\Img_000_0413.jpg', 'C:\\\\Users\\\\admin\\\\Desktop\\\\testCut/갈비구이\\\\Img_000_0414.jpg', 'C:\\\\Users\\\\admin\\\\Desktop\\\\testCut/갈비구이\\\\Img_000_0415.jpg', 'C:\\\\Users\\\\admin\\\\Desktop\\\\testCut/갈비구이\\\\Img_000_0416.jpg', 'C:\\\\Users\\\\admin\\\\Desktop\\\\testCut/갈비구이\\\\Img_000_0417.jpg', 'C:\\\\Users\\\\admin\\\\Desktop\\\\testCut/갈비구이\\\\Img_000_0418.jpg', 'C:\\\\Users\\\\admin\\\\Desktop\\\\testCut/갈비구이\\\\Img_000_0419.jpg', 'C:\\\\Users\\\\admin\\\\Desktop\\\\testCut/갈비구이\\\\Img_000_0420.jpg', 'C:\\\\Users\\\\admin\\\\Desktop\\\\testCut/갈비구이\\\\Img_000_0421.jpg', 'C:\\\\Users\\\\admin\\\\Desktop\\\\testCut/갈비구이\\\\Img_000_0422.jpg', 'C:\\\\Users\\\\admin\\\\Desktop\\\\testCut/갈비구이\\\\Img_000_0423.jpg', 'C:\\\\Users\\\\admin\\\\Desktop\\\\testCut/갈비구이\\\\Img_000_0424.jpg', 'C:\\\\Users\\\\admin\\\\Desktop\\\\testCut/갈비구이\\\\Img_000_0425.jpg', 'C:\\\\Users\\\\admin\\\\Desktop\\\\testCut/갈비구이\\\\Img_000_0426.jpg', 'C:\\\\Users\\\\admin\\\\Desktop\\\\testCut/갈비구이\\\\Img_000_0427.jpg', 'C:\\\\Users\\\\admin\\\\Desktop\\\\testCut/갈비구이\\\\Img_000_0428.jpg', 'C:\\\\Users\\\\admin\\\\Desktop\\\\testCut/갈비구이\\\\Img_000_0429.jpg', 'C:\\\\Users\\\\admin\\\\Desktop\\\\testCut/갈비구이\\\\Img_000_0430.jpg', 'C:\\\\Users\\\\admin\\\\Desktop\\\\testCut/갈비구이\\\\Img_000_0431.jpg', 'C:\\\\Users\\\\admin\\\\Desktop\\\\testCut/갈비구이\\\\Img_000_0432.jpg', 'C:\\\\Users\\\\admin\\\\Desktop\\\\testCut/갈비구이\\\\Img_000_0433.jpg', 'C:\\\\Users\\\\admin\\\\Desktop\\\\testCut/갈비구이\\\\Img_000_0434.jpg', 'C:\\\\Users\\\\admin\\\\Desktop\\\\testCut/갈비구이\\\\Img_000_0435.jpg', 'C:\\\\Users\\\\admin\\\\Desktop\\\\testCut/갈비구이\\\\Img_000_0436.jpg', 'C:\\\\Users\\\\admin\\\\Desktop\\\\testCut/갈비구이\\\\Img_000_0437.jpg', 'C:\\\\Users\\\\admin\\\\Desktop\\\\testCut/갈비구이\\\\Img_000_0438.jpg', 'C:\\\\Users\\\\admin\\\\Desktop\\\\testCut/갈비구이\\\\Img_000_0439.jpg', 'C:\\\\Users\\\\admin\\\\Desktop\\\\testCut/갈비구이\\\\Img_000_0440.jpg', 'C:\\\\Users\\\\admin\\\\Desktop\\\\testCut/갈비구이\\\\Img_000_0441.jpg', 'C:\\\\Users\\\\admin\\\\Desktop\\\\testCut/갈비구이\\\\Img_000_0442.jpg', 'C:\\\\Users\\\\admin\\\\Desktop\\\\testCut/갈비구이\\\\Img_000_0443.jpg', 'C:\\\\Users\\\\admin\\\\Desktop\\\\testCut/갈비구이\\\\Img_000_0444.jpg', 'C:\\\\Users\\\\admin\\\\Desktop\\\\testCut/갈비구이\\\\Img_000_0445.jpg', 'C:\\\\Users\\\\admin\\\\Desktop\\\\testCut/갈비구이\\\\Img_000_0446.jpg', 'C:\\\\Users\\\\admin\\\\Desktop\\\\testCut/갈비구이\\\\Img_000_0447.jpg', 'C:\\\\Users\\\\admin\\\\Desktop\\\\testCut/갈비구이\\\\Img_000_0448.jpg', 'C:\\\\Users\\\\admin\\\\Desktop\\\\testCut/갈비구이\\\\Img_000_0449.jpg', 'C:\\\\Users\\\\admin\\\\Desktop\\\\testCut/갈비구이\\\\Img_000_0450.jpg', 'C:\\\\Users\\\\admin\\\\Desktop\\\\testCut/갈비구이\\\\Img_000_0451.jpg', 'C:\\\\Users\\\\admin\\\\Desktop\\\\testCut/갈비구이\\\\Img_000_0452.jpg', 'C:\\\\Users\\\\admin\\\\Desktop\\\\testCut/갈비구이\\\\Img_000_0453.jpg', 'C:\\\\Users\\\\admin\\\\Desktop\\\\testCut/갈비구이\\\\Img_000_0454.jpg', 'C:\\\\Users\\\\admin\\\\Desktop\\\\testCut/갈비구이\\\\Img_000_0456.jpg', 'C:\\\\Users\\\\admin\\\\Desktop\\\\testCut/갈비구이\\\\Img_000_0457.jpg', 'C:\\\\Users\\\\admin\\\\Desktop\\\\testCut/갈비구이\\\\Img_000_0458.jpg', 'C:\\\\Users\\\\admin\\\\Desktop\\\\testCut/갈비구이\\\\Img_000_0459.jpg', 'C:\\\\Users\\\\admin\\\\Desktop\\\\testCut/갈비구이\\\\Img_000_0460.jpg', 'C:\\\\Users\\\\admin\\\\Desktop\\\\testCut/갈비구이\\\\Img_000_0461.jpg', 'C:\\\\Users\\\\admin\\\\Desktop\\\\testCut/갈비구이\\\\Img_000_0462.jpg', 'C:\\\\Users\\\\admin\\\\Desktop\\\\testCut/갈비구이\\\\Img_000_0463.jpg', 'C:\\\\Users\\\\admin\\\\Desktop\\\\testCut/갈비구이\\\\Img_000_0464.jpg', 'C:\\\\Users\\\\admin\\\\Desktop\\\\testCut/갈비구이\\\\Img_000_0465.jpg', 'C:\\\\Users\\\\admin\\\\Desktop\\\\testCut/갈비구이\\\\Img_000_0466.jpg', 'C:\\\\Users\\\\admin\\\\Desktop\\\\testCut/갈비구이\\\\Img_000_0467.jpg', 'C:\\\\Users\\\\admin\\\\Desktop\\\\testCut/갈비구이\\\\Img_000_0468.jpg', 'C:\\\\Users\\\\admin\\\\Desktop\\\\testCut/갈비구이\\\\Img_000_0469.jpg', 'C:\\\\Users\\\\admin\\\\Desktop\\\\testCut/갈비구이\\\\Img_000_0470.jpg', 'C:\\\\Users\\\\admin\\\\Desktop\\\\testCut/갈비구이\\\\Img_000_0471.jpg', 'C:\\\\Users\\\\admin\\\\Desktop\\\\testCut/갈비구이\\\\Img_000_0472.jpg', 'C:\\\\Users\\\\admin\\\\Desktop\\\\testCut/갈비구이\\\\Img_000_0473.jpg', 'C:\\\\Users\\\\admin\\\\Desktop\\\\testCut/갈비구이\\\\Img_000_0474.jpg', 'C:\\\\Users\\\\admin\\\\Desktop\\\\testCut/갈비구이\\\\Img_000_0475.jpg', 'C:\\\\Users\\\\admin\\\\Desktop\\\\testCut/갈비구이\\\\Img_000_0476.jpg', 'C:\\\\Users\\\\admin\\\\Desktop\\\\testCut/갈비구이\\\\Img_000_0477.jpg', 'C:\\\\Users\\\\admin\\\\Desktop\\\\testCut/갈비구이\\\\Img_000_0478.jpg', 'C:\\\\Users\\\\admin\\\\Desktop\\\\testCut/갈비구이\\\\Img_000_0479.jpg', 'C:\\\\Users\\\\admin\\\\Desktop\\\\testCut/갈비구이\\\\Img_000_0480.jpg', 'C:\\\\Users\\\\admin\\\\Desktop\\\\testCut/갈비구이\\\\Img_000_0481.jpg', 'C:\\\\Users\\\\admin\\\\Desktop\\\\testCut/갈비구이\\\\Img_000_0482.jpg', 'C:\\\\Users\\\\admin\\\\Desktop\\\\testCut/갈비구이\\\\Img_000_0483.jpg', 'C:\\\\Users\\\\admin\\\\Desktop\\\\testCut/갈비구이\\\\Img_000_0484.jpg', 'C:\\\\Users\\\\admin\\\\Desktop\\\\testCut/갈비구이\\\\Img_000_0485.jpg', 'C:\\\\Users\\\\admin\\\\Desktop\\\\testCut/갈비구이\\\\Img_000_0486.jpg', 'C:\\\\Users\\\\admin\\\\Desktop\\\\testCut/갈비구이\\\\Img_000_0487.jpg', 'C:\\\\Users\\\\admin\\\\Desktop\\\\testCut/갈비구이\\\\Img_000_0488.jpg', 'C:\\\\Users\\\\admin\\\\Desktop\\\\testCut/갈비구이\\\\Img_000_0489.jpg', 'C:\\\\Users\\\\admin\\\\Desktop\\\\testCut/갈비구이\\\\Img_000_0490.jpg', 'C:\\\\Users\\\\admin\\\\Desktop\\\\testCut/갈비구이\\\\Img_000_0491.jpg', 'C:\\\\Users\\\\admin\\\\Desktop\\\\testCut/갈비구이\\\\Img_000_0492.jpg', 'C:\\\\Users\\\\admin\\\\Desktop\\\\testCut/갈비구이\\\\Img_000_0493.jpg', 'C:\\\\Users\\\\admin\\\\Desktop\\\\testCut/갈비구이\\\\Img_000_0494.jpg', 'C:\\\\Users\\\\admin\\\\Desktop\\\\testCut/갈비구이\\\\Img_000_0495.jpg', 'C:\\\\Users\\\\admin\\\\Desktop\\\\testCut/갈비구이\\\\Img_000_0496.jpg', 'C:\\\\Users\\\\admin\\\\Desktop\\\\testCut/갈비구이\\\\Img_000_0497.jpg', 'C:\\\\Users\\\\admin\\\\Desktop\\\\testCut/갈비구이\\\\Img_000_0498.jpg', 'C:\\\\Users\\\\admin\\\\Desktop\\\\testCut/갈비구이\\\\Img_000_0499.jpg', 'C:\\\\Users\\\\admin\\\\Desktop\\\\testCut/갈비구이\\\\Img_000_0500.jpg', 'C:\\\\Users\\\\admin\\\\Desktop\\\\testCut/갈비구이\\\\Img_000_0501.jpg', 'C:\\\\Users\\\\admin\\\\Desktop\\\\testCut/갈비구이\\\\Img_000_0502.jpg', 'C:\\\\Users\\\\admin\\\\Desktop\\\\testCut/갈비구이\\\\Img_000_0503.jpg', 'C:\\\\Users\\\\admin\\\\Desktop\\\\testCut/갈비구이\\\\Img_000_0504.jpg', 'C:\\\\Users\\\\admin\\\\Desktop\\\\testCut/갈비구이\\\\Img_000_0505.jpg', 'C:\\\\Users\\\\admin\\\\Desktop\\\\testCut/갈비구이\\\\Img_000_0506.jpg', 'C:\\\\Users\\\\admin\\\\Desktop\\\\testCut/갈비구이\\\\Img_000_0507.jpg', 'C:\\\\Users\\\\admin\\\\Desktop\\\\testCut/갈비구이\\\\Img_000_0508.jpg', 'C:\\\\Users\\\\admin\\\\Desktop\\\\testCut/갈비구이\\\\Img_000_0509.jpg', 'C:\\\\Users\\\\admin\\\\Desktop\\\\testCut/갈비구이\\\\Img_000_0510.jpg', 'C:\\\\Users\\\\admin\\\\Desktop\\\\testCut/갈비구이\\\\Img_000_0511.jpg', 'C:\\\\Users\\\\admin\\\\Desktop\\\\testCut/갈비구이\\\\Img_000_0512.jpg', 'C:\\\\Users\\\\admin\\\\Desktop\\\\testCut/갈비구이\\\\Img_000_0513.jpg', 'C:\\\\Users\\\\admin\\\\Desktop\\\\testCut/갈비구이\\\\Img_000_0514.jpg', 'C:\\\\Users\\\\admin\\\\Desktop\\\\testCut/갈비구이\\\\Img_000_0515.jpg', 'C:\\\\Users\\\\admin\\\\Desktop\\\\testCut/갈비구이\\\\Img_000_0516.jpg', 'C:\\\\Users\\\\admin\\\\Desktop\\\\testCut/갈비구이\\\\Img_000_0517.jpg', 'C:\\\\Users\\\\admin\\\\Desktop\\\\testCut/갈비구이\\\\Img_000_0518.jpg', 'C:\\\\Users\\\\admin\\\\Desktop\\\\testCut/갈비구이\\\\Img_000_0519.jpg', 'C:\\\\Users\\\\admin\\\\Desktop\\\\testCut/갈비구이\\\\Img_000_0520.jpg', 'C:\\\\Users\\\\admin\\\\Desktop\\\\testCut/갈비구이\\\\Img_000_0521.jpg', 'C:\\\\Users\\\\admin\\\\Desktop\\\\testCut/갈비구이\\\\Img_000_0522.jpg', 'C:\\\\Users\\\\admin\\\\Desktop\\\\testCut/갈비구이\\\\Img_000_0523.jpg', 'C:\\\\Users\\\\admin\\\\Desktop\\\\testCut/갈비구이\\\\Img_000_0524.jpg', 'C:\\\\Users\\\\admin\\\\Desktop\\\\testCut/갈비구이\\\\Img_000_0525.jpg', 'C:\\\\Users\\\\admin\\\\Desktop\\\\testCut/갈비구이\\\\Img_000_0526.jpg', 'C:\\\\Users\\\\admin\\\\Desktop\\\\testCut/갈비구이\\\\Img_000_0527.jpg', 'C:\\\\Users\\\\admin\\\\Desktop\\\\testCut/갈비구이\\\\Img_000_0528.jpg', 'C:\\\\Users\\\\admin\\\\Desktop\\\\testCut/갈비구이\\\\Img_000_0529.jpg', 'C:\\\\Users\\\\admin\\\\Desktop\\\\testCut/갈비구이\\\\Img_000_0530.jpg', 'C:\\\\Users\\\\admin\\\\Desktop\\\\testCut/갈비구이\\\\Img_000_0531.jpg', 'C:\\\\Users\\\\admin\\\\Desktop\\\\testCut/갈비구이\\\\Img_000_0532.jpg', 'C:\\\\Users\\\\admin\\\\Desktop\\\\testCut/갈비구이\\\\Img_000_0533.jpg', 'C:\\\\Users\\\\admin\\\\Desktop\\\\testCut/갈비구이\\\\Img_000_0534.jpg', 'C:\\\\Users\\\\admin\\\\Desktop\\\\testCut/갈비구이\\\\Img_000_0535.jpg', 'C:\\\\Users\\\\admin\\\\Desktop\\\\testCut/갈비구이\\\\Img_000_0536.jpg', 'C:\\\\Users\\\\admin\\\\Desktop\\\\testCut/갈비구이\\\\Img_000_0537.jpg', 'C:\\\\Users\\\\admin\\\\Desktop\\\\testCut/갈비구이\\\\Img_000_0538.jpg', 'C:\\\\Users\\\\admin\\\\Desktop\\\\testCut/갈비구이\\\\Img_000_0539.jpg', 'C:\\\\Users\\\\admin\\\\Desktop\\\\testCut/갈비구이\\\\Img_000_0540.jpg', 'C:\\\\Users\\\\admin\\\\Desktop\\\\testCut/갈비구이\\\\Img_000_0541.jpg', 'C:\\\\Users\\\\admin\\\\Desktop\\\\testCut/갈비구이\\\\Img_000_0542.jpg', 'C:\\\\Users\\\\admin\\\\Desktop\\\\testCut/갈비구이\\\\Img_000_0543.jpg', 'C:\\\\Users\\\\admin\\\\Desktop\\\\testCut/갈비구이\\\\Img_000_0544.jpg', 'C:\\\\Users\\\\admin\\\\Desktop\\\\testCut/갈비구이\\\\Img_000_0545.jpg', 'C:\\\\Users\\\\admin\\\\Desktop\\\\testCut/갈비구이\\\\Img_000_0546.jpg', 'C:\\\\Users\\\\admin\\\\Desktop\\\\testCut/갈비구이\\\\Img_000_0547.jpg', 'C:\\\\Users\\\\admin\\\\Desktop\\\\testCut/갈비구이\\\\Img_000_0548.jpg', 'C:\\\\Users\\\\admin\\\\Desktop\\\\testCut/갈비구이\\\\Img_000_0549.jpg', 'C:\\\\Users\\\\admin\\\\Desktop\\\\testCut/갈비구이\\\\Img_000_0550.jpg', 'C:\\\\Users\\\\admin\\\\Desktop\\\\testCut/갈비구이\\\\Img_000_0551.jpg', 'C:\\\\Users\\\\admin\\\\Desktop\\\\testCut/갈비구이\\\\Img_000_0552.jpg', 'C:\\\\Users\\\\admin\\\\Desktop\\\\testCut/갈비구이\\\\Img_000_0553.jpg', 'C:\\\\Users\\\\admin\\\\Desktop\\\\testCut/갈비구이\\\\Img_000_0554.jpg', 'C:\\\\Users\\\\admin\\\\Desktop\\\\testCut/갈비구이\\\\Img_000_0555.jpg', 'C:\\\\Users\\\\admin\\\\Desktop\\\\testCut/갈비구이\\\\Img_000_0556.jpg', 'C:\\\\Users\\\\admin\\\\Desktop\\\\testCut/갈비구이\\\\Img_000_0557.jpg', 'C:\\\\Users\\\\admin\\\\Desktop\\\\testCut/갈비구이\\\\Img_000_0558.jpg', 'C:\\\\Users\\\\admin\\\\Desktop\\\\testCut/갈비구이\\\\Img_000_0559.jpg', 'C:\\\\Users\\\\admin\\\\Desktop\\\\testCut/갈비구이\\\\Img_000_0560.jpg', 'C:\\\\Users\\\\admin\\\\Desktop\\\\testCut/갈비구이\\\\Img_000_0561.jpg', 'C:\\\\Users\\\\admin\\\\Desktop\\\\testCut/갈비구이\\\\Img_000_0562.jpg', 'C:\\\\Users\\\\admin\\\\Desktop\\\\testCut/갈비구이\\\\Img_000_0563.jpg', 'C:\\\\Users\\\\admin\\\\Desktop\\\\testCut/갈비구이\\\\Img_000_0564.jpg', 'C:\\\\Users\\\\admin\\\\Desktop\\\\testCut/갈비구이\\\\Img_000_0565.jpg', 'C:\\\\Users\\\\admin\\\\Desktop\\\\testCut/갈비구이\\\\Img_000_0566.jpg', 'C:\\\\Users\\\\admin\\\\Desktop\\\\testCut/갈비구이\\\\Img_000_0567.jpg', 'C:\\\\Users\\\\admin\\\\Desktop\\\\testCut/갈비구이\\\\Img_000_0568.jpg', 'C:\\\\Users\\\\admin\\\\Desktop\\\\testCut/갈비구이\\\\Img_000_0569.jpg', 'C:\\\\Users\\\\admin\\\\Desktop\\\\testCut/갈비구이\\\\Img_000_0570.jpg', 'C:\\\\Users\\\\admin\\\\Desktop\\\\testCut/갈비구이\\\\Img_000_0571.jpg', 'C:\\\\Users\\\\admin\\\\Desktop\\\\testCut/갈비구이\\\\Img_000_0572.jpg', 'C:\\\\Users\\\\admin\\\\Desktop\\\\testCut/갈비구이\\\\Img_000_0573.jpg', 'C:\\\\Users\\\\admin\\\\Desktop\\\\testCut/갈비구이\\\\Img_000_0574.jpg', 'C:\\\\Users\\\\admin\\\\Desktop\\\\testCut/갈비구이\\\\Img_000_0575.jpg', 'C:\\\\Users\\\\admin\\\\Desktop\\\\testCut/갈비구이\\\\Img_000_0576.jpg', 'C:\\\\Users\\\\admin\\\\Desktop\\\\testCut/갈비구이\\\\Img_000_0577.jpg', 'C:\\\\Users\\\\admin\\\\Desktop\\\\testCut/갈비구이\\\\Img_000_0578.jpg', 'C:\\\\Users\\\\admin\\\\Desktop\\\\testCut/갈비구이\\\\Img_000_0579.jpg', 'C:\\\\Users\\\\admin\\\\Desktop\\\\testCut/갈비구이\\\\Img_000_0580.jpg', 'C:\\\\Users\\\\admin\\\\Desktop\\\\testCut/갈비구이\\\\Img_000_0582.jpg', 'C:\\\\Users\\\\admin\\\\Desktop\\\\testCut/갈비구이\\\\Img_000_0583.jpg', 'C:\\\\Users\\\\admin\\\\Desktop\\\\testCut/갈비구이\\\\Img_000_0584.jpg', 'C:\\\\Users\\\\admin\\\\Desktop\\\\testCut/갈비구이\\\\Img_000_0585.jpg', 'C:\\\\Users\\\\admin\\\\Desktop\\\\testCut/갈비구이\\\\Img_000_0586.jpg', 'C:\\\\Users\\\\admin\\\\Desktop\\\\testCut/갈비구이\\\\Img_000_0587.jpg', 'C:\\\\Users\\\\admin\\\\Desktop\\\\testCut/갈비구이\\\\Img_000_0589.jpg', 'C:\\\\Users\\\\admin\\\\Desktop\\\\testCut/갈비구이\\\\Img_000_0590.jpg', 'C:\\\\Users\\\\admin\\\\Desktop\\\\testCut/갈비구이\\\\Img_000_0591.jpg', 'C:\\\\Users\\\\admin\\\\Desktop\\\\testCut/갈비구이\\\\Img_000_0592.jpg', 'C:\\\\Users\\\\admin\\\\Desktop\\\\testCut/갈비구이\\\\Img_000_0593.jpg', 'C:\\\\Users\\\\admin\\\\Desktop\\\\testCut/갈비구이\\\\Img_000_0594.jpg', 'C:\\\\Users\\\\admin\\\\Desktop\\\\testCut/갈비구이\\\\Img_000_0595.jpg', 'C:\\\\Users\\\\admin\\\\Desktop\\\\testCut/갈비구이\\\\Img_000_0596.jpg', 'C:\\\\Users\\\\admin\\\\Desktop\\\\testCut/갈비구이\\\\Img_000_0597.jpg', 'C:\\\\Users\\\\admin\\\\Desktop\\\\testCut/갈비구이\\\\Img_000_0598.jpg', 'C:\\\\Users\\\\admin\\\\Desktop\\\\testCut/갈비구이\\\\Img_000_0599.jpg', 'C:\\\\Users\\\\admin\\\\Desktop\\\\testCut/갈비구이\\\\Img_000_0600.jpg', 'C:\\\\Users\\\\admin\\\\Desktop\\\\testCut/갈비구이\\\\Img_000_0601.jpg', 'C:\\\\Users\\\\admin\\\\Desktop\\\\testCut/갈비구이\\\\Img_000_0602.jpg', 'C:\\\\Users\\\\admin\\\\Desktop\\\\testCut/갈비구이\\\\Img_000_0603.jpg', 'C:\\\\Users\\\\admin\\\\Desktop\\\\testCut/갈비구이\\\\Img_000_0604.jpg', 'C:\\\\Users\\\\admin\\\\Desktop\\\\testCut/갈비구이\\\\Img_000_0605.jpg', 'C:\\\\Users\\\\admin\\\\Desktop\\\\testCut/갈비구이\\\\Img_000_0606.jpg', 'C:\\\\Users\\\\admin\\\\Desktop\\\\testCut/갈비구이\\\\Img_000_0607.jpg', 'C:\\\\Users\\\\admin\\\\Desktop\\\\testCut/갈비구이\\\\Img_000_0608.jpg', 'C:\\\\Users\\\\admin\\\\Desktop\\\\testCut/갈비구이\\\\Img_000_0609.jpg', 'C:\\\\Users\\\\admin\\\\Desktop\\\\testCut/갈비구이\\\\Img_000_0610.jpg', 'C:\\\\Users\\\\admin\\\\Desktop\\\\testCut/갈비구이\\\\Img_000_0611.jpg', 'C:\\\\Users\\\\admin\\\\Desktop\\\\testCut/갈비구이\\\\Img_000_0612.jpg', 'C:\\\\Users\\\\admin\\\\Desktop\\\\testCut/갈비구이\\\\Img_000_0613.jpg', 'C:\\\\Users\\\\admin\\\\Desktop\\\\testCut/갈비구이\\\\Img_000_0614.jpg', 'C:\\\\Users\\\\admin\\\\Desktop\\\\testCut/갈비구이\\\\Img_000_0615.jpg', 'C:\\\\Users\\\\admin\\\\Desktop\\\\testCut/갈비구이\\\\Img_000_0616.jpg', 'C:\\\\Users\\\\admin\\\\Desktop\\\\testCut/갈비구이\\\\Img_000_0617.jpg', 'C:\\\\Users\\\\admin\\\\Desktop\\\\testCut/갈비구이\\\\Img_000_0618.jpg', 'C:\\\\Users\\\\admin\\\\Desktop\\\\testCut/갈비구이\\\\Img_000_0619.jpg', 'C:\\\\Users\\\\admin\\\\Desktop\\\\testCut/갈비구이\\\\Img_000_0620.jpg', 'C:\\\\Users\\\\admin\\\\Desktop\\\\testCut/갈비구이\\\\Img_000_0621.jpg', 'C:\\\\Users\\\\admin\\\\Desktop\\\\testCut/갈비구이\\\\Img_000_0622.jpg', 'C:\\\\Users\\\\admin\\\\Desktop\\\\testCut/갈비구이\\\\Img_000_0623.jpg', 'C:\\\\Users\\\\admin\\\\Desktop\\\\testCut/갈비구이\\\\Img_000_0624.jpg', 'C:\\\\Users\\\\admin\\\\Desktop\\\\testCut/갈비구이\\\\Img_000_0625.jpg', 'C:\\\\Users\\\\admin\\\\Desktop\\\\testCut/갈비구이\\\\Img_000_0626.jpg', 'C:\\\\Users\\\\admin\\\\Desktop\\\\testCut/갈비구이\\\\Img_000_0627.jpg', 'C:\\\\Users\\\\admin\\\\Desktop\\\\testCut/갈비구이\\\\Img_000_0628.jpg', 'C:\\\\Users\\\\admin\\\\Desktop\\\\testCut/갈비구이\\\\Img_000_0629.jpg', 'C:\\\\Users\\\\admin\\\\Desktop\\\\testCut/갈비구이\\\\Img_000_0630.jpg', 'C:\\\\Users\\\\admin\\\\Desktop\\\\testCut/갈비구이\\\\Img_000_0631.jpg', 'C:\\\\Users\\\\admin\\\\Desktop\\\\testCut/갈비구이\\\\Img_000_0632.jpg', 'C:\\\\Users\\\\admin\\\\Desktop\\\\testCut/갈비구이\\\\Img_000_0633.jpg', 'C:\\\\Users\\\\admin\\\\Desktop\\\\testCut/갈비구이\\\\Img_000_0634.jpg', 'C:\\\\Users\\\\admin\\\\Desktop\\\\testCut/갈비구이\\\\Img_000_0635.jpg', 'C:\\\\Users\\\\admin\\\\Desktop\\\\testCut/갈비구이\\\\Img_000_0636.jpg', 'C:\\\\Users\\\\admin\\\\Desktop\\\\testCut/갈비구이\\\\Img_000_0637.jpg', 'C:\\\\Users\\\\admin\\\\Desktop\\\\testCut/갈비구이\\\\Img_000_0638.jpg', 'C:\\\\Users\\\\admin\\\\Desktop\\\\testCut/갈비구이\\\\Img_000_0639.jpg', 'C:\\\\Users\\\\admin\\\\Desktop\\\\testCut/갈비구이\\\\Img_000_0640.jpg', 'C:\\\\Users\\\\admin\\\\Desktop\\\\testCut/갈비구이\\\\Img_000_0641.jpg', 'C:\\\\Users\\\\admin\\\\Desktop\\\\testCut/갈비구이\\\\Img_000_0642.jpg', 'C:\\\\Users\\\\admin\\\\Desktop\\\\testCut/갈비구이\\\\Img_000_0643.jpg', 'C:\\\\Users\\\\admin\\\\Desktop\\\\testCut/갈비구이\\\\Img_000_0644.jpg', 'C:\\\\Users\\\\admin\\\\Desktop\\\\testCut/갈비구이\\\\Img_000_0645.jpg', 'C:\\\\Users\\\\admin\\\\Desktop\\\\testCut/갈비구이\\\\Img_000_0646.jpg', 'C:\\\\Users\\\\admin\\\\Desktop\\\\testCut/갈비구이\\\\Img_000_0647.jpg', 'C:\\\\Users\\\\admin\\\\Desktop\\\\testCut/갈비구이\\\\Img_000_0648.jpg', 'C:\\\\Users\\\\admin\\\\Desktop\\\\testCut/갈비구이\\\\Img_000_0649.jpg', 'C:\\\\Users\\\\admin\\\\Desktop\\\\testCut/갈비구이\\\\Img_000_0650.jpg', 'C:\\\\Users\\\\admin\\\\Desktop\\\\testCut/갈비구이\\\\Img_000_0651.jpg', 'C:\\\\Users\\\\admin\\\\Desktop\\\\testCut/갈비구이\\\\Img_000_0652.jpg', 'C:\\\\Users\\\\admin\\\\Desktop\\\\testCut/갈비구이\\\\Img_000_0653.jpg', 'C:\\\\Users\\\\admin\\\\Desktop\\\\testCut/갈비구이\\\\Img_000_0654.jpg', 'C:\\\\Users\\\\admin\\\\Desktop\\\\testCut/갈비구이\\\\Img_000_0655.jpg', 'C:\\\\Users\\\\admin\\\\Desktop\\\\testCut/갈비구이\\\\Img_000_0656.jpg', 'C:\\\\Users\\\\admin\\\\Desktop\\\\testCut/갈비구이\\\\Img_000_0657.jpg', 'C:\\\\Users\\\\admin\\\\Desktop\\\\testCut/갈비구이\\\\Img_000_0658.jpg', 'C:\\\\Users\\\\admin\\\\Desktop\\\\testCut/갈비구이\\\\Img_000_0659.jpg', 'C:\\\\Users\\\\admin\\\\Desktop\\\\testCut/갈비구이\\\\Img_000_0660.jpg', 'C:\\\\Users\\\\admin\\\\Desktop\\\\testCut/갈비구이\\\\Img_000_0661.jpg', 'C:\\\\Users\\\\admin\\\\Desktop\\\\testCut/갈비구이\\\\Img_000_0662.jpg', 'C:\\\\Users\\\\admin\\\\Desktop\\\\testCut/갈비구이\\\\Img_000_0663.jpg', 'C:\\\\Users\\\\admin\\\\Desktop\\\\testCut/갈비구이\\\\Img_000_0664.jpg', 'C:\\\\Users\\\\admin\\\\Desktop\\\\testCut/갈비구이\\\\Img_000_0665.jpg', 'C:\\\\Users\\\\admin\\\\Desktop\\\\testCut/갈비구이\\\\Img_000_0666.jpg', 'C:\\\\Users\\\\admin\\\\Desktop\\\\testCut/갈비구이\\\\Img_000_0667.jpg', 'C:\\\\Users\\\\admin\\\\Desktop\\\\testCut/갈비구이\\\\Img_000_0668.jpg', 'C:\\\\Users\\\\admin\\\\Desktop\\\\testCut/갈비구이\\\\Img_000_0669.jpg', 'C:\\\\Users\\\\admin\\\\Desktop\\\\testCut/갈비구이\\\\Img_000_0670.jpg', 'C:\\\\Users\\\\admin\\\\Desktop\\\\testCut/갈비구이\\\\Img_000_0671.jpg', 'C:\\\\Users\\\\admin\\\\Desktop\\\\testCut/갈비구이\\\\Img_000_0672.jpg', 'C:\\\\Users\\\\admin\\\\Desktop\\\\testCut/갈비구이\\\\Img_000_0673.jpg', 'C:\\\\Users\\\\admin\\\\Desktop\\\\testCut/갈비구이\\\\Img_000_0674.jpg', 'C:\\\\Users\\\\admin\\\\Desktop\\\\testCut/갈비구이\\\\Img_000_0675.jpg', 'C:\\\\Users\\\\admin\\\\Desktop\\\\testCut/갈비구이\\\\Img_000_0676.jpg', 'C:\\\\Users\\\\admin\\\\Desktop\\\\testCut/갈비구이\\\\Img_000_0677.jpg', 'C:\\\\Users\\\\admin\\\\Desktop\\\\testCut/갈비구이\\\\Img_000_0678.jpg', 'C:\\\\Users\\\\admin\\\\Desktop\\\\testCut/갈비구이\\\\Img_000_0679.jpg', 'C:\\\\Users\\\\admin\\\\Desktop\\\\testCut/갈비구이\\\\Img_000_0680.jpg', 'C:\\\\Users\\\\admin\\\\Desktop\\\\testCut/갈비구이\\\\Img_000_0681.jpg', 'C:\\\\Users\\\\admin\\\\Desktop\\\\testCut/갈비구이\\\\Img_000_0682.jpg', 'C:\\\\Users\\\\admin\\\\Desktop\\\\testCut/갈비구이\\\\Img_000_0683.jpg', 'C:\\\\Users\\\\admin\\\\Desktop\\\\testCut/갈비구이\\\\Img_000_0684.jpg', 'C:\\\\Users\\\\admin\\\\Desktop\\\\testCut/갈비구이\\\\Img_000_0685.jpg', 'C:\\\\Users\\\\admin\\\\Desktop\\\\testCut/갈비구이\\\\Img_000_0686.jpg', 'C:\\\\Users\\\\admin\\\\Desktop\\\\testCut/갈비구이\\\\Img_000_0687.jpg', 'C:\\\\Users\\\\admin\\\\Desktop\\\\testCut/갈비구이\\\\Img_000_0688.jpg', 'C:\\\\Users\\\\admin\\\\Desktop\\\\testCut/갈비구이\\\\Img_000_0690.jpg', 'C:\\\\Users\\\\admin\\\\Desktop\\\\testCut/갈비구이\\\\Img_000_0691.jpg', 'C:\\\\Users\\\\admin\\\\Desktop\\\\testCut/갈비구이\\\\Img_000_0692.jpg', 'C:\\\\Users\\\\admin\\\\Desktop\\\\testCut/갈비구이\\\\Img_000_0693.jpg', 'C:\\\\Users\\\\admin\\\\Desktop\\\\testCut/갈비구이\\\\Img_000_0694.jpg', 'C:\\\\Users\\\\admin\\\\Desktop\\\\testCut/갈비구이\\\\Img_000_0695.jpg', 'C:\\\\Users\\\\admin\\\\Desktop\\\\testCut/갈비구이\\\\Img_000_0696.jpg', 'C:\\\\Users\\\\admin\\\\Desktop\\\\testCut/갈비구이\\\\Img_000_0697.jpg', 'C:\\\\Users\\\\admin\\\\Desktop\\\\testCut/갈비구이\\\\Img_000_0698.jpg', 'C:\\\\Users\\\\admin\\\\Desktop\\\\testCut/갈비구이\\\\Img_000_0699.jpg', 'C:\\\\Users\\\\admin\\\\Desktop\\\\testCut/갈비구이\\\\Img_000_0700.jpg', 'C:\\\\Users\\\\admin\\\\Desktop\\\\testCut/갈비구이\\\\Img_000_0701.jpg', 'C:\\\\Users\\\\admin\\\\Desktop\\\\testCut/갈비구이\\\\Img_000_0702.jpg', 'C:\\\\Users\\\\admin\\\\Desktop\\\\testCut/갈비구이\\\\Img_000_0703.jpg', 'C:\\\\Users\\\\admin\\\\Desktop\\\\testCut/갈비구이\\\\Img_000_0704.jpg', 'C:\\\\Users\\\\admin\\\\Desktop\\\\testCut/갈비구이\\\\Img_000_0705.jpg', 'C:\\\\Users\\\\admin\\\\Desktop\\\\testCut/갈비구이\\\\Img_000_0706.jpg', 'C:\\\\Users\\\\admin\\\\Desktop\\\\testCut/갈비구이\\\\Img_000_0708.jpg', 'C:\\\\Users\\\\admin\\\\Desktop\\\\testCut/갈비구이\\\\Img_000_0709.jpg', 'C:\\\\Users\\\\admin\\\\Desktop\\\\testCut/갈비구이\\\\Img_000_0710.jpg', 'C:\\\\Users\\\\admin\\\\Desktop\\\\testCut/갈비구이\\\\Img_000_0711.jpg', 'C:\\\\Users\\\\admin\\\\Desktop\\\\testCut/갈비구이\\\\Img_000_0712.jpg', 'C:\\\\Users\\\\admin\\\\Desktop\\\\testCut/갈비구이\\\\Img_000_0713.jpg', 'C:\\\\Users\\\\admin\\\\Desktop\\\\testCut/갈비구이\\\\Img_000_0714.jpg', 'C:\\\\Users\\\\admin\\\\Desktop\\\\testCut/갈비구이\\\\Img_000_0715.jpg', 'C:\\\\Users\\\\admin\\\\Desktop\\\\testCut/갈비구이\\\\Img_000_0716.jpg', 'C:\\\\Users\\\\admin\\\\Desktop\\\\testCut/갈비구이\\\\Img_000_0717.jpg', 'C:\\\\Users\\\\admin\\\\Desktop\\\\testCut/갈비구이\\\\Img_000_0718.jpg', 'C:\\\\Users\\\\admin\\\\Desktop\\\\testCut/갈비구이\\\\Img_000_0719.jpg', 'C:\\\\Users\\\\admin\\\\Desktop\\\\testCut/갈비구이\\\\Img_000_0720.jpg', 'C:\\\\Users\\\\admin\\\\Desktop\\\\testCut/갈비구이\\\\Img_000_0721.jpg', 'C:\\\\Users\\\\admin\\\\Desktop\\\\testCut/갈비구이\\\\Img_000_0722.jpg', 'C:\\\\Users\\\\admin\\\\Desktop\\\\testCut/갈비구이\\\\Img_000_0723.jpg', 'C:\\\\Users\\\\admin\\\\Desktop\\\\testCut/갈비구이\\\\Img_000_0724.jpg', 'C:\\\\Users\\\\admin\\\\Desktop\\\\testCut/갈비구이\\\\Img_000_0725.jpg', 'C:\\\\Users\\\\admin\\\\Desktop\\\\testCut/갈비구이\\\\Img_000_0726.jpg', 'C:\\\\Users\\\\admin\\\\Desktop\\\\testCut/갈비구이\\\\Img_000_0727.jpg', 'C:\\\\Users\\\\admin\\\\Desktop\\\\testCut/갈비구이\\\\Img_000_0728.jpg', 'C:\\\\Users\\\\admin\\\\Desktop\\\\testCut/갈비구이\\\\Img_000_0729.jpg', 'C:\\\\Users\\\\admin\\\\Desktop\\\\testCut/갈비구이\\\\Img_000_0730.jpg', 'C:\\\\Users\\\\admin\\\\Desktop\\\\testCut/갈비구이\\\\Img_000_0731.jpg', 'C:\\\\Users\\\\admin\\\\Desktop\\\\testCut/갈비구이\\\\Img_000_0732.jpg', 'C:\\\\Users\\\\admin\\\\Desktop\\\\testCut/갈비구이\\\\Img_000_0733.jpg', 'C:\\\\Users\\\\admin\\\\Desktop\\\\testCut/갈비구이\\\\Img_000_0734.jpg', 'C:\\\\Users\\\\admin\\\\Desktop\\\\testCut/갈비구이\\\\Img_000_0735.jpg', 'C:\\\\Users\\\\admin\\\\Desktop\\\\testCut/갈비구이\\\\Img_000_0736.jpg', 'C:\\\\Users\\\\admin\\\\Desktop\\\\testCut/갈비구이\\\\Img_000_0738.jpg', 'C:\\\\Users\\\\admin\\\\Desktop\\\\testCut/갈비구이\\\\Img_000_0739.jpg', 'C:\\\\Users\\\\admin\\\\Desktop\\\\testCut/갈비구이\\\\Img_000_0740.jpg', 'C:\\\\Users\\\\admin\\\\Desktop\\\\testCut/갈비구이\\\\Img_000_0741.jpg', 'C:\\\\Users\\\\admin\\\\Desktop\\\\testCut/갈비구이\\\\Img_000_0742.jpg', 'C:\\\\Users\\\\admin\\\\Desktop\\\\testCut/갈비구이\\\\Img_000_0743.jpg', 'C:\\\\Users\\\\admin\\\\Desktop\\\\testCut/갈비구이\\\\Img_000_0744.jpg', 'C:\\\\Users\\\\admin\\\\Desktop\\\\testCut/갈비구이\\\\Img_000_0745.jpg', 'C:\\\\Users\\\\admin\\\\Desktop\\\\testCut/갈비구이\\\\Img_000_0746.jpg', 'C:\\\\Users\\\\admin\\\\Desktop\\\\testCut/갈비구이\\\\Img_000_0747.jpg', 'C:\\\\Users\\\\admin\\\\Desktop\\\\testCut/갈비구이\\\\Img_000_0748.jpg', 'C:\\\\Users\\\\admin\\\\Desktop\\\\testCut/갈비구이\\\\Img_000_0749(1).jpg', 'C:\\\\Users\\\\admin\\\\Desktop\\\\testCut/갈비구이\\\\Img_000_0749(2).jpg', 'C:\\\\Users\\\\admin\\\\Desktop\\\\testCut/갈비구이\\\\Img_000_0749.jpg', 'C:\\\\Users\\\\admin\\\\Desktop\\\\testCut/갈비구이\\\\Img_000_0750.jpg', 'C:\\\\Users\\\\admin\\\\Desktop\\\\testCut/갈비구이\\\\Img_000_0751.jpg', 'C:\\\\Users\\\\admin\\\\Desktop\\\\testCut/갈비구이\\\\Img_000_0752.jpg', 'C:\\\\Users\\\\admin\\\\Desktop\\\\testCut/갈비구이\\\\Img_000_0753.jpg', 'C:\\\\Users\\\\admin\\\\Desktop\\\\testCut/갈비구이\\\\Img_000_0754.jpg', 'C:\\\\Users\\\\admin\\\\Desktop\\\\testCut/갈비구이\\\\Img_000_0755.jpg', 'C:\\\\Users\\\\admin\\\\Desktop\\\\testCut/갈비구이\\\\Img_000_0756.jpg', 'C:\\\\Users\\\\admin\\\\Desktop\\\\testCut/갈비구이\\\\Img_000_0757.jpg', 'C:\\\\Users\\\\admin\\\\Desktop\\\\testCut/갈비구이\\\\Img_000_0758.jpg', 'C:\\\\Users\\\\admin\\\\Desktop\\\\testCut/갈비구이\\\\Img_000_0759.jpg', 'C:\\\\Users\\\\admin\\\\Desktop\\\\testCut/갈비구이\\\\Img_000_0760.jpg', 'C:\\\\Users\\\\admin\\\\Desktop\\\\testCut/갈비구이\\\\Img_000_0761.jpg', 'C:\\\\Users\\\\admin\\\\Desktop\\\\testCut/갈비구이\\\\Img_000_0762.jpg', 'C:\\\\Users\\\\admin\\\\Desktop\\\\testCut/갈비구이\\\\Img_000_0763.jpg', 'C:\\\\Users\\\\admin\\\\Desktop\\\\testCut/갈비구이\\\\Img_000_0764.jpg', 'C:\\\\Users\\\\admin\\\\Desktop\\\\testCut/갈비구이\\\\Img_000_0765.jpg', 'C:\\\\Users\\\\admin\\\\Desktop\\\\testCut/갈비구이\\\\Img_000_0766.jpg', 'C:\\\\Users\\\\admin\\\\Desktop\\\\testCut/갈비구이\\\\Img_000_0767.jpg', 'C:\\\\Users\\\\admin\\\\Desktop\\\\testCut/갈비구이\\\\Img_000_0768.jpg', 'C:\\\\Users\\\\admin\\\\Desktop\\\\testCut/갈비구이\\\\Img_000_0769.jpg', 'C:\\\\Users\\\\admin\\\\Desktop\\\\testCut/갈비구이\\\\Img_000_0770.jpg', 'C:\\\\Users\\\\admin\\\\Desktop\\\\testCut/갈비구이\\\\Img_000_0771.jpg', 'C:\\\\Users\\\\admin\\\\Desktop\\\\testCut/갈비구이\\\\Img_000_0772.jpg', 'C:\\\\Users\\\\admin\\\\Desktop\\\\testCut/갈비구이\\\\Img_000_0773.jpg', 'C:\\\\Users\\\\admin\\\\Desktop\\\\testCut/갈비구이\\\\Img_000_0774.jpg', 'C:\\\\Users\\\\admin\\\\Desktop\\\\testCut/갈비구이\\\\Img_000_0775.jpg', 'C:\\\\Users\\\\admin\\\\Desktop\\\\testCut/갈비구이\\\\Img_000_0776.jpg', 'C:\\\\Users\\\\admin\\\\Desktop\\\\testCut/갈비구이\\\\Img_000_0777.jpg', 'C:\\\\Users\\\\admin\\\\Desktop\\\\testCut/갈비구이\\\\Img_000_0778.jpg', 'C:\\\\Users\\\\admin\\\\Desktop\\\\testCut/갈비구이\\\\Img_000_0779.jpg', 'C:\\\\Users\\\\admin\\\\Desktop\\\\testCut/갈비구이\\\\Img_000_0780.jpg', 'C:\\\\Users\\\\admin\\\\Desktop\\\\testCut/갈비구이\\\\Img_000_0781.jpg', 'C:\\\\Users\\\\admin\\\\Desktop\\\\testCut/갈비구이\\\\Img_000_0782.jpg', 'C:\\\\Users\\\\admin\\\\Desktop\\\\testCut/갈비구이\\\\Img_000_0783.jpg', 'C:\\\\Users\\\\admin\\\\Desktop\\\\testCut/갈비구이\\\\Img_000_0784.jpg', 'C:\\\\Users\\\\admin\\\\Desktop\\\\testCut/갈비구이\\\\Img_000_0785.jpg', 'C:\\\\Users\\\\admin\\\\Desktop\\\\testCut/갈비구이\\\\Img_000_0786.jpg', 'C:\\\\Users\\\\admin\\\\Desktop\\\\testCut/갈비구이\\\\Img_000_0787.jpg', 'C:\\\\Users\\\\admin\\\\Desktop\\\\testCut/갈비구이\\\\Img_000_0788.jpg', 'C:\\\\Users\\\\admin\\\\Desktop\\\\testCut/갈비구이\\\\Img_000_0789.jpg', 'C:\\\\Users\\\\admin\\\\Desktop\\\\testCut/갈비구이\\\\Img_000_0790.jpg', 'C:\\\\Users\\\\admin\\\\Desktop\\\\testCut/갈비구이\\\\Img_000_0791.jpg', 'C:\\\\Users\\\\admin\\\\Desktop\\\\testCut/갈비구이\\\\Img_000_0792.jpg', 'C:\\\\Users\\\\admin\\\\Desktop\\\\testCut/갈비구이\\\\Img_000_0793.jpg', 'C:\\\\Users\\\\admin\\\\Desktop\\\\testCut/갈비구이\\\\Img_000_0794.jpg', 'C:\\\\Users\\\\admin\\\\Desktop\\\\testCut/갈비구이\\\\Img_000_0795.jpg', 'C:\\\\Users\\\\admin\\\\Desktop\\\\testCut/갈비구이\\\\Img_000_0796.jpg', 'C:\\\\Users\\\\admin\\\\Desktop\\\\testCut/갈비구이\\\\Img_000_0797.jpg', 'C:\\\\Users\\\\admin\\\\Desktop\\\\testCut/갈비구이\\\\Img_000_0798.jpg', 'C:\\\\Users\\\\admin\\\\Desktop\\\\testCut/갈비구이\\\\Img_000_0799.jpg', 'C:\\\\Users\\\\admin\\\\Desktop\\\\testCut/갈비구이\\\\Img_000_0800.jpg', 'C:\\\\Users\\\\admin\\\\Desktop\\\\testCut/갈비구이\\\\Img_000_0801.jpg', 'C:\\\\Users\\\\admin\\\\Desktop\\\\testCut/갈비구이\\\\Img_000_0803.jpg', 'C:\\\\Users\\\\admin\\\\Desktop\\\\testCut/갈비구이\\\\Img_000_0804.jpg', 'C:\\\\Users\\\\admin\\\\Desktop\\\\testCut/갈비구이\\\\Img_000_0805.jpg', 'C:\\\\Users\\\\admin\\\\Desktop\\\\testCut/갈비구이\\\\Img_000_0806.jpg', 'C:\\\\Users\\\\admin\\\\Desktop\\\\testCut/갈비구이\\\\Img_000_0807.jpg', 'C:\\\\Users\\\\admin\\\\Desktop\\\\testCut/갈비구이\\\\Img_000_0808.jpg', 'C:\\\\Users\\\\admin\\\\Desktop\\\\testCut/갈비구이\\\\Img_000_0809(1).jpg', 'C:\\\\Users\\\\admin\\\\Desktop\\\\testCut/갈비구이\\\\Img_000_0809.jpg', 'C:\\\\Users\\\\admin\\\\Desktop\\\\testCut/갈비구이\\\\Img_000_0810.jpg', 'C:\\\\Users\\\\admin\\\\Desktop\\\\testCut/갈비구이\\\\Img_000_0811.jpg', 'C:\\\\Users\\\\admin\\\\Desktop\\\\testCut/갈비구이\\\\Img_000_0812.jpg', 'C:\\\\Users\\\\admin\\\\Desktop\\\\testCut/갈비구이\\\\Img_000_0813.jpg', 'C:\\\\Users\\\\admin\\\\Desktop\\\\testCut/갈비구이\\\\Img_000_0814.jpg', 'C:\\\\Users\\\\admin\\\\Desktop\\\\testCut/갈비구이\\\\Img_000_0815.jpg', 'C:\\\\Users\\\\admin\\\\Desktop\\\\testCut/갈비구이\\\\Img_000_0816.jpg', 'C:\\\\Users\\\\admin\\\\Desktop\\\\testCut/갈비구이\\\\Img_000_0817.jpg', 'C:\\\\Users\\\\admin\\\\Desktop\\\\testCut/갈비구이\\\\Img_000_0818.jpg', 'C:\\\\Users\\\\admin\\\\Desktop\\\\testCut/갈비구이\\\\Img_000_0819.jpg', 'C:\\\\Users\\\\admin\\\\Desktop\\\\testCut/갈비구이\\\\Img_000_0820.jpg', 'C:\\\\Users\\\\admin\\\\Desktop\\\\testCut/갈비구이\\\\Img_000_0821.jpg', 'C:\\\\Users\\\\admin\\\\Desktop\\\\testCut/갈비구이\\\\Img_000_0822.jpg', 'C:\\\\Users\\\\admin\\\\Desktop\\\\testCut/갈비구이\\\\Img_000_0823.jpg', 'C:\\\\Users\\\\admin\\\\Desktop\\\\testCut/갈비구이\\\\Img_000_0824.jpg', 'C:\\\\Users\\\\admin\\\\Desktop\\\\testCut/갈비구이\\\\Img_000_0825.jpg', 'C:\\\\Users\\\\admin\\\\Desktop\\\\testCut/갈비구이\\\\Img_000_0826.jpg', 'C:\\\\Users\\\\admin\\\\Desktop\\\\testCut/갈비구이\\\\Img_000_0827.jpg', 'C:\\\\Users\\\\admin\\\\Desktop\\\\testCut/갈비구이\\\\Img_000_0828.jpg', 'C:\\\\Users\\\\admin\\\\Desktop\\\\testCut/갈비구이\\\\Img_000_0829.jpg', 'C:\\\\Users\\\\admin\\\\Desktop\\\\testCut/갈비구이\\\\Img_000_0830.jpg', 'C:\\\\Users\\\\admin\\\\Desktop\\\\testCut/갈비구이\\\\Img_000_0831.jpg', 'C:\\\\Users\\\\admin\\\\Desktop\\\\testCut/갈비구이\\\\Img_000_0832.jpg', 'C:\\\\Users\\\\admin\\\\Desktop\\\\testCut/갈비구이\\\\Img_000_0833.jpg', 'C:\\\\Users\\\\admin\\\\Desktop\\\\testCut/갈비구이\\\\Img_000_0834.jpg', 'C:\\\\Users\\\\admin\\\\Desktop\\\\testCut/갈비구이\\\\Img_000_0835.jpg', 'C:\\\\Users\\\\admin\\\\Desktop\\\\testCut/갈비구이\\\\Img_000_0836.jpg', 'C:\\\\Users\\\\admin\\\\Desktop\\\\testCut/갈비구이\\\\Img_000_0837.jpg', 'C:\\\\Users\\\\admin\\\\Desktop\\\\testCut/갈비구이\\\\Img_000_0838.jpg', 'C:\\\\Users\\\\admin\\\\Desktop\\\\testCut/갈비구이\\\\Img_000_0839.jpg', 'C:\\\\Users\\\\admin\\\\Desktop\\\\testCut/갈비구이\\\\Img_000_0840.jpg', 'C:\\\\Users\\\\admin\\\\Desktop\\\\testCut/갈비구이\\\\Img_000_0841.jpg', 'C:\\\\Users\\\\admin\\\\Desktop\\\\testCut/갈비구이\\\\Img_000_0842.jpg', 'C:\\\\Users\\\\admin\\\\Desktop\\\\testCut/갈비구이\\\\Img_000_0843.jpg', 'C:\\\\Users\\\\admin\\\\Desktop\\\\testCut/갈비구이\\\\Img_000_0844.jpg', 'C:\\\\Users\\\\admin\\\\Desktop\\\\testCut/갈비구이\\\\Img_000_0845.jpg', 'C:\\\\Users\\\\admin\\\\Desktop\\\\testCut/갈비구이\\\\Img_000_0846.jpg', 'C:\\\\Users\\\\admin\\\\Desktop\\\\testCut/갈비구이\\\\Img_000_0847.jpg', 'C:\\\\Users\\\\admin\\\\Desktop\\\\testCut/갈비구이\\\\Img_000_0848.jpg', 'C:\\\\Users\\\\admin\\\\Desktop\\\\testCut/갈비구이\\\\Img_000_0849.jpg', 'C:\\\\Users\\\\admin\\\\Desktop\\\\testCut/갈비구이\\\\Img_000_0850.jpg', 'C:\\\\Users\\\\admin\\\\Desktop\\\\testCut/갈비구이\\\\Img_000_0851.jpg', 'C:\\\\Users\\\\admin\\\\Desktop\\\\testCut/갈비구이\\\\Img_000_0852.jpg', 'C:\\\\Users\\\\admin\\\\Desktop\\\\testCut/갈비구이\\\\Img_000_0853.jpg', 'C:\\\\Users\\\\admin\\\\Desktop\\\\testCut/갈비구이\\\\Img_000_0854.jpg', 'C:\\\\Users\\\\admin\\\\Desktop\\\\testCut/갈비구이\\\\Img_000_0855.jpg', 'C:\\\\Users\\\\admin\\\\Desktop\\\\testCut/갈비구이\\\\Img_000_0856.jpg', 'C:\\\\Users\\\\admin\\\\Desktop\\\\testCut/갈비구이\\\\Img_000_0857.jpg', 'C:\\\\Users\\\\admin\\\\Desktop\\\\testCut/갈비구이\\\\Img_000_0858.jpg', 'C:\\\\Users\\\\admin\\\\Desktop\\\\testCut/갈비구이\\\\Img_000_0859.jpg', 'C:\\\\Users\\\\admin\\\\Desktop\\\\testCut/갈비구이\\\\Img_000_0860.jpg', 'C:\\\\Users\\\\admin\\\\Desktop\\\\testCut/갈비구이\\\\Img_000_0861.jpg', 'C:\\\\Users\\\\admin\\\\Desktop\\\\testCut/갈비구이\\\\Img_000_0862.jpg', 'C:\\\\Users\\\\admin\\\\Desktop\\\\testCut/갈비구이\\\\Img_000_0863.jpg', 'C:\\\\Users\\\\admin\\\\Desktop\\\\testCut/갈비구이\\\\Img_000_0864.jpg', 'C:\\\\Users\\\\admin\\\\Desktop\\\\testCut/갈비구이\\\\Img_000_0865.jpg', 'C:\\\\Users\\\\admin\\\\Desktop\\\\testCut/갈비구이\\\\Img_000_0866.jpg', 'C:\\\\Users\\\\admin\\\\Desktop\\\\testCut/갈비구이\\\\Img_000_0867.jpg', 'C:\\\\Users\\\\admin\\\\Desktop\\\\testCut/갈비구이\\\\Img_000_0868.jpg', 'C:\\\\Users\\\\admin\\\\Desktop\\\\testCut/갈비구이\\\\Img_000_0869.jpg', 'C:\\\\Users\\\\admin\\\\Desktop\\\\testCut/갈비구이\\\\Img_000_0870.jpg', 'C:\\\\Users\\\\admin\\\\Desktop\\\\testCut/갈비구이\\\\Img_000_0871.jpg', 'C:\\\\Users\\\\admin\\\\Desktop\\\\testCut/갈비구이\\\\Img_000_0872.jpg', 'C:\\\\Users\\\\admin\\\\Desktop\\\\testCut/갈비구이\\\\Img_000_0873.jpg', 'C:\\\\Users\\\\admin\\\\Desktop\\\\testCut/갈비구이\\\\Img_000_0874.jpg', 'C:\\\\Users\\\\admin\\\\Desktop\\\\testCut/갈비구이\\\\Img_000_0875.jpg', 'C:\\\\Users\\\\admin\\\\Desktop\\\\testCut/갈비구이\\\\Img_000_0876.jpg', 'C:\\\\Users\\\\admin\\\\Desktop\\\\testCut/갈비구이\\\\Img_000_0877.jpg', 'C:\\\\Users\\\\admin\\\\Desktop\\\\testCut/갈비구이\\\\Img_000_0879.jpg', 'C:\\\\Users\\\\admin\\\\Desktop\\\\testCut/갈비구이\\\\Img_000_0880.jpg', 'C:\\\\Users\\\\admin\\\\Desktop\\\\testCut/갈비구이\\\\Img_000_0881.jpg', 'C:\\\\Users\\\\admin\\\\Desktop\\\\testCut/갈비구이\\\\Img_000_0882.jpg', 'C:\\\\Users\\\\admin\\\\Desktop\\\\testCut/갈비구이\\\\Img_000_0883.jpg', 'C:\\\\Users\\\\admin\\\\Desktop\\\\testCut/갈비구이\\\\Img_000_0884.jpg', 'C:\\\\Users\\\\admin\\\\Desktop\\\\testCut/갈비구이\\\\Img_000_0885.jpg', 'C:\\\\Users\\\\admin\\\\Desktop\\\\testCut/갈비구이\\\\Img_000_0886.jpg', 'C:\\\\Users\\\\admin\\\\Desktop\\\\testCut/갈비구이\\\\Img_000_0887.jpg', 'C:\\\\Users\\\\admin\\\\Desktop\\\\testCut/갈비구이\\\\Img_000_0888.jpg', 'C:\\\\Users\\\\admin\\\\Desktop\\\\testCut/갈비구이\\\\Img_000_0889.jpg', 'C:\\\\Users\\\\admin\\\\Desktop\\\\testCut/갈비구이\\\\Img_000_0890.jpg', 'C:\\\\Users\\\\admin\\\\Desktop\\\\testCut/갈비구이\\\\Img_000_0891.jpg', 'C:\\\\Users\\\\admin\\\\Desktop\\\\testCut/갈비구이\\\\Img_000_0892.jpg', 'C:\\\\Users\\\\admin\\\\Desktop\\\\testCut/갈비구이\\\\Img_000_0893.jpg', 'C:\\\\Users\\\\admin\\\\Desktop\\\\testCut/갈비구이\\\\Img_000_0894.jpg', 'C:\\\\Users\\\\admin\\\\Desktop\\\\testCut/갈비구이\\\\Img_000_0895.jpg', 'C:\\\\Users\\\\admin\\\\Desktop\\\\testCut/갈비구이\\\\Img_000_0896.jpg', 'C:\\\\Users\\\\admin\\\\Desktop\\\\testCut/갈비구이\\\\Img_000_0897.jpg', 'C:\\\\Users\\\\admin\\\\Desktop\\\\testCut/갈비구이\\\\Img_000_0898.jpg', 'C:\\\\Users\\\\admin\\\\Desktop\\\\testCut/갈비구이\\\\Img_000_0899.jpg', 'C:\\\\Users\\\\admin\\\\Desktop\\\\testCut/갈비구이\\\\Img_000_0900.jpg', 'C:\\\\Users\\\\admin\\\\Desktop\\\\testCut/갈비구이\\\\Img_000_0901.jpg', 'C:\\\\Users\\\\admin\\\\Desktop\\\\testCut/갈비구이\\\\Img_000_0902.jpg', 'C:\\\\Users\\\\admin\\\\Desktop\\\\testCut/갈비구이\\\\Img_000_0903.jpg', 'C:\\\\Users\\\\admin\\\\Desktop\\\\testCut/갈비구이\\\\Img_000_0904.jpg', 'C:\\\\Users\\\\admin\\\\Desktop\\\\testCut/갈비구이\\\\Img_000_0905.jpg', 'C:\\\\Users\\\\admin\\\\Desktop\\\\testCut/갈비구이\\\\Img_000_0906.jpg', 'C:\\\\Users\\\\admin\\\\Desktop\\\\testCut/갈비구이\\\\Img_000_0907.jpg', 'C:\\\\Users\\\\admin\\\\Desktop\\\\testCut/갈비구이\\\\Img_000_0908.jpg', 'C:\\\\Users\\\\admin\\\\Desktop\\\\testCut/갈비구이\\\\Img_000_0909.jpg', 'C:\\\\Users\\\\admin\\\\Desktop\\\\testCut/갈비구이\\\\Img_000_0911.jpg', 'C:\\\\Users\\\\admin\\\\Desktop\\\\testCut/갈비구이\\\\Img_000_0912.jpg', 'C:\\\\Users\\\\admin\\\\Desktop\\\\testCut/갈비구이\\\\Img_000_0913.jpg', 'C:\\\\Users\\\\admin\\\\Desktop\\\\testCut/갈비구이\\\\Img_000_0914.jpg', 'C:\\\\Users\\\\admin\\\\Desktop\\\\testCut/갈비구이\\\\Img_000_0915.jpg', 'C:\\\\Users\\\\admin\\\\Desktop\\\\testCut/갈비구이\\\\Img_000_0916.jpg', 'C:\\\\Users\\\\admin\\\\Desktop\\\\testCut/갈비구이\\\\Img_000_0917.jpg', 'C:\\\\Users\\\\admin\\\\Desktop\\\\testCut/갈비구이\\\\Img_000_0919.jpg', 'C:\\\\Users\\\\admin\\\\Desktop\\\\testCut/갈비구이\\\\Img_000_0920.jpg', 'C:\\\\Users\\\\admin\\\\Desktop\\\\testCut/갈비구이\\\\Img_000_0922.jpg', 'C:\\\\Users\\\\admin\\\\Desktop\\\\testCut/갈비구이\\\\Img_000_0923.jpg', 'C:\\\\Users\\\\admin\\\\Desktop\\\\testCut/갈비구이\\\\Img_000_0924.jpg', 'C:\\\\Users\\\\admin\\\\Desktop\\\\testCut/갈비구이\\\\Img_000_0925.jpg', 'C:\\\\Users\\\\admin\\\\Desktop\\\\testCut/갈비구이\\\\Img_000_0926.jpg', 'C:\\\\Users\\\\admin\\\\Desktop\\\\testCut/갈비구이\\\\Img_000_0927.jpg', 'C:\\\\Users\\\\admin\\\\Desktop\\\\testCut/갈비구이\\\\Img_000_0928.jpg', 'C:\\\\Users\\\\admin\\\\Desktop\\\\testCut/갈비구이\\\\Img_000_0929.jpg', 'C:\\\\Users\\\\admin\\\\Desktop\\\\testCut/갈비구이\\\\Img_000_0930.jpg', 'C:\\\\Users\\\\admin\\\\Desktop\\\\testCut/갈비구이\\\\Img_000_0931.jpg', 'C:\\\\Users\\\\admin\\\\Desktop\\\\testCut/갈비구이\\\\Img_000_0932.jpg', 'C:\\\\Users\\\\admin\\\\Desktop\\\\testCut/갈비구이\\\\Img_000_0933.jpg', 'C:\\\\Users\\\\admin\\\\Desktop\\\\testCut/갈비구이\\\\Img_000_0934.jpg', 'C:\\\\Users\\\\admin\\\\Desktop\\\\testCut/갈비구이\\\\Img_000_0935.jpg', 'C:\\\\Users\\\\admin\\\\Desktop\\\\testCut/갈비구이\\\\Img_000_0936.jpg', 'C:\\\\Users\\\\admin\\\\Desktop\\\\testCut/갈비구이\\\\Img_000_0937.jpg', 'C:\\\\Users\\\\admin\\\\Desktop\\\\testCut/갈비구이\\\\Img_000_0938.jpg', 'C:\\\\Users\\\\admin\\\\Desktop\\\\testCut/갈비구이\\\\Img_000_0939.jpg', 'C:\\\\Users\\\\admin\\\\Desktop\\\\testCut/갈비구이\\\\Img_000_0940.jpg', 'C:\\\\Users\\\\admin\\\\Desktop\\\\testCut/갈비구이\\\\Img_000_0941.jpg', 'C:\\\\Users\\\\admin\\\\Desktop\\\\testCut/갈비구이\\\\Img_000_0942.jpg', 'C:\\\\Users\\\\admin\\\\Desktop\\\\testCut/갈비구이\\\\Img_000_0943.jpg', 'C:\\\\Users\\\\admin\\\\Desktop\\\\testCut/갈비구이\\\\Img_000_0944.jpg', 'C:\\\\Users\\\\admin\\\\Desktop\\\\testCut/갈비구이\\\\Img_000_0945.jpg', 'C:\\\\Users\\\\admin\\\\Desktop\\\\testCut/갈비구이\\\\Img_000_0946.jpg', 'C:\\\\Users\\\\admin\\\\Desktop\\\\testCut/갈비구이\\\\Img_000_0947.jpg', 'C:\\\\Users\\\\admin\\\\Desktop\\\\testCut/갈비구이\\\\Img_000_0948.jpg', 'C:\\\\Users\\\\admin\\\\Desktop\\\\testCut/갈비구이\\\\Img_000_0949.jpg', 'C:\\\\Users\\\\admin\\\\Desktop\\\\testCut/갈비구이\\\\Img_000_0951.jpg', 'C:\\\\Users\\\\admin\\\\Desktop\\\\testCut/갈비구이\\\\Img_000_0952.jpg', 'C:\\\\Users\\\\admin\\\\Desktop\\\\testCut/갈비구이\\\\Img_000_0955.jpg', 'C:\\\\Users\\\\admin\\\\Desktop\\\\testCut/갈비구이\\\\Img_000_0956.jpg', 'C:\\\\Users\\\\admin\\\\Desktop\\\\testCut/갈비구이\\\\Img_000_0957.jpg', 'C:\\\\Users\\\\admin\\\\Desktop\\\\testCut/갈비구이\\\\Img_000_0958.jpg', 'C:\\\\Users\\\\admin\\\\Desktop\\\\testCut/갈비구이\\\\Img_000_0959.jpg', 'C:\\\\Users\\\\admin\\\\Desktop\\\\testCut/갈비구이\\\\Img_000_0960.jpg', 'C:\\\\Users\\\\admin\\\\Desktop\\\\testCut/갈비구이\\\\Img_000_0961.jpg', 'C:\\\\Users\\\\admin\\\\Desktop\\\\testCut/갈비구이\\\\Img_000_0962.jpg', 'C:\\\\Users\\\\admin\\\\Desktop\\\\testCut/갈비구이\\\\Img_000_0964.jpg', 'C:\\\\Users\\\\admin\\\\Desktop\\\\testCut/갈비구이\\\\Img_000_0965.jpg', 'C:\\\\Users\\\\admin\\\\Desktop\\\\testCut/갈비구이\\\\Img_000_0966.jpg', 'C:\\\\Users\\\\admin\\\\Desktop\\\\testCut/갈비구이\\\\Img_000_0968.jpg', 'C:\\\\Users\\\\admin\\\\Desktop\\\\testCut/갈비구이\\\\Img_000_0969.jpg', 'C:\\\\Users\\\\admin\\\\Desktop\\\\testCut/갈비구이\\\\Img_000_0970.jpg', 'C:\\\\Users\\\\admin\\\\Desktop\\\\testCut/갈비구이\\\\Img_000_0971.jpg', 'C:\\\\Users\\\\admin\\\\Desktop\\\\testCut/갈비구이\\\\Img_000_0972.jpg', 'C:\\\\Users\\\\admin\\\\Desktop\\\\testCut/갈비구이\\\\Img_000_0973.jpg', 'C:\\\\Users\\\\admin\\\\Desktop\\\\testCut/갈비구이\\\\Img_000_0974.jpg', 'C:\\\\Users\\\\admin\\\\Desktop\\\\testCut/갈비구이\\\\Img_000_0975.jpg', 'C:\\\\Users\\\\admin\\\\Desktop\\\\testCut/갈비구이\\\\Img_000_0976.jpg', 'C:\\\\Users\\\\admin\\\\Desktop\\\\testCut/갈비구이\\\\Img_000_0977.jpg', 'C:\\\\Users\\\\admin\\\\Desktop\\\\testCut/갈비구이\\\\Img_000_0978.jpg', 'C:\\\\Users\\\\admin\\\\Desktop\\\\testCut/갈비구이\\\\Img_000_0979.jpg', 'C:\\\\Users\\\\admin\\\\Desktop\\\\testCut/갈비구이\\\\Img_000_0980.jpg', 'C:\\\\Users\\\\admin\\\\Desktop\\\\testCut/갈비구이\\\\Img_000_0981.JPG', 'C:\\\\Users\\\\admin\\\\Desktop\\\\testCut/갈비구이\\\\Img_000_0982.JPG', 'C:\\\\Users\\\\admin\\\\Desktop\\\\testCut/갈비구이\\\\Img_000_0983.JPG', 'C:\\\\Users\\\\admin\\\\Desktop\\\\testCut/갈비구이\\\\Img_000_0984.jpg', 'C:\\\\Users\\\\admin\\\\Desktop\\\\testCut/갈비구이\\\\Img_000_0985.png', 'C:\\\\Users\\\\admin\\\\Desktop\\\\testCut/갈비구이\\\\Img_000_0986.JPG', 'C:\\\\Users\\\\admin\\\\Desktop\\\\testCut/갈비구이\\\\Img_000_0987.jpg', 'C:\\\\Users\\\\admin\\\\Desktop\\\\testCut/갈비구이\\\\Img_000_0988.jpg', 'C:\\\\Users\\\\admin\\\\Desktop\\\\testCut/갈비구이\\\\Img_000_0989.JPG', 'C:\\\\Users\\\\admin\\\\Desktop\\\\testCut/갈비구이\\\\Img_000_0990.JPG', 'C:\\\\Users\\\\admin\\\\Desktop\\\\testCut/갈비구이\\\\Img_000_0991.jpg', 'C:\\\\Users\\\\admin\\\\Desktop\\\\testCut/갈비구이\\\\Img_000_0992.jpg', 'C:\\\\Users\\\\admin\\\\Desktop\\\\testCut/갈비구이\\\\Img_000_0993.JPG', 'C:\\\\Users\\\\admin\\\\Desktop\\\\testCut/갈비구이\\\\Img_000_0994.JPG', 'C:\\\\Users\\\\admin\\\\Desktop\\\\testCut/갈비구이\\\\Img_000_0995.JPG', 'C:\\\\Users\\\\admin\\\\Desktop\\\\testCut/갈비구이\\\\Img_000_0996.jpg', 'C:\\\\Users\\\\admin\\\\Desktop\\\\testCut/갈비구이\\\\Img_000_0997.jpg', 'C:\\\\Users\\\\admin\\\\Desktop\\\\testCut/갈비구이\\\\Img_000_0998.jpg', 'C:\\\\Users\\\\admin\\\\Desktop\\\\testCut/갈비구이\\\\Img_000_0999.jpg']\n",
      "i:  1 None (640, 480) RGB 갈비구이\\Img_000_0001.jpg\n"
     ]
    },
    {
     "ename": "FileNotFoundError",
     "evalue": "[Errno 2] No such file or directory: './data/galbigui/resize_갈비구이\\\\Img_000_0001.jpg'",
     "output_type": "error",
     "traceback": [
      "\u001b[1;31m---------------------------------------------------------------------------\u001b[0m",
      "\u001b[1;31mFileNotFoundError\u001b[0m                         Traceback (most recent call last)",
      "\u001b[1;32m<ipython-input-17-7a009c261ec4>\u001b[0m in \u001b[0;36m<module>\u001b[1;34m\u001b[0m\n\u001b[0;32m     17\u001b[0m         \u001b[0mcnt\u001b[0m\u001b[1;33m+=\u001b[0m\u001b[1;36m1\u001b[0m\u001b[1;33m\u001b[0m\u001b[0m\n\u001b[0;32m     18\u001b[0m         \u001b[0mim\u001b[0m \u001b[1;33m=\u001b[0m \u001b[0mImageOps\u001b[0m\u001b[1;33m.\u001b[0m\u001b[0mfit\u001b[0m\u001b[1;33m(\u001b[0m\u001b[0mim\u001b[0m\u001b[1;33m,\u001b[0m \u001b[0msize\u001b[0m\u001b[1;33m,\u001b[0m \u001b[0mImage\u001b[0m\u001b[1;33m.\u001b[0m\u001b[0mANTIALIAS\u001b[0m\u001b[1;33m,\u001b[0m \u001b[1;36m0\u001b[0m\u001b[1;33m,\u001b[0m \u001b[1;33m(\u001b[0m\u001b[1;36m0.5\u001b[0m\u001b[1;33m,\u001b[0m \u001b[1;36m0.5\u001b[0m\u001b[1;33m)\u001b[0m\u001b[1;33m)\u001b[0m\u001b[1;33m\u001b[0m\u001b[0m\n\u001b[1;32m---> 19\u001b[1;33m         \u001b[0mim\u001b[0m\u001b[1;33m.\u001b[0m\u001b[0msave\u001b[0m\u001b[1;33m(\u001b[0m\u001b[0mtarget_resize_dir\u001b[0m\u001b[1;33m+\u001b[0m\u001b[1;34m\"resize_\"\u001b[0m\u001b[1;33m+\u001b[0m\u001b[0mfile\u001b[0m\u001b[1;33m.\u001b[0m\u001b[0msplit\u001b[0m\u001b[1;33m(\u001b[0m\u001b[1;34m\"/\"\u001b[0m\u001b[1;33m)\u001b[0m\u001b[1;33m[\u001b[0m\u001b[1;33m-\u001b[0m\u001b[1;36m1\u001b[0m\u001b[1;33m]\u001b[0m\u001b[1;33m.\u001b[0m\u001b[0msplit\u001b[0m\u001b[1;33m(\u001b[0m\u001b[1;34m\".\"\u001b[0m\u001b[1;33m)\u001b[0m\u001b[1;33m[\u001b[0m\u001b[1;36m0\u001b[0m\u001b[1;33m]\u001b[0m\u001b[1;33m+\u001b[0m\u001b[1;34m\".jpg\"\u001b[0m\u001b[1;33m,\u001b[0m \u001b[0mquality\u001b[0m\u001b[1;33m=\u001b[0m\u001b[1;36m100\u001b[0m\u001b[1;33m)\u001b[0m\u001b[1;33m\u001b[0m\u001b[0m\n\u001b[0m\u001b[0;32m     20\u001b[0m         \u001b[0mim\u001b[0m\u001b[1;33m.\u001b[0m\u001b[0mrotate\u001b[0m\u001b[1;33m(\u001b[0m\u001b[1;36m90\u001b[0m\u001b[1;33m)\u001b[0m\u001b[1;33m.\u001b[0m\u001b[0msave\u001b[0m\u001b[1;33m(\u001b[0m\u001b[0mtarget_rotate_dir\u001b[0m\u001b[1;33m+\u001b[0m\u001b[1;34m\"rotate_\"\u001b[0m\u001b[1;33m+\u001b[0m\u001b[0mfile\u001b[0m\u001b[1;33m.\u001b[0m\u001b[0msplit\u001b[0m\u001b[1;33m(\u001b[0m\u001b[1;34m\"/\"\u001b[0m\u001b[1;33m)\u001b[0m\u001b[1;33m[\u001b[0m\u001b[1;33m-\u001b[0m\u001b[1;36m1\u001b[0m\u001b[1;33m]\u001b[0m\u001b[1;33m.\u001b[0m\u001b[0msplit\u001b[0m\u001b[1;33m(\u001b[0m\u001b[1;34m\".\"\u001b[0m\u001b[1;33m)\u001b[0m\u001b[1;33m[\u001b[0m\u001b[1;36m0\u001b[0m\u001b[1;33m]\u001b[0m\u001b[1;33m+\u001b[0m\u001b[1;34m\".jpg\"\u001b[0m\u001b[1;33m,\u001b[0m \u001b[0mquality\u001b[0m\u001b[1;33m=\u001b[0m\u001b[1;36m100\u001b[0m\u001b[1;33m)\u001b[0m\u001b[1;33m\u001b[0m\u001b[0m\n\u001b[0;32m     21\u001b[0m \u001b[1;33m\u001b[0m\u001b[0m\n",
      "\u001b[1;32m~\\Anaconda3\\lib\\site-packages\\PIL\\Image.py\u001b[0m in \u001b[0;36msave\u001b[1;34m(self, fp, format, **params)\u001b[0m\n\u001b[0;32m   2097\u001b[0m                 \u001b[0mfp\u001b[0m \u001b[1;33m=\u001b[0m \u001b[0mbuiltins\u001b[0m\u001b[1;33m.\u001b[0m\u001b[0mopen\u001b[0m\u001b[1;33m(\u001b[0m\u001b[0mfilename\u001b[0m\u001b[1;33m,\u001b[0m \u001b[1;34m\"r+b\"\u001b[0m\u001b[1;33m)\u001b[0m\u001b[1;33m\u001b[0m\u001b[0m\n\u001b[0;32m   2098\u001b[0m             \u001b[1;32melse\u001b[0m\u001b[1;33m:\u001b[0m\u001b[1;33m\u001b[0m\u001b[0m\n\u001b[1;32m-> 2099\u001b[1;33m                 \u001b[0mfp\u001b[0m \u001b[1;33m=\u001b[0m \u001b[0mbuiltins\u001b[0m\u001b[1;33m.\u001b[0m\u001b[0mopen\u001b[0m\u001b[1;33m(\u001b[0m\u001b[0mfilename\u001b[0m\u001b[1;33m,\u001b[0m \u001b[1;34m\"w+b\"\u001b[0m\u001b[1;33m)\u001b[0m\u001b[1;33m\u001b[0m\u001b[0m\n\u001b[0m\u001b[0;32m   2100\u001b[0m \u001b[1;33m\u001b[0m\u001b[0m\n\u001b[0;32m   2101\u001b[0m         \u001b[1;32mtry\u001b[0m\u001b[1;33m:\u001b[0m\u001b[1;33m\u001b[0m\u001b[0m\n",
      "\u001b[1;31mFileNotFoundError\u001b[0m: [Errno 2] No such file or directory: './data/galbigui/resize_갈비구이\\\\Img_000_0001.jpg'"
     ]
    }
   ],
   "source": [
    "start = time.time() # 시작시간 \n",
    "for kor, eng in zip(food_list,dir_name):\n",
    "    Step = time.time() # 시작시간 \n",
    "#     print(kor, eng)\n",
    "    target_resize_dir =\"./data/\"+eng+\"/\"\n",
    "    if not os.path.isdir(target_resize_dir):\n",
    "        os.makedirs(target_resize_dir)\n",
    "    files = glob.glob(raw_path+f'/{kor}/*')\n",
    "    print(files)\n",
    "    cnt = 1;\n",
    "    size = (224, 224)\n",
    "    for file in files:\n",
    "#         print(file)\n",
    "        im = Image.open(file)\n",
    "        im = im.convert('RGB')\n",
    "        print(\"i: \", cnt, im.format, im.size, im.mode, file.split(\"/\")[-1])\n",
    "        cnt+=1\n",
    "        im = ImageOps.fit(im, size, Image.ANTIALIAS, 0, (0.5, 0.5))\n",
    "        im.save(target_resize_dir+\"resize_\"+file.split(\"/\")[-1].split(\".\")[0]+\".jpg\", quality=100)\n",
    "        im.rotate(90).save(target_rotate_dir+\"rotate_\"+file.split(\"/\")[-1].split(\".\")[0]+\".jpg\", quality=100)\n",
    "    \n",
    "    \n",
    "    Step_time=(time.time() - Step)/60           \n",
    "    print(\"파트별 시간: %.2f[min]\"%float(Step_time))\n",
    "    \n",
    "    break\n",
    "    \n",
    "all_time=(time.time() - start)/60           \n",
    "print(\"총 시간: %.2f[min]\"%float(all_time))"
   ]
  },
  {
   "cell_type": "code",
   "execution_count": null,
   "metadata": {},
   "outputs": [],
   "source": []
  }
 ],
 "metadata": {
  "kernelspec": {
   "display_name": "Python 3",
   "language": "python",
   "name": "python3"
  },
  "language_info": {
   "codemirror_mode": {
    "name": "ipython",
    "version": 3
   },
   "file_extension": ".py",
   "mimetype": "text/x-python",
   "name": "python",
   "nbconvert_exporter": "python",
   "pygments_lexer": "ipython3",
   "version": "3.6.5"
  }
 },
 "nbformat": 4,
 "nbformat_minor": 4
}
