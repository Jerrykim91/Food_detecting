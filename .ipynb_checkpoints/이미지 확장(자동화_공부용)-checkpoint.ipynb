{
 "cells": [
  {
   "cell_type": "markdown",
   "metadata": {},
   "source": [
    "## 패키지 불러오기"
   ]
  },
  {
   "cell_type": "code",
   "execution_count": 1,
   "metadata": {},
   "outputs": [],
   "source": [
    "import os , glob, time\n",
    "import pandas as pd\n",
    "import numpy as np\n",
    "from PIL import Image"
   ]
  },
  {
   "cell_type": "markdown",
   "metadata": {},
   "source": [
    "## 함수"
   ]
  },
  {
   "cell_type": "code",
   "execution_count": null,
   "metadata": {},
   "outputs": [],
   "source": [
    "# 폴더 만드는 함수 \n",
    "def createFolder(dir):\n",
    "    import os \n",
    "    \"\"\"\n",
    "    dir = 경로가 들어가야한다.\n",
    "    \"\"\"\n",
    "    \n",
    "    try:\n",
    "        if not os.path.exists(dir):\n",
    "            os.makedirs(dir)\n",
    "            print(dir,'생성')\n",
    "    except OSError:\n",
    "        print('에러 : 폴더 미 생성' + dir)"
   ]
  },
  {
   "cell_type": "markdown",
   "metadata": {},
   "source": [
    "## 경로"
   ]
  },
  {
   "cell_type": "code",
   "execution_count": null,
   "metadata": {},
   "outputs": [],
   "source": [
    "# 원본 경로\n",
    "kr_path = r'C:\\kfood'\n",
    "# 영어 경로\n",
    "en_path = r'C:\\\\Users\\\\admin\\\\Desktop\\\\kfood'\n",
    "\n",
    "print('경로확인','\\n',kr_path,'\\n',en_path)"
   ]
  },
  {
   "cell_type": "code",
   "execution_count": null,
   "metadata": {},
   "outputs": [],
   "source": [
    "# 각 영문이름 폴더 만들기\n",
    "for na in food_in_english:\n",
    "#     print(na)\n",
    "    createFolder(f'C:\\\\Users\\\\admin\\\\Desktop\\\\kfood\\\\{na}')\n",
    "#     break"
   ]
  },
  {
   "cell_type": "code",
   "execution_count": null,
   "metadata": {},
   "outputs": [],
   "source": [
    "# 데이터 길이 확인 \n",
    "len(glob.glob(kr_path+'\\\\*\\\\*')), len(glob.glob(en_path+'\\\\*'))"
   ]
  },
  {
   "cell_type": "code",
   "execution_count": null,
   "metadata": {},
   "outputs": [],
   "source": [
    "dir_name=list()\n",
    "for dir_f in glob.glob(kr_path+'**'):\n",
    "    for dir_s in glob.glob(dir_f+'/*'):\n",
    "        dir_name.append(dir_s)"
   ]
  },
  {
   "cell_type": "code",
   "execution_count": null,
   "metadata": {},
   "outputs": [],
   "source": [
    "food_name = [di.split('\\\\')[-1] for di in dir_name]"
   ]
  },
  {
   "cell_type": "code",
   "execution_count": null,
   "metadata": {},
   "outputs": [],
   "source": [
    "food_name=list()\n",
    "for di in dir_name:\n",
    "    food_name.append(di.split('\\\\')[-1])"
   ]
  },
  {
   "cell_type": "code",
   "execution_count": null,
   "metadata": {},
   "outputs": [],
   "source": [
    "# 영문 이름 리스트\n",
    "food_in_english = \\\n",
    "['galbigui', \n",
    "'galchigui', \n",
    "'godeungeogui',\n",
    "'gopchanggui', \n",
    "'dakgalbi', \n",
    "'deodeokgui',\n",
    "'tteokgalbi',\n",
    "'bulgogi', \n",
    "'samgyeopsal',\n",
    "'jangeogui', \n",
    "'jogaegui', \n",
    "'jogigui', \n",
    "'hwangtaegui',\n",
    "'hunjeori', \n",
    "'gyelangug',\n",
    "'tteokguk-mandutguk',\n",
    "'muguk', \n",
    "'miyeokguk',\n",
    "'bugeotguk', \n",
    "'siraegiguk',\n",
    "'yukgaejang',\n",
    "'kongnamulguk',\n",
    "'gwamegi', \n",
    "'yangnyeomchicken', \n",
    "'jeotgal', \n",
    "'kongjaban',\n",
    "'pyeonyuk', \n",
    "'pizza',\n",
    "'friedchicken',\n",
    "'gatkimchi', \n",
    "'kkakdugi', \n",
    "'nabakkimchi',\n",
    "'musaengchae', \n",
    "'baechukimchi',\n",
    "'baekkimchi', \n",
    "'buchukimchi', \n",
    "'yeolmukimchi',\n",
    "'oisobagi', \n",
    "'chonggakkimchi',\n",
    "'pakimchi', \n",
    "'gajibokkeum',\n",
    "'gosarinamul',\n",
    "'miyeokjulgibokkeum', \n",
    "'sukjunamul',\n",
    "'sigeumchinamul',\n",
    "'aehobakbokkeum',\n",
    "'gyeongdan', \n",
    "'kkultteok', \n",
    "'songpyeon', \n",
    "'mandu', \n",
    "'ramyeon', \n",
    "'makguksu',\n",
    "'mulnaengmyeon',\n",
    "'bibimnaengmyeon',\n",
    "'sujebi', \n",
    "'yeolmuguksu',\n",
    "'janchiguksu',\n",
    "'jajangmyeon',\n",
    "'jjamppong', \n",
    "'jjolmyeon', \n",
    "'kalguksu', \n",
    "'kongguksu',\n",
    "'kkwaligochumuchim', \n",
    "'dorajimuchim', \n",
    "'dotorimuk', \n",
    "'japchae', \n",
    "'kongnamulmuchim',\n",
    "'hongeomuchim', \n",
    "'hoemuchim', \n",
    "'gimbap', \n",
    "'kimchibokkeumbap',\n",
    "'nurungji', \n",
    "'bibimbap', \n",
    "'saeubokkeumbap',\n",
    "'albap', \n",
    "'yubuchobap',\n",
    "'japgokbap', \n",
    "'jumeokbap', \n",
    "'gamjachaebokkeum', \n",
    "'geonsaeubokkeum', \n",
    "'gochujangjinmichaebokkeum',\n",
    "'dubukimchi', \n",
    "'tteokbokki', \n",
    "'rabokki', \n",
    "'myeolchibokkeum',\n",
    "'sausagebokkeum',\n",
    "'eomukbokkeum',\n",
    "'ojingeochaebokkeum',\n",
    "'jeyukbokkeum', \n",
    "'jukkumibokkeum',\n",
    "'bossam', \n",
    "'sujeonggwa',\n",
    "'sikhye', \n",
    "'ganjanggejang',\n",
    "'yangnyeomgejang',\n",
    "'kkaesipjangajji',\n",
    "'tteokkkochi',\n",
    "'gamjajeon',\n",
    "'gyeranmari', \n",
    "'gyeranfry', \n",
    "'kimchijeon',\n",
    "'dongeurangttaeng',\n",
    "'saengseonjeon', \n",
    "'pajeon', \n",
    "'hobakjeon', \n",
    "'gopchangjeongol',\n",
    "'galchijorim', \n",
    "'gamjajorim', \n",
    "'godeungeojorim',\n",
    "'kkongchijorim',\n",
    "'dubujorim', \n",
    "'ttangkongjorim',\n",
    "'mechurialjangjorim', \n",
    "'yeongeunjorim', \n",
    "'ueongjorim', \n",
    "'jangjorim', \n",
    "'kodarijorim',\n",
    "'jeonbokjuk', \n",
    "'hobakjuk', \n",
    "'kimchijjigae',\n",
    "'dakgyejang', \n",
    "'dongtaejjigae',\n",
    "'doenjangjjigae',\n",
    "'sundubujjigae', \n",
    "'galbijjim', \n",
    "'gyeranjjim', \n",
    "'kimchijjim', \n",
    "'kkomakjjim', \n",
    "'dakbokkeumtang', \n",
    "'suyuk',\n",
    "'sundae',\n",
    "'jokbal',\n",
    "'jjimdak', \n",
    "'haemuljjim',\n",
    "'galbitang', \n",
    "'gamjatang', \n",
    "'gomguk-seolleongtang',\n",
    "'maeuntang', \n",
    "'samgyetang',\n",
    "'chueotang', \n",
    "'gochutwigim', \n",
    "'saeutwigim', \n",
    "'ojingeotwigim',\n",
    "'yakgwa', \n",
    "'yaksik', \n",
    "'hangwa', \n",
    "'meongge', \n",
    "'sannakji',\n",
    "'mulhoe', \n",
    "'yukhoe' ]\n"
   ]
  },
  {
   "cell_type": "code",
   "execution_count": null,
   "metadata": {},
   "outputs": [],
   "source": [
    "dic_food={}\n",
    "\n",
    "# 사전 만들기 \n",
    "for i,j in zip(food_name, food_in_english):\n",
    "    #     print(i,j)\n",
    "    dic_food[i]=j"
   ]
  },
  {
   "cell_type": "code",
   "execution_count": null,
   "metadata": {},
   "outputs": [],
   "source": [
    "start = time.time()\n",
    "print(\"진행시간: %.2f[min]\"%float((time.time() - start)/60))"
   ]
  }
 ],
 "metadata": {
  "kernelspec": {
   "display_name": "Python 3",
   "language": "python",
   "name": "python3"
  },
  "language_info": {
   "codemirror_mode": {
    "name": "ipython",
    "version": 3
   },
   "file_extension": ".py",
   "mimetype": "text/x-python",
   "name": "python",
   "nbconvert_exporter": "python",
   "pygments_lexer": "ipython3",
   "version": "3.6.5"
  }
 },
 "nbformat": 4,
 "nbformat_minor": 4
}
