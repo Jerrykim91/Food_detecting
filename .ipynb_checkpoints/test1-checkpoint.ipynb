{
 "cells": [
  {
   "cell_type": "code",
   "execution_count": 16,
   "metadata": {},
   "outputs": [],
   "source": [
    "import numpy as np\n",
    "import pandas as pd\n",
    "\n",
    "import os , datetime , glob\n",
    "\n",
    "import cv2 \n",
    "import seaborn as sns\n",
    "import matplotlib.pyplot as plt\n",
    "import matplotlib.cm as cm  \n",
    "%matplotlib inline"
   ]
  },
  {
   "cell_type": "code",
   "execution_count": 62,
   "metadata": {},
   "outputs": [
    {
     "ename": "ModuleNotFoundError",
     "evalue": "No module named 'tensorflow'",
     "output_type": "error",
     "traceback": [
      "\u001b[1;31m---------------------------------------------------------------------------\u001b[0m",
      "\u001b[1;31mModuleNotFoundError\u001b[0m                       Traceback (most recent call last)",
      "\u001b[1;32m<ipython-input-62-64156d691fe5>\u001b[0m in \u001b[0;36m<module>\u001b[1;34m\u001b[0m\n\u001b[1;32m----> 1\u001b[1;33m \u001b[1;32mimport\u001b[0m \u001b[0mtensorflow\u001b[0m \u001b[1;32mas\u001b[0m \u001b[0mtf\u001b[0m\u001b[1;33m\u001b[0m\u001b[1;33m\u001b[0m\u001b[0m\n\u001b[0m",
      "\u001b[1;31mModuleNotFoundError\u001b[0m: No module named 'tensorflow'"
     ]
    }
   ],
   "source": [
    "import tensorflow as tf"
   ]
  },
  {
   "cell_type": "code",
   "execution_count": 63,
   "metadata": {},
   "outputs": [
    {
     "ename": "ModuleNotFoundError",
     "evalue": "No module named 'tensorflow'",
     "output_type": "error",
     "traceback": [
      "\u001b[1;31m---------------------------------------------------------------------------\u001b[0m",
      "\u001b[1;31mModuleNotFoundError\u001b[0m                       Traceback (most recent call last)",
      "\u001b[1;32m<ipython-input-63-dfc2c6a4e0ae>\u001b[0m in \u001b[0;36m<module>\u001b[1;34m\u001b[0m\n\u001b[1;32m----> 1\u001b[1;33m \u001b[1;32mimport\u001b[0m \u001b[0mtensorflow\u001b[0m \u001b[1;32mas\u001b[0m \u001b[0mtf\u001b[0m\u001b[1;33m\u001b[0m\u001b[1;33m\u001b[0m\u001b[0m\n\u001b[0m\u001b[0;32m      2\u001b[0m \u001b[1;32mimport\u001b[0m \u001b[0mkeras\u001b[0m\u001b[1;33m.\u001b[0m\u001b[0mpreprocessing\u001b[0m\u001b[1;33m.\u001b[0m\u001b[0mimage\u001b[0m\u001b[1;33m\u001b[0m\u001b[1;33m\u001b[0m\u001b[0m\n",
      "\u001b[1;31mModuleNotFoundError\u001b[0m: No module named 'tensorflow'"
     ]
    }
   ],
   "source": [
    "import tensorflow as tf\n",
    "import keras.preprocessing.image\n"
   ]
  },
  {
   "cell_type": "code",
   "execution_count": 74,
   "metadata": {},
   "outputs": [
    {
     "name": "stdout",
     "output_type": "stream",
     "text": [
      "['김치찌개', '동태찌개', '된장찌개', '순두부찌개']\n",
      "[]\n",
      "['Img_119_0000.jpg', 'Img_119_0001.jpg', 'Img_119_0002.jpg', 'Img_119_0003.jpg', 'Img_119_0004.jpg', 'Img_119_0005.jpg', 'Img_119_0006.jpg', 'Img_119_0007.jpg', 'Img_119_0008.jpg', 'Img_119_0009.jpg', 'Img_119_0010.jpg']\n",
      "[]\n",
      "['Img_121_0000.jpg', 'Img_121_0001.jpg', 'Img_121_0002.jpg', 'Img_121_0003.jpg', 'Img_121_0004.jpg', 'Img_121_0005.jpg', 'Img_121_0006.jpg', 'Img_121_0007.jpg', 'Img_121_0008.jpg', 'Img_121_0009.jpg', 'Img_121_0010.jpg']\n",
      "[]\n",
      "['Img_121_0000.jpg', 'Img_121_0001.jpg', 'Img_121_0002.jpg', 'Img_121_0003.jpg', 'Img_121_0004.jpg', 'Img_121_0005.jpg', 'Img_121_0006.jpg', 'Img_121_0007.jpg', 'Img_121_0008.jpg', 'Img_121_0009.jpg', 'Img_121_0010.jpg']\n",
      "[]\n",
      "['Img_123_0000.jpg', 'Img_123_0001.jpg', 'Img_123_0002.JPG', 'Img_123_0003.jpg', 'Img_123_0004.JPG', 'Img_123_0005.JPG', 'Img_123_0006.jpg', 'Img_123_0007.jpg', 'Img_123_0008.JPG', 'Img_123_0009.JPG', 'Img_123_0010.jpg']\n"
     ]
    }
   ],
   "source": [
    "dir_path = os.path.abspath('./data/찌개/')\n",
    "\n",
    "for dirpath, dirnames, filenames  in os.walk(dir_path):\n",
    "    \n",
    "    print(dirnames )\n",
    "    print(filenames)"
   ]
  },
  {
   "cell_type": "code",
   "execution_count": 73,
   "metadata": {
    "scrolled": true
   },
   "outputs": [
    {
     "data": {
      "text/plain": [
       "'C:\\\\Food_detecting\\\\data\\\\찌개'"
      ]
     },
     "execution_count": 73,
     "metadata": {},
     "output_type": "execute_result"
    }
   ],
   "source": [
    "dir_path"
   ]
  },
  {
   "cell_type": "code",
   "execution_count": null,
   "metadata": {},
   "outputs": [],
   "source": []
  }
 ],
 "metadata": {
  "kernelspec": {
   "display_name": "Python 3",
   "language": "python",
   "name": "python3"
  },
  "language_info": {
   "codemirror_mode": {
    "name": "ipython",
    "version": 3
   },
   "file_extension": ".py",
   "mimetype": "text/x-python",
   "name": "python",
   "nbconvert_exporter": "python",
   "pygments_lexer": "ipython3",
   "version": "3.8.2"
  }
 },
 "nbformat": 4,
 "nbformat_minor": 4
}
