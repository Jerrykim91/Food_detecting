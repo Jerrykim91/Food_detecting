{
 "cells": [
  {
   "cell_type": "code",
   "execution_count": 38,
   "metadata": {},
   "outputs": [],
   "source": [
    "def CreateFolder(directory):\n",
    "    try:\n",
    "        if not os.path.exists(directory):\n",
    "            os.makedirs(directory)\n",
    "            print(f'{directory}_loction:',glob.glob(os.getcwd()+f'\\\\{directory}'))\n",
    "        else:\n",
    "            print('already')\n",
    "    except OSError:\n",
    "        print('Error:Creating directory.'+directory)"
   ]
  },
  {
   "cell_type": "code",
   "execution_count": 8,
   "metadata": {},
   "outputs": [],
   "source": [
    "from PIL import Image, ImageOps\n",
    "import os,sys,glob,time"
   ]
  },
  {
   "cell_type": "code",
   "execution_count": 2,
   "metadata": {},
   "outputs": [
    {
     "data": {
      "text/plain": [
       "['C:\\\\Food_detecting\\\\PERPRO']"
      ]
     },
     "execution_count": 2,
     "metadata": {},
     "output_type": "execute_result"
    }
   ],
   "source": [
    "glob.glob(os.getcwd())"
   ]
  },
  {
   "cell_type": "code",
   "execution_count": 11,
   "metadata": {},
   "outputs": [],
   "source": [
    "raw_path =r'Z:\\testCut' \n",
    "class_path = os.getcwd()"
   ]
  },
  {
   "cell_type": "code",
   "execution_count": 10,
   "metadata": {},
   "outputs": [
    {
     "data": {
      "text/plain": [
       "['갈비구이',\n",
       " '계란찜',\n",
       " '김치찌개',\n",
       " '미역줄기볶음',\n",
       " '백김치',\n",
       " '불고기',\n",
       " '삼계탕',\n",
       " '순두부찌개',\n",
       " '애호박볶음',\n",
       " '후라이드치킨']"
      ]
     },
     "execution_count": 10,
     "metadata": {},
     "output_type": "execute_result"
    }
   ],
   "source": [
    "food_list = [i.split('\\\\')[-1] for i in glob.glob(raw_path+'/*')]\n",
    "dir_name = [eng for kor, eng in dir_food.items() if kor in food_list]"
   ]
  },
  {
   "cell_type": "code",
   "execution_count": 3,
   "metadata": {},
   "outputs": [],
   "source": [
    "# Importing the Keras libraries and packages\n",
    "from keras.models import Sequential\n",
    "from keras.layers import Conv2D\n",
    "from keras.layers import MaxPooling2D\n",
    "from keras.layers import Activation, Dropout, Flatten, Dense\n",
    "from keras.callbacks import ModelCheckpoint\n",
    "from keras.layers.normalization import BatchNormalization\n",
    "import numpy as np"
   ]
  },
  {
   "cell_type": "code",
   "execution_count": null,
   "metadata": {},
   "outputs": [],
   "source": [
    "# classifier = Sequential()\n",
    "\n",
    "# classifier.add(Conv2D(16, (3, 3), padding='same', activation='relu', input_shape=(224, 224, 3)))\n",
    "# classifier.add(Conv2D(16, (3, 3), activation='relu'))\n",
    "# classifier.add(MaxPooling2D(pool_size=(2, 2)))\n",
    "# classifier.add(Dropout(0.25))\n",
    "\n",
    "# classifier.add(Conv2D(64, (3, 3), padding='same', activation='relu'))\n",
    "# classifier.add(Conv2D(64, (3, 3), activation='relu'))\n",
    "# classifier.add(MaxPooling2D(pool_size=(2, 2)))\n",
    "# classifier.add(Dropout(0.25))\n",
    "\n",
    "# classifier.add(Conv2D(32, (3, 3), padding='same', activation='relu'))\n",
    "# classifier.add(Conv2D(32, (3, 3), activation='relu'))\n",
    "# classifier.add(MaxPooling2D(pool_size=(2, 2)))\n",
    "# classifier.add(Dropout(0.25))\n",
    "\n",
    "# classifier.add(Flatten())\n",
    "# classifier.add(Dense(512, activation='relu'))\n",
    "# classifier.add(Dropout(0.5))\n",
    "# classifier.add(Dense(10, activation='softmax'))"
   ]
  },
  {
   "cell_type": "markdown",
   "metadata": {},
   "source": [
    "# 모델 설계 방법 \n",
    "\n",
    "## 모델의 출력을 정의 \n",
    "## 오차함수를 정의 \n",
    "## 모델 학습 시키기"
   ]
  },
  {
   "cell_type": "code",
   "execution_count": null,
   "metadata": {},
   "outputs": [],
   "source": []
  },
  {
   "cell_type": "code",
   "execution_count": 4,
   "metadata": {},
   "outputs": [
    {
     "name": "stdout",
     "output_type": "stream",
     "text": [
      "Model: \"sequential_2\"\n",
      "_________________________________________________________________\n",
      "Layer (type)                 Output Shape              Param #   \n",
      "=================================================================\n",
      "conv2d_5 (Conv2D)            (None, 500, 500, 16)      432       \n",
      "_________________________________________________________________\n",
      "batch_normalization_5 (Batch (None, 500, 500, 16)      48        \n",
      "_________________________________________________________________\n",
      "activation_5 (Activation)    (None, 500, 500, 16)      0         \n",
      "_________________________________________________________________\n",
      "max_pooling2d_4 (MaxPooling2 (None, 125, 125, 16)      0         \n",
      "_________________________________________________________________\n",
      "dropout_5 (Dropout)          (None, 125, 125, 16)      0         \n",
      "_________________________________________________________________\n",
      "conv2d_6 (Conv2D)            (None, 125, 125, 32)      4608      \n",
      "_________________________________________________________________\n",
      "batch_normalization_6 (Batch (None, 125, 125, 32)      96        \n",
      "_________________________________________________________________\n",
      "activation_6 (Activation)    (None, 125, 125, 32)      0         \n",
      "_________________________________________________________________\n",
      "max_pooling2d_5 (MaxPooling2 (None, 32, 32, 32)        0         \n",
      "_________________________________________________________________\n",
      "dropout_6 (Dropout)          (None, 32, 32, 32)        0         \n",
      "_________________________________________________________________\n",
      "conv2d_7 (Conv2D)            (None, 32, 32, 64)        18432     \n",
      "_________________________________________________________________\n",
      "batch_normalization_7 (Batch (None, 32, 32, 64)        192       \n",
      "_________________________________________________________________\n",
      "activation_7 (Activation)    (None, 32, 32, 64)        0         \n",
      "_________________________________________________________________\n",
      "max_pooling2d_6 (MaxPooling2 (None, 8, 8, 64)          0         \n",
      "_________________________________________________________________\n",
      "dropout_7 (Dropout)          (None, 8, 8, 64)          0         \n",
      "_________________________________________________________________\n",
      "conv2d_8 (Conv2D)            (None, 8, 8, 128)         73728     \n",
      "_________________________________________________________________\n",
      "batch_normalization_8 (Batch (None, 8, 8, 128)         384       \n",
      "_________________________________________________________________\n",
      "activation_8 (Activation)    (None, 8, 8, 128)         0         \n",
      "_________________________________________________________________\n",
      "flatten_2 (Flatten)          (None, 8192)              0         \n",
      "_________________________________________________________________\n",
      "dropout_8 (Dropout)          (None, 8192)              0         \n",
      "_________________________________________________________________\n",
      "dense_3 (Dense)              (None, 512)               4194816   \n",
      "_________________________________________________________________\n",
      "dense_4 (Dense)              (None, 10)                5130      \n",
      "=================================================================\n",
      "Total params: 4,297,866\n",
      "Trainable params: 4,297,386\n",
      "Non-trainable params: 480\n",
      "_________________________________________________________________\n"
     ]
    }
   ],
   "source": [
    "model = Sequential()\n",
    "\n",
    "model.add(Conv2D(32, (3, 3), padding='same', use_bias=False, input_shape=(256, 256, 3)))\n",
    "model.add(BatchNormalization(axis=3, scale=False))\n",
    "model.add(Activation(\"relu\"))\n",
    "model.add(MaxPooling2D(pool_size=(4, 4), strides=(4, 4), padding='same'))\n",
    "model.add(Dropout(0.2))\n",
    "\n",
    "model.add(Conv2D(32, (3, 3), padding='same', use_bias=False))\n",
    "model.add(BatchNormalization(axis=3, scale=False))\n",
    "model.add(Activation(\"relu\"))\n",
    "model.add(MaxPooling2D(pool_size=(4, 4), strides=(4, 4), padding='same'))\n",
    "model.add(Dropout(0.2))\n",
    "\n",
    "model.add(Conv2D(64, (3, 3), padding='same', use_bias=False))\n",
    "model.add(BatchNormalization(axis=3, scale=False))\n",
    "model.add(Activation(\"relu\"))\n",
    "model.add(MaxPooling2D(pool_size=(4, 4), strides=(4, 4), padding='same'))\n",
    "model.add(Dropout(0.2))\n",
    "\n",
    "model.add(Conv2D(128, (3, 3), padding='same', use_bias=False))\n",
    "model.add(BatchNormalization(axis=3, scale=False))\n",
    "model.add(Activation(\"relu\"))\n",
    "model.add(Flatten())\n",
    "model.add(Dropout(0.2))\n",
    "\n",
    "model.add(Dense(512, activation='relu'))\n",
    "model.add(Dense(10, activation='softmax'))\n",
    "model.summary()\n",
    "\n",
    "model.compile(optimizer = 'adam', loss = 'categorical_crossentropy', metrics = ['accuracy'])"
   ]
  },
  {
   "cell_type": "code",
   "execution_count": null,
   "metadata": {},
   "outputs": [],
   "source": []
  },
  {
   "cell_type": "code",
   "execution_count": 5,
   "metadata": {},
   "outputs": [],
   "source": [
    "from keras.preprocessing.image import ImageDataGenerator"
   ]
  },
  {
   "cell_type": "code",
   "execution_count": 10,
   "metadata": {},
   "outputs": [],
   "source": [
    "# train_datagen = ImageDataGenerator(rescale = 1./255)\n",
    "\n",
    "# 데이터셋 불러오기\n",
    "train_datagen = ImageDataGenerator(rescale=1./255,\n",
    "                                   rotation_range=10,\n",
    "                                   width_shift_range=0.2,\n",
    "                                   height_shift_range=0.2,\n",
    "                                   shear_range=0.7,\n",
    "                                   zoom_range=[0.9, 2.2],\n",
    "                                   horizontal_flip=True,\n",
    "                                   vertical_flip=True,\n",
    "                                   fill_mode='nearest',\n",
    "                                   validation_split=0.33)"
   ]
  },
  {
   "cell_type": "code",
   "execution_count": 9,
   "metadata": {},
   "outputs": [
    {
     "data": {
      "text/plain": [
       "'C:\\\\Food_detecting\\\\PERPRO'"
      ]
     },
     "execution_count": 9,
     "metadata": {},
     "output_type": "execute_result"
    }
   ],
   "source": [
    "os.getcwd()"
   ]
  },
  {
   "cell_type": "code",
   "execution_count": 11,
   "metadata": {},
   "outputs": [],
   "source": [
    "PATH='C:\\Food_detecting\\data'"
   ]
  },
  {
   "cell_type": "code",
   "execution_count": 12,
   "metadata": {},
   "outputs": [
    {
     "name": "stdout",
     "output_type": "stream",
     "text": [
      "Found 6462 images belonging to 10 classes.\n",
      "Found 3176 images belonging to 10 classes.\n"
     ]
    }
   ],
   "source": [
    "training_set = train_datagen.flow_from_directory(PATH,\n",
    "                                                 shuffle=True,\n",
    "                                                 seed=13,\n",
    "                                                 target_size = (500, 500),\n",
    "                                                 batch_size = 15,\n",
    "                                                 class_mode = 'categorical',\n",
    "                                                 subset=\"training\")\n",
    "validation_set = train_datagen.flow_from_directory(PATH,\n",
    "                                                 shuffle=True,\n",
    "                                                 seed=13,\n",
    "                                                 target_size = (500, 500),\n",
    "                                                 batch_size = 10,\n",
    "                                                 class_mode = 'categorical',\n",
    "                                                 subset=\"validation\")"
   ]
  },
  {
   "cell_type": "code",
   "execution_count": null,
   "metadata": {
    "scrolled": false
   },
   "outputs": [
    {
     "name": "stdout",
     "output_type": "stream",
     "text": [
      "Epoch 1/1000\n",
      "20/20 [==============================] - 57s 3s/step - loss: 4.4063 - accuracy: 0.1818 - val_loss: 2.3062 - val_accuracy: 0.1200\n",
      "Epoch 2/1000\n",
      "20/20 [==============================] - 57s 3s/step - loss: 2.1923 - accuracy: 0.2300 - val_loss: 2.5217 - val_accuracy: 0.0400\n",
      "Epoch 3/1000\n",
      "20/20 [==============================] - 58s 3s/step - loss: 1.9429 - accuracy: 0.2800 - val_loss: 2.3009 - val_accuracy: 0.1100\n",
      "Epoch 4/1000\n",
      "20/20 [==============================] - 57s 3s/step - loss: 1.6324 - accuracy: 0.3500 - val_loss: 2.9718 - val_accuracy: 0.1000\n",
      "Epoch 5/1000\n",
      "20/20 [==============================] - 57s 3s/step - loss: 1.7787 - accuracy: 0.3433 - val_loss: 2.5347 - val_accuracy: 0.1600\n",
      "Epoch 6/1000\n",
      "20/20 [==============================] - 58s 3s/step - loss: 1.6328 - accuracy: 0.3833 - val_loss: 2.8955 - val_accuracy: 0.1100\n",
      "Epoch 7/1000\n",
      "20/20 [==============================] - 57s 3s/step - loss: 1.6230 - accuracy: 0.3700 - val_loss: 3.8524 - val_accuracy: 0.1100\n",
      "Epoch 8/1000\n",
      "20/20 [==============================] - 57s 3s/step - loss: 1.4851 - accuracy: 0.4367 - val_loss: 5.3060 - val_accuracy: 0.1400\n",
      "Epoch 9/1000\n",
      "20/20 [==============================] - 56s 3s/step - loss: 1.4951 - accuracy: 0.4067 - val_loss: 5.5940 - val_accuracy: 0.0600\n",
      "Epoch 10/1000\n",
      "20/20 [==============================] - 56s 3s/step - loss: 1.4288 - accuracy: 0.4667 - val_loss: 4.1233 - val_accuracy: 0.1100\n",
      "Epoch 11/1000\n",
      "20/20 [==============================] - 56s 3s/step - loss: 1.3572 - accuracy: 0.4667 - val_loss: 3.7148 - val_accuracy: 0.1100\n",
      "Epoch 12/1000\n",
      "20/20 [==============================] - 57s 3s/step - loss: 1.4498 - accuracy: 0.4700 - val_loss: 3.7782 - val_accuracy: 0.1200\n",
      "Epoch 13/1000\n",
      "20/20 [==============================] - 55s 3s/step - loss: 1.3819 - accuracy: 0.5067 - val_loss: 4.2095 - val_accuracy: 0.1600\n",
      "Epoch 14/1000\n",
      "20/20 [==============================] - 55s 3s/step - loss: 1.3751 - accuracy: 0.5000 - val_loss: 4.6822 - val_accuracy: 0.1100\n",
      "Epoch 15/1000\n",
      "20/20 [==============================] - 54s 3s/step - loss: 1.3912 - accuracy: 0.4633 - val_loss: 4.4090 - val_accuracy: 0.0600\n",
      "Epoch 16/1000\n",
      "20/20 [==============================] - 55s 3s/step - loss: 1.4067 - accuracy: 0.5267 - val_loss: 5.0848 - val_accuracy: 0.1600\n",
      "Epoch 17/1000\n",
      "20/20 [==============================] - 55s 3s/step - loss: 1.3530 - accuracy: 0.4967 - val_loss: 2.1531 - val_accuracy: 0.1900\n",
      "Epoch 18/1000\n",
      "20/20 [==============================] - 55s 3s/step - loss: 1.2917 - accuracy: 0.4967 - val_loss: 3.3706 - val_accuracy: 0.1500\n",
      "Epoch 19/1000\n",
      "20/20 [==============================] - 55s 3s/step - loss: 1.3015 - accuracy: 0.5100 - val_loss: 4.3872 - val_accuracy: 0.1200\n",
      "Epoch 20/1000\n",
      "20/20 [==============================] - 55s 3s/step - loss: 1.3315 - accuracy: 0.4833 - val_loss: 2.6838 - val_accuracy: 0.2400\n",
      "Epoch 21/1000\n",
      "20/20 [==============================] - 55s 3s/step - loss: 1.2152 - accuracy: 0.5400 - val_loss: 2.9359 - val_accuracy: 0.1600\n",
      "Epoch 22/1000\n",
      "20/20 [==============================] - 56s 3s/step - loss: 1.2983 - accuracy: 0.5367 - val_loss: 3.3272 - val_accuracy: 0.1900\n",
      "Epoch 23/1000\n",
      "20/20 [==============================] - 55s 3s/step - loss: 1.3050 - accuracy: 0.5267 - val_loss: 2.1235 - val_accuracy: 0.3100\n",
      "Epoch 24/1000\n",
      "20/20 [==============================] - 55s 3s/step - loss: 1.2255 - accuracy: 0.5467 - val_loss: 2.1478 - val_accuracy: 0.3400\n",
      "Epoch 25/1000\n",
      "20/20 [==============================] - 57s 3s/step - loss: 1.2423 - accuracy: 0.4933 - val_loss: 2.7972 - val_accuracy: 0.2100\n",
      "Epoch 26/1000\n",
      "20/20 [==============================] - 55s 3s/step - loss: 1.2857 - accuracy: 0.4800 - val_loss: 1.5681 - val_accuracy: 0.3400\n",
      "Epoch 27/1000\n",
      "20/20 [==============================] - 55s 3s/step - loss: 1.2895 - accuracy: 0.5267 - val_loss: 3.1144 - val_accuracy: 0.2700\n",
      "Epoch 28/1000\n",
      " 9/20 [============>.................] - ETA: 25s - loss: 1.3390 - accuracy: 0.4667"
     ]
    }
   ],
   "source": [
    "from keras.callbacks import CSVLogger\n",
    "\n",
    "csv_logger = CSVLogger('./log_2.csv', append=True, separator=';')\n",
    "\n",
    "hist = model.fit_generator(training_set,\n",
    "                         steps_per_epoch = 20,\n",
    "                         epochs = 1000,\n",
    "                         validation_data = validation_set,\n",
    "                         validation_steps = 10,\n",
    "                         callbacks=[csv_logger])"
   ]
  },
  {
   "cell_type": "code",
   "execution_count": null,
   "metadata": {},
   "outputs": [],
   "source": [
    "from keras.models import load_model\n",
    "\n",
    "model.save('food_keras_model_2.h5')"
   ]
  },
  {
   "cell_type": "code",
   "execution_count": null,
   "metadata": {},
   "outputs": [],
   "source": [
    "# 모델 평가하기\n",
    "print(\"-- 모델 평가하기 --\")\n",
    "\n",
    "scores = model.evaluate_generator(\n",
    "            validation_set,\n",
    "            steps = 10)\n",
    "\n",
    "print(\"%s: %.2f%%\" %(model.metrics_names[1], scores[1]*100))\n",
    "\n",
    "# 모델 예측하기\n",
    "print(\"-- 모델 예측하기 --\")\n",
    "\n",
    "output = model.predict_generator(\n",
    "            validation_set,\n",
    "            steps = 10)\n",
    "print(validation_set.class_indices)\n",
    "np.set_printoptions(formatter={'float': lambda x: \"{0:0.3f}\".format(x)})\n",
    "\n",
    "print(output)\n",
    "print(validation_set.filenames)"
   ]
  },
  {
   "cell_type": "code",
   "execution_count": null,
   "metadata": {},
   "outputs": [],
   "source": [
    "# output = classifier.predict_generator(test_set, steps=5)\n",
    "# print(output)"
   ]
  },
  {
   "cell_type": "code",
   "execution_count": 9,
   "metadata": {},
   "outputs": [
    {
     "data": {
      "text/plain": [
       "37.5"
      ]
     },
     "execution_count": 9,
     "metadata": {},
     "output_type": "execute_result"
    }
   ],
   "source": [
    "75/2"
   ]
  },
  {
   "cell_type": "code",
   "execution_count": 10,
   "metadata": {},
   "outputs": [
    {
     "data": {
      "text/plain": [
       "18.75"
      ]
     },
     "execution_count": 10,
     "metadata": {},
     "output_type": "execute_result"
    }
   ],
   "source": [
    "37.5/2"
   ]
  },
  {
   "cell_type": "code",
   "execution_count": 11,
   "metadata": {},
   "outputs": [
    {
     "data": {
      "text/plain": [
       "9.375"
      ]
     },
     "execution_count": 11,
     "metadata": {},
     "output_type": "execute_result"
    }
   ],
   "source": [
    "18.75/2"
   ]
  },
  {
   "cell_type": "code",
   "execution_count": 12,
   "metadata": {},
   "outputs": [
    {
     "data": {
      "text/plain": [
       "4.6875"
      ]
     },
     "execution_count": 12,
     "metadata": {},
     "output_type": "execute_result"
    }
   ],
   "source": [
    "9.375/2"
   ]
  },
  {
   "cell_type": "code",
   "execution_count": 13,
   "metadata": {},
   "outputs": [
    {
     "data": {
      "text/plain": [
       "2.34375"
      ]
     },
     "execution_count": 13,
     "metadata": {},
     "output_type": "execute_result"
    }
   ],
   "source": [
    "4.6875/2"
   ]
  },
  {
   "cell_type": "code",
   "execution_count": null,
   "metadata": {},
   "outputs": [],
   "source": []
  }
 ],
 "metadata": {
  "kernelspec": {
   "display_name": "Python 3",
   "language": "python",
   "name": "python3"
  },
  "language_info": {
   "codemirror_mode": {
    "name": "ipython",
    "version": 3
   },
   "file_extension": ".py",
   "mimetype": "text/x-python",
   "name": "python",
   "nbconvert_exporter": "python",
   "pygments_lexer": "ipython3",
   "version": "3.6.5"
  }
 },
 "nbformat": 4,
 "nbformat_minor": 4
}
