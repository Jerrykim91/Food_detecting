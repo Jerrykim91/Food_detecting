{
 "cells": [
  {
   "cell_type": "markdown",
   "metadata": {},
   "source": [
    "#  전이학습 기반 분류기"
   ]
  },
  {
   "cell_type": "code",
   "execution_count": 1,
   "metadata": {},
   "outputs": [],
   "source": [
    "# from PIL import Image\n",
    "# a = np.array([[1,2,3],[1,2,3],[1,2,3]])\n",
    "# img = Image.fromarray(a)\n",
    "# b = np.array(img)"
   ]
  },
  {
   "cell_type": "code",
   "execution_count": 2,
   "metadata": {
    "colab": {
     "autoexec": {
      "startup": false,
      "wait_interval": 0
     }
    },
    "colab_type": "code",
    "id": "qpwpUhVod2ob"
   },
   "outputs": [],
   "source": [
    "import scipy as sp\n",
    "import numpy as np\n",
    "import pandas as pd\n",
    "from numpy.random import rand\n",
    "pd.options.display.max_colwidth = 600\n",
    "\n",
    "\n",
    "from sklearn import preprocessing\n",
    "from sklearn.metrics import roc_curve, auc, precision_recall_curve\n",
    "from sklearn.model_selection import train_test_split\n",
    "\n",
    "import cnn_utils as utils\n",
    "\n",
    "\n",
    "import matplotlib.pyplot as plt\n",
    "%matplotlib inline\n",
    "params = {'legend.fontsize': 'x-large',\n",
    "          'figure.figsize': (15, 5),\n",
    "          'axes.labelsize': 'x-large',\n",
    "          'axes.titlesize':'x-large',\n",
    "          'xtick.labelsize':'x-large',\n",
    "          'ytick.labelsize':'x-large'}\n",
    "\n",
    "plt.rcParams.update(params)\n",
    "\n",
    "\n",
    "from IPython.display import display, HTML\n",
    "import warnings\n",
    "warnings.filterwarnings('ignore')"
   ]
  },
  {
   "cell_type": "code",
   "execution_count": 3,
   "metadata": {
    "colab": {
     "autoexec": {
      "startup": false,
      "wait_interval": 0
     },
     "base_uri": "https://localhost:8080/",
     "height": 34
    },
    "colab_type": "code",
    "executionInfo": {
     "elapsed": 1669,
     "status": "ok",
     "timestamp": 1531341784750,
     "user": {
      "displayName": "Raghav Bali",
      "photoUrl": "//lh4.googleusercontent.com/-HPass-4Bl9U/AAAAAAAAAAI/AAAAAAAAKiI/A0BQ8MHwVME/s50-c-k-no/photo.jpg",
      "userId": "117317575176939780509"
     },
     "user_tz": -330
    },
    "id": "VB1artr2KuLD",
    "outputId": "295301d0-a703-4793-fbc9-74c200f15189"
   },
   "outputs": [
    {
     "name": "stderr",
     "output_type": "stream",
     "text": [
      "Using TensorFlow backend.\n"
     ]
    }
   ],
   "source": [
    "import tensorflow as tf\n",
    "import keras\n",
    "from tensorflow.keras import callbacks, optimizers,Model\n",
    "from tensorflow.keras.applications import vgg16 as vgg\n",
    "from tensorflow.keras.layers import Dropout, Flatten, Dense, GlobalAveragePooling2D,BatchNormalization\n",
    "from tensorflow.keras.preprocessing.image import ImageDataGenerator\n",
    "from tensorflow.python.keras.utils import np_utils\n",
    "from keras.callbacks import ReduceLROnPlateau, ModelCheckpoint, EarlyStopping"
   ]
  },
  {
   "cell_type": "markdown",
   "metadata": {},
   "source": [
    "## 데이터 세트 로딩과 준비"
   ]
  },
  {
   "cell_type": "code",
   "execution_count": 4,
   "metadata": {
    "colab": {
     "autoexec": {
      "startup": false,
      "wait_interval": 0
     }
    },
    "colab_type": "code",
    "id": "fS8uGXn5dgRU"
   },
   "outputs": [],
   "source": [
    "BATCH_SIZE = 64\n",
    "EPOCHS = 100\n",
    "NUM_CLASSES = 4\n",
    "LEARNING_RATE = 1e-4\n",
    "MOMENTUM = 0.9\n",
    "PATH=\"C:\\FoodClassification\\data\""
   ]
  },
  {
   "cell_type": "code",
   "execution_count": 5,
   "metadata": {
    "colab": {
     "autoexec": {
      "startup": false,
      "wait_interval": 0
     }
    },
    "colab_type": "code",
    "id": "PoT9P1phLuyT"
   },
   "outputs": [
    {
     "name": "stdout",
     "output_type": "stream",
     "text": [
      "WARNING:tensorflow:From C:\\Users\\admin\\Anaconda3\\lib\\site-packages\\tensorflow_core\\python\\ops\\resource_variable_ops.py:1630: calling BaseResourceVariable.__init__ (from tensorflow.python.ops.resource_variable_ops) with constraint is deprecated and will be removed in a future version.\n",
      "Instructions for updating:\n",
      "If using Keras pass *_constraint arguments to layers.\n"
     ]
    }
   ],
   "source": [
    "base_model = vgg.VGG16(weights='imagenet', \n",
    "                       include_top=False, \n",
    "                       input_shape=(128, 128, 3))"
   ]
  },
  {
   "cell_type": "code",
   "execution_count": 6,
   "metadata": {
    "colab": {
     "autoexec": {
      "startup": false,
      "wait_interval": 0
     }
    },
    "colab_type": "code",
    "id": "khNrl8nHqesu"
   },
   "outputs": [],
   "source": [
    "# VGG16 모델의 세 번째 블록에서 마지막 층 추출\n",
    "# VGG16 모델의 네 번째 블록에서 마지막 층 추출\n",
    "last = base_model.get_layer('block4_pool').output\n",
    "# last = base_model.get_layer('block3_pool').output"
   ]
  },
  {
   "cell_type": "markdown",
   "metadata": {},
   "source": [
    "## 모델 준비\n",
    "\n",
    "* 최상위층 없이 VGG16 로딩\n",
    "* 커스텀 분류기 준비\n",
    "* 모델의 맨 위에 새로운 층 쌓기"
   ]
  },
  {
   "cell_type": "code",
   "execution_count": 7,
   "metadata": {
    "colab": {
     "autoexec": {
      "startup": false,
      "wait_interval": 0
     }
    },
    "colab_type": "code",
    "id": "MI90lh6hL9ua"
   },
   "outputs": [
    {
     "name": "stdout",
     "output_type": "stream",
     "text": [
      "WARNING:tensorflow:Large dropout rate: 0.6 (>0.5). In TensorFlow 2.x, dropout() uses dropout rate instead of keep_prob. Please ensure that this is intended.\n",
      "Model: \"model\"\n",
      "_________________________________________________________________\n",
      "Layer (type)                 Output Shape              Param #   \n",
      "=================================================================\n",
      "input_1 (InputLayer)         [(None, 128, 128, 3)]     0         \n",
      "_________________________________________________________________\n",
      "block1_conv1 (Conv2D)        (None, 128, 128, 64)      1792      \n",
      "_________________________________________________________________\n",
      "block1_conv2 (Conv2D)        (None, 128, 128, 64)      36928     \n",
      "_________________________________________________________________\n",
      "block1_pool (MaxPooling2D)   (None, 64, 64, 64)        0         \n",
      "_________________________________________________________________\n",
      "block2_conv1 (Conv2D)        (None, 64, 64, 128)       73856     \n",
      "_________________________________________________________________\n",
      "block2_conv2 (Conv2D)        (None, 64, 64, 128)       147584    \n",
      "_________________________________________________________________\n",
      "block2_pool (MaxPooling2D)   (None, 32, 32, 128)       0         \n",
      "_________________________________________________________________\n",
      "block3_conv1 (Conv2D)        (None, 32, 32, 256)       295168    \n",
      "_________________________________________________________________\n",
      "block3_conv2 (Conv2D)        (None, 32, 32, 256)       590080    \n",
      "_________________________________________________________________\n",
      "block3_conv3 (Conv2D)        (None, 32, 32, 256)       590080    \n",
      "_________________________________________________________________\n",
      "block3_pool (MaxPooling2D)   (None, 16, 16, 256)       0         \n",
      "_________________________________________________________________\n",
      "block4_conv1 (Conv2D)        (None, 16, 16, 512)       1180160   \n",
      "_________________________________________________________________\n",
      "block4_conv2 (Conv2D)        (None, 16, 16, 512)       2359808   \n",
      "_________________________________________________________________\n",
      "block4_conv3 (Conv2D)        (None, 16, 16, 512)       2359808   \n",
      "_________________________________________________________________\n",
      "block4_pool (MaxPooling2D)   (None, 8, 8, 512)         0         \n",
      "_________________________________________________________________\n",
      "global_average_pooling2d (Gl (None, 512)               0         \n",
      "_________________________________________________________________\n",
      "batch_normalization (BatchNo (None, 512)               2048      \n",
      "_________________________________________________________________\n",
      "dense (Dense)                (None, 256)               131328    \n",
      "_________________________________________________________________\n",
      "dense_1 (Dense)              (None, 256)               65792     \n",
      "_________________________________________________________________\n",
      "dropout (Dropout)            (None, 256)               0         \n",
      "_________________________________________________________________\n",
      "dense_2 (Dense)              (None, 4)                 1028      \n",
      "=================================================================\n",
      "Total params: 7,835,460\n",
      "Trainable params: 7,834,436\n",
      "Non-trainable params: 1,024\n",
      "_________________________________________________________________\n"
     ]
    }
   ],
   "source": [
    "# 상위 층에 분류층 추가\n",
    "x = GlobalAveragePooling2D()(last)\n",
    "x= BatchNormalization()(x)\n",
    "x = Dense(256, activation='relu')(x)\n",
    "x = Dense(256, activation='relu')(x)\n",
    "x = Dropout(0.6)(x)\n",
    "pred = Dense(NUM_CLASSES, activation='softmax')(x)\n",
    "model = Model(base_model.input, pred)\n",
    "\n",
    "\n",
    "model.summary()"
   ]
  },
  {
   "cell_type": "code",
   "execution_count": null,
   "metadata": {},
   "outputs": [],
   "source": []
  },
  {
   "cell_type": "code",
   "execution_count": 8,
   "metadata": {},
   "outputs": [],
   "source": [
    "checkpoint = keras.callbacks.ModelCheckpoint('model_cnn3-{epoch:03d}-{acc:03f}-{val_acc:03f}.h5', verbose=1,\n",
    "                                             monitor='val_loss',\n",
    "                                             save_best_only=True, mode='auto')"
   ]
  },
  {
   "cell_type": "code",
   "execution_count": 9,
   "metadata": {
    "colab": {
     "autoexec": {
      "startup": false,
      "wait_interval": 0
     }
    },
    "colab_type": "code",
    "id": "fc3EhfLTMD4I"
   },
   "outputs": [],
   "source": [
    "for layer in base_model.layers:\n",
    "     layer.trainable = False"
   ]
  },
  {
   "cell_type": "code",
   "execution_count": 10,
   "metadata": {
    "colab": {
     "autoexec": {
      "startup": false,
      "wait_interval": 0
     }
    },
    "colab_type": "code",
    "id": "PRXPI3DCMIIK"
   },
   "outputs": [],
   "source": [
    "model.compile(loss='binary_crossentropy',\n",
    "              optimizer=optimizers.Adam(lr=LEARNING_RATE),\n",
    "              metrics=['accuracy'])"
   ]
  },
  {
   "cell_type": "code",
   "execution_count": 11,
   "metadata": {
    "colab": {
     "autoexec": {
      "startup": false,
      "wait_interval": 0
     },
     "base_uri": "https://localhost:8080/",
     "height": 714
    },
    "colab_type": "code",
    "executionInfo": {
     "elapsed": 814,
     "status": "ok",
     "timestamp": 1531341814064,
     "user": {
      "displayName": "Raghav Bali",
      "photoUrl": "//lh4.googleusercontent.com/-HPass-4Bl9U/AAAAAAAAAAI/AAAAAAAAKiI/A0BQ8MHwVME/s50-c-k-no/photo.jpg",
      "userId": "117317575176939780509"
     },
     "user_tz": -330
    },
    "id": "PATZIBLlMLrf",
    "outputId": "f9a4ac68-9261-46d8-a7c9-9e15cfcf5631"
   },
   "outputs": [],
   "source": [
    "train_datagen = ImageDataGenerator(\n",
    "                 rescale=1/255,\n",
    "                validation_split=0.33\n",
    "                                  )"
   ]
  },
  {
   "cell_type": "code",
   "execution_count": 12,
   "metadata": {
    "colab": {
     "autoexec": {
      "startup": false,
      "wait_interval": 0
     }
    },
    "colab_type": "code",
    "id": "_Y-jNseQMNcf"
   },
   "outputs": [
    {
     "name": "stdout",
     "output_type": "stream",
     "text": [
      "Found 13350 images belonging to 4 classes.\n"
     ]
    }
   ],
   "source": [
    "train_generator = train_datagen.flow_from_directory(\n",
    "        PATH,\n",
    "        shuffle=True,\n",
    "        seed=13,\n",
    "        target_size=(128,128),\n",
    "        batch_size=BATCH_SIZE,\n",
    "        class_mode = 'categorical',\n",
    "        subset=\"training\")"
   ]
  },
  {
   "cell_type": "code",
   "execution_count": 13,
   "metadata": {
    "colab": {
     "autoexec": {
      "startup": false,
      "wait_interval": 0
     }
    },
    "colab_type": "code",
    "id": "mHPmLOf-N3SQ"
   },
   "outputs": [
    {
     "name": "stdout",
     "output_type": "stream",
     "text": [
      "Found 6574 images belonging to 4 classes.\n"
     ]
    }
   ],
   "source": [
    "val_generator = train_datagen.flow_from_directory(\n",
    "        PATH,\n",
    "        shuffle=True,\n",
    "        seed=13,\n",
    "        target_size=(128,128),\n",
    "        batch_size=BATCH_SIZE,\n",
    "        class_mode = 'categorical',\n",
    "        subset=\"validation\")\n"
   ]
  },
  {
   "cell_type": "code",
   "execution_count": 14,
   "metadata": {
    "colab": {
     "autoexec": {
      "startup": false,
      "wait_interval": 0
     }
    },
    "colab_type": "code",
    "id": "JSIJycdbrBWK",
    "scrolled": true
   },
   "outputs": [
    {
     "name": "stdout",
     "output_type": "stream",
     "text": [
      "Epoch 1/100\n",
      "WARNING:tensorflow:From C:\\Users\\admin\\Anaconda3\\lib\\site-packages\\tensorflow_core\\python\\ops\\math_grad.py:1424: where (from tensorflow.python.ops.array_ops) is deprecated and will be removed in a future version.\n",
      "Instructions for updating:\n",
      "Use tf.where in 2.0, which has the same broadcast rule as np.where\n",
      " 99/100 [============================>.] - ETA: 2s - loss: 0.5280 - acc: 0.7637Epoch 1/100\n",
      "100/100 [==============================] - 227s 2s/step - loss: 0.4603 - acc: 0.7923\n",
      "\n",
      "Epoch 00001: val_loss improved from inf to 0.46026, saving model to model_cnn3-001-0.764141-0.792305.h5\n",
      "100/100 [==============================] - 457s 5s/step - loss: 0.5271 - acc: 0.7641 - val_loss: 0.4603 - val_acc: 0.7923\n",
      "Epoch 2/100\n",
      " 99/100 [============================>.] - ETA: 2s - loss: 0.4203 - acc: 0.8130Epoch 1/100\n",
      "100/100 [==============================] - 234s 2s/step - loss: 0.4090 - acc: 0.8170\n",
      "\n",
      "Epoch 00002: val_loss improved from 0.46026 to 0.40898, saving model to model_cnn3-002-0.813281-0.817031.h5\n",
      "100/100 [==============================] - 480s 5s/step - loss: 0.4197 - acc: 0.8133 - val_loss: 0.4090 - val_acc: 0.8170\n",
      "Epoch 3/100\n",
      " 99/100 [============================>.] - ETA: 2s - loss: 0.3642 - acc: 0.8408Epoch 1/100\n",
      "100/100 [==============================] - 232s 2s/step - loss: 0.3760 - acc: 0.8319\n",
      "\n",
      "Epoch 00003: val_loss improved from 0.40898 to 0.37603, saving model to model_cnn3-003-0.841092-0.831875.h5\n",
      "100/100 [==============================] - 469s 5s/step - loss: 0.3636 - acc: 0.8411 - val_loss: 0.3760 - val_acc: 0.8319\n",
      "Epoch 4/100\n",
      " 99/100 [============================>.] - ETA: 2s - loss: 0.3378 - acc: 0.8557Epoch 1/100\n",
      "100/100 [==============================] - 229s 2s/step - loss: 0.3582 - acc: 0.8405\n",
      "\n",
      "Epoch 00004: val_loss improved from 0.37603 to 0.35820, saving model to model_cnn3-004-0.856211-0.840469.h5\n",
      "100/100 [==============================] - 457s 5s/step - loss: 0.3369 - acc: 0.8562 - val_loss: 0.3582 - val_acc: 0.8405\n",
      "Epoch 5/100\n",
      " 99/100 [============================>.] - ETA: 2s - loss: 0.3126 - acc: 0.8670Epoch 1/100\n",
      "100/100 [==============================] - 227s 2s/step - loss: 0.3506 - acc: 0.8421\n",
      "\n",
      "Epoch 00005: val_loss improved from 0.35820 to 0.35061, saving model to model_cnn3-005-0.866758-0.842109.h5\n",
      "100/100 [==============================] - 454s 5s/step - loss: 0.3130 - acc: 0.8668 - val_loss: 0.3506 - val_acc: 0.8421\n",
      "Epoch 6/100\n",
      " 99/100 [============================>.] - ETA: 2s - loss: 0.2915 - acc: 0.8741Epoch 1/100\n",
      "100/100 [==============================] - 227s 2s/step - loss: 0.3391 - acc: 0.8469\n",
      "\n",
      "Epoch 00006: val_loss improved from 0.35061 to 0.33910, saving model to model_cnn3-006-0.874019-0.846875.h5\n",
      "100/100 [==============================] - 454s 5s/step - loss: 0.2918 - acc: 0.8740 - val_loss: 0.3391 - val_acc: 0.8469\n",
      "Epoch 7/100\n",
      " 99/100 [============================>.] - ETA: 2s - loss: 0.2714 - acc: 0.8842Epoch 1/100\n",
      "100/100 [==============================] - 227s 2s/step - loss: 0.3398 - acc: 0.8465\n",
      "\n",
      "Epoch 00007: val_loss did not improve from 0.33910\n",
      "100/100 [==============================] - 452s 5s/step - loss: 0.2715 - acc: 0.8841 - val_loss: 0.3398 - val_acc: 0.8465\n",
      "Epoch 8/100\n",
      " 99/100 [============================>.] - ETA: 2s - loss: 0.2676 - acc: 0.8899Epoch 1/100\n",
      "100/100 [==============================] - 227s 2s/step - loss: 0.3348 - acc: 0.8491\n",
      "\n",
      "Epoch 00008: val_loss improved from 0.33910 to 0.33478, saving model to model_cnn3-008-0.889648-0.849102.h5\n",
      "100/100 [==============================] - 453s 5s/step - loss: 0.2681 - acc: 0.8896 - val_loss: 0.3348 - val_acc: 0.8491\n",
      "Epoch 9/100\n",
      " 99/100 [============================>.] - ETA: 2s - loss: 0.2522 - acc: 0.8941Epoch 1/100\n",
      "100/100 [==============================] - 227s 2s/step - loss: 0.3287 - acc: 0.8517\n",
      "\n",
      "Epoch 00009: val_loss improved from 0.33478 to 0.32869, saving model to model_cnn3-009-0.894258-0.851680.h5\n",
      "100/100 [==============================] - 452s 5s/step - loss: 0.2522 - acc: 0.8943 - val_loss: 0.3287 - val_acc: 0.8517\n",
      "Epoch 10/100\n",
      " 99/100 [============================>.] - ETA: 2s - loss: 0.2475 - acc: 0.8984Epoch 1/100\n",
      "100/100 [==============================] - 227s 2s/step - loss: 0.3277 - acc: 0.8526\n",
      "\n",
      "Epoch 00010: val_loss improved from 0.32869 to 0.32769, saving model to model_cnn3-010-0.898750-0.852617.h5\n",
      "100/100 [==============================] - 453s 5s/step - loss: 0.2467 - acc: 0.8988 - val_loss: 0.3277 - val_acc: 0.8526\n",
      "Epoch 11/100\n",
      " 99/100 [============================>.] - ETA: 2s - loss: 0.2303 - acc: 0.9048Epoch 1/100\n",
      "100/100 [==============================] - 227s 2s/step - loss: 0.3258 - acc: 0.8541\n",
      "\n",
      "Epoch 00011: val_loss improved from 0.32769 to 0.32582, saving model to model_cnn3-011-0.904926-0.854062.h5\n",
      "100/100 [==============================] - 452s 5s/step - loss: 0.2302 - acc: 0.9049 - val_loss: 0.3258 - val_acc: 0.8541\n",
      "Epoch 12/100\n",
      " 99/100 [============================>.] - ETA: 2s - loss: 0.2336 - acc: 0.9045Epoch 1/100\n",
      "100/100 [==============================] - 227s 2s/step - loss: 0.3302 - acc: 0.8523\n",
      "\n",
      "Epoch 00012: val_loss did not improve from 0.32582\n",
      "100/100 [==============================] - 455s 5s/step - loss: 0.2331 - acc: 0.9047 - val_loss: 0.3302 - val_acc: 0.8523\n",
      "Epoch 13/100\n",
      " 99/100 [============================>.] - ETA: 2s - loss: 0.2227 - acc: 0.9092Epoch 1/100\n",
      "100/100 [==============================] - 227s 2s/step - loss: 0.3246 - acc: 0.8535\n",
      "\n",
      "Epoch 00013: val_loss improved from 0.32582 to 0.32460, saving model to model_cnn3-013-0.908945-0.853477.h5\n",
      "100/100 [==============================] - 453s 5s/step - loss: 0.2229 - acc: 0.9089 - val_loss: 0.3246 - val_acc: 0.8535\n",
      "Epoch 14/100\n",
      " 99/100 [============================>.] - ETA: 2s - loss: 0.2082 - acc: 0.9156Epoch 1/100\n",
      "100/100 [==============================] - 227s 2s/step - loss: 0.3230 - acc: 0.8562\n",
      "\n",
      "Epoch 00014: val_loss improved from 0.32460 to 0.32302, saving model to model_cnn3-014-0.915937-0.856250.h5\n",
      "100/100 [==============================] - 454s 5s/step - loss: 0.2074 - acc: 0.9159 - val_loss: 0.3230 - val_acc: 0.8562\n",
      "Epoch 15/100\n",
      " 99/100 [============================>.] - ETA: 2s - loss: 0.2050 - acc: 0.9177Epoch 1/100\n",
      "100/100 [==============================] - 227s 2s/step - loss: 0.3230 - acc: 0.8564\n",
      "\n",
      "Epoch 00015: val_loss improved from 0.32302 to 0.32296, saving model to model_cnn3-015-0.917948-0.856445.h5\n",
      "100/100 [==============================] - 453s 5s/step - loss: 0.2045 - acc: 0.9179 - val_loss: 0.3230 - val_acc: 0.8564\n",
      "Epoch 16/100\n",
      " 99/100 [============================>.] - ETA: 2s - loss: 0.1984 - acc: 0.9192Epoch 1/100\n",
      "100/100 [==============================] - 227s 2s/step - loss: 0.3164 - acc: 0.8598\n",
      "\n",
      "Epoch 00016: val_loss improved from 0.32296 to 0.31635, saving model to model_cnn3-016-0.919102-0.859766.h5\n",
      "100/100 [==============================] - 454s 5s/step - loss: 0.1988 - acc: 0.9191 - val_loss: 0.3164 - val_acc: 0.8598\n",
      "Epoch 17/100\n",
      " 99/100 [============================>.] - ETA: 2s - loss: 0.1940 - acc: 0.9237Epoch 1/100\n",
      "100/100 [==============================] - 227s 2s/step - loss: 0.3228 - acc: 0.8571\n",
      "\n",
      "Epoch 00017: val_loss did not improve from 0.31635\n",
      "100/100 [==============================] - 453s 5s/step - loss: 0.1938 - acc: 0.9235 - val_loss: 0.3228 - val_acc: 0.8571\n",
      "Epoch 18/100\n",
      " 99/100 [============================>.] - ETA: 2s - loss: 0.1864 - acc: 0.9248Epoch 1/100\n",
      "100/100 [==============================] - 227s 2s/step - loss: 0.3181 - acc: 0.8595\n",
      "\n",
      "Epoch 00018: val_loss did not improve from 0.31635\n",
      "100/100 [==============================] - 455s 5s/step - loss: 0.1873 - acc: 0.9243 - val_loss: 0.3181 - val_acc: 0.8595\n",
      "Epoch 19/100\n",
      " 99/100 [============================>.] - ETA: 2s - loss: 0.1871 - acc: 0.9246Epoch 1/100\n",
      "100/100 [==============================] - 227s 2s/step - loss: 0.3210 - acc: 0.8595\n",
      "\n",
      "Epoch 00019: val_loss did not improve from 0.31635\n",
      "100/100 [==============================] - 453s 5s/step - loss: 0.1870 - acc: 0.9247 - val_loss: 0.3210 - val_acc: 0.8595\n",
      "Epoch 20/100\n",
      " 99/100 [============================>.] - ETA: 2s - loss: 0.1742 - acc: 0.9315Epoch 1/100\n",
      "100/100 [==============================] - 228s 2s/step - loss: 0.3205 - acc: 0.8607\n",
      "\n",
      "Epoch 00020: val_loss did not improve from 0.31635\n",
      "100/100 [==============================] - 455s 5s/step - loss: 0.1745 - acc: 0.9313 - val_loss: 0.3205 - val_acc: 0.8607\n"
     ]
    },
    {
     "name": "stdout",
     "output_type": "stream",
     "text": [
      "Epoch 21/100\n",
      " 99/100 [============================>.] - ETA: 2s - loss: 0.1793 - acc: 0.9292Epoch 1/100\n",
      "100/100 [==============================] - 227s 2s/step - loss: 0.3153 - acc: 0.8618\n",
      "\n",
      "Epoch 00021: val_loss improved from 0.31635 to 0.31533, saving model to model_cnn3-021-0.929165-0.861836.h5\n",
      "100/100 [==============================] - 453s 5s/step - loss: 0.1789 - acc: 0.9292 - val_loss: 0.3153 - val_acc: 0.8618\n",
      "Epoch 22/100\n",
      " 99/100 [============================>.] - ETA: 2s - loss: 0.1651 - acc: 0.9349Epoch 1/100\n",
      "100/100 [==============================] - 228s 2s/step - loss: 0.3234 - acc: 0.8606\n",
      "\n",
      "Epoch 00022: val_loss did not improve from 0.31533\n",
      "100/100 [==============================] - 454s 5s/step - loss: 0.1652 - acc: 0.9350 - val_loss: 0.3234 - val_acc: 0.8606\n",
      "Epoch 23/100\n",
      " 99/100 [============================>.] - ETA: 2s - loss: 0.1632 - acc: 0.9339Epoch 1/100\n",
      "100/100 [==============================] - 228s 2s/step - loss: 0.3241 - acc: 0.8618\n",
      "\n",
      "Epoch 00023: val_loss did not improve from 0.31533\n",
      "100/100 [==============================] - 454s 5s/step - loss: 0.1630 - acc: 0.9341 - val_loss: 0.3241 - val_acc: 0.8618\n",
      "Epoch 24/100\n",
      " 99/100 [============================>.] - ETA: 2s - loss: 0.1532 - acc: 0.9406Epoch 1/100\n",
      "100/100 [==============================] - 228s 2s/step - loss: 0.3244 - acc: 0.8611\n",
      "\n",
      "Epoch 00024: val_loss did not improve from 0.31533\n",
      "100/100 [==============================] - 454s 5s/step - loss: 0.1527 - acc: 0.9409 - val_loss: 0.3244 - val_acc: 0.8611\n",
      "Epoch 25/100\n",
      " 99/100 [============================>.] - ETA: 2s - loss: 0.1561 - acc: 0.9391Epoch 1/100\n",
      "100/100 [==============================] - 228s 2s/step - loss: 0.3262 - acc: 0.8616\n",
      "\n",
      "Epoch 00025: val_loss did not improve from 0.31533\n",
      "100/100 [==============================] - 455s 5s/step - loss: 0.1561 - acc: 0.9388 - val_loss: 0.3262 - val_acc: 0.8616\n",
      "Epoch 26/100\n",
      " 99/100 [============================>.] - ETA: 2s - loss: 0.1455 - acc: 0.9449Epoch 1/100\n",
      "100/100 [==============================] - 228s 2s/step - loss: 0.3191 - acc: 0.8654\n",
      "\n",
      "Epoch 00026: val_loss did not improve from 0.31533\n",
      "100/100 [==============================] - 456s 5s/step - loss: 0.1459 - acc: 0.9448 - val_loss: 0.3191 - val_acc: 0.8654\n",
      "Epoch 27/100\n",
      " 99/100 [============================>.] - ETA: 2s - loss: 0.1484 - acc: 0.9429Epoch 1/100\n",
      "100/100 [==============================] - 228s 2s/step - loss: 0.3270 - acc: 0.8630\n",
      "\n",
      "Epoch 00027: val_loss did not improve from 0.31533\n",
      "100/100 [==============================] - 455s 5s/step - loss: 0.1486 - acc: 0.9427 - val_loss: 0.3270 - val_acc: 0.8630\n",
      "Epoch 28/100\n",
      " 99/100 [============================>.] - ETA: 2s - loss: 0.1411 - acc: 0.9437Epoch 1/100\n",
      "100/100 [==============================] - 228s 2s/step - loss: 0.3291 - acc: 0.8624\n",
      "\n",
      "Epoch 00028: val_loss did not improve from 0.31533\n",
      "100/100 [==============================] - 455s 5s/step - loss: 0.1411 - acc: 0.9436 - val_loss: 0.3291 - val_acc: 0.8624\n",
      "Epoch 29/100\n",
      " 99/100 [============================>.] - ETA: 2s - loss: 0.1440 - acc: 0.9441Epoch 1/100\n",
      "100/100 [==============================] - 228s 2s/step - loss: 0.3245 - acc: 0.8637\n",
      "\n",
      "Epoch 00029: val_loss did not improve from 0.31533\n",
      "100/100 [==============================] - 454s 5s/step - loss: 0.1434 - acc: 0.9444 - val_loss: 0.3245 - val_acc: 0.8637\n",
      "Epoch 30/100\n",
      " 99/100 [============================>.] - ETA: 2s - loss: 0.1366 - acc: 0.9461Epoch 1/100\n",
      "100/100 [==============================] - 228s 2s/step - loss: 0.3293 - acc: 0.8628\n",
      "\n",
      "Epoch 00030: val_loss did not improve from 0.31533\n",
      "100/100 [==============================] - 455s 5s/step - loss: 0.1363 - acc: 0.9461 - val_loss: 0.3293 - val_acc: 0.8628\n",
      "Epoch 31/100\n",
      " 99/100 [============================>.] - ETA: 2s - loss: 0.1336 - acc: 0.9498Epoch 1/100\n",
      "100/100 [==============================] - 227s 2s/step - loss: 0.3327 - acc: 0.8622\n",
      "\n",
      "Epoch 00031: val_loss did not improve from 0.31533\n",
      "100/100 [==============================] - 454s 5s/step - loss: 0.1346 - acc: 0.9496 - val_loss: 0.3327 - val_acc: 0.8622\n",
      "Epoch 32/100\n",
      " 99/100 [============================>.] - ETA: 2s - loss: 0.1276 - acc: 0.9502Epoch 1/100\n",
      "100/100 [==============================] - 228s 2s/step - loss: 0.3283 - acc: 0.8651\n",
      "\n",
      "Epoch 00032: val_loss did not improve from 0.31533\n",
      "100/100 [==============================] - 454s 5s/step - loss: 0.1275 - acc: 0.9504 - val_loss: 0.3283 - val_acc: 0.8651\n",
      "Epoch 33/100\n",
      " 99/100 [============================>.] - ETA: 2s - loss: 0.1324 - acc: 0.9502Epoch 1/100\n",
      "100/100 [==============================] - 228s 2s/step - loss: 0.3268 - acc: 0.8648\n",
      "\n",
      "Epoch 00033: val_loss did not improve from 0.31533\n",
      "100/100 [==============================] - 455s 5s/step - loss: 0.1327 - acc: 0.9500 - val_loss: 0.3268 - val_acc: 0.8648\n",
      "Epoch 34/100\n",
      " 99/100 [============================>.] - ETA: 2s - loss: 0.1202 - acc: 0.9536Epoch 1/100\n",
      "100/100 [==============================] - 228s 2s/step - loss: 0.3243 - acc: 0.8662\n",
      "\n",
      "Epoch 00034: val_loss did not improve from 0.31533\n",
      "100/100 [==============================] - 455s 5s/step - loss: 0.1205 - acc: 0.9533 - val_loss: 0.3243 - val_acc: 0.8662\n",
      "Epoch 35/100\n",
      " 99/100 [============================>.] - ETA: 2s - loss: 0.1216 - acc: 0.9550Epoch 1/100\n",
      "100/100 [==============================] - 228s 2s/step - loss: 0.3276 - acc: 0.8663\n",
      "\n",
      "Epoch 00035: val_loss did not improve from 0.31533\n",
      "100/100 [==============================] - 454s 5s/step - loss: 0.1219 - acc: 0.9551 - val_loss: 0.3276 - val_acc: 0.8663\n",
      "Epoch 36/100\n",
      " 99/100 [============================>.] - ETA: 2s - loss: 0.1157 - acc: 0.9568Epoch 1/100\n",
      "100/100 [==============================] - 228s 2s/step - loss: 0.3223 - acc: 0.8693\n",
      "\n",
      "Epoch 00036: val_loss did not improve from 0.31533\n",
      "100/100 [==============================] - 455s 5s/step - loss: 0.1158 - acc: 0.9567 - val_loss: 0.3223 - val_acc: 0.8693\n",
      "Epoch 37/100\n",
      " 99/100 [============================>.] - ETA: 2s - loss: 0.1175 - acc: 0.9571Epoch 1/100\n",
      "100/100 [==============================] - 228s 2s/step - loss: 0.3343 - acc: 0.8655\n",
      "\n",
      "Epoch 00037: val_loss did not improve from 0.31533\n",
      "100/100 [==============================] - 454s 5s/step - loss: 0.1171 - acc: 0.9573 - val_loss: 0.3343 - val_acc: 0.8655\n",
      "Epoch 38/100\n",
      " 99/100 [============================>.] - ETA: 2s - loss: 0.1148 - acc: 0.9559Epoch 1/100\n",
      "100/100 [==============================] - 228s 2s/step - loss: 0.3420 - acc: 0.8627\n",
      "\n",
      "Epoch 00038: val_loss did not improve from 0.31533\n",
      "100/100 [==============================] - 456s 5s/step - loss: 0.1148 - acc: 0.9560 - val_loss: 0.3420 - val_acc: 0.8627\n",
      "Epoch 39/100\n",
      " 99/100 [============================>.] - ETA: 2s - loss: 0.1144 - acc: 0.9559Epoch 1/100\n",
      "100/100 [==============================] - 228s 2s/step - loss: 0.3333 - acc: 0.8662\n",
      "\n",
      "Epoch 00039: val_loss did not improve from 0.31533\n",
      "100/100 [==============================] - 454s 5s/step - loss: 0.1144 - acc: 0.9559 - val_loss: 0.3333 - val_acc: 0.8662\n",
      "Epoch 40/100\n",
      " 99/100 [============================>.] - ETA: 2s - loss: 0.1061 - acc: 0.9607Epoch 1/100\n",
      "100/100 [==============================] - 228s 2s/step - loss: 0.3368 - acc: 0.8679\n",
      "\n",
      "Epoch 00040: val_loss did not improve from 0.31533\n",
      "100/100 [==============================] - 456s 5s/step - loss: 0.1061 - acc: 0.9605 - val_loss: 0.3368 - val_acc: 0.8679\n",
      "Epoch 41/100\n",
      " 99/100 [============================>.] - ETA: 2s - loss: 0.1059 - acc: 0.9608Epoch 1/100\n",
      "100/100 [==============================] - 227s 2s/step - loss: 0.3410 - acc: 0.8661\n",
      "\n",
      "Epoch 00041: val_loss did not improve from 0.31533\n",
      "100/100 [==============================] - 455s 5s/step - loss: 0.1062 - acc: 0.9606 - val_loss: 0.3410 - val_acc: 0.8661\n",
      "Epoch 42/100\n",
      " 99/100 [============================>.] - ETA: 2s - loss: 0.1020 - acc: 0.9622Epoch 1/100\n",
      "100/100 [==============================] - 228s 2s/step - loss: 0.3453 - acc: 0.8646\n",
      "\n",
      "Epoch 00042: val_loss did not improve from 0.31533\n",
      "100/100 [==============================] - 454s 5s/step - loss: 0.1020 - acc: 0.9621 - val_loss: 0.3453 - val_acc: 0.8646\n",
      "Epoch 43/100\n",
      " 99/100 [============================>.] - ETA: 2s - loss: 0.0988 - acc: 0.9635Epoch 1/100\n",
      "100/100 [==============================] - 228s 2s/step - loss: 0.3453 - acc: 0.8654\n",
      "\n",
      "Epoch 00043: val_loss did not improve from 0.31533\n",
      "100/100 [==============================] - 454s 5s/step - loss: 0.0988 - acc: 0.9634 - val_loss: 0.3453 - val_acc: 0.8654\n",
      "Epoch 44/100\n",
      " 99/100 [============================>.] - ETA: 2s - loss: 0.0983 - acc: 0.9631Epoch 1/100\n",
      "100/100 [==============================] - 228s 2s/step - loss: 0.3465 - acc: 0.8665\n",
      "\n",
      "Epoch 00044: val_loss did not improve from 0.31533\n",
      "100/100 [==============================] - 455s 5s/step - loss: 0.0982 - acc: 0.9630 - val_loss: 0.3465 - val_acc: 0.8665\n",
      "Epoch 45/100\n",
      " 99/100 [============================>.] - ETA: 2s - loss: 0.0935 - acc: 0.9651Epoch 1/100\n",
      "100/100 [==============================] - 228s 2s/step - loss: 0.3487 - acc: 0.8651\n",
      "\n",
      "Epoch 00045: val_loss did not improve from 0.31533\n",
      "100/100 [==============================] - 455s 5s/step - loss: 0.0938 - acc: 0.9649 - val_loss: 0.3487 - val_acc: 0.8651\n",
      "Epoch 46/100\n",
      " 99/100 [============================>.] - ETA: 2s - loss: 0.0956 - acc: 0.9628Epoch 1/100\n",
      "100/100 [==============================] - 228s 2s/step - loss: 0.3474 - acc: 0.8666\n",
      "\n",
      "Epoch 00046: val_loss did not improve from 0.31533\n",
      "100/100 [==============================] - 455s 5s/step - loss: 0.0957 - acc: 0.9627 - val_loss: 0.3474 - val_acc: 0.8666\n",
      "Epoch 47/100\n",
      " 99/100 [============================>.] - ETA: 2s - loss: 0.0849 - acc: 0.9682Epoch 1/100\n",
      "100/100 [==============================] - 228s 2s/step - loss: 0.3494 - acc: 0.8667\n",
      "\n",
      "Epoch 00047: val_loss did not improve from 0.31533\n",
      "100/100 [==============================] - 456s 5s/step - loss: 0.0854 - acc: 0.9680 - val_loss: 0.3494 - val_acc: 0.8667\n",
      "Epoch 48/100\n",
      " 99/100 [============================>.] - ETA: 2s - loss: 0.0910 - acc: 0.9659Epoch 1/100\n",
      "100/100 [==============================] - 228s 2s/step - loss: 0.3485 - acc: 0.8675\n",
      "\n",
      "Epoch 00048: val_loss did not improve from 0.31533\n",
      "100/100 [==============================] - 455s 5s/step - loss: 0.0917 - acc: 0.9656 - val_loss: 0.3485 - val_acc: 0.8675\n",
      "Epoch 49/100\n",
      " 99/100 [============================>.] - ETA: 2s - loss: 0.0880 - acc: 0.9689Epoch 1/100\n",
      "100/100 [==============================] - 228s 2s/step - loss: 0.3461 - acc: 0.8673\n",
      "\n",
      "Epoch 00049: val_loss did not improve from 0.31533\n",
      "100/100 [==============================] - 456s 5s/step - loss: 0.0880 - acc: 0.9689 - val_loss: 0.3461 - val_acc: 0.8673\n",
      "Epoch 50/100\n",
      " 99/100 [============================>.] - ETA: 2s - loss: 0.0887 - acc: 0.9669Epoch 1/100\n",
      "100/100 [==============================] - 228s 2s/step - loss: 0.3562 - acc: 0.8655\n",
      "\n",
      "Epoch 00050: val_loss did not improve from 0.31533\n",
      "100/100 [==============================] - 454s 5s/step - loss: 0.0890 - acc: 0.9667 - val_loss: 0.3562 - val_acc: 0.8655\n",
      "Epoch 51/100\n",
      " 99/100 [============================>.] - ETA: 2s - loss: 0.0867 - acc: 0.9687Epoch 1/100\n",
      "100/100 [==============================] - 228s 2s/step - loss: 0.3540 - acc: 0.8691\n",
      "\n",
      "Epoch 00051: val_loss did not improve from 0.31533\n",
      "100/100 [==============================] - 455s 5s/step - loss: 0.0865 - acc: 0.9689 - val_loss: 0.3540 - val_acc: 0.8691\n",
      "Epoch 52/100\n",
      " 99/100 [============================>.] - ETA: 2s - loss: 0.0865 - acc: 0.9677Epoch 1/100\n",
      "100/100 [==============================] - 228s 2s/step - loss: 0.3552 - acc: 0.8685\n",
      "\n",
      "Epoch 00052: val_loss did not improve from 0.31533\n",
      "100/100 [==============================] - 455s 5s/step - loss: 0.0866 - acc: 0.9677 - val_loss: 0.3552 - val_acc: 0.8685\n",
      "Epoch 53/100\n",
      " 99/100 [============================>.] - ETA: 2s - loss: 0.0797 - acc: 0.9718Epoch 1/100\n",
      "100/100 [==============================] - 228s 2s/step - loss: 0.3592 - acc: 0.8685\n",
      "\n",
      "Epoch 00053: val_loss did not improve from 0.31533\n",
      "100/100 [==============================] - 455s 5s/step - loss: 0.0795 - acc: 0.9720 - val_loss: 0.3592 - val_acc: 0.8685\n",
      "Epoch 54/100\n",
      " 99/100 [============================>.] - ETA: 2s - loss: 0.0774 - acc: 0.9738Epoch 1/100\n",
      "100/100 [==============================] - 228s 2s/step - loss: 0.3534 - acc: 0.8698\n",
      "\n",
      "Epoch 00054: val_loss did not improve from 0.31533\n",
      "100/100 [==============================] - 455s 5s/step - loss: 0.0773 - acc: 0.9738 - val_loss: 0.3534 - val_acc: 0.8698\n",
      "Epoch 55/100\n",
      " 99/100 [============================>.] - ETA: 2s - loss: 0.0806 - acc: 0.9718Epoch 1/100\n",
      "100/100 [==============================] - 228s 2s/step - loss: 0.3657 - acc: 0.8653\n",
      "\n",
      "Epoch 00055: val_loss did not improve from 0.31533\n",
      "100/100 [==============================] - 455s 5s/step - loss: 0.0807 - acc: 0.9717 - val_loss: 0.3657 - val_acc: 0.8653\n",
      "Epoch 56/100\n",
      " 99/100 [============================>.] - ETA: 2s - loss: 0.0748 - acc: 0.9733Epoch 1/100\n",
      "100/100 [==============================] - 228s 2s/step - loss: 0.3617 - acc: 0.8682\n",
      "\n",
      "Epoch 00056: val_loss did not improve from 0.31533\n",
      "100/100 [==============================] - 456s 5s/step - loss: 0.0745 - acc: 0.9734 - val_loss: 0.3617 - val_acc: 0.8682\n",
      "Epoch 57/100\n",
      " 99/100 [============================>.] - ETA: 2s - loss: 0.0715 - acc: 0.9757Epoch 1/100\n",
      "100/100 [==============================] - 228s 2s/step - loss: 0.3764 - acc: 0.8647\n",
      "\n",
      "Epoch 00057: val_loss did not improve from 0.31533\n",
      "100/100 [==============================] - 456s 5s/step - loss: 0.0712 - acc: 0.9758 - val_loss: 0.3764 - val_acc: 0.8647\n",
      "Epoch 58/100\n",
      " 99/100 [============================>.] - ETA: 2s - loss: 0.0729 - acc: 0.9733Epoch 1/100\n",
      "100/100 [==============================] - 228s 2s/step - loss: 0.3720 - acc: 0.8674\n",
      "\n",
      "Epoch 00058: val_loss did not improve from 0.31533\n",
      "100/100 [==============================] - 456s 5s/step - loss: 0.0729 - acc: 0.9733 - val_loss: 0.3720 - val_acc: 0.8674\n",
      "Epoch 59/100\n",
      " 99/100 [============================>.] - ETA: 2s - loss: 0.0627 - acc: 0.9772Epoch 1/100\n",
      "100/100 [==============================] - 228s 2s/step - loss: 0.3894 - acc: 0.8639\n",
      "\n",
      "Epoch 00059: val_loss did not improve from 0.31533\n",
      "100/100 [==============================] - 454s 5s/step - loss: 0.0631 - acc: 0.9769 - val_loss: 0.3894 - val_acc: 0.8639\n",
      "Epoch 60/100\n",
      " 99/100 [============================>.] - ETA: 2s - loss: 0.0689 - acc: 0.9752Epoch 1/100\n",
      "100/100 [==============================] - 228s 2s/step - loss: 0.3722 - acc: 0.8689\n",
      "\n",
      "Epoch 00060: val_loss did not improve from 0.31533\n",
      "100/100 [==============================] - 456s 5s/step - loss: 0.0687 - acc: 0.9753 - val_loss: 0.3722 - val_acc: 0.8689\n",
      "Epoch 61/100\n",
      " 99/100 [============================>.] - ETA: 2s - loss: 0.0672 - acc: 0.9759Epoch 1/100\n",
      "100/100 [==============================] - 228s 2s/step - loss: 0.3830 - acc: 0.8649\n",
      "\n",
      "Epoch 00061: val_loss did not improve from 0.31533\n",
      "100/100 [==============================] - 456s 5s/step - loss: 0.0672 - acc: 0.9760 - val_loss: 0.3830 - val_acc: 0.8649\n",
      "Epoch 62/100\n",
      " 99/100 [============================>.] - ETA: 2s - loss: 0.0624 - acc: 0.9786Epoch 1/100\n",
      "100/100 [==============================] - 228s 2s/step - loss: 0.3889 - acc: 0.8622\n",
      "\n",
      "Epoch 00062: val_loss did not improve from 0.31533\n",
      "100/100 [==============================] - 456s 5s/step - loss: 0.0631 - acc: 0.9783 - val_loss: 0.3889 - val_acc: 0.8622\n",
      "Epoch 63/100\n",
      " 99/100 [============================>.] - ETA: 2s - loss: 0.0645 - acc: 0.9767Epoch 1/100\n",
      "100/100 [==============================] - 228s 2s/step - loss: 0.3876 - acc: 0.8646\n",
      "\n",
      "Epoch 00063: val_loss did not improve from 0.31533\n",
      "100/100 [==============================] - 455s 5s/step - loss: 0.0648 - acc: 0.9765 - val_loss: 0.3876 - val_acc: 0.8646\n",
      "Epoch 64/100\n",
      " 99/100 [============================>.] - ETA: 2s - loss: 0.0638 - acc: 0.9767Epoch 1/100\n",
      "100/100 [==============================] - 228s 2s/step - loss: 0.3859 - acc: 0.8681\n",
      "\n",
      "Epoch 00064: val_loss did not improve from 0.31533\n",
      "100/100 [==============================] - 455s 5s/step - loss: 0.0639 - acc: 0.9767 - val_loss: 0.3859 - val_acc: 0.8681\n",
      "Epoch 65/100\n",
      " 99/100 [============================>.] - ETA: 2s - loss: 0.0581 - acc: 0.9794Epoch 1/100\n",
      "100/100 [==============================] - 228s 2s/step - loss: 0.3743 - acc: 0.8719\n",
      "\n",
      "Epoch 00065: val_loss did not improve from 0.31533\n",
      "100/100 [==============================] - 456s 5s/step - loss: 0.0582 - acc: 0.9794 - val_loss: 0.3743 - val_acc: 0.8719\n"
     ]
    },
    {
     "name": "stdout",
     "output_type": "stream",
     "text": [
      "Epoch 66/100\n",
      " 99/100 [============================>.] - ETA: 2s - loss: 0.0567 - acc: 0.9791Epoch 1/100\n",
      "100/100 [==============================] - 228s 2s/step - loss: 0.3859 - acc: 0.8706\n",
      "\n",
      "Epoch 00066: val_loss did not improve from 0.31533\n",
      "100/100 [==============================] - 455s 5s/step - loss: 0.0569 - acc: 0.9790 - val_loss: 0.3859 - val_acc: 0.8706\n",
      "Epoch 67/100\n",
      " 99/100 [============================>.] - ETA: 2s - loss: 0.0593 - acc: 0.9796Epoch 1/100\n",
      "100/100 [==============================] - 228s 2s/step - loss: 0.3925 - acc: 0.8680\n",
      "\n",
      "Epoch 00067: val_loss did not improve from 0.31533\n",
      "100/100 [==============================] - 455s 5s/step - loss: 0.0590 - acc: 0.9798 - val_loss: 0.3925 - val_acc: 0.8680\n",
      "Epoch 68/100\n",
      " 99/100 [============================>.] - ETA: 2s - loss: 0.0555 - acc: 0.9799Epoch 1/100\n",
      "100/100 [==============================] - 228s 2s/step - loss: 0.3997 - acc: 0.8663\n",
      "\n",
      "Epoch 00068: val_loss did not improve from 0.31533\n",
      "100/100 [==============================] - 456s 5s/step - loss: 0.0553 - acc: 0.9801 - val_loss: 0.3997 - val_acc: 0.8663\n",
      "Epoch 69/100\n",
      " 99/100 [============================>.] - ETA: 2s - loss: 0.0567 - acc: 0.9797Epoch 1/100\n",
      "100/100 [==============================] - 228s 2s/step - loss: 0.3903 - acc: 0.8702\n",
      "\n",
      "Epoch 00069: val_loss did not improve from 0.31533\n",
      "100/100 [==============================] - 455s 5s/step - loss: 0.0567 - acc: 0.9797 - val_loss: 0.3903 - val_acc: 0.8702\n",
      "Epoch 70/100\n",
      " 99/100 [============================>.] - ETA: 2s - loss: 0.0499 - acc: 0.9832Epoch 1/100\n",
      "100/100 [==============================] - 228s 2s/step - loss: 0.3918 - acc: 0.8688\n",
      "\n",
      "Epoch 00070: val_loss did not improve from 0.31533\n",
      "100/100 [==============================] - 456s 5s/step - loss: 0.0497 - acc: 0.9833 - val_loss: 0.3918 - val_acc: 0.8688\n",
      "Epoch 71/100\n",
      " 99/100 [============================>.] - ETA: 2s - loss: 0.0542 - acc: 0.9800Epoch 1/100\n",
      "100/100 [==============================] - 228s 2s/step - loss: 0.3982 - acc: 0.8680\n",
      "\n",
      "Epoch 00071: val_loss did not improve from 0.31533\n",
      "100/100 [==============================] - 456s 5s/step - loss: 0.0546 - acc: 0.9798 - val_loss: 0.3982 - val_acc: 0.8680\n",
      "Epoch 72/100\n",
      " 99/100 [============================>.] - ETA: 2s - loss: 0.0484 - acc: 0.9835Epoch 1/100\n",
      "100/100 [==============================] - 228s 2s/step - loss: 0.3952 - acc: 0.8698\n",
      "\n",
      "Epoch 00072: val_loss did not improve from 0.31533\n",
      "100/100 [==============================] - 456s 5s/step - loss: 0.0483 - acc: 0.9836 - val_loss: 0.3952 - val_acc: 0.8698\n",
      "Epoch 73/100\n",
      " 99/100 [============================>.] - ETA: 2s - loss: 0.0513 - acc: 0.9821Epoch 1/100\n",
      "100/100 [==============================] - 228s 2s/step - loss: 0.4057 - acc: 0.8694\n",
      "\n",
      "Epoch 00073: val_loss did not improve from 0.31533\n",
      "100/100 [==============================] - 454s 5s/step - loss: 0.0511 - acc: 0.9823 - val_loss: 0.4057 - val_acc: 0.8694\n",
      "Epoch 74/100\n",
      " 99/100 [============================>.] - ETA: 2s - loss: 0.0444 - acc: 0.9843Epoch 1/100\n",
      "100/100 [==============================] - 228s 2s/step - loss: 0.4074 - acc: 0.8697\n",
      "\n",
      "Epoch 00074: val_loss did not improve from 0.31533\n",
      "100/100 [==============================] - 456s 5s/step - loss: 0.0442 - acc: 0.9845 - val_loss: 0.4074 - val_acc: 0.8697\n",
      "Epoch 75/100\n",
      " 99/100 [============================>.] - ETA: 2s - loss: 0.0510 - acc: 0.9815Epoch 1/100\n",
      "100/100 [==============================] - 228s 2s/step - loss: 0.4045 - acc: 0.8712\n",
      "\n",
      "Epoch 00075: val_loss did not improve from 0.31533\n",
      "100/100 [==============================] - 456s 5s/step - loss: 0.0510 - acc: 0.9815 - val_loss: 0.4045 - val_acc: 0.8712\n",
      "Epoch 76/100\n",
      " 99/100 [============================>.] - ETA: 2s - loss: 0.0442 - acc: 0.9848Epoch 1/100\n",
      "100/100 [==============================] - 228s 2s/step - loss: 0.4305 - acc: 0.8634\n",
      "\n",
      "Epoch 00076: val_loss did not improve from 0.31533\n",
      "100/100 [==============================] - 454s 5s/step - loss: 0.0442 - acc: 0.9848 - val_loss: 0.4305 - val_acc: 0.8634\n",
      "Epoch 77/100\n",
      " 99/100 [============================>.] - ETA: 2s - loss: 0.0486 - acc: 0.9824Epoch 1/100\n",
      "100/100 [==============================] - 228s 2s/step - loss: 0.4129 - acc: 0.8686\n",
      "\n",
      "Epoch 00077: val_loss did not improve from 0.31533\n",
      "100/100 [==============================] - 455s 5s/step - loss: 0.0488 - acc: 0.9824 - val_loss: 0.4129 - val_acc: 0.8686\n",
      "Epoch 78/100\n",
      " 99/100 [============================>.] - ETA: 2s - loss: 0.0452 - acc: 0.9845Epoch 1/100\n",
      "100/100 [==============================] - 228s 2s/step - loss: 0.4252 - acc: 0.8653\n",
      "\n",
      "Epoch 00078: val_loss did not improve from 0.31533\n",
      "100/100 [==============================] - 456s 5s/step - loss: 0.0455 - acc: 0.9843 - val_loss: 0.4252 - val_acc: 0.8653\n",
      "Epoch 79/100\n",
      " 99/100 [============================>.] - ETA: 2s - loss: 0.0455 - acc: 0.9845Epoch 1/100\n",
      "100/100 [==============================] - 228s 2s/step - loss: 0.4268 - acc: 0.8655\n",
      "\n",
      "Epoch 00079: val_loss did not improve from 0.31533\n",
      "100/100 [==============================] - 454s 5s/step - loss: 0.0457 - acc: 0.9845 - val_loss: 0.4268 - val_acc: 0.8655\n",
      "Epoch 80/100\n",
      " 99/100 [============================>.] - ETA: 2s - loss: 0.0403 - acc: 0.9858Epoch 1/100\n",
      "100/100 [==============================] - 228s 2s/step - loss: 0.4261 - acc: 0.8682\n",
      "\n",
      "Epoch 00080: val_loss did not improve from 0.31533\n",
      "100/100 [==============================] - 455s 5s/step - loss: 0.0403 - acc: 0.9858 - val_loss: 0.4261 - val_acc: 0.8682\n",
      "Epoch 81/100\n",
      " 99/100 [============================>.] - ETA: 2s - loss: 0.0400 - acc: 0.9867Epoch 1/100\n",
      "100/100 [==============================] - 228s 2s/step - loss: 0.4322 - acc: 0.8669\n",
      "\n",
      "Epoch 00081: val_loss did not improve from 0.31533\n",
      "100/100 [==============================] - 456s 5s/step - loss: 0.0399 - acc: 0.9869 - val_loss: 0.4322 - val_acc: 0.8669\n",
      "Epoch 82/100\n",
      " 99/100 [============================>.] - ETA: 2s - loss: 0.0415 - acc: 0.9854Epoch 1/100\n",
      "100/100 [==============================] - 228s 2s/step - loss: 0.4310 - acc: 0.8682\n",
      "\n",
      "Epoch 00082: val_loss did not improve from 0.31533\n",
      "100/100 [==============================] - 456s 5s/step - loss: 0.0415 - acc: 0.9853 - val_loss: 0.4310 - val_acc: 0.8682\n",
      "Epoch 83/100\n",
      " 99/100 [============================>.] - ETA: 2s - loss: 0.0413 - acc: 0.9861Epoch 1/100\n",
      "100/100 [==============================] - 228s 2s/step - loss: 0.4247 - acc: 0.8704\n",
      "\n",
      "Epoch 00083: val_loss did not improve from 0.31533\n",
      "100/100 [==============================] - 455s 5s/step - loss: 0.0412 - acc: 0.9861 - val_loss: 0.4247 - val_acc: 0.8704\n",
      "Epoch 84/100\n",
      " 99/100 [============================>.] - ETA: 2s - loss: 0.0356 - acc: 0.9884Epoch 1/100\n",
      "100/100 [==============================] - 230s 2s/step - loss: 0.4460 - acc: 0.8634\n",
      "\n",
      "Epoch 00084: val_loss did not improve from 0.31533\n",
      "100/100 [==============================] - 458s 5s/step - loss: 0.0355 - acc: 0.9885 - val_loss: 0.4460 - val_acc: 0.8634\n",
      "Epoch 85/100\n",
      " 99/100 [============================>.] - ETA: 2s - loss: 0.0371 - acc: 0.9877Epoch 1/100\n",
      "100/100 [==============================] - 228s 2s/step - loss: 0.4465 - acc: 0.8663\n",
      "\n",
      "Epoch 00085: val_loss did not improve from 0.31533\n",
      "100/100 [==============================] - 456s 5s/step - loss: 0.0370 - acc: 0.9877 - val_loss: 0.4465 - val_acc: 0.8663\n",
      "Epoch 86/100\n",
      " 99/100 [============================>.] - ETA: 2s - loss: 0.0349 - acc: 0.9878Epoch 1/100\n",
      "100/100 [==============================] - 228s 2s/step - loss: 0.4489 - acc: 0.8676\n",
      "\n",
      "Epoch 00086: val_loss did not improve from 0.31533\n",
      "100/100 [==============================] - 455s 5s/step - loss: 0.0349 - acc: 0.9878 - val_loss: 0.4489 - val_acc: 0.8676\n",
      "Epoch 87/100\n",
      " 99/100 [============================>.] - ETA: 2s - loss: 0.0361 - acc: 0.9882Epoch 1/100\n",
      "100/100 [==============================] - 228s 2s/step - loss: 0.4467 - acc: 0.8672\n",
      "\n",
      "Epoch 00087: val_loss did not improve from 0.31533\n",
      "100/100 [==============================] - 455s 5s/step - loss: 0.0361 - acc: 0.9882 - val_loss: 0.4467 - val_acc: 0.8672\n",
      "Epoch 88/100\n",
      " 99/100 [============================>.] - ETA: 2s - loss: 0.0345 - acc: 0.9888Epoch 1/100\n",
      "100/100 [==============================] - 229s 2s/step - loss: 0.4505 - acc: 0.8677\n",
      "\n",
      "Epoch 00088: val_loss did not improve from 0.31533\n",
      "100/100 [==============================] - 457s 5s/step - loss: 0.0345 - acc: 0.9888 - val_loss: 0.4505 - val_acc: 0.8677\n"
     ]
    },
    {
     "name": "stdout",
     "output_type": "stream",
     "text": [
      "Epoch 89/100\n",
      " 99/100 [============================>.] - ETA: 2s - loss: 0.0331 - acc: 0.9891Epoch 1/100\n",
      "100/100 [==============================] - 228s 2s/step - loss: 0.4469 - acc: 0.8688\n",
      "\n",
      "Epoch 00089: val_loss did not improve from 0.31533\n",
      "100/100 [==============================] - 456s 5s/step - loss: 0.0329 - acc: 0.9892 - val_loss: 0.4469 - val_acc: 0.8688\n",
      "Epoch 90/100\n",
      " 99/100 [============================>.] - ETA: 2s - loss: 0.0347 - acc: 0.9890Epoch 1/100\n",
      "100/100 [==============================] - 228s 2s/step - loss: 0.4470 - acc: 0.8684\n",
      "\n",
      "Epoch 00090: val_loss did not improve from 0.31533\n",
      "100/100 [==============================] - 455s 5s/step - loss: 0.0346 - acc: 0.9890 - val_loss: 0.4470 - val_acc: 0.8684\n",
      "Epoch 91/100\n",
      " 99/100 [============================>.] - ETA: 2s - loss: 0.0288 - acc: 0.9903Epoch 1/100\n",
      "100/100 [==============================] - 228s 2s/step - loss: 0.4511 - acc: 0.8671\n",
      "\n",
      "Epoch 00091: val_loss did not improve from 0.31533\n",
      "100/100 [==============================] - 455s 5s/step - loss: 0.0287 - acc: 0.9904 - val_loss: 0.4511 - val_acc: 0.8671\n",
      "Epoch 92/100\n",
      " 99/100 [============================>.] - ETA: 2s - loss: 0.0314 - acc: 0.9895Epoch 1/100\n",
      "100/100 [==============================] - 228s 2s/step - loss: 0.4702 - acc: 0.8669\n",
      "\n",
      "Epoch 00092: val_loss did not improve from 0.31533\n",
      "100/100 [==============================] - 456s 5s/step - loss: 0.0317 - acc: 0.9894 - val_loss: 0.4702 - val_acc: 0.8669\n",
      "Epoch 93/100\n",
      " 99/100 [============================>.] - ETA: 2s - loss: 0.0299 - acc: 0.9903Epoch 1/100\n",
      "100/100 [==============================] - 228s 2s/step - loss: 0.4665 - acc: 0.8662\n",
      "\n",
      "Epoch 00093: val_loss did not improve from 0.31533\n",
      "100/100 [==============================] - 455s 5s/step - loss: 0.0300 - acc: 0.9904 - val_loss: 0.4665 - val_acc: 0.8662\n",
      "Epoch 94/100\n",
      " 99/100 [============================>.] - ETA: 2s - loss: 0.0310 - acc: 0.9899Epoch 1/100\n",
      "100/100 [==============================] - 228s 2s/step - loss: 0.4540 - acc: 0.8692\n",
      "\n",
      "Epoch 00094: val_loss did not improve from 0.31533\n",
      "100/100 [==============================] - 455s 5s/step - loss: 0.0309 - acc: 0.9900 - val_loss: 0.4540 - val_acc: 0.8692\n",
      "Epoch 95/100\n",
      " 99/100 [============================>.] - ETA: 2s - loss: 0.0304 - acc: 0.9907Epoch 1/100\n",
      "100/100 [==============================] - 228s 2s/step - loss: 0.4654 - acc: 0.8684\n",
      "\n",
      "Epoch 00095: val_loss did not improve from 0.31533\n",
      "100/100 [==============================] - 456s 5s/step - loss: 0.0302 - acc: 0.9908 - val_loss: 0.4654 - val_acc: 0.8684\n",
      "Epoch 96/100\n",
      " 99/100 [============================>.] - ETA: 2s - loss: 0.0309 - acc: 0.9900Epoch 1/100\n",
      "100/100 [==============================] - 228s 2s/step - loss: 0.4715 - acc: 0.8675\n",
      "\n",
      "Epoch 00096: val_loss did not improve from 0.31533\n",
      "100/100 [==============================] - 456s 5s/step - loss: 0.0314 - acc: 0.9897 - val_loss: 0.4715 - val_acc: 0.8675\n",
      "Epoch 97/100\n",
      " 99/100 [============================>.] - ETA: 2s - loss: 0.0251 - acc: 0.9916Epoch 1/100\n",
      "100/100 [==============================] - 228s 2s/step - loss: 0.4723 - acc: 0.8680\n",
      "\n",
      "Epoch 00097: val_loss did not improve from 0.31533\n",
      "100/100 [==============================] - 455s 5s/step - loss: 0.0251 - acc: 0.9916 - val_loss: 0.4723 - val_acc: 0.8680\n",
      "Epoch 98/100\n",
      " 99/100 [============================>.] - ETA: 2s - loss: 0.0276 - acc: 0.9912Epoch 1/100\n",
      "100/100 [==============================] - 228s 2s/step - loss: 0.4694 - acc: 0.8698\n",
      "\n",
      "Epoch 00098: val_loss did not improve from 0.31533\n",
      "100/100 [==============================] - 455s 5s/step - loss: 0.0276 - acc: 0.9911 - val_loss: 0.4694 - val_acc: 0.8698\n",
      "Epoch 99/100\n",
      " 99/100 [============================>.] - ETA: 2s - loss: 0.0278 - acc: 0.9912Epoch 1/100\n",
      "100/100 [==============================] - 228s 2s/step - loss: 0.4863 - acc: 0.8679\n",
      "\n",
      "Epoch 00099: val_loss did not improve from 0.31533\n",
      "100/100 [==============================] - 456s 5s/step - loss: 0.0279 - acc: 0.9910 - val_loss: 0.4863 - val_acc: 0.8679\n",
      "Epoch 100/100\n",
      " 99/100 [============================>.] - ETA: 2s - loss: 0.0243 - acc: 0.9925Epoch 1/100\n",
      "100/100 [==============================] - 228s 2s/step - loss: 0.4824 - acc: 0.8684\n",
      "\n",
      "Epoch 00100: val_loss did not improve from 0.31533\n",
      "100/100 [==============================] - 456s 5s/step - loss: 0.0241 - acc: 0.9925 - val_loss: 0.4824 - val_acc: 0.8684\n"
     ]
    }
   ],
   "source": [
    "train_steps_per_epoch =100\n",
    "val_steps_per_epoch = 100\n",
    "\n",
    "history = model.fit_generator(train_generator,\n",
    "                              steps_per_epoch=train_steps_per_epoch,\n",
    "                              validation_data=val_generator,\n",
    "                              validation_steps=val_steps_per_epoch,\n",
    "                              epochs=EPOCHS,\n",
    "                              verbose=1, callbacks=[checkpoint])"
   ]
  },
  {
   "cell_type": "code",
   "execution_count": null,
   "metadata": {},
   "outputs": [],
   "source": []
  },
  {
   "cell_type": "code",
   "execution_count": 21,
   "metadata": {},
   "outputs": [
    {
     "data": {
      "image/png": "[encoded data removed]",
      "text/plain": [
       "<Figure size 1080x360 with 1 Axes>"
      ]
     },
     "metadata": {
      "needs_background": "light"
     },
     "output_type": "display_data"
    }
   ],
   "source": [
    "\n",
    "\n",
    "\n",
    "plt.plot(history.history['loss'])\n",
    "plt.plot(history.history['val_loss'])\n",
    "plt.title('model loss')\n",
    "plt.ylabel('loss')\n",
    "plt.xlabel('epoch')\n",
    "plt.legend(['train', 'test'], loc='upper left')\n",
    "plt.savefig('VGG16.png')\n",
    "plt.show()"
   ]
  },
  {
   "cell_type": "code",
   "execution_count": null,
   "metadata": {},
   "outputs": [],
   "source": [
    "손실값이 일덩수준이 지나면 증가함 그래서 최소값을가지는 그리고 최대 정학도를 가지는 모데를 우리는 취해야함 \n",
    "\n",
    "학습시키면서 자동으로 콜백함수가ㅜ걸렷음  그래소 11에폭이후로는 붚필요\n"
   ]
  },
  {
   "cell_type": "code",
   "execution_count": 16,
   "metadata": {},
   "outputs": [],
   "source": [
    "model.save('./vgg16_model.h5')"
   ]
  },
  {
   "cell_type": "code",
   "execution_count": 17,
   "metadata": {},
   "outputs": [
    {
     "data": {
      "text/plain": [
       "<Figure size 1080x360 with 0 Axes>"
      ]
     },
     "metadata": {},
     "output_type": "display_data"
    }
   ],
   "source": [
    "plt.savefig('vgg16.png')"
   ]
  },
  {
   "cell_type": "code",
   "execution_count": 20,
   "metadata": {},
   "outputs": [],
   "source": [
    "plt.show()"
   ]
  },
  {
   "cell_type": "code",
   "execution_count": null,
   "metadata": {},
   "outputs": [],
   "source": [
    "from sklearn import metrics\n"
   ]
  },
  {
   "cell_type": "code",
   "execution_count": 34,
   "metadata": {},
   "outputs": [
    {
     "name": "stdout",
     "output_type": "stream",
     "text": [
      "Collecting package metadata (repodata.json): ...working... done\n",
      "Solving environment: ...working... done\n",
      "\n",
      "## Package Plan ##\n",
      "\n",
      "  environment location: C:\\Users\\admin\\Anaconda3\n",
      "\n",
      "  added / updated specs:\n",
      "    - pydot\n",
      "\n",
      "\n",
      "The following packages will be downloaded:\n",
      "\n",
      "    package                    |            build\n",
      "    ---------------------------|-----------------\n",
      "    graphviz-2.38              |       hfd603c8_2        37.7 MB\n",
      "    pydot-1.4.1                |           py36_0          43 KB\n",
      "    ------------------------------------------------------------\n",
      "                                           Total:        37.8 MB\n",
      "\n",
      "The following NEW packages will be INSTALLED:\n",
      "\n",
      "  graphviz           pkgs/main/win-64::graphviz-2.38-hfd603c8_2\n",
      "  pydot              pkgs/main/win-64::pydot-1.4.1-py36_0\n",
      "\n",
      "\n",
      "\n",
      "Downloading and Extracting Packages\n",
      "\n",
      "graphviz-2.38        | 37.7 MB   |            |   0% \n",
      "graphviz-2.38        | 37.7 MB   |            |   0% \n",
      "graphviz-2.38        | 37.7 MB   | 2          |   2% \n",
      "graphviz-2.38        | 37.7 MB   | #          |  10% \n",
      "graphviz-2.38        | 37.7 MB   | #4         |  14% \n",
      "graphviz-2.38        | 37.7 MB   | ##5        |  25% \n",
      "graphviz-2.38        | 37.7 MB   | ###3       |  33% \n",
      "graphviz-2.38        | 37.7 MB   | ####1      |  42% \n",
      "graphviz-2.38        | 37.7 MB   | ####8      |  48% \n",
      "graphviz-2.38        | 37.7 MB   | #####6     |  56% \n",
      "graphviz-2.38        | 37.7 MB   | ######4    |  64% \n",
      "graphviz-2.38        | 37.7 MB   | #######2   |  72% \n",
      "graphviz-2.38        | 37.7 MB   | ########   |  81% \n",
      "graphviz-2.38        | 37.7 MB   | ########8  |  89% \n",
      "graphviz-2.38        | 37.7 MB   | #########7 |  97% \n",
      "graphviz-2.38        | 37.7 MB   | ########## | 100% \n",
      "\n",
      "pydot-1.4.1          | 43 KB     |            |   0% \n",
      "pydot-1.4.1          | 43 KB     | ###6       |  37% \n",
      "pydot-1.4.1          | 43 KB     | ########## | 100% \n",
      "Preparing transaction: ...working... done\n",
      "Verifying transaction: ...working... done\n",
      "Executing transaction: ...working... done\n",
      "\n",
      "Note: you may need to restart the kernel to use updated packages.\n"
     ]
    }
   ],
   "source": [
    "conda install pydot"
   ]
  },
  {
   "cell_type": "code",
   "execution_count": 36,
   "metadata": {},
   "outputs": [],
   "source": [
    "from keras.utils import plot_model"
   ]
  },
  {
   "cell_type": "code",
   "execution_count": null,
   "metadata": {},
   "outputs": [],
   "source": []
  }
 ],
 "metadata": {
  "accelerator": "GPU",
  "colab": {
   "collapsed_sections": [],
   "default_view": {},
   "name": "Copy of cifar10_vgg16_july12.ipynb",
   "provenance": [
    {
     "file_id": "1tlQq2thZWPDNqaMbfBJ9_TOo0YTqv7IL",
     "timestamp": 1531320536438
    }
   ],
   "version": "0.3.2",
   "views": {}
  },
  "kernelspec": {
   "display_name": "Python 3",
   "language": "python",
   "name": "python3"
  },
  "language_info": {
   "codemirror_mode": {
    "name": "ipython",
    "version": 3
   },
   "file_extension": ".py",
   "mimetype": "text/x-python",
   "name": "python",
   "nbconvert_exporter": "python",
   "pygments_lexer": "ipython3",
   "version": "3.6.5"
  }
 },
 "nbformat": 4,
 "nbformat_minor": 1
}
