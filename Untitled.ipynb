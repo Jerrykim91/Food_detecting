{
 "cells": [
  {
   "cell_type": "markdown",
   "metadata": {},
   "source": [
    "<https://keraskorea.github.io//posts/2018-10-24-little_data_powerful_model/>"
   ]
  },
  {
   "cell_type": "markdown",
   "metadata": {},
   "source": [
    "# 작은 데이터셋으로 강력한 이미지 분류 모델설계\n",
    "\n",
    "- 작은 네트워트를 처음부처 학습(앞으로 사용할 방법의 평가기준)\n",
    "- 기존 네트워크의 병목특징(bottleneck feature) 사용 \n",
    "- 기존 네트워크의 상단부 레이어(fine-tuning)"
   ]
  },
  {
   "cell_type": "markdown",
   "metadata": {},
   "source": [
    "## 케라스의 기능 \n",
    "\n",
    "- ImageDataGenerator : 실시간 이미지 증가 \n",
    "- flow               : ImageDataGenerator 디버깅"
   ]
  },
  {
   "cell_type": "code",
   "execution_count": null,
   "metadata": {},
   "outputs": [],
   "source": [
    "저희가 다룰 케라스 기능은 다음과 같습니다.\n",
    "\n",
    "ImageDataGenerator: 실시간 이미지 증가 (augmentation)\n",
    "flow: ImageDataGenerator 디버깅\n",
    "fit_generator: ImageDataGenerator를 이용한 케라스 모델 학습\n",
    "Sequential: 케라스 내 모델 설계 인터페이스\n",
    "keras.applications: 케라스에서 기존 이미지 분류 네트워크 불러오기\n",
    "레이어 동결 (freezing)을 이용한 fine-tuning"
   ]
  },
  {
   "cell_type": "code",
   "execution_count": null,
   "metadata": {},
   "outputs": [],
   "source": []
  },
  {
   "cell_type": "code",
   "execution_count": null,
   "metadata": {},
   "outputs": [],
   "source": []
  }
 ],
 "metadata": {
  "kernelspec": {
   "display_name": "Python 3",
   "language": "python",
   "name": "python3"
  },
  "language_info": {
   "codemirror_mode": {
    "name": "ipython",
    "version": 3
   },
   "file_extension": ".py",
   "mimetype": "text/x-python",
   "name": "python",
   "nbconvert_exporter": "python",
   "pygments_lexer": "ipython3",
   "version": "3.6.5"
  }
 },
 "nbformat": 4,
 "nbformat_minor": 4
}
