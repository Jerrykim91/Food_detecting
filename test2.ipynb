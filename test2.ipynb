{
 "cells": [
  {
   "cell_type": "code",
   "execution_count": 1,
   "metadata": {},
   "outputs": [],
   "source": [
    "import os\n",
    "import pandas as pd"
   ]
  },
  {
   "cell_type": "code",
   "execution_count": 2,
   "metadata": {},
   "outputs": [],
   "source": [
    "# dir_path = os.path.abspath('kfood') # 경로 \n",
    "\n",
    "# tmp = list()\n",
    "# tmp_test =list()\n",
    "\n",
    "# for _, dirnames, filenames in os.walk(dir_path):\n",
    "\n",
    "#     tmp_test.append(dirnames)\n"
   ]
  },
  {
   "cell_type": "code",
   "execution_count": 3,
   "metadata": {},
   "outputs": [],
   "source": [
    "dir_path = os.path.abspath('kfood') # 경로 \n",
    "\n",
    "tmp = list()\n",
    "tmp_test =list()\n",
    "\n",
    "for dirpath, dirnames, filenames in os.walk(dir_path):\n",
    "    tmp_test.append(dirnames)\n",
    "\n",
    "    for dirname in dirnames:\n",
    "        tmp.append(dirname)\n",
    "        pass\n"
   ]
  },
  {
   "cell_type": "code",
   "execution_count": 4,
   "metadata": {
    "scrolled": true
   },
   "outputs": [
    {
     "data": {
      "text/plain": [
       "['구이',\n",
       " '국',\n",
       " '기타',\n",
       " '김치',\n",
       " '나물',\n",
       " '떡',\n",
       " '만두',\n",
       " '면',\n",
       " '무침',\n",
       " '밥',\n",
       " '볶음',\n",
       " '쌈',\n",
       " '음청류',\n",
       " '장',\n",
       " '장아찌',\n",
       " '적',\n",
       " '전',\n",
       " '전골',\n",
       " '조림',\n",
       " '죽',\n",
       " '찌개',\n",
       " '찜',\n",
       " '탕',\n",
       " '튀김',\n",
       " '한과',\n",
       " '해물',\n",
       " '회']"
      ]
     },
     "execution_count": 4,
     "metadata": {},
     "output_type": "execute_result"
    }
   ],
   "source": [
    "big_title = tmp_test[0]\n",
    "big_title"
   ]
  },
  {
   "cell_type": "code",
   "execution_count": 35,
   "metadata": {
    "scrolled": true
   },
   "outputs": [],
   "source": [
    "dir_path = os.path.abspath('kfood') # 경로 \n",
    "\n",
    "a_test =list()\n",
    "\n",
    "for dirpath, dirnames, filenames in os.walk(dir_path):\n",
    "\n",
    "    for dirname in dirnames:\n",
    "        \n",
    "        a_test.append(dirpath[14:])"
   ]
  },
  {
   "cell_type": "code",
   "execution_count": 36,
   "metadata": {},
   "outputs": [
    {
     "data": {
      "text/plain": [
       "(['',\n",
       "  '',\n",
       "  '',\n",
       "  '',\n",
       "  '',\n",
       "  '',\n",
       "  '',\n",
       "  '',\n",
       "  '',\n",
       "  '',\n",
       "  '',\n",
       "  '',\n",
       "  '',\n",
       "  '',\n",
       "  '',\n",
       "  '',\n",
       "  '',\n",
       "  '',\n",
       "  '',\n",
       "  '',\n",
       "  '',\n",
       "  '',\n",
       "  '',\n",
       "  '',\n",
       "  '',\n",
       "  '',\n",
       "  '',\n",
       "  '구이',\n",
       "  '구이',\n",
       "  '구이',\n",
       "  '구이',\n",
       "  '구이',\n",
       "  '구이',\n",
       "  '구이',\n",
       "  '구이',\n",
       "  '구이',\n",
       "  '구이',\n",
       "  '구이',\n",
       "  '구이',\n",
       "  '구이',\n",
       "  '구이',\n",
       "  '국',\n",
       "  '국',\n",
       "  '국',\n",
       "  '국',\n",
       "  '국',\n",
       "  '국',\n",
       "  '국',\n",
       "  '국',\n",
       "  '기타',\n",
       "  '기타',\n",
       "  '기타',\n",
       "  '기타',\n",
       "  '기타',\n",
       "  '기타',\n",
       "  '기타',\n",
       "  '김치',\n",
       "  '김치',\n",
       "  '김치',\n",
       "  '김치',\n",
       "  '김치',\n",
       "  '김치',\n",
       "  '김치',\n",
       "  '김치',\n",
       "  '김치',\n",
       "  '김치',\n",
       "  '김치',\n",
       "  '나물',\n",
       "  '나물',\n",
       "  '나물',\n",
       "  '나물',\n",
       "  '나물',\n",
       "  '나물',\n",
       "  '떡',\n",
       "  '떡',\n",
       "  '떡',\n",
       "  '만두',\n",
       "  '면',\n",
       "  '면',\n",
       "  '면',\n",
       "  '면',\n",
       "  '면',\n",
       "  '면',\n",
       "  '면',\n",
       "  '면',\n",
       "  '면',\n",
       "  '면',\n",
       "  '면',\n",
       "  '면',\n",
       "  '무침',\n",
       "  '무침',\n",
       "  '무침',\n",
       "  '무침',\n",
       "  '무침',\n",
       "  '무침',\n",
       "  '무침',\n",
       "  '밥',\n",
       "  '밥',\n",
       "  '밥',\n",
       "  '밥',\n",
       "  '밥',\n",
       "  '밥',\n",
       "  '밥',\n",
       "  '밥',\n",
       "  '밥',\n",
       "  '볶음',\n",
       "  '볶음',\n",
       "  '볶음',\n",
       "  '볶음',\n",
       "  '볶음',\n",
       "  '볶음',\n",
       "  '볶음',\n",
       "  '볶음',\n",
       "  '볶음',\n",
       "  '볶음',\n",
       "  '볶음',\n",
       "  '볶음',\n",
       "  '쌈',\n",
       "  '음청류',\n",
       "  '음청류',\n",
       "  '장',\n",
       "  '장',\n",
       "  '장아찌',\n",
       "  '적',\n",
       "  '전',\n",
       "  '전',\n",
       "  '전',\n",
       "  '전',\n",
       "  '전',\n",
       "  '전',\n",
       "  '전',\n",
       "  '전',\n",
       "  '전골',\n",
       "  '조림',\n",
       "  '조림',\n",
       "  '조림',\n",
       "  '조림',\n",
       "  '조림',\n",
       "  '조림',\n",
       "  '조림',\n",
       "  '조림',\n",
       "  '조림',\n",
       "  '조림',\n",
       "  '조림',\n",
       "  '죽',\n",
       "  '죽',\n",
       "  '찌개',\n",
       "  '찌개',\n",
       "  '찌개',\n",
       "  '찌개',\n",
       "  '찌개',\n",
       "  '찜',\n",
       "  '찜',\n",
       "  '찜',\n",
       "  '찜',\n",
       "  '찜',\n",
       "  '찜',\n",
       "  '찜',\n",
       "  '찜',\n",
       "  '찜',\n",
       "  '찜',\n",
       "  '탕',\n",
       "  '탕',\n",
       "  '탕',\n",
       "  '탕',\n",
       "  '탕',\n",
       "  '탕',\n",
       "  '튀김',\n",
       "  '튀김',\n",
       "  '튀김',\n",
       "  '한과',\n",
       "  '한과',\n",
       "  '한과',\n",
       "  '해물',\n",
       "  '해물',\n",
       "  '회',\n",
       "  '회'],\n",
       " 177)"
      ]
     },
     "execution_count": 36,
     "metadata": {},
     "output_type": "execute_result"
    }
   ],
   "source": [
    "a_test,len(a_test)"
   ]
  },
  {
   "cell_type": "code",
   "execution_count": 38,
   "metadata": {},
   "outputs": [
    {
     "data": {
      "text/plain": [
       "['구이',\n",
       " '구이',\n",
       " '구이',\n",
       " '구이',\n",
       " '구이',\n",
       " '구이',\n",
       " '구이',\n",
       " '구이',\n",
       " '구이',\n",
       " '구이',\n",
       " '구이',\n",
       " '구이',\n",
       " '구이',\n",
       " '구이',\n",
       " '국',\n",
       " '국',\n",
       " '국',\n",
       " '국',\n",
       " '국',\n",
       " '국',\n",
       " '국',\n",
       " '국',\n",
       " '기타',\n",
       " '기타',\n",
       " '기타',\n",
       " '기타',\n",
       " '기타',\n",
       " '기타',\n",
       " '기타',\n",
       " '김치',\n",
       " '김치',\n",
       " '김치',\n",
       " '김치',\n",
       " '김치',\n",
       " '김치',\n",
       " '김치',\n",
       " '김치',\n",
       " '김치',\n",
       " '김치',\n",
       " '김치',\n",
       " '나물',\n",
       " '나물',\n",
       " '나물',\n",
       " '나물',\n",
       " '나물',\n",
       " '나물',\n",
       " '떡',\n",
       " '떡',\n",
       " '떡',\n",
       " '만두',\n",
       " '면',\n",
       " '면',\n",
       " '면',\n",
       " '면',\n",
       " '면',\n",
       " '면',\n",
       " '면',\n",
       " '면',\n",
       " '면',\n",
       " '면',\n",
       " '면',\n",
       " '면',\n",
       " '무침',\n",
       " '무침',\n",
       " '무침',\n",
       " '무침',\n",
       " '무침',\n",
       " '무침',\n",
       " '무침',\n",
       " '밥',\n",
       " '밥',\n",
       " '밥',\n",
       " '밥',\n",
       " '밥',\n",
       " '밥',\n",
       " '밥',\n",
       " '밥',\n",
       " '밥',\n",
       " '볶음',\n",
       " '볶음',\n",
       " '볶음',\n",
       " '볶음',\n",
       " '볶음',\n",
       " '볶음',\n",
       " '볶음',\n",
       " '볶음',\n",
       " '볶음',\n",
       " '볶음',\n",
       " '볶음',\n",
       " '볶음',\n",
       " '쌈',\n",
       " '음청류',\n",
       " '음청류',\n",
       " '장',\n",
       " '장',\n",
       " '장아찌',\n",
       " '적',\n",
       " '전',\n",
       " '전',\n",
       " '전',\n",
       " '전',\n",
       " '전',\n",
       " '전',\n",
       " '전',\n",
       " '전',\n",
       " '전골',\n",
       " '조림',\n",
       " '조림',\n",
       " '조림',\n",
       " '조림',\n",
       " '조림',\n",
       " '조림',\n",
       " '조림',\n",
       " '조림',\n",
       " '조림',\n",
       " '조림',\n",
       " '조림',\n",
       " '죽',\n",
       " '죽',\n",
       " '찌개',\n",
       " '찌개',\n",
       " '찌개',\n",
       " '찌개',\n",
       " '찌개',\n",
       " '찜',\n",
       " '찜',\n",
       " '찜',\n",
       " '찜',\n",
       " '찜',\n",
       " '찜',\n",
       " '찜',\n",
       " '찜',\n",
       " '찜',\n",
       " '찜',\n",
       " '탕',\n",
       " '탕',\n",
       " '탕',\n",
       " '탕',\n",
       " '탕',\n",
       " '탕',\n",
       " '튀김',\n",
       " '튀김',\n",
       " '튀김',\n",
       " '한과',\n",
       " '한과',\n",
       " '한과',\n",
       " '해물',\n",
       " '해물',\n",
       " '회',\n",
       " '회']"
      ]
     },
     "execution_count": 38,
     "metadata": {},
     "output_type": "execute_result"
    }
   ],
   "source": [
    "a_test[27:]"
   ]
  },
  {
   "cell_type": "code",
   "execution_count": 26,
   "metadata": {},
   "outputs": [
    {
     "data": {
      "text/plain": [
       "27"
      ]
     },
     "execution_count": 26,
     "metadata": {},
     "output_type": "execute_result"
    }
   ],
   "source": [
    "177-150"
   ]
  },
  {
   "cell_type": "code",
   "execution_count": null,
   "metadata": {},
   "outputs": [],
   "source": [
    "du_test[:]"
   ]
  },
  {
   "cell_type": "code",
   "execution_count": 25,
   "metadata": {
    "scrolled": true
   },
   "outputs": [
    {
     "data": {
      "text/plain": [
       "(['구이',\n",
       "  '국',\n",
       "  '기타',\n",
       "  '김치',\n",
       "  '나물',\n",
       "  '떡',\n",
       "  '만두',\n",
       "  '면',\n",
       "  '무침',\n",
       "  '밥',\n",
       "  '볶음',\n",
       "  '쌈',\n",
       "  '음청류',\n",
       "  '장',\n",
       "  '장아찌',\n",
       "  '적',\n",
       "  '전',\n",
       "  '전골',\n",
       "  '조림',\n",
       "  '죽',\n",
       "  '찌개',\n",
       "  '찜',\n",
       "  '탕',\n",
       "  '튀김',\n",
       "  '한과',\n",
       "  '해물',\n",
       "  '회'],\n",
       " 27)"
      ]
     },
     "execution_count": 25,
     "metadata": {},
     "output_type": "execute_result"
    }
   ],
   "source": [
    "big_title = tmp_test[0]\n",
    "big_title,len(big_title)"
   ]
  },
  {
   "cell_type": "code",
   "execution_count": null,
   "metadata": {},
   "outputs": [],
   "source": [
    "tmp,len(tmp)"
   ]
  },
  {
   "cell_type": "code",
   "execution_count": null,
   "metadata": {},
   "outputs": [],
   "source": [
    "so_title = '소제목-경단'\n",
    "list_all='[파일이름]'\n",
    "i = '대타이틀'\n",
    "a = dict({'ImgTitle': so_title, 'ImgName': list_all})"
   ]
  },
  {
   "cell_type": "code",
   "execution_count": null,
   "metadata": {},
   "outputs": [],
   "source": []
  },
  {
   "cell_type": "code",
   "execution_count": null,
   "metadata": {
    "scrolled": true
   },
   "outputs": [],
   "source": [
    "dict_s= dict({'get_data':a})"
   ]
  },
  {
   "cell_type": "code",
   "execution_count": null,
   "metadata": {},
   "outputs": [],
   "source": [
    "dict_s={}\n",
    "for i in big_title:\n",
    "#     print(i)\n",
    "    dict_s[i]= a"
   ]
  },
  {
   "cell_type": "code",
   "execution_count": null,
   "metadata": {
    "scrolled": true
   },
   "outputs": [],
   "source": [
    "len(dict_s)"
   ]
  },
  {
   "cell_type": "code",
   "execution_count": null,
   "metadata": {},
   "outputs": [],
   "source": [
    "dict_s"
   ]
  },
  {
   "cell_type": "code",
   "execution_count": null,
   "metadata": {
    "scrolled": true
   },
   "outputs": [],
   "source": [
    "sm_dict = dict({i: a, 'ImgTitle': so_title, 'ImgName': list_all})\n",
    "\n",
    "di = {i:sm_dict for _,i in enumerate(big_title)}\n",
    "di"
   ]
  },
  {
   "cell_type": "code",
   "execution_count": null,
   "metadata": {},
   "outputs": [],
   "source": [
    "x=dict()\n",
    "for i,idx in enumerate(tmp):\n",
    "#     print(idx)\n",
    "    x[idx] = dict({i: a, 'ImgTitle': idx, 'ImgName': list_all})\n",
    "    print(x)"
   ]
  },
  {
   "cell_type": "code",
   "execution_count": null,
   "metadata": {},
   "outputs": [],
   "source": [
    "x"
   ]
  },
  {
   "cell_type": "code",
   "execution_count": null,
   "metadata": {},
   "outputs": [],
   "source": [
    "sm_dict ={{i: a, 'ImgTitle': idx, 'ImgName': list_all} for idx in tmp }\n",
    "\n",
    "sm_dict"
   ]
  },
  {
   "cell_type": "code",
   "execution_count": null,
   "metadata": {},
   "outputs": [],
   "source": [
    "di = {i:sm_dict for _,i in enumerate(big_title)}\n",
    "di"
   ]
  },
  {
   "cell_type": "code",
   "execution_count": null,
   "metadata": {},
   "outputs": [],
   "source": [
    "for idx in tmp:\n",
    "    print(idx)"
   ]
  },
  {
   "cell_type": "code",
   "execution_count": null,
   "metadata": {},
   "outputs": [],
   "source": []
  }
 ],
 "metadata": {
  "kernelspec": {
   "display_name": "Python 3",
   "language": "python",
   "name": "python3"
  },
  "language_info": {
   "codemirror_mode": {
    "name": "ipython",
    "version": 3
   },
   "file_extension": ".py",
   "mimetype": "text/x-python",
   "name": "python",
   "nbconvert_exporter": "python",
   "pygments_lexer": "ipython3",
   "version": "3.6.5"
  }
 },
 "nbformat": 4,
 "nbformat_minor": 4
}
