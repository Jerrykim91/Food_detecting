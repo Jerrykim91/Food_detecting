{
 "cells": [
  {
   "cell_type": "markdown",
   "metadata": {},
   "source": [
    "#  전이학습 기반 분류기"
   ]
  },
  {
   "cell_type": "code",
   "execution_count": 1,
   "metadata": {},
   "outputs": [],
   "source": [
    "# from PIL import Image\n",
    "# a = np.array([[1,2,3],[1,2,3],[1,2,3]])\n",
    "# img = Image.fromarray(a)\n",
    "# b = np.array(img)"
   ]
  },
  {
   "cell_type": "code",
   "execution_count": 4,
   "metadata": {
    "colab": {
     "autoexec": {
      "startup": false,
      "wait_interval": 0
     }
    },
    "colab_type": "code",
    "id": "qpwpUhVod2ob"
   },
   "outputs": [],
   "source": [
    "import scipy as sp\n",
    "import numpy as np\n",
    "import pandas as pd\n",
    "from numpy.random import rand\n",
    "pd.options.display.max_colwidth = 600\n",
    "\n",
    "\n",
    "from sklearn import preprocessing\n",
    "from sklearn.metrics import roc_curve, auc, precision_recall_curve\n",
    "from sklearn.model_selection import train_test_split\n",
    "\n",
    "import cnn_utils as utils\n",
    "\n",
    "\n",
    "import matplotlib.pyplot as plt\n",
    "%matplotlib inline\n",
    "params = {'legend.fontsize': 'x-large',\n",
    "          'figure.figsize': (15, 5),\n",
    "          'axes.labelsize': 'x-large',\n",
    "          'axes.titlesize':'x-large',\n",
    "          'xtick.labelsize':'x-large',\n",
    "          'ytick.labelsize':'x-large'}\n",
    "\n",
    "plt.rcParams.update(params)\n",
    "\n",
    "\n",
    "from IPython.display import display, HTML\n",
    "import warnings\n",
    "warnings.filterwarnings('ignore')"
   ]
  },
  {
   "cell_type": "code",
   "execution_count": 5,
   "metadata": {
    "colab": {
     "autoexec": {
      "startup": false,
      "wait_interval": 0
     },
     "base_uri": "https://localhost:8080/",
     "height": 34
    },
    "colab_type": "code",
    "executionInfo": {
     "elapsed": 1669,
     "status": "ok",
     "timestamp": 1531341784750,
     "user": {
      "displayName": "Raghav Bali",
      "photoUrl": "//lh4.googleusercontent.com/-HPass-4Bl9U/AAAAAAAAAAI/AAAAAAAAKiI/A0BQ8MHwVME/s50-c-k-no/photo.jpg",
      "userId": "117317575176939780509"
     },
     "user_tz": -330
    },
    "id": "VB1artr2KuLD",
    "outputId": "295301d0-a703-4793-fbc9-74c200f15189"
   },
   "outputs": [],
   "source": [
    "import tensorflow as tf\n",
    "from tensorflow.keras import callbacks, optimizers,Model\n",
    "from tensorflow.keras.applications import vgg16 as vgg\n",
    "from tensorflow.keras.layers import Dropout, Flatten, Dense, GlobalAveragePooling2D,BatchNormalization\n",
    "from tensorflow.keras.preprocessing.image import ImageDataGenerator\n",
    "from tensorflow.python.keras.utils import np_utils\n",
    "from keras.callbacks import ReduceLROnPlateau, ModelCheckpoint, EarlyStopping"
   ]
  },
  {
   "cell_type": "markdown",
   "metadata": {},
   "source": [
    "## 데이터 세트 로딩과 준비"
   ]
  },
  {
   "cell_type": "code",
   "execution_count": 6,
   "metadata": {
    "colab": {
     "autoexec": {
      "startup": false,
      "wait_interval": 0
     }
    },
    "colab_type": "code",
    "id": "fS8uGXn5dgRU"
   },
   "outputs": [],
   "source": [
    "BATCH_SIZE = 64\n",
    "EPOCHS = 100\n",
    "NUM_CLASSES = 4\n",
    "LEARNING_RATE = 1e-4\n",
    "MOMENTUM = 0.9\n",
    "PATH=\"C:\\FoodClassification\\data\""
   ]
  },
  {
   "cell_type": "code",
   "execution_count": 7,
   "metadata": {
    "colab": {
     "autoexec": {
      "startup": false,
      "wait_interval": 0
     }
    },
    "colab_type": "code",
    "id": "PoT9P1phLuyT"
   },
   "outputs": [
    {
     "name": "stdout",
     "output_type": "stream",
     "text": [
      "WARNING:tensorflow:From C:\\Users\\admin\\Anaconda3\\lib\\site-packages\\tensorflow_core\\python\\ops\\resource_variable_ops.py:1630: calling BaseResourceVariable.__init__ (from tensorflow.python.ops.resource_variable_ops) with constraint is deprecated and will be removed in a future version.\n",
      "Instructions for updating:\n",
      "If using Keras pass *_constraint arguments to layers.\n",
      "Downloading data from https://github.com/fchollet/deep-learning-models/releases/download/v0.1/vgg16_weights_tf_dim_ordering_tf_kernels_notop.h5\n",
      "58892288/58889256 [==============================] - 50s 1us/step\n"
     ]
    }
   ],
   "source": [
    "base_model = vgg.VGG16(weights='imagenet', \n",
    "                       include_top=False, \n",
    "                       input_shape=(128, 128, 3))"
   ]
  },
  {
   "cell_type": "code",
   "execution_count": 8,
   "metadata": {
    "colab": {
     "autoexec": {
      "startup": false,
      "wait_interval": 0
     }
    },
    "colab_type": "code",
    "id": "khNrl8nHqesu"
   },
   "outputs": [],
   "source": [
    "# VGG16 모델의 세 번째 블록에서 마지막 층 추출\n",
    "last = base_model.get_layer('block4_pool').output"
   ]
  },
  {
   "cell_type": "markdown",
   "metadata": {},
   "source": [
    "## 모델 준비\n",
    "\n",
    "* 최상위층 없이 VGG16 로딩\n",
    "* 커스텀 분류기 준비\n",
    "* 모델의 맨 위에 새로운 층 쌓기"
   ]
  },
  {
   "cell_type": "code",
   "execution_count": 9,
   "metadata": {
    "colab": {
     "autoexec": {
      "startup": false,
      "wait_interval": 0
     }
    },
    "colab_type": "code",
    "id": "MI90lh6hL9ua"
   },
   "outputs": [
    {
     "name": "stdout",
     "output_type": "stream",
     "text": [
      "WARNING:tensorflow:Large dropout rate: 0.6 (>0.5). In TensorFlow 2.x, dropout() uses dropout rate instead of keep_prob. Please ensure that this is intended.\n",
      "Model: \"model\"\n",
      "_________________________________________________________________\n",
      "Layer (type)                 Output Shape              Param #   \n",
      "=================================================================\n",
      "input_1 (InputLayer)         [(None, 128, 128, 3)]     0         \n",
      "_________________________________________________________________\n",
      "block1_conv1 (Conv2D)        (None, 128, 128, 64)      1792      \n",
      "_________________________________________________________________\n",
      "block1_conv2 (Conv2D)        (None, 128, 128, 64)      36928     \n",
      "_________________________________________________________________\n",
      "block1_pool (MaxPooling2D)   (None, 64, 64, 64)        0         \n",
      "_________________________________________________________________\n",
      "block2_conv1 (Conv2D)        (None, 64, 64, 128)       73856     \n",
      "_________________________________________________________________\n",
      "block2_conv2 (Conv2D)        (None, 64, 64, 128)       147584    \n",
      "_________________________________________________________________\n",
      "block2_pool (MaxPooling2D)   (None, 32, 32, 128)       0         \n",
      "_________________________________________________________________\n",
      "block3_conv1 (Conv2D)        (None, 32, 32, 256)       295168    \n",
      "_________________________________________________________________\n",
      "block3_conv2 (Conv2D)        (None, 32, 32, 256)       590080    \n",
      "_________________________________________________________________\n",
      "block3_conv3 (Conv2D)        (None, 32, 32, 256)       590080    \n",
      "_________________________________________________________________\n",
      "block3_pool (MaxPooling2D)   (None, 16, 16, 256)       0         \n",
      "_________________________________________________________________\n",
      "block4_conv1 (Conv2D)        (None, 16, 16, 512)       1180160   \n",
      "_________________________________________________________________\n",
      "block4_conv2 (Conv2D)        (None, 16, 16, 512)       2359808   \n",
      "_________________________________________________________________\n",
      "block4_conv3 (Conv2D)        (None, 16, 16, 512)       2359808   \n",
      "_________________________________________________________________\n",
      "block4_pool (MaxPooling2D)   (None, 8, 8, 512)         0         \n",
      "_________________________________________________________________\n",
      "global_average_pooling2d (Gl (None, 512)               0         \n",
      "_________________________________________________________________\n",
      "batch_normalization (BatchNo (None, 512)               2048      \n",
      "_________________________________________________________________\n",
      "dense (Dense)                (None, 256)               131328    \n",
      "_________________________________________________________________\n",
      "dense_1 (Dense)              (None, 256)               65792     \n",
      "_________________________________________________________________\n",
      "dropout (Dropout)            (None, 256)               0         \n",
      "_________________________________________________________________\n",
      "dense_2 (Dense)              (None, 4)                 1028      \n",
      "=================================================================\n",
      "Total params: 7,835,460\n",
      "Trainable params: 7,834,436\n",
      "Non-trainable params: 1,024\n",
      "_________________________________________________________________\n"
     ]
    }
   ],
   "source": [
    "# 상위 층에 분류층 추가\n",
    "x = GlobalAveragePooling2D()(last)\n",
    "x= BatchNormalization()(x)\n",
    "x = Dense(256, activation='relu')(x)\n",
    "x = Dense(256, activation='relu')(x)\n",
    "x = Dropout(0.6)(x)\n",
    "pred = Dense(NUM_CLASSES, activation='softmax')(x)\n",
    "model = Model(base_model.input, pred)\n",
    "\n",
    "# checkpointer = ModelCheckpoint(filepath=model_save, verbose=1, save_best_only=True, save_weights_only=True)\n",
    "# earlystopping = EarlyStopping(monitor='val_loss', min_delta=0.01, patience=20, mode='auto')\n",
    "# reduceLR = ReduceLROnPlateau(monitor='val_loss', factor=0.5, patience=10, mode='auto')\n",
    "\n",
    "model.summary()"
   ]
  },
  {
   "cell_type": "code",
   "execution_count": 10,
   "metadata": {
    "colab": {
     "autoexec": {
      "startup": false,
      "wait_interval": 0
     }
    },
    "colab_type": "code",
    "id": "fc3EhfLTMD4I"
   },
   "outputs": [],
   "source": [
    "for layer in base_model.layers:\n",
    "     layer.trainable = False"
   ]
  },
  {
   "cell_type": "code",
   "execution_count": 11,
   "metadata": {
    "colab": {
     "autoexec": {
      "startup": false,
      "wait_interval": 0
     }
    },
    "colab_type": "code",
    "id": "PRXPI3DCMIIK"
   },
   "outputs": [],
   "source": [
    "model.compile(loss='binary_crossentropy',\n",
    "              optimizer=optimizers.Adam(lr=LEARNING_RATE),\n",
    "              metrics=['accuracy'])"
   ]
  },
  {
   "cell_type": "code",
   "execution_count": 12,
   "metadata": {
    "colab": {
     "autoexec": {
      "startup": false,
      "wait_interval": 0
     },
     "base_uri": "https://localhost:8080/",
     "height": 714
    },
    "colab_type": "code",
    "executionInfo": {
     "elapsed": 814,
     "status": "ok",
     "timestamp": 1531341814064,
     "user": {
      "displayName": "Raghav Bali",
      "photoUrl": "//lh4.googleusercontent.com/-HPass-4Bl9U/AAAAAAAAAAI/AAAAAAAAKiI/A0BQ8MHwVME/s50-c-k-no/photo.jpg",
      "userId": "117317575176939780509"
     },
     "user_tz": -330
    },
    "id": "PATZIBLlMLrf",
    "outputId": "f9a4ac68-9261-46d8-a7c9-9e15cfcf5631"
   },
   "outputs": [],
   "source": [
    "train_datagen = ImageDataGenerator(\n",
    "                 rescale=1/255,\n",
    "                validation_split=0.33\n",
    "                                  )"
   ]
  },
  {
   "cell_type": "code",
   "execution_count": 13,
   "metadata": {
    "colab": {
     "autoexec": {
      "startup": false,
      "wait_interval": 0
     }
    },
    "colab_type": "code",
    "id": "_Y-jNseQMNcf"
   },
   "outputs": [
    {
     "name": "stdout",
     "output_type": "stream",
     "text": [
      "Found 13350 images belonging to 4 classes.\n"
     ]
    }
   ],
   "source": [
    "train_generator = train_datagen.flow_from_directory(\n",
    "        PATH,\n",
    "        shuffle=True,\n",
    "        seed=13,\n",
    "        target_size=(128,128),\n",
    "        batch_size=BATCH_SIZE,\n",
    "        class_mode = 'categorical',\n",
    "        subset=\"training\")"
   ]
  },
  {
   "cell_type": "code",
   "execution_count": 14,
   "metadata": {
    "colab": {
     "autoexec": {
      "startup": false,
      "wait_interval": 0
     }
    },
    "colab_type": "code",
    "id": "mHPmLOf-N3SQ"
   },
   "outputs": [
    {
     "name": "stdout",
     "output_type": "stream",
     "text": [
      "Found 6574 images belonging to 4 classes.\n"
     ]
    }
   ],
   "source": [
    "val_generator = train_datagen.flow_from_directory(\n",
    "        PATH,\n",
    "        shuffle=True,\n",
    "        seed=13,\n",
    "        target_size=(128,128),\n",
    "        batch_size=BATCH_SIZE,\n",
    "        class_mode = 'categorical',\n",
    "        subset=\"validation\")\n"
   ]
  },
  {
   "cell_type": "code",
   "execution_count": null,
   "metadata": {
    "colab": {
     "autoexec": {
      "startup": false,
      "wait_interval": 0
     }
    },
    "colab_type": "code",
    "id": "JSIJycdbrBWK"
   },
   "outputs": [
    {
     "name": "stdout",
     "output_type": "stream",
     "text": [
      "Epoch 1/100\n",
      "WARNING:tensorflow:From C:\\Users\\admin\\Anaconda3\\lib\\site-packages\\tensorflow_core\\python\\ops\\math_grad.py:1424: where (from tensorflow.python.ops.array_ops) is deprecated and will be removed in a future version.\n",
      "Instructions for updating:\n",
      "Use tf.where in 2.0, which has the same broadcast rule as np.where\n",
      " 99/100 [============================>.] - ETA: 2s - loss: 0.5443 - acc: 0.7540Epoch 1/100\n",
      "100/100 [==============================] - 238s 2s/step - loss: 0.4706 - acc: 0.7850\n",
      "100/100 [==============================] - 475s 5s/step - loss: 0.5438 - acc: 0.7542 - val_loss: 0.4706 - val_acc: 0.7850\n",
      "Epoch 2/100\n",
      " 99/100 [============================>.] - ETA: 2s - loss: 0.4175 - acc: 0.8131Epoch 1/100\n",
      "100/100 [==============================] - 241s 2s/step - loss: 0.4113 - acc: 0.8135\n",
      "100/100 [==============================] - 485s 5s/step - loss: 0.4165 - acc: 0.8136 - val_loss: 0.4113 - val_acc: 0.8135\n",
      "Epoch 3/100\n",
      " 99/100 [============================>.] - ETA: 2s - loss: 0.3744 - acc: 0.8368Epoch 1/100\n",
      "100/100 [==============================] - 238s 2s/step - loss: 0.3795 - acc: 0.8302\n",
      "100/100 [==============================] - 474s 5s/step - loss: 0.3736 - acc: 0.8373 - val_loss: 0.3795 - val_acc: 0.8302\n",
      "Epoch 4/100\n",
      " 99/100 [============================>.] - ETA: 2s - loss: 0.3282 - acc: 0.8595Epoch 1/100\n",
      "100/100 [==============================] - 237s 2s/step - loss: 0.3667 - acc: 0.8329\n",
      "100/100 [==============================] - 472s 5s/step - loss: 0.3284 - acc: 0.8596 - val_loss: 0.3667 - val_acc: 0.8329\n",
      "Epoch 5/100\n",
      " 99/100 [============================>.] - ETA: 2s - loss: 0.3077 - acc: 0.8690Epoch 1/100\n",
      "100/100 [==============================] - 237s 2s/step - loss: 0.3562 - acc: 0.8373\n",
      "100/100 [==============================] - 468s 5s/step - loss: 0.3080 - acc: 0.8687 - val_loss: 0.3562 - val_acc: 0.8373\n",
      "Epoch 6/100\n",
      " 99/100 [============================>.] - ETA: 2s - loss: 0.2919 - acc: 0.8777Epoch 1/100\n",
      "100/100 [==============================] - 237s 2s/step - loss: 0.3525 - acc: 0.8378\n",
      "100/100 [==============================] - 474s 5s/step - loss: 0.2920 - acc: 0.8776 - val_loss: 0.3525 - val_acc: 0.8378\n",
      "Epoch 7/100\n",
      " 99/100 [============================>.] - ETA: 2s - loss: 0.2735 - acc: 0.8853Epoch 1/100\n",
      "100/100 [==============================] - 238s 2s/step - loss: 0.3413 - acc: 0.8446\n",
      "100/100 [==============================] - 474s 5s/step - loss: 0.2736 - acc: 0.8852 - val_loss: 0.3413 - val_acc: 0.8446\n",
      "Epoch 8/100\n",
      " 99/100 [============================>.] - ETA: 2s - loss: 0.2634 - acc: 0.8898Epoch 1/100\n",
      "100/100 [==============================] - 239s 2s/step - loss: 0.3351 - acc: 0.8469\n",
      "100/100 [==============================] - 476s 5s/step - loss: 0.2639 - acc: 0.8895 - val_loss: 0.3351 - val_acc: 0.8469\n",
      "Epoch 9/100\n",
      " 99/100 [============================>.] - ETA: 2s - loss: 0.2539 - acc: 0.8941Epoch 1/100\n",
      "100/100 [==============================] - 237s 2s/step - loss: 0.3282 - acc: 0.8502\n",
      "100/100 [==============================] - 475s 5s/step - loss: 0.2535 - acc: 0.8941 - val_loss: 0.3282 - val_acc: 0.8502\n",
      "Epoch 10/100\n",
      " 99/100 [============================>.] - ETA: 2s - loss: 0.2361 - acc: 0.9052Epoch 1/100\n",
      "100/100 [==============================] - 238s 2s/step - loss: 0.3345 - acc: 0.8485\n",
      "100/100 [==============================] - 475s 5s/step - loss: 0.2357 - acc: 0.9054 - val_loss: 0.3345 - val_acc: 0.8485\n",
      "Epoch 11/100\n",
      " 99/100 [============================>.] - ETA: 2s - loss: 0.2324 - acc: 0.9044Epoch 1/100\n",
      "100/100 [==============================] - 228s 2s/step - loss: 0.3325 - acc: 0.8495\n",
      "100/100 [==============================] - 460s 5s/step - loss: 0.2332 - acc: 0.9042 - val_loss: 0.3325 - val_acc: 0.8495\n",
      "Epoch 12/100\n",
      " 99/100 [============================>.] - ETA: 2s - loss: 0.2224 - acc: 0.9114Epoch 1/100\n",
      "100/100 [==============================] - 227s 2s/step - loss: 0.3221 - acc: 0.8529\n",
      "100/100 [==============================] - 454s 5s/step - loss: 0.2217 - acc: 0.9118 - val_loss: 0.3221 - val_acc: 0.8529\n",
      "Epoch 13/100\n",
      " 99/100 [============================>.] - ETA: 2s - loss: 0.2149 - acc: 0.9109Epoch 1/100\n",
      "100/100 [==============================] - 233s 2s/step - loss: 0.3292 - acc: 0.8517\n",
      "100/100 [==============================] - 463s 5s/step - loss: 0.2150 - acc: 0.9110 - val_loss: 0.3292 - val_acc: 0.8517\n",
      "Epoch 14/100\n",
      " 99/100 [============================>.] - ETA: 2s - loss: 0.2069 - acc: 0.9149Epoch 1/100\n",
      "100/100 [==============================] - 227s 2s/step - loss: 0.3219 - acc: 0.8563\n",
      "100/100 [==============================] - 457s 5s/step - loss: 0.2077 - acc: 0.9145 - val_loss: 0.3219 - val_acc: 0.8563\n",
      "Epoch 15/100\n",
      " 99/100 [============================>.] - ETA: 2s - loss: 0.2027 - acc: 0.9176Epoch 1/100\n",
      "100/100 [==============================] - 227s 2s/step - loss: 0.3244 - acc: 0.8545\n",
      "100/100 [==============================] - 454s 5s/step - loss: 0.2018 - acc: 0.9181 - val_loss: 0.3244 - val_acc: 0.8545\n",
      "Epoch 16/100\n",
      " 99/100 [============================>.] - ETA: 2s - loss: 0.1885 - acc: 0.9246Epoch 1/100\n",
      "100/100 [==============================] - 227s 2s/step - loss: 0.3289 - acc: 0.8530\n",
      "100/100 [==============================] - 453s 5s/step - loss: 0.1890 - acc: 0.9244 - val_loss: 0.3289 - val_acc: 0.8530\n",
      "Epoch 17/100\n",
      " 99/100 [============================>.] - ETA: 2s - loss: 0.1983 - acc: 0.9210Epoch 1/100\n",
      " 93/100 [==========================>...] - ETA: 16s - loss: 0.3202 - acc: 0.8591"
     ]
    }
   ],
   "source": [
    "train_steps_per_epoch =100\n",
    "val_steps_per_epoch = 100\n",
    "\n",
    "history = model.fit_generator(train_generator,\n",
    "                              steps_per_epoch=train_steps_per_epoch,\n",
    "                              validation_data=val_generator,\n",
    "                              validation_steps=val_steps_per_epoch,\n",
    "                              epochs=EPOCHS,\n",
    "                              verbose=1)"
   ]
  },
  {
   "cell_type": "code",
   "execution_count": null,
   "metadata": {},
   "outputs": [],
   "source": [
    "model.save('VGG16_TL.h5')"
   ]
  },
  {
   "cell_type": "markdown",
   "metadata": {},
   "source": [
    "## 모델 훈련"
   ]
  },
  {
   "cell_type": "markdown",
   "metadata": {},
   "source": [
    "이제 모델을 몇 번의 에포크로 훈련시키고 그 성능을 측정해 보자. 다음 코드로 모델에 새로 추가된 층을 훈련시키기 위한 fit_generator() 함수를 호출한다."
   ]
  },
  {
   "cell_type": "code",
   "execution_count": 24,
   "metadata": {
    "colab": {
     "autoexec": {
      "startup": false,
      "wait_interval": 0
     }
    },
    "colab_type": "code",
    "id": "6O7_wTjerlCJ"
   },
   "outputs": [],
   "source": [
    "# predictions = model.predict(X_test/255.)"
   ]
  },
  {
   "cell_type": "code",
   "execution_count": 25,
   "metadata": {
    "colab": {
     "autoexec": {
      "startup": false,
      "wait_interval": 0
     }
    },
    "colab_type": "code",
    "id": "-kXS6GcHrhP0"
   },
   "outputs": [],
   "source": [
    "test_labels = list(y_test.squeeze())\n",
    "predictions = list(predictions.argmax(axis=1))"
   ]
  },
  {
   "cell_type": "code",
   "execution_count": null,
   "metadata": {},
   "outputs": [],
   "source": []
  },
  {
   "cell_type": "code",
   "execution_count": null,
   "metadata": {
    "colab": {
     "autoexec": {
      "startup": false,
      "wait_interval": 0
     }
    },
    "colab_type": "code",
    "id": "uwIk8tnYmEGi"
   },
   "outputs": [],
   "source": [
    "# label_dict = {0:'airplane',\n",
    "#              1:'automobile',\n",
    "#              2:'bird',\n",
    "#              3:'cat',\n",
    "#              4:'deer',\n",
    "#              5:'dog',\n",
    "#              6:'frog',\n",
    "#              7:'horse',\n",
    "#              8:'ship',\n",
    "#              9:'truck'}"
   ]
  },
  {
   "cell_type": "code",
   "execution_count": null,
   "metadata": {
    "colab": {
     "autoexec": {
      "startup": false,
      "wait_interval": 0
     },
     "base_uri": "https://localhost:8080/",
     "height": 949
    },
    "colab_type": "code",
    "executionInfo": {
     "elapsed": 3795,
     "status": "ok",
     "timestamp": 1531343132615,
     "user": {
      "displayName": "Raghav Bali",
      "photoUrl": "//lh4.googleusercontent.com/-HPass-4Bl9U/AAAAAAAAAAI/AAAAAAAAKiI/A0BQ8MHwVME/s50-c-k-no/photo.jpg",
      "userId": "117317575176939780509"
     },
     "user_tz": -330
    },
    "id": "gFZVsFfqlvB8",
    "outputId": "bddc35fa-32bc-477c-aa7b-00e8decc847a"
   },
   "outputs": [],
   "source": [
    "# utils.plot_predictions(model=model,dataset=X_test/255.,\n",
    "#                        dataset_labels=Y_test,\n",
    "#                        label_dict=label_dict,\n",
    "#                        batch_size=16,\n",
    "#                        grid_height=4,\n",
    "#                        grid_width=4)"
   ]
  },
  {
   "cell_type": "code",
   "execution_count": null,
   "metadata": {},
   "outputs": [],
   "source": []
  }
 ],
 "metadata": {
  "accelerator": "GPU",
  "colab": {
   "collapsed_sections": [],
   "default_view": {},
   "name": "Copy of cifar10_vgg16_july12.ipynb",
   "provenance": [
    {
     "file_id": "1tlQq2thZWPDNqaMbfBJ9_TOo0YTqv7IL",
     "timestamp": 1531320536438
    }
   ],
   "version": "0.3.2",
   "views": {}
  },
  "kernelspec": {
   "display_name": "Python 3",
   "language": "python",
   "name": "python3"
  },
  "language_info": {
   "codemirror_mode": {
    "name": "ipython",
    "version": 3
   },
   "file_extension": ".py",
   "mimetype": "text/x-python",
   "name": "python",
   "nbconvert_exporter": "python",
   "pygments_lexer": "ipython3",
   "version": "3.6.5"
  }
 },
 "nbformat": 4,
 "nbformat_minor": 1
}
