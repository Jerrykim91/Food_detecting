{
 "cells": [
  {
   "cell_type": "code",
   "execution_count": 1,
   "metadata": {},
   "outputs": [],
   "source": [
    "dir_food = \\\n",
    "{'갈비구이': 'galbigui',\n",
    " '갈치구이': 'galchigui',\n",
    " '고등어구이': 'godeungeogui',\n",
    " '곱창구이': 'gopchanggui',\n",
    " '닭갈비': 'dakgalbi',\n",
    " '더덕구이': 'deodeokgui',\n",
    " '떡갈비': 'tteokgalbi',\n",
    " '불고기': 'bulgogi',\n",
    " '삼겹살': 'samgyeopsal',\n",
    " '장어구이': 'jangeogui',\n",
    " '조개구이': 'jogaegui',\n",
    " '조기구이': 'jogigui',\n",
    " '황태구이': 'hwangtaegui',\n",
    " '훈제오리': 'hunjeori',\n",
    " '계란국': 'gyelangug',\n",
    " '떡국_만두국': 'tteokguk-mandutguk',\n",
    " '무국': 'muguk',\n",
    " '미역국': 'miyeokguk',\n",
    " '북엇국': 'bugeotguk',\n",
    " '시래기국': 'siraegiguk',\n",
    " '육개장': 'yukgaejang',\n",
    " '콩나물국': 'kongnamulguk',\n",
    " '과메기': 'gwamegi',\n",
    " '양념치킨': 'yangnyeomchicken',\n",
    " '젓갈': 'jeotgal',\n",
    " '콩자반': 'kongjaban',\n",
    " '편육': 'pyeonyuk',\n",
    " '피자': 'pizza',\n",
    " '후라이드치킨': 'friedchicken',\n",
    " '갓김치': 'gatkimchi',\n",
    " '깍두기': 'kkakdugi',\n",
    " '나박김치': 'nabakkimchi',\n",
    " '무생채': 'musaengchae',\n",
    " '배추김치': 'baechukimchi',\n",
    " '백김치': 'baekkimchi',\n",
    " '부추김치': 'buchukimchi',\n",
    " '열무김치': 'yeolmukimchi',\n",
    " '오이소박이': 'oisobagi',\n",
    " '총각김치': 'chonggakkimchi',\n",
    " '파김치': 'pakimchi',\n",
    " '가지볶음': 'gajibokkeum',\n",
    " '고사리나물': 'gosarinamul',\n",
    " '미역줄기볶음': 'miyeokjulgibokkeum',\n",
    " '숙주나물': 'sukjunamul',\n",
    " '시금치나물': 'sigeumchinamul',\n",
    " '애호박볶음': 'aehobakbokkeum',\n",
    " '경단': 'gyeongdan',\n",
    " '꿀떡': 'kkultteok',\n",
    " '송편': 'songpyeon',\n",
    " '만두': 'mandu',\n",
    " '라면': 'ramyeon',\n",
    " '막국수': 'makguksu',\n",
    " '물냉면': 'mulnaengmyeon',\n",
    " '비빔냉면': 'bibimnaengmyeon',\n",
    " '수제비': 'sujebi',\n",
    " '열무국수': 'yeolmuguksu',\n",
    " '잔치국수': 'janchiguksu',\n",
    " '짜장면': 'jajangmyeon',\n",
    " '짬뽕': 'jjamppong',\n",
    " '쫄면': 'jjolmyeon',\n",
    " '칼국수': 'kalguksu',\n",
    " '콩국수': 'kongguksu',\n",
    " '꽈리고추무침': 'kkwaligochumuchim',\n",
    " '도라지무침': 'dorajimuchim',\n",
    " '도토리묵': 'dotorimuk',\n",
    " '잡채': 'japchae',\n",
    " '콩나물무침': 'kongnamulmuchim',\n",
    " '홍어무침': 'hongeomuchim',\n",
    " '회무침': 'hoemuchim',\n",
    " '김밥': 'gimbap',\n",
    " '김치볶음밥': 'kimchibokkeumbap',\n",
    " '누룽지': 'nurungji',\n",
    " '비빔밥': 'bibimbap',\n",
    " '새우볶음밥': 'saeubokkeumbap',\n",
    " '알밥': 'albap',\n",
    " '유부초밥': 'yubuchobap',\n",
    " '잡곡밥': 'japgokbap',\n",
    " '주먹밥': 'jumeokbap',\n",
    " '감자채볶음': 'gamjachaebokkeum',\n",
    " '건새우볶음': 'geonsaeubokkeum',\n",
    " '고추장진미채볶음': 'gochujangjinmichaebokkeum',\n",
    " '두부김치': 'dubukimchi',\n",
    " '떡볶이': 'tteokbokki',\n",
    " '라볶이': 'rabokki',\n",
    " '멸치볶음': 'myeolchibokkeum',\n",
    " '소세지볶음': 'sausagebokkeum',\n",
    " '어묵볶음': 'eomukbokkeum',\n",
    " '오징어채볶음': 'ojingeochaebokkeum',\n",
    " '제육볶음': 'jeyukbokkeum',\n",
    " '주꾸미볶음': 'jukkumibokkeum',\n",
    " '보쌈': 'bossam',\n",
    " '수정과': 'sujeonggwa',\n",
    " '식혜': 'sikhye',\n",
    " '간장게장': 'ganjanggejang',\n",
    " '양념게장': 'yangnyeomgejang',\n",
    " '깻잎장아찌': 'kkaesipjangajji',\n",
    " '떡꼬치': 'tteokkkochi',\n",
    " '감자전': 'gamjajeon',\n",
    " '계란말이': 'gyeranmari',\n",
    " '계란후라이': 'gyeranfry',\n",
    " '김치전': 'kimchijeon',\n",
    " '동그랑땡': 'dongeurangttaeng',\n",
    " '생선전': 'saengseonjeon',\n",
    " '파전': 'pajeon',\n",
    " '호박전': 'hobakjeon',\n",
    " '곱창전골': 'gopchangjeongol',\n",
    " '갈치조림': 'galchijorim',\n",
    " '감자조림': 'gamjajorim',\n",
    " '고등어조림': 'godeungeojorim',\n",
    " '꽁치조림': 'kkongchijorim',\n",
    " '두부조림': 'dubujorim',\n",
    " '땅콩조림': 'ttangkongjorim',\n",
    " '메추리알장조림': 'mechurialjangjorim',\n",
    " '연근조림': 'yeongeunjorim',\n",
    " '우엉조림': 'ueongjorim',\n",
    " '장조림': 'jangjorim',\n",
    " '코다리조림': 'kodarijorim',\n",
    " '전복죽': 'jeonbokjuk',\n",
    " '호박죽': 'hobakjuk',\n",
    " '김치찌개': 'kimchijjigae',\n",
    " '닭계장': 'dakgyejang',\n",
    " '동태찌개': 'dongtaejjigae',\n",
    " '된장찌개': 'doenjangjjigae',\n",
    " '순두부찌개': 'sundubujjigae',\n",
    " '갈비찜': 'galbijjim',\n",
    " '계란찜': 'gyeranjjim',\n",
    " '김치찜': 'kimchijjim',\n",
    " '꼬막찜': 'kkomakjjim',\n",
    " '닭볶음탕': 'dakbokkeumtang',\n",
    " '수육': 'suyuk',\n",
    " '순대': 'sundae',\n",
    " '족발': 'jokbal',\n",
    " '찜닭': 'jjimdak',\n",
    " '해물찜': 'haemuljjim',\n",
    " '갈비탕': 'galbitang',\n",
    " '감자탕': 'gamjatang',\n",
    " '곰탕_설렁탕': 'gomguk-seolleongtang',\n",
    " '매운탕': 'maeuntang',\n",
    " '삼계탕': 'samgyetang',\n",
    " '추어탕': 'chueotang',\n",
    " '고추튀김': 'gochutwigim',\n",
    " '새우튀김': 'saeutwigim',\n",
    " '오징어튀김': 'ojingeotwigim',\n",
    " '약과': 'yakgwa',\n",
    " '약식': 'yaksik',\n",
    " '한과': 'hangwa',\n",
    " '멍게': 'meongge',\n",
    " '산낙지': 'sannakji',\n",
    " '물회': 'mulhoe',\n",
    " '육회': 'yukhoe'}\n"
   ]
  },
  {
   "cell_type": "code",
   "execution_count": 2,
   "metadata": {},
   "outputs": [],
   "source": [
    "\n",
    "from PIL import Image, ImageOps\n",
    "import os, sys, glob, time"
   ]
  },
  {
   "cell_type": "code",
   "execution_count": 40,
   "metadata": {},
   "outputs": [],
   "source": [
    "raw_path =r'C:/kfood/' \n",
    "class_path = os.getcwd()"
   ]
  },
  {
   "cell_type": "code",
   "execution_count": 43,
   "metadata": {},
   "outputs": [],
   "source": [
    "food_list = [i.split('\\\\')[-1] for i in glob.glob(raw_path+'/*/*')]\n",
    "dir_name  = [eng for kor, eng in dir_food.items() if kor in food_list]"
   ]
  },
  {
   "cell_type": "code",
   "execution_count": 44,
   "metadata": {},
   "outputs": [
    {
     "data": {
      "text/plain": [
       "['galbigui',\n",
       " 'galchigui',\n",
       " 'godeungeogui',\n",
       " 'gopchanggui',\n",
       " 'dakgalbi',\n",
       " 'deodeokgui',\n",
       " 'tteokgalbi',\n",
       " 'bulgogi',\n",
       " 'samgyeopsal',\n",
       " 'jangeogui',\n",
       " 'jogaegui',\n",
       " 'jogigui',\n",
       " 'hwangtaegui',\n",
       " 'hunjeori',\n",
       " 'gyelangug',\n",
       " 'tteokguk-mandutguk',\n",
       " 'muguk',\n",
       " 'miyeokguk',\n",
       " 'bugeotguk',\n",
       " 'siraegiguk',\n",
       " 'yukgaejang',\n",
       " 'kongnamulguk',\n",
       " 'gwamegi',\n",
       " 'yangnyeomchicken',\n",
       " 'jeotgal',\n",
       " 'kongjaban',\n",
       " 'pyeonyuk',\n",
       " 'pizza',\n",
       " 'friedchicken',\n",
       " 'gatkimchi',\n",
       " 'kkakdugi',\n",
       " 'nabakkimchi',\n",
       " 'musaengchae',\n",
       " 'baechukimchi',\n",
       " 'baekkimchi',\n",
       " 'buchukimchi',\n",
       " 'yeolmukimchi',\n",
       " 'oisobagi',\n",
       " 'chonggakkimchi',\n",
       " 'pakimchi',\n",
       " 'gajibokkeum',\n",
       " 'gosarinamul',\n",
       " 'miyeokjulgibokkeum',\n",
       " 'sukjunamul',\n",
       " 'sigeumchinamul',\n",
       " 'aehobakbokkeum',\n",
       " 'gyeongdan',\n",
       " 'kkultteok',\n",
       " 'songpyeon',\n",
       " 'mandu',\n",
       " 'ramyeon',\n",
       " 'makguksu',\n",
       " 'mulnaengmyeon',\n",
       " 'bibimnaengmyeon',\n",
       " 'sujebi',\n",
       " 'yeolmuguksu',\n",
       " 'janchiguksu',\n",
       " 'jajangmyeon',\n",
       " 'jjamppong',\n",
       " 'jjolmyeon',\n",
       " 'kalguksu',\n",
       " 'kongguksu',\n",
       " 'kkwaligochumuchim',\n",
       " 'dorajimuchim',\n",
       " 'dotorimuk',\n",
       " 'japchae',\n",
       " 'kongnamulmuchim',\n",
       " 'hongeomuchim',\n",
       " 'hoemuchim',\n",
       " 'gimbap',\n",
       " 'kimchibokkeumbap',\n",
       " 'nurungji',\n",
       " 'bibimbap',\n",
       " 'saeubokkeumbap',\n",
       " 'albap',\n",
       " 'yubuchobap',\n",
       " 'japgokbap',\n",
       " 'jumeokbap',\n",
       " 'gamjachaebokkeum',\n",
       " 'geonsaeubokkeum',\n",
       " 'gochujangjinmichaebokkeum',\n",
       " 'dubukimchi',\n",
       " 'tteokbokki',\n",
       " 'rabokki',\n",
       " 'myeolchibokkeum',\n",
       " 'sausagebokkeum',\n",
       " 'eomukbokkeum',\n",
       " 'ojingeochaebokkeum',\n",
       " 'jeyukbokkeum',\n",
       " 'jukkumibokkeum',\n",
       " 'bossam',\n",
       " 'sujeonggwa',\n",
       " 'sikhye',\n",
       " 'ganjanggejang',\n",
       " 'yangnyeomgejang',\n",
       " 'kkaesipjangajji',\n",
       " 'tteokkkochi',\n",
       " 'gamjajeon',\n",
       " 'gyeranmari',\n",
       " 'gyeranfry',\n",
       " 'kimchijeon',\n",
       " 'dongeurangttaeng',\n",
       " 'saengseonjeon',\n",
       " 'pajeon',\n",
       " 'hobakjeon',\n",
       " 'gopchangjeongol',\n",
       " 'galchijorim',\n",
       " 'gamjajorim',\n",
       " 'godeungeojorim',\n",
       " 'kkongchijorim',\n",
       " 'dubujorim',\n",
       " 'ttangkongjorim',\n",
       " 'mechurialjangjorim',\n",
       " 'yeongeunjorim',\n",
       " 'ueongjorim',\n",
       " 'jangjorim',\n",
       " 'kodarijorim',\n",
       " 'jeonbokjuk',\n",
       " 'hobakjuk',\n",
       " 'kimchijjigae',\n",
       " 'dakgyejang',\n",
       " 'dongtaejjigae',\n",
       " 'doenjangjjigae',\n",
       " 'sundubujjigae',\n",
       " 'galbijjim',\n",
       " 'gyeranjjim',\n",
       " 'kimchijjim',\n",
       " 'kkomakjjim',\n",
       " 'dakbokkeumtang',\n",
       " 'suyuk',\n",
       " 'sundae',\n",
       " 'jokbal',\n",
       " 'jjimdak',\n",
       " 'haemuljjim',\n",
       " 'galbitang',\n",
       " 'gamjatang',\n",
       " 'gomguk-seolleongtang',\n",
       " 'maeuntang',\n",
       " 'samgyetang',\n",
       " 'chueotang',\n",
       " 'gochutwigim',\n",
       " 'saeutwigim',\n",
       " 'ojingeotwigim',\n",
       " 'yakgwa',\n",
       " 'yaksik',\n",
       " 'hangwa',\n",
       " 'meongge',\n",
       " 'sannakji',\n",
       " 'mulhoe',\n",
       " 'yukhoe']"
      ]
     },
     "execution_count": 44,
     "metadata": {},
     "output_type": "execute_result"
    }
   ],
   "source": [
    "dir_name"
   ]
  },
  {
   "cell_type": "code",
   "execution_count": 49,
   "metadata": {},
   "outputs": [],
   "source": [
    "txt = [i.split('.')[-1] for i in glob.glob(raw_path+'/*/*/*')] "
   ]
  },
  {
   "cell_type": "code",
   "execution_count": 50,
   "metadata": {},
   "outputs": [],
   "source": [
    "txt = list(set(txt))"
   ]
  },
  {
   "cell_type": "code",
   "execution_count": 51,
   "metadata": {},
   "outputs": [],
   "source": [
    "txt = sorted(txt)"
   ]
  },
  {
   "cell_type": "code",
   "execution_count": 52,
   "metadata": {},
   "outputs": [
    {
     "name": "stdout",
     "output_type": "stream",
     "text": [
      "['GIF', 'JPEG', 'JPG', 'PNG', 'bmp', 'csv', 'gif', 'jpeg', 'jpg', 'png', 'properties'] 11\n"
     ]
    }
   ],
   "source": [
    "print(txt,len(txt))"
   ]
  },
  {
   "cell_type": "code",
   "execution_count": 53,
   "metadata": {},
   "outputs": [],
   "source": [
    "del txt[5], txt[-1]"
   ]
  },
  {
   "cell_type": "code",
   "execution_count": 54,
   "metadata": {},
   "outputs": [
    {
     "name": "stdout",
     "output_type": "stream",
     "text": [
      "['GIF', 'JPEG', 'JPG', 'PNG', 'bmp', 'gif', 'jpeg', 'jpg', 'png'] 9\n"
     ]
    }
   ],
   "source": [
    "print(txt,len(txt))"
   ]
  },
  {
   "cell_type": "code",
   "execution_count": 62,
   "metadata": {},
   "outputs": [
    {
     "data": {
      "text/plain": [
       "150910"
      ]
     },
     "execution_count": 62,
     "metadata": {},
     "output_type": "execute_result"
    }
   ],
   "source": [
    "len( glob.glob(raw_path+'/*/*/*'))"
   ]
  },
  {
   "cell_type": "code",
   "execution_count": 70,
   "metadata": {
    "scrolled": false
   },
   "outputs": [
    {
     "name": "stdout",
     "output_type": "stream",
     "text": [
      "150610\n"
     ]
    }
   ],
   "source": [
    "tmp=[]\n",
    "for path in glob.glob(raw_path+'/*/*'):\n",
    "#     print(j)\n",
    "    for i in glob.glob(path+'/*'):\n",
    "#         print(i)\n",
    "        j = i.split('.')[-1]\n",
    "#         print(j)\n",
    "        if txt[0]in j or txt[1]in j or txt[2]in j or txt[3]in j or txt[4]in j or txt[5]in j or txt[6]in j or txt[7]in j or txt[8]in j :\n",
    "            tmp.append([i])\n",
    "        \n",
    "#         print(i)\n",
    "print(len(tmp))"
   ]
  },
  {
   "cell_type": "code",
   "execution_count": 74,
   "metadata": {},
   "outputs": [
    {
     "data": {
      "text/plain": [
       "'C:\\\\Food_detecting\\\\전처리'"
      ]
     },
     "execution_count": 74,
     "metadata": {},
     "output_type": "execute_result"
    }
   ],
   "source": [
    "os.getcwd()"
   ]
  },
  {
   "cell_type": "code",
   "execution_count": 73,
   "metadata": {},
   "outputs": [
    {
     "ename": "KeyboardInterrupt",
     "evalue": "",
     "output_type": "error",
     "traceback": [
      "\u001b[1;31m---------------------------------------------------------------------------\u001b[0m",
      "\u001b[1;31mKeyboardInterrupt\u001b[0m                         Traceback (most recent call last)",
      "\u001b[1;32m<ipython-input-73-071c78909519>\u001b[0m in \u001b[0;36m<module>\u001b[1;34m\u001b[0m\n\u001b[0;32m     12\u001b[0m     \u001b[0msize\u001b[0m \u001b[1;33m=\u001b[0m \u001b[1;33m(\u001b[0m\u001b[1;36m224\u001b[0m\u001b[1;33m,\u001b[0m \u001b[1;36m224\u001b[0m\u001b[1;33m)\u001b[0m\u001b[1;33m\u001b[0m\u001b[0m\n\u001b[0;32m     13\u001b[0m     \u001b[0mimg_list\u001b[0m\u001b[1;33m=\u001b[0m\u001b[0mlist\u001b[0m\u001b[1;33m(\u001b[0m\u001b[1;33m)\u001b[0m\u001b[1;33m\u001b[0m\u001b[0m\n\u001b[1;32m---> 14\u001b[1;33m     \u001b[1;32mfor\u001b[0m \u001b[0mi\u001b[0m \u001b[1;32min\u001b[0m \u001b[0mfiles\u001b[0m\u001b[1;33m:\u001b[0m\u001b[1;33m\u001b[0m\u001b[0m\n\u001b[0m\u001b[0;32m     15\u001b[0m         \u001b[1;32mif\u001b[0m \u001b[0mi\u001b[0m \u001b[1;32min\u001b[0m \u001b[0mtmp\u001b[0m\u001b[1;33m:\u001b[0m\u001b[1;33m\u001b[0m\u001b[0m\n\u001b[0;32m     16\u001b[0m             \u001b[0mprint\u001b[0m\u001b[1;33m(\u001b[0m\u001b[0mi\u001b[0m\u001b[1;33m)\u001b[0m\u001b[1;33m\u001b[0m\u001b[0m\n",
      "\u001b[1;31mKeyboardInterrupt\u001b[0m: "
     ]
    }
   ],
   "source": [
    "start = time.time() # 시작시간 \n",
    "for kor, eng in zip(food_list, dir_name):\n",
    "    Step = time.time() # 시작시간 \n",
    "    # print(kor, eng)\n",
    "    # target_resize_dir =\".\\\\data\\\\\"+eng+\"\\\\\"\n",
    "    target_resize_dir =\"./data/\"+eng+\"/\"\n",
    "    if not os.path.isdir(target_resize_dir): # 파일생성\n",
    "        os.makedirs(target_resize_dir)\n",
    "    \n",
    "    files = glob.glob(raw_path+'/*'+f'/{kor}/*')\n",
    "    \n",
    "    cnt = 1\n",
    "    size = (224, 224)\n",
    "    img_list=list()\n",
    "    for i in files:\n",
    "        if i in tmp:\n",
    "            print(i)\n",
    "            break\n",
    "    "
   ]
  },
  {
   "cell_type": "code",
   "execution_count": 71,
   "metadata": {},
   "outputs": [
    {
     "data": {
      "text/plain": [
       "-300"
      ]
     },
     "execution_count": 71,
     "metadata": {},
     "output_type": "execute_result"
    }
   ],
   "source": [
    "150610-150910"
   ]
  },
  {
   "cell_type": "code",
   "execution_count": null,
   "metadata": {},
   "outputs": [],
   "source": []
  }
 ],
 "metadata": {
  "kernelspec": {
   "display_name": "Python 3",
   "language": "python",
   "name": "python3"
  },
  "language_info": {
   "codemirror_mode": {
    "name": "ipython",
    "version": 3
   },
   "file_extension": ".py",
   "mimetype": "text/x-python",
   "name": "python",
   "nbconvert_exporter": "python",
   "pygments_lexer": "ipython3",
   "version": "3.6.5"
  }
 },
 "nbformat": 4,
 "nbformat_minor": 4
}
