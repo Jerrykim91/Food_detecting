{
 "cells": [
  {
   "cell_type": "code",
   "execution_count": null,
   "metadata": {},
   "outputs": [],
   "source": [
    "df4 = pd.DataFrame(columns=(\"lib\",\"qt1\",\"qt2\"))\n",
    "\n",
    "        \n",
    "for i in range(5):\n",
    "#    df4.loc[i] = [(i+1)*(n+1) for n in range(3)]\n",
    "    df4.loc[i] = [(i+1)*(n+1) for n in range(3)]\n",
    "    \n",
    "df4"
   ]
  }
 ],
 "metadata": {
  "kernelspec": {
   "display_name": "Python 3",
   "language": "python",
   "name": "python3"
  },
  "language_info": {
   "codemirror_mode": {
    "name": "ipython",
    "version": 3
   },
   "file_extension": ".py",
   "mimetype": "text/x-python",
   "name": "python",
   "nbconvert_exporter": "python",
   "pygments_lexer": "ipython3",
   "version": "3.6.5"
  }
 },
 "nbformat": 4,
 "nbformat_minor": 4
}
