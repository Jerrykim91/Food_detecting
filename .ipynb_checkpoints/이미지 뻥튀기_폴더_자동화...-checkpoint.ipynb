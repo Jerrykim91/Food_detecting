{
 "cells": [
  {
   "cell_type": "markdown",
   "metadata": {},
   "source": [
    "# 자동화\n"
   ]
  },
  {
   "cell_type": "markdown",
   "metadata": {},
   "source": [
    "## 1. 이미지 가져와요 "
   ]
  },
  {
   "cell_type": "code",
   "execution_count": 3,
   "metadata": {},
   "outputs": [],
   "source": [
    "import os , glob\n",
    "import pandas as pd\n",
    "import numpy as np\n",
    "from PIL import Image"
   ]
  },
  {
   "cell_type": "code",
   "execution_count": 4,
   "metadata": {},
   "outputs": [
    {
     "name": "stdout",
     "output_type": "stream",
     "text": [
      "C:\\kfood\n"
     ]
    }
   ],
   "source": [
    "f_path = r'C:\\kfood' # 파일 경로 \n",
    "dir_path = os.path.abspath(f_path) # 경로 \n",
    "print(dir_path)"
   ]
  },
  {
   "cell_type": "code",
   "execution_count": 5,
   "metadata": {},
   "outputs": [],
   "source": [
    "S_list = list() # 소타이틀\n",
    "B_list = list() # 대타이틀\n",
    "file_list =list() # 개별 데이터 \n",
    "\n",
    "for dirpath, dirnames, filenames in os.walk(dir_path):\n",
    "    \n",
    "    for filename in filenames:\n",
    "        file_list.append(filename)"
   ]
  },
  {
   "cell_type": "code",
   "execution_count": 6,
   "metadata": {},
   "outputs": [],
   "source": [
    "# text=list()\n",
    "# for file in file_list:\n",
    "#     text.append(file.split('.'))"
   ]
  },
  {
   "cell_type": "code",
   "execution_count": 7,
   "metadata": {},
   "outputs": [],
   "source": [
    "# my_img=list()\n",
    "# for t in text:\n",
    "#     my_img.append(t[1])"
   ]
  },
  {
   "cell_type": "code",
   "execution_count": 8,
   "metadata": {},
   "outputs": [],
   "source": [
    "# 데이터 추출 \n",
    "text = [file.split('.') for file in file_list] \n",
    "my_img = [t[1] for t in text]"
   ]
  },
  {
   "cell_type": "code",
   "execution_count": 9,
   "metadata": {},
   "outputs": [
    {
     "data": {
      "text/plain": [
       "'jpg'"
      ]
     },
     "execution_count": 9,
     "metadata": {},
     "output_type": "execute_result"
    }
   ],
   "source": [
    "a = set(my_img)\n",
    "a = list(my_img)\n",
    "a[5]"
   ]
  },
  {
   "cell_type": "code",
   "execution_count": 10,
   "metadata": {
    "scrolled": true
   },
   "outputs": [
    {
     "data": {
      "text/plain": [
       "(11,\n",
       " ['GIF',\n",
       "  'JPEG',\n",
       "  'JPG',\n",
       "  'PNG',\n",
       "  'bmp',\n",
       "  'csv',\n",
       "  'gif',\n",
       "  'jpeg',\n",
       "  'jpg',\n",
       "  'png',\n",
       "  'properties'])"
      ]
     },
     "execution_count": 10,
     "metadata": {},
     "output_type": "execute_result"
    }
   ],
   "source": [
    "my_img = sorted(list(set(my_img)))\n",
    "len(my_img),my_img"
   ]
  },
  {
   "cell_type": "code",
   "execution_count": 11,
   "metadata": {},
   "outputs": [
    {
     "data": {
      "text/plain": [
       "('csv', 'properties')"
      ]
     },
     "execution_count": 11,
     "metadata": {},
     "output_type": "execute_result"
    }
   ],
   "source": [
    "my_img[5], my_img[-1]"
   ]
  },
  {
   "cell_type": "code",
   "execution_count": 12,
   "metadata": {},
   "outputs": [],
   "source": [
    "# 데이터 삭제 작업 \n",
    "del my_img[5]\n",
    "del my_img[-1]"
   ]
  },
  {
   "cell_type": "code",
   "execution_count": 13,
   "metadata": {},
   "outputs": [
    {
     "data": {
      "text/plain": [
       "(9, ['GIF', 'JPEG', 'JPG', 'PNG', 'bmp', 'gif', 'jpeg', 'jpg', 'png'])"
      ]
     },
     "execution_count": 13,
     "metadata": {},
     "output_type": "execute_result"
    }
   ],
   "source": [
    "len(my_img), my_img"
   ]
  },
  {
   "cell_type": "code",
   "execution_count": 14,
   "metadata": {},
   "outputs": [],
   "source": [
    "PATH = r'C:/kfood/'\n",
    "\n",
    "fold_name=list()\n",
    "dum=[]\n",
    "cnt=0\n",
    "dir_name=list()\n",
    "for dir_f in glob.glob(PATH+'**'):\n",
    "    for dir_s in glob.glob(dir_f+'/*'):\n",
    "        dir_name.append(dir_s)        \n",
    "        for file in glob.glob(dir_s+'/*'):\n",
    "            dum.append(file)\n",
    "#             print(file)\n",
    "\n"
   ]
  },
  {
   "cell_type": "code",
   "execution_count": 15,
   "metadata": {},
   "outputs": [
    {
     "data": {
      "text/plain": [
       "150910"
      ]
     },
     "execution_count": 15,
     "metadata": {},
     "output_type": "execute_result"
    }
   ],
   "source": [
    "len(dum)"
   ]
  },
  {
   "cell_type": "code",
   "execution_count": 16,
   "metadata": {},
   "outputs": [],
   "source": [
    "food_name=list()\n",
    "for di in dir_name:\n",
    "    food_name.append(di.split('\\\\')[-1])"
   ]
  },
  {
   "cell_type": "code",
   "execution_count": 17,
   "metadata": {},
   "outputs": [
    {
     "data": {
      "text/plain": [
       "150"
      ]
     },
     "execution_count": 17,
     "metadata": {},
     "output_type": "execute_result"
    }
   ],
   "source": [
    "len(food_name)"
   ]
  },
  {
   "cell_type": "markdown",
   "metadata": {},
   "source": [
    "## 1.1 이미지 사전 맹들어요"
   ]
  },
  {
   "cell_type": "code",
   "execution_count": 18,
   "metadata": {},
   "outputs": [],
   "source": [
    "# 영문 이름 리스트\n",
    "food_in_english = \\\n",
    "['galbigui', \n",
    "'galchigui', \n",
    "'godeungeogui',\n",
    "'gopchanggui', \n",
    "'dakgalbi', \n",
    "'deodeokgui',\n",
    "'tteokgalbi',\n",
    "'bulgogi', \n",
    "'samgyeopsal',\n",
    "'jangeogui', \n",
    "'jogaegui', \n",
    "'jogigui', \n",
    "'hwangtaegui',\n",
    "'hunjeori', \n",
    "'gyelangug',\n",
    "'tteokguk-mandutguk',\n",
    "'muguk', \n",
    "'miyeokguk',\n",
    "'bugeotguk', \n",
    "'siraegiguk',\n",
    "'yukgaejang',\n",
    "'kongnamulguk',\n",
    "'gwamegi', \n",
    "'yangnyeomchicken', \n",
    "'jeotgal', \n",
    "'kongjaban',\n",
    "'pyeonyuk', \n",
    "'pizza',\n",
    "'friedchicken',\n",
    "'gatkimchi', \n",
    "'kkakdugi', \n",
    "'nabakkimchi',\n",
    "'musaengchae', \n",
    "'baechukimchi',\n",
    "'baekkimchi', \n",
    "'buchukimchi', \n",
    "'yeolmukimchi',\n",
    "'oisobagi', \n",
    "'chonggakkimchi',\n",
    "'pakimchi', \n",
    "'gajibokkeum',\n",
    "'gosarinamul',\n",
    "'miyeokjulgibokkeum', \n",
    "'sukjunamul',\n",
    "'sigeumchinamul',\n",
    "'aehobakbokkeum',\n",
    "'gyeongdan', \n",
    "'kkultteok', \n",
    "'songpyeon', \n",
    "'mandu', \n",
    "'ramyeon', \n",
    "'makguksu',\n",
    "'mulnaengmyeon',\n",
    "'bibimnaengmyeon',\n",
    "'sujebi', \n",
    "'yeolmuguksu',\n",
    "'janchiguksu',\n",
    "'jajangmyeon',\n",
    "'jjamppong', \n",
    "'jjolmyeon', \n",
    "'kalguksu', \n",
    "'kongguksu',\n",
    "'kkwaligochumuchim', \n",
    "'dorajimuchim', \n",
    "'dotorimuk', \n",
    "'japchae', \n",
    "'kongnamulmuchim',\n",
    "'hongeomuchim', \n",
    "'hoemuchim', \n",
    "'gimbap', \n",
    "'kimchibokkeumbap',\n",
    "'nurungji', \n",
    "'bibimbap', \n",
    "'saeubokkeumbap',\n",
    "'albap', \n",
    "'yubuchobap',\n",
    "'japgokbap', \n",
    "'jumeokbap', \n",
    "'gamjachaebokkeum', \n",
    "'geonsaeubokkeum', \n",
    "'gochujangjinmichaebokkeum',\n",
    "'dubukimchi', \n",
    "'tteokbokki', \n",
    "'rabokki', \n",
    "'myeolchibokkeum',\n",
    "'sausagebokkeum',\n",
    "'eomukbokkeum',\n",
    "'ojingeochaebokkeum',\n",
    "'jeyukbokkeum', \n",
    "'jukkumibokkeum',\n",
    "'bossam', \n",
    "'sujeonggwa',\n",
    "'sikhye', \n",
    "'ganjanggejang',\n",
    "'yangnyeomgejang',\n",
    "'kkaesipjangajji',\n",
    "'tteokkkochi',\n",
    "'gamjajeon',\n",
    "'gyeranmari', \n",
    "'gyeranfry', \n",
    "'kimchijeon',\n",
    "'dongeurangttaeng',\n",
    "'saengseonjeon', \n",
    "'pajeon', \n",
    "'hobakjeon', \n",
    "'gopchangjeongol',\n",
    "'galchijorim', \n",
    "'gamjajorim', \n",
    "'godeungeojorim',\n",
    "'kkongchijorim',\n",
    "'dubujorim', \n",
    "'ttangkongjorim',\n",
    "'mechurialjangjorim', \n",
    "'yeongeunjorim', \n",
    "'ueongjorim', \n",
    "'jangjorim', \n",
    "'kodarijorim',\n",
    "'jeonbokjuk', \n",
    "'hobakjuk', \n",
    "'kimchijjigae',\n",
    "'dakgyejang', \n",
    "'dongtaejjigae',\n",
    "'doenjangjjigae',\n",
    "'sundubujjigae', \n",
    "'galbijjim', \n",
    "'gyeranjjim', \n",
    "'kimchijjim', \n",
    "'kkomakjjim', \n",
    "'dakbokkeumtang', \n",
    "'suyuk',\n",
    "'sundae',\n",
    "'jokbal',\n",
    "'jjimdak', \n",
    "'haemuljjim',\n",
    "'galbitang', \n",
    "'gamjatang', \n",
    "'gomguk-seolleongtang',\n",
    "'maeuntang', \n",
    "'samgyetang',\n",
    "'chueotang', \n",
    "'gochutwigim', \n",
    "'saeutwigim', \n",
    "'ojingeotwigim',\n",
    "'yakgwa', \n",
    "'yaksik', \n",
    "'hangwa', \n",
    "'meongge', \n",
    "'sannakji',\n",
    "'mulhoe', \n",
    "'yukhoe' ]\n"
   ]
  },
  {
   "cell_type": "code",
   "execution_count": 19,
   "metadata": {},
   "outputs": [
    {
     "data": {
      "text/plain": [
       "150"
      ]
     },
     "execution_count": 19,
     "metadata": {},
     "output_type": "execute_result"
    }
   ],
   "source": [
    "len(food_in_english)"
   ]
  },
  {
   "cell_type": "code",
   "execution_count": 20,
   "metadata": {},
   "outputs": [],
   "source": [
    "dic_food={}\n",
    "\n",
    "for i,j in zip(food_name,food_in_english ):\n",
    "#     print(i,j)\n",
    "    dic_food[i]=j"
   ]
  },
  {
   "cell_type": "code",
   "execution_count": 21,
   "metadata": {
    "scrolled": true
   },
   "outputs": [
    {
     "data": {
      "text/plain": [
       "{'갈비구이': 'galbigui',\n",
       " '갈치구이': 'galchigui',\n",
       " '고등어구이': 'godeungeogui',\n",
       " '곱창구이': 'gopchanggui',\n",
       " '닭갈비': 'dakgalbi',\n",
       " '더덕구이': 'deodeokgui',\n",
       " '떡갈비': 'tteokgalbi',\n",
       " '불고기': 'bulgogi',\n",
       " '삼겹살': 'samgyeopsal',\n",
       " '장어구이': 'jangeogui',\n",
       " '조개구이': 'jogaegui',\n",
       " '조기구이': 'jogigui',\n",
       " '황태구이': 'hwangtaegui',\n",
       " '훈제오리': 'hunjeori',\n",
       " '계란국': 'gyelangug',\n",
       " '떡국_만두국': 'tteokguk-mandutguk',\n",
       " '무국': 'muguk',\n",
       " '미역국': 'miyeokguk',\n",
       " '북엇국': 'bugeotguk',\n",
       " '시래기국': 'siraegiguk',\n",
       " '육개장': 'yukgaejang',\n",
       " '콩나물국': 'kongnamulguk',\n",
       " '과메기': 'gwamegi',\n",
       " '양념치킨': 'yangnyeomchicken',\n",
       " '젓갈': 'jeotgal',\n",
       " '콩자반': 'kongjaban',\n",
       " '편육': 'pyeonyuk',\n",
       " '피자': 'pizza',\n",
       " '후라이드치킨': 'friedchicken',\n",
       " '갓김치': 'gatkimchi',\n",
       " '깍두기': 'kkakdugi',\n",
       " '나박김치': 'nabakkimchi',\n",
       " '무생채': 'musaengchae',\n",
       " '배추김치': 'baechukimchi',\n",
       " '백김치': 'baekkimchi',\n",
       " '부추김치': 'buchukimchi',\n",
       " '열무김치': 'yeolmukimchi',\n",
       " '오이소박이': 'oisobagi',\n",
       " '총각김치': 'chonggakkimchi',\n",
       " '파김치': 'pakimchi',\n",
       " '가지볶음': 'gajibokkeum',\n",
       " '고사리나물': 'gosarinamul',\n",
       " '미역줄기볶음': 'miyeokjulgibokkeum',\n",
       " '숙주나물': 'sukjunamul',\n",
       " '시금치나물': 'sigeumchinamul',\n",
       " '애호박볶음': 'aehobakbokkeum',\n",
       " '경단': 'gyeongdan',\n",
       " '꿀떡': 'kkultteok',\n",
       " '송편': 'songpyeon',\n",
       " '만두': 'mandu',\n",
       " '라면': 'ramyeon',\n",
       " '막국수': 'makguksu',\n",
       " '물냉면': 'mulnaengmyeon',\n",
       " '비빔냉면': 'bibimnaengmyeon',\n",
       " '수제비': 'sujebi',\n",
       " '열무국수': 'yeolmuguksu',\n",
       " '잔치국수': 'janchiguksu',\n",
       " '짜장면': 'jajangmyeon',\n",
       " '짬뽕': 'jjamppong',\n",
       " '쫄면': 'jjolmyeon',\n",
       " '칼국수': 'kalguksu',\n",
       " '콩국수': 'kongguksu',\n",
       " '꽈리고추무침': 'kkwaligochumuchim',\n",
       " '도라지무침': 'dorajimuchim',\n",
       " '도토리묵': 'dotorimuk',\n",
       " '잡채': 'japchae',\n",
       " '콩나물무침': 'kongnamulmuchim',\n",
       " '홍어무침': 'hongeomuchim',\n",
       " '회무침': 'hoemuchim',\n",
       " '김밥': 'gimbap',\n",
       " '김치볶음밥': 'kimchibokkeumbap',\n",
       " '누룽지': 'nurungji',\n",
       " '비빔밥': 'bibimbap',\n",
       " '새우볶음밥': 'saeubokkeumbap',\n",
       " '알밥': 'albap',\n",
       " '유부초밥': 'yubuchobap',\n",
       " '잡곡밥': 'japgokbap',\n",
       " '주먹밥': 'jumeokbap',\n",
       " '감자채볶음': 'gamjachaebokkeum',\n",
       " '건새우볶음': 'geonsaeubokkeum',\n",
       " '고추장진미채볶음': 'gochujangjinmichaebokkeum',\n",
       " '두부김치': 'dubukimchi',\n",
       " '떡볶이': 'tteokbokki',\n",
       " '라볶이': 'rabokki',\n",
       " '멸치볶음': 'myeolchibokkeum',\n",
       " '소세지볶음': 'sausagebokkeum',\n",
       " '어묵볶음': 'eomukbokkeum',\n",
       " '오징어채볶음': 'ojingeochaebokkeum',\n",
       " '제육볶음': 'jeyukbokkeum',\n",
       " '주꾸미볶음': 'jukkumibokkeum',\n",
       " '보쌈': 'bossam',\n",
       " '수정과': 'sujeonggwa',\n",
       " '식혜': 'sikhye',\n",
       " '간장게장': 'ganjanggejang',\n",
       " '양념게장': 'yangnyeomgejang',\n",
       " '깻잎장아찌': 'kkaesipjangajji',\n",
       " '떡꼬치': 'tteokkkochi',\n",
       " '감자전': 'gamjajeon',\n",
       " '계란말이': 'gyeranmari',\n",
       " '계란후라이': 'gyeranfry',\n",
       " '김치전': 'kimchijeon',\n",
       " '동그랑땡': 'dongeurangttaeng',\n",
       " '생선전': 'saengseonjeon',\n",
       " '파전': 'pajeon',\n",
       " '호박전': 'hobakjeon',\n",
       " '곱창전골': 'gopchangjeongol',\n",
       " '갈치조림': 'galchijorim',\n",
       " '감자조림': 'gamjajorim',\n",
       " '고등어조림': 'godeungeojorim',\n",
       " '꽁치조림': 'kkongchijorim',\n",
       " '두부조림': 'dubujorim',\n",
       " '땅콩조림': 'ttangkongjorim',\n",
       " '메추리알장조림': 'mechurialjangjorim',\n",
       " '연근조림': 'yeongeunjorim',\n",
       " '우엉조림': 'ueongjorim',\n",
       " '장조림': 'jangjorim',\n",
       " '코다리조림': 'kodarijorim',\n",
       " '전복죽': 'jeonbokjuk',\n",
       " '호박죽': 'hobakjuk',\n",
       " '김치찌개': 'kimchijjigae',\n",
       " '닭계장': 'dakgyejang',\n",
       " '동태찌개': 'dongtaejjigae',\n",
       " '된장찌개': 'doenjangjjigae',\n",
       " '순두부찌개': 'sundubujjigae',\n",
       " '갈비찜': 'galbijjim',\n",
       " '계란찜': 'gyeranjjim',\n",
       " '김치찜': 'kimchijjim',\n",
       " '꼬막찜': 'kkomakjjim',\n",
       " '닭볶음탕': 'dakbokkeumtang',\n",
       " '수육': 'suyuk',\n",
       " '순대': 'sundae',\n",
       " '족발': 'jokbal',\n",
       " '찜닭': 'jjimdak',\n",
       " '해물찜': 'haemuljjim',\n",
       " '갈비탕': 'galbitang',\n",
       " '감자탕': 'gamjatang',\n",
       " '곰탕_설렁탕': 'gomguk-seolleongtang',\n",
       " '매운탕': 'maeuntang',\n",
       " '삼계탕': 'samgyetang',\n",
       " '추어탕': 'chueotang',\n",
       " '고추튀김': 'gochutwigim',\n",
       " '새우튀김': 'saeutwigim',\n",
       " '오징어튀김': 'ojingeotwigim',\n",
       " '약과': 'yakgwa',\n",
       " '약식': 'yaksik',\n",
       " '한과': 'hangwa',\n",
       " '멍게': 'meongge',\n",
       " '산낙지': 'sannakji',\n",
       " '물회': 'mulhoe',\n",
       " '육회': 'yukhoe'}"
      ]
     },
     "execution_count": 21,
     "metadata": {},
     "output_type": "execute_result"
    }
   ],
   "source": [
    "dic_food"
   ]
  },
  {
   "cell_type": "code",
   "execution_count": null,
   "metadata": {},
   "outputs": [],
   "source": [
    "food_in_english"
   ]
  },
  {
   "cell_type": "markdown",
   "metadata": {},
   "source": [
    "## 1.2 함수전에 프로그램을 짜놓아요"
   ]
  },
  {
   "cell_type": "code",
   "execution_count": 22,
   "metadata": {},
   "outputs": [
    {
     "data": {
      "text/plain": [
       "'C:\\\\Food_detecting'"
      ]
     },
     "execution_count": 22,
     "metadata": {},
     "output_type": "execute_result"
    }
   ],
   "source": [
    "os.getcwd()"
   ]
  },
  {
   "cell_type": "code",
   "execution_count": 23,
   "metadata": {},
   "outputs": [],
   "source": [
    "import os \n",
    "\n",
    "# 폴더 만드는 함수 \n",
    "def createFolder(dir):\n",
    "    \"\"\"\n",
    "    dir = 경로가 들어가야한다.\n",
    "    \"\"\"\n",
    "    \n",
    "    try:\n",
    "        if not os.path.exists(dir):\n",
    "            os.makedirs(dir)\n",
    "            print(dir,'생성')\n",
    "    except OSError:\n",
    "        print('에러 : 폴더 미 생성' + dir)\n"
   ]
  },
  {
   "cell_type": "code",
   "execution_count": 26,
   "metadata": {},
   "outputs": [],
   "source": [
    "for na in food_in_english:\n",
    "#     print(na)\n",
    "    createFolder(f'C:\\\\Users\\\\admin\\\\Desktop\\\\kfood\\\\{na}')\n",
    "#     break"
   ]
  },
  {
   "cell_type": "code",
   "execution_count": 27,
   "metadata": {},
   "outputs": [],
   "source": [
    "PATH = r'C:/kfood/'\n",
    "\n",
    "fold_name=list()\n",
    "cnt=0\n",
    "dir_name=list()\n",
    "\n",
    "for dir_f in glob.glob(PATH+'**'):\n",
    "    for dir_s in glob.glob(dir_f+'/*'):\n",
    "        dir_name.append(dir_s)      # 폴더 이름 리스트에 담는다."
   ]
  },
  {
   "cell_type": "code",
   "execution_count": 29,
   "metadata": {},
   "outputs": [
    {
     "data": {
      "text/plain": [
       "['C:/kfood\\\\구이\\\\갈비구이',\n",
       " 'C:/kfood\\\\구이\\\\갈치구이',\n",
       " 'C:/kfood\\\\구이\\\\고등어구이',\n",
       " 'C:/kfood\\\\구이\\\\곱창구이',\n",
       " 'C:/kfood\\\\구이\\\\닭갈비',\n",
       " 'C:/kfood\\\\구이\\\\더덕구이',\n",
       " 'C:/kfood\\\\구이\\\\떡갈비',\n",
       " 'C:/kfood\\\\구이\\\\불고기',\n",
       " 'C:/kfood\\\\구이\\\\삼겹살',\n",
       " 'C:/kfood\\\\구이\\\\장어구이',\n",
       " 'C:/kfood\\\\구이\\\\조개구이',\n",
       " 'C:/kfood\\\\구이\\\\조기구이',\n",
       " 'C:/kfood\\\\구이\\\\황태구이',\n",
       " 'C:/kfood\\\\구이\\\\훈제오리',\n",
       " 'C:/kfood\\\\국\\\\계란국',\n",
       " 'C:/kfood\\\\국\\\\떡국_만두국',\n",
       " 'C:/kfood\\\\국\\\\무국',\n",
       " 'C:/kfood\\\\국\\\\미역국',\n",
       " 'C:/kfood\\\\국\\\\북엇국',\n",
       " 'C:/kfood\\\\국\\\\시래기국',\n",
       " 'C:/kfood\\\\국\\\\육개장',\n",
       " 'C:/kfood\\\\국\\\\콩나물국',\n",
       " 'C:/kfood\\\\기타\\\\과메기',\n",
       " 'C:/kfood\\\\기타\\\\양념치킨',\n",
       " 'C:/kfood\\\\기타\\\\젓갈',\n",
       " 'C:/kfood\\\\기타\\\\콩자반',\n",
       " 'C:/kfood\\\\기타\\\\편육',\n",
       " 'C:/kfood\\\\기타\\\\피자',\n",
       " 'C:/kfood\\\\기타\\\\후라이드치킨',\n",
       " 'C:/kfood\\\\김치\\\\갓김치',\n",
       " 'C:/kfood\\\\김치\\\\깍두기',\n",
       " 'C:/kfood\\\\김치\\\\나박김치',\n",
       " 'C:/kfood\\\\김치\\\\무생채',\n",
       " 'C:/kfood\\\\김치\\\\배추김치',\n",
       " 'C:/kfood\\\\김치\\\\백김치',\n",
       " 'C:/kfood\\\\김치\\\\부추김치',\n",
       " 'C:/kfood\\\\김치\\\\열무김치',\n",
       " 'C:/kfood\\\\김치\\\\오이소박이',\n",
       " 'C:/kfood\\\\김치\\\\총각김치',\n",
       " 'C:/kfood\\\\김치\\\\파김치',\n",
       " 'C:/kfood\\\\나물\\\\가지볶음',\n",
       " 'C:/kfood\\\\나물\\\\고사리나물',\n",
       " 'C:/kfood\\\\나물\\\\미역줄기볶음',\n",
       " 'C:/kfood\\\\나물\\\\숙주나물',\n",
       " 'C:/kfood\\\\나물\\\\시금치나물',\n",
       " 'C:/kfood\\\\나물\\\\애호박볶음',\n",
       " 'C:/kfood\\\\떡\\\\경단',\n",
       " 'C:/kfood\\\\떡\\\\꿀떡',\n",
       " 'C:/kfood\\\\떡\\\\송편',\n",
       " 'C:/kfood\\\\만두\\\\만두',\n",
       " 'C:/kfood\\\\면\\\\라면',\n",
       " 'C:/kfood\\\\면\\\\막국수',\n",
       " 'C:/kfood\\\\면\\\\물냉면',\n",
       " 'C:/kfood\\\\면\\\\비빔냉면',\n",
       " 'C:/kfood\\\\면\\\\수제비',\n",
       " 'C:/kfood\\\\면\\\\열무국수',\n",
       " 'C:/kfood\\\\면\\\\잔치국수',\n",
       " 'C:/kfood\\\\면\\\\짜장면',\n",
       " 'C:/kfood\\\\면\\\\짬뽕',\n",
       " 'C:/kfood\\\\면\\\\쫄면',\n",
       " 'C:/kfood\\\\면\\\\칼국수',\n",
       " 'C:/kfood\\\\면\\\\콩국수',\n",
       " 'C:/kfood\\\\무침\\\\꽈리고추무침',\n",
       " 'C:/kfood\\\\무침\\\\도라지무침',\n",
       " 'C:/kfood\\\\무침\\\\도토리묵',\n",
       " 'C:/kfood\\\\무침\\\\잡채',\n",
       " 'C:/kfood\\\\무침\\\\콩나물무침',\n",
       " 'C:/kfood\\\\무침\\\\홍어무침',\n",
       " 'C:/kfood\\\\무침\\\\회무침',\n",
       " 'C:/kfood\\\\밥\\\\김밥',\n",
       " 'C:/kfood\\\\밥\\\\김치볶음밥',\n",
       " 'C:/kfood\\\\밥\\\\누룽지',\n",
       " 'C:/kfood\\\\밥\\\\비빔밥',\n",
       " 'C:/kfood\\\\밥\\\\새우볶음밥',\n",
       " 'C:/kfood\\\\밥\\\\알밥',\n",
       " 'C:/kfood\\\\밥\\\\유부초밥',\n",
       " 'C:/kfood\\\\밥\\\\잡곡밥',\n",
       " 'C:/kfood\\\\밥\\\\주먹밥',\n",
       " 'C:/kfood\\\\볶음\\\\감자채볶음',\n",
       " 'C:/kfood\\\\볶음\\\\건새우볶음',\n",
       " 'C:/kfood\\\\볶음\\\\고추장진미채볶음',\n",
       " 'C:/kfood\\\\볶음\\\\두부김치',\n",
       " 'C:/kfood\\\\볶음\\\\떡볶이',\n",
       " 'C:/kfood\\\\볶음\\\\라볶이',\n",
       " 'C:/kfood\\\\볶음\\\\멸치볶음',\n",
       " 'C:/kfood\\\\볶음\\\\소세지볶음',\n",
       " 'C:/kfood\\\\볶음\\\\어묵볶음',\n",
       " 'C:/kfood\\\\볶음\\\\오징어채볶음',\n",
       " 'C:/kfood\\\\볶음\\\\제육볶음',\n",
       " 'C:/kfood\\\\볶음\\\\주꾸미볶음',\n",
       " 'C:/kfood\\\\쌈\\\\보쌈',\n",
       " 'C:/kfood\\\\음청류\\\\수정과',\n",
       " 'C:/kfood\\\\음청류\\\\식혜',\n",
       " 'C:/kfood\\\\장\\\\간장게장',\n",
       " 'C:/kfood\\\\장\\\\양념게장',\n",
       " 'C:/kfood\\\\장아찌\\\\깻잎장아찌',\n",
       " 'C:/kfood\\\\적\\\\떡꼬치',\n",
       " 'C:/kfood\\\\전\\\\감자전',\n",
       " 'C:/kfood\\\\전\\\\계란말이',\n",
       " 'C:/kfood\\\\전\\\\계란후라이',\n",
       " 'C:/kfood\\\\전\\\\김치전',\n",
       " 'C:/kfood\\\\전\\\\동그랑땡',\n",
       " 'C:/kfood\\\\전\\\\생선전',\n",
       " 'C:/kfood\\\\전\\\\파전',\n",
       " 'C:/kfood\\\\전\\\\호박전',\n",
       " 'C:/kfood\\\\전골\\\\곱창전골',\n",
       " 'C:/kfood\\\\조림\\\\갈치조림',\n",
       " 'C:/kfood\\\\조림\\\\감자조림',\n",
       " 'C:/kfood\\\\조림\\\\고등어조림',\n",
       " 'C:/kfood\\\\조림\\\\꽁치조림',\n",
       " 'C:/kfood\\\\조림\\\\두부조림',\n",
       " 'C:/kfood\\\\조림\\\\땅콩조림',\n",
       " 'C:/kfood\\\\조림\\\\메추리알장조림',\n",
       " 'C:/kfood\\\\조림\\\\연근조림',\n",
       " 'C:/kfood\\\\조림\\\\우엉조림',\n",
       " 'C:/kfood\\\\조림\\\\장조림',\n",
       " 'C:/kfood\\\\조림\\\\코다리조림',\n",
       " 'C:/kfood\\\\죽\\\\전복죽',\n",
       " 'C:/kfood\\\\죽\\\\호박죽',\n",
       " 'C:/kfood\\\\찌개\\\\김치찌개',\n",
       " 'C:/kfood\\\\찌개\\\\닭계장',\n",
       " 'C:/kfood\\\\찌개\\\\동태찌개',\n",
       " 'C:/kfood\\\\찌개\\\\된장찌개',\n",
       " 'C:/kfood\\\\찌개\\\\순두부찌개',\n",
       " 'C:/kfood\\\\찜\\\\갈비찜',\n",
       " 'C:/kfood\\\\찜\\\\계란찜',\n",
       " 'C:/kfood\\\\찜\\\\김치찜',\n",
       " 'C:/kfood\\\\찜\\\\꼬막찜',\n",
       " 'C:/kfood\\\\찜\\\\닭볶음탕',\n",
       " 'C:/kfood\\\\찜\\\\수육',\n",
       " 'C:/kfood\\\\찜\\\\순대',\n",
       " 'C:/kfood\\\\찜\\\\족발',\n",
       " 'C:/kfood\\\\찜\\\\찜닭',\n",
       " 'C:/kfood\\\\찜\\\\해물찜',\n",
       " 'C:/kfood\\\\탕\\\\갈비탕',\n",
       " 'C:/kfood\\\\탕\\\\감자탕',\n",
       " 'C:/kfood\\\\탕\\\\곰탕_설렁탕',\n",
       " 'C:/kfood\\\\탕\\\\매운탕',\n",
       " 'C:/kfood\\\\탕\\\\삼계탕',\n",
       " 'C:/kfood\\\\탕\\\\추어탕',\n",
       " 'C:/kfood\\\\튀김\\\\고추튀김',\n",
       " 'C:/kfood\\\\튀김\\\\새우튀김',\n",
       " 'C:/kfood\\\\튀김\\\\오징어튀김',\n",
       " 'C:/kfood\\\\한과\\\\약과',\n",
       " 'C:/kfood\\\\한과\\\\약식',\n",
       " 'C:/kfood\\\\한과\\\\한과',\n",
       " 'C:/kfood\\\\해물\\\\멍게',\n",
       " 'C:/kfood\\\\해물\\\\산낙지',\n",
       " 'C:/kfood\\\\회\\\\물회',\n",
       " 'C:/kfood\\\\회\\\\육회']"
      ]
     },
     "execution_count": 29,
     "metadata": {},
     "output_type": "execute_result"
    }
   ],
   "source": [
    "dir_name"
   ]
  },
  {
   "cell_type": "code",
   "execution_count": 28,
   "metadata": {
    "scrolled": true
   },
   "outputs": [
    {
     "data": {
      "text/plain": [
       "150"
      ]
     },
     "execution_count": 28,
     "metadata": {},
     "output_type": "execute_result"
    }
   ],
   "source": [
    "len(dir_name)"
   ]
  },
  {
   "cell_type": "code",
   "execution_count": 124,
   "metadata": {},
   "outputs": [],
   "source": [
    "# dir_name"
   ]
  },
  {
   "cell_type": "code",
   "execution_count": 30,
   "metadata": {},
   "outputs": [],
   "source": [
    "cnt = 0 # 변수 초기화 \n",
    "img_list=list()\n",
    "\n",
    "# 데이터 걸러내기 \n",
    "for n in range(len(dir_name)):\n",
    "    for i in glob.glob(dir_name[n]+'/*'):\n",
    "        if my_img[0]in i or my_img[1]in i or my_img[2]in i or my_img[3]in i or my_img[4]in i or my_img[5]in i or my_img[6]in i or my_img[7]in i or my_img[8]in i:\n",
    "#             print(i)\n",
    "            img_list.append(i)\n",
    "#             break"
   ]
  },
  {
   "cell_type": "code",
   "execution_count": 31,
   "metadata": {},
   "outputs": [
    {
     "data": {
      "text/plain": [
       "150610"
      ]
     },
     "execution_count": 31,
     "metadata": {},
     "output_type": "execute_result"
    }
   ],
   "source": [
    "len(img_list)"
   ]
  },
  {
   "cell_type": "code",
   "execution_count": 32,
   "metadata": {},
   "outputs": [
    {
     "data": {
      "text/plain": [
       "300"
      ]
     },
     "execution_count": 32,
     "metadata": {},
     "output_type": "execute_result"
    }
   ],
   "source": [
    "150*2"
   ]
  },
  {
   "cell_type": "code",
   "execution_count": 33,
   "metadata": {},
   "outputs": [
    {
     "data": {
      "text/plain": [
       "300"
      ]
     },
     "execution_count": 33,
     "metadata": {},
     "output_type": "execute_result"
    }
   ],
   "source": [
    "# 데이터 \n",
    "len(dum)-len(img_list)"
   ]
  },
  {
   "cell_type": "code",
   "execution_count": 35,
   "metadata": {},
   "outputs": [
    {
     "data": {
      "text/plain": [
       "['C:/kfood\\\\구이\\\\갈비구이\\\\Img_000_0000.jpg',\n",
       " 'C:/kfood\\\\구이\\\\갈비구이\\\\Img_000_0001.jpg',\n",
       " 'C:/kfood\\\\구이\\\\갈비구이\\\\Img_000_0002.jpg',\n",
       " 'C:/kfood\\\\구이\\\\갈비구이\\\\Img_000_0003.jpg',\n",
       " 'C:/kfood\\\\구이\\\\갈비구이\\\\Img_000_0004.jpg']"
      ]
     },
     "execution_count": 35,
     "metadata": {},
     "output_type": "execute_result"
    }
   ],
   "source": [
    "img_list[:5]"
   ]
  },
  {
   "cell_type": "markdown",
   "metadata": {},
   "source": [
    "## 2. 이미지 함수 만들어요 \n",
    "\n",
    "이미지 폴더 만드는 함수 \n",
    "이미지 제너레이터 만드는 함수 \n"
   ]
  },
  {
   "cell_type": "code",
   "execution_count": null,
   "metadata": {},
   "outputs": [],
   "source": [
    "# 일단 매치해서 들어가야한다 \n",
    "# 사본은 영어 폴더에 저장 각 20장씩 들어가야한다 \n",
    "# 일단은 임의의 한폴더에  데이터를 먼저 넣어보자 그리거 \n",
    "# 만약 들어간다면 20개씩불려보고 \n",
    "# 별무리없이 작업이 진행된다면 자동화코드를만들어 보자 "
   ]
  },
  {
   "cell_type": "markdown",
   "metadata": {},
   "source": [
    "## 2.1 임의의 폴더에 데이터 추가 \n",
    "\n"
   ]
  },
  {
   "cell_type": "code",
   "execution_count": 37,
   "metadata": {},
   "outputs": [
    {
     "name": "stderr",
     "output_type": "stream",
     "text": [
      "Using TensorFlow backend.\n"
     ]
    }
   ],
   "source": [
    "from keras.preprocessing.image import ImageDataGenerator, array_to_img, img_to_array, load_img"
   ]
  },
  {
   "cell_type": "code",
   "execution_count": 38,
   "metadata": {},
   "outputs": [],
   "source": [
    "# 공용 \n",
    "datagen = ImageDataGenerator(\n",
    "        rotation_range=40,\n",
    "        width_shift_range=0.2,\n",
    "        height_shift_range=0.2,\n",
    "        shear_range=0.2,\n",
    "        zoom_range=0.2,\n",
    "        horizontal_flip=True,\n",
    "        fill_mode='nearest')"
   ]
  },
  {
   "cell_type": "code",
   "execution_count": null,
   "metadata": {},
   "outputs": [],
   "source": [
    "fold_name[0].split('\\\\')"
   ]
  },
  {
   "cell_type": "code",
   "execution_count": 39,
   "metadata": {},
   "outputs": [
    {
     "name": "stdout",
     "output_type": "stream",
     "text": [
      "C:\\Users\\admin\\Desktop\\kfood\n"
     ]
    }
   ],
   "source": [
    "f_path = r'C:\\\\Users\\\\admin\\\\Desktop\\\\kfood' # 파일 경로 \n",
    "dir_path = os.path.abspath(f_path) # 경로 \n",
    "print(dir_path)"
   ]
  },
  {
   "cell_type": "code",
   "execution_count": 49,
   "metadata": {},
   "outputs": [],
   "source": [
    "# glob.glob(dir_path+'\\\\*')"
   ]
  },
  {
   "cell_type": "code",
   "execution_count": 51,
   "metadata": {},
   "outputs": [
    {
     "data": {
      "text/plain": [
       "150"
      ]
     },
     "execution_count": 51,
     "metadata": {},
     "output_type": "execute_result"
    }
   ],
   "source": [
    "len(glob.glob(dir_path+'\\\\*'))"
   ]
  },
  {
   "cell_type": "code",
   "execution_count": null,
   "metadata": {},
   "outputs": [],
   "source": []
  },
  {
   "cell_type": "code",
   "execution_count": 45,
   "metadata": {},
   "outputs": [],
   "source": [
    "t=[]\n",
    "# 각 경로를 가져와서 이름 뒤에꺼를 가져옴 \n",
    "for ck in glob.glob(dir_path+'\\\\*'):\n",
    "#     print(ck)\n",
    "    t.append(ck.split('\\\\'))    "
   ]
  },
  {
   "cell_type": "code",
   "execution_count": 48,
   "metadata": {},
   "outputs": [
    {
     "data": {
      "text/plain": [
       "'albap'"
      ]
     },
     "execution_count": 48,
     "metadata": {},
     "output_type": "execute_result"
    }
   ],
   "source": [
    "t[1][-1]"
   ]
  },
  {
   "cell_type": "code",
   "execution_count": null,
   "metadata": {},
   "outputs": [],
   "source": [
    "# 어떻게 마치할것인지 \n",
    "\n",
    "# 각 경로를 가져온다 \n",
    "# 그경로들을 일거들이면서 각 음식 위치를 비교한다 \n",
    "# 그리고 사전에서 값이 \n",
    "\n",
    "# "
   ]
  },
  {
   "cell_type": "code",
   "execution_count": 55,
   "metadata": {},
   "outputs": [
    {
     "name": "stdout",
     "output_type": "stream",
     "text": [
      "갈비구이\n",
      "갈치구이\n",
      "고등어구이\n",
      "곱창구이\n",
      "닭갈비\n",
      "더덕구이\n",
      "떡갈비\n",
      "불고기\n",
      "삼겹살\n",
      "장어구이\n",
      "조개구이\n",
      "조기구이\n",
      "황태구이\n",
      "훈제오리\n",
      "계란국\n",
      "떡국_만두국\n",
      "무국\n",
      "미역국\n",
      "북엇국\n",
      "시래기국\n",
      "육개장\n",
      "콩나물국\n",
      "과메기\n",
      "양념치킨\n",
      "젓갈\n",
      "콩자반\n",
      "편육\n",
      "피자\n",
      "후라이드치킨\n",
      "갓김치\n",
      "깍두기\n",
      "나박김치\n",
      "무생채\n",
      "배추김치\n",
      "백김치\n",
      "부추김치\n",
      "열무김치\n",
      "오이소박이\n",
      "총각김치\n",
      "파김치\n",
      "가지볶음\n",
      "고사리나물\n",
      "미역줄기볶음\n",
      "숙주나물\n",
      "시금치나물\n",
      "애호박볶음\n",
      "경단\n",
      "꿀떡\n",
      "송편\n",
      "만두\n",
      "라면\n",
      "막국수\n",
      "물냉면\n",
      "비빔냉면\n",
      "수제비\n",
      "열무국수\n",
      "잔치국수\n",
      "짜장면\n",
      "짬뽕\n",
      "쫄면\n",
      "칼국수\n",
      "콩국수\n",
      "꽈리고추무침\n",
      "도라지무침\n",
      "도토리묵\n",
      "잡채\n",
      "콩나물무침\n",
      "홍어무침\n",
      "회무침\n",
      "김밥\n",
      "김치볶음밥\n",
      "누룽지\n",
      "비빔밥\n",
      "새우볶음밥\n",
      "알밥\n",
      "유부초밥\n",
      "잡곡밥\n",
      "주먹밥\n",
      "감자채볶음\n",
      "건새우볶음\n",
      "고추장진미채볶음\n",
      "두부김치\n",
      "떡볶이\n",
      "라볶이\n",
      "멸치볶음\n",
      "소세지볶음\n",
      "어묵볶음\n",
      "오징어채볶음\n",
      "제육볶음\n",
      "주꾸미볶음\n",
      "보쌈\n",
      "수정과\n",
      "식혜\n",
      "간장게장\n",
      "양념게장\n",
      "깻잎장아찌\n",
      "떡꼬치\n",
      "감자전\n",
      "계란말이\n",
      "계란후라이\n",
      "김치전\n",
      "동그랑땡\n",
      "생선전\n",
      "파전\n",
      "호박전\n",
      "곱창전골\n",
      "갈치조림\n",
      "감자조림\n",
      "고등어조림\n",
      "꽁치조림\n",
      "두부조림\n",
      "땅콩조림\n",
      "메추리알장조림\n",
      "연근조림\n",
      "우엉조림\n",
      "장조림\n",
      "코다리조림\n",
      "전복죽\n",
      "호박죽\n",
      "김치찌개\n",
      "닭계장\n",
      "동태찌개\n",
      "된장찌개\n",
      "순두부찌개\n",
      "갈비찜\n",
      "계란찜\n",
      "김치찜\n",
      "꼬막찜\n",
      "닭볶음탕\n",
      "수육\n",
      "순대\n",
      "족발\n",
      "찜닭\n",
      "해물찜\n",
      "갈비탕\n",
      "감자탕\n",
      "곰탕_설렁탕\n",
      "매운탕\n",
      "삼계탕\n",
      "추어탕\n",
      "고추튀김\n",
      "새우튀김\n",
      "오징어튀김\n",
      "약과\n",
      "약식\n",
      "한과\n",
      "멍게\n",
      "산낙지\n",
      "물회\n",
      "육회\n"
     ]
    }
   ],
   "source": [
    "for dir_f in glob.glob(PATH+'**'):\n",
    "    for dir_s in glob.glob(dir_f+'/*'):\n",
    "#         print(dir_s)\n",
    "        ck = dir_s.split('\\\\')\n",
    "        print(ck[-1]) # 원본 디렉토리 경로 확득 \n",
    "        \n",
    "        "
   ]
  },
  {
   "cell_type": "markdown",
   "metadata": {},
   "source": [
    "## 3. "
   ]
  },
  {
   "cell_type": "code",
   "execution_count": null,
   "metadata": {},
   "outputs": [],
   "source": []
  }
 ],
 "metadata": {
  "kernelspec": {
   "display_name": "Python 3",
   "language": "python",
   "name": "python3"
  },
  "language_info": {
   "codemirror_mode": {
    "name": "ipython",
    "version": 3
   },
   "file_extension": ".py",
   "mimetype": "text/x-python",
   "name": "python",
   "nbconvert_exporter": "python",
   "pygments_lexer": "ipython3",
   "version": "3.6.5"
  }
 },
 "nbformat": 4,
 "nbformat_minor": 4
}
